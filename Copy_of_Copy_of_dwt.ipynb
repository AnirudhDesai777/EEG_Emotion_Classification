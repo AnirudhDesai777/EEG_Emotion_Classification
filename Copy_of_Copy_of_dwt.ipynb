{
  "nbformat": 4,
  "nbformat_minor": 0,
  "metadata": {
    "colab": {
      "name": "Copy of Copy of dwt",
      "provenance": [],
      "collapsed_sections": [],
      "include_colab_link": true
    },
    "kernelspec": {
      "name": "python3",
      "display_name": "Python 3"
    },
    "accelerator": "GPU"
  },
  "cells": [
    {
      "cell_type": "markdown",
      "metadata": {
        "id": "view-in-github",
        "colab_type": "text"
      },
      "source": [
        "<a href=\"https://colab.research.google.com/github/AnirudhDesai777/EEG_Emotion_Classification/blob/main/Copy_of_Copy_of_dwt.ipynb\" target=\"_parent\"><img src=\"https://colab.research.google.com/assets/colab-badge.svg\" alt=\"Open In Colab\"/></a>"
      ]
    },
    {
      "cell_type": "code",
      "source": [
        "from google.colab import drive\n",
        "drive.mount('/content/drive',force_remount=True)"
      ],
      "metadata": {
        "id": "Mu4D2RdFpq2O",
        "colab": {
          "base_uri": "https://localhost:8080/"
        },
        "outputId": "3c20c631-c598-4f3d-87a2-6077b64cb391"
      },
      "execution_count": null,
      "outputs": [
        {
          "output_type": "stream",
          "name": "stdout",
          "text": [
            "Mounted at /content/drive\n"
          ]
        }
      ]
    },
    {
      "cell_type": "code",
      "metadata": {
        "id": "QVkjoVU_uDK3",
        "colab": {
          "base_uri": "https://localhost:8080/"
        },
        "outputId": "81b2acb2-7189-4671-f15c-239ae5832f86"
      },
      "source": [
        "pip install git+https://github.com/forrestbao/pyeeg.git"
      ],
      "execution_count": null,
      "outputs": [
        {
          "output_type": "stream",
          "name": "stdout",
          "text": [
            "Looking in indexes: https://pypi.org/simple, https://us-python.pkg.dev/colab-wheels/public/simple/\n",
            "Collecting git+https://github.com/forrestbao/pyeeg.git\n",
            "  Cloning https://github.com/forrestbao/pyeeg.git to /tmp/pip-req-build-8568x6gg\n",
            "  Running command git clone -q https://github.com/forrestbao/pyeeg.git /tmp/pip-req-build-8568x6gg\n",
            "Requirement already satisfied: numpy>=1.9.2 in /usr/local/lib/python3.7/dist-packages (from pyeeg==0.4.4) (1.21.6)\n",
            "Building wheels for collected packages: pyeeg\n",
            "  Building wheel for pyeeg (setup.py) ... \u001b[?25l\u001b[?25hdone\n",
            "  Created wheel for pyeeg: filename=pyeeg-0.4.4-py2.py3-none-any.whl size=28131 sha256=e486b146e1eec0a88e0409c44b98a197c8636b43c8922113a7a6c28bbf6dac5c\n",
            "  Stored in directory: /tmp/pip-ephem-wheel-cache-nik16b5k/wheels/b0/23/e4/703c908bda656959957029fa145879aa79307b2545a2ef0271\n",
            "Successfully built pyeeg\n",
            "Installing collected packages: pyeeg\n",
            "Successfully installed pyeeg-0.4.4\n"
          ]
        }
      ]
    },
    {
      "cell_type": "code",
      "source": [
        "from matplotlib import rcParams\n",
        "rcParams['figure.figsize'] = 11.5,8.5"
      ],
      "metadata": {
        "id": "-KSbaxuoKhBr"
      },
      "execution_count": null,
      "outputs": []
    },
    {
      "cell_type": "code",
      "source": [
        "from sklearn import metrics \n",
        "import seaborn as sns"
      ],
      "metadata": {
        "id": "hZ7hYRYu9TJF"
      },
      "execution_count": null,
      "outputs": []
    },
    {
      "cell_type": "code",
      "metadata": {
        "id": "5SPLfnVBY6LY"
      },
      "source": [
        "import numpy as np\n",
        "import pickle as pickle\n",
        "import pandas as pd\n",
        "import pyeeg as pe\n",
        "import pywt\n",
        "from scipy.signal import hilbert\n",
        "from sklearn.preprocessing import normalize"
      ],
      "execution_count": null,
      "outputs": []
    },
    {
      "cell_type": "markdown",
      "source": [
        "**DISCRETE WAVELET TRANSFORM**"
      ],
      "metadata": {
        "id": "2ETmRVfFum97"
      }
    },
    {
      "cell_type": "code",
      "source": [
        "pip install PyWavelets"
      ],
      "metadata": {
        "colab": {
          "base_uri": "https://localhost:8080/"
        },
        "id": "4QePWz3xlMIg",
        "outputId": "af0d2f24-02b8-4572-aed5-aa87f2794cce"
      },
      "execution_count": null,
      "outputs": [
        {
          "output_type": "stream",
          "name": "stdout",
          "text": [
            "Requirement already satisfied: PyWavelets in /usr/local/lib/python3.7/dist-packages (1.3.0)\n",
            "Requirement already satisfied: numpy>=1.17.3 in /usr/local/lib/python3.7/dist-packages (from PyWavelets) (1.21.6)\n"
          ]
        }
      ]
    },
    {
      "cell_type": "code",
      "metadata": {
        "id": "13UOXLiKUfBK"
      },
      "source": [
        "import pywt"
      ],
      "execution_count": null,
      "outputs": []
    },
    {
      "cell_type": "code",
      "source": [
        "pywt.families()"
      ],
      "metadata": {
        "colab": {
          "base_uri": "https://localhost:8080/"
        },
        "id": "UD-A4pakmSlv",
        "outputId": "388275dc-8ede-442e-8f2d-750c9875e0b1"
      },
      "execution_count": null,
      "outputs": [
        {
          "output_type": "execute_result",
          "data": {
            "text/plain": [
              "['haar',\n",
              " 'db',\n",
              " 'sym',\n",
              " 'coif',\n",
              " 'bior',\n",
              " 'rbio',\n",
              " 'dmey',\n",
              " 'gaus',\n",
              " 'mexh',\n",
              " 'morl',\n",
              " 'cgau',\n",
              " 'shan',\n",
              " 'fbsp',\n",
              " 'cmor']"
            ]
          },
          "metadata": {},
          "execution_count": 7
        }
      ]
    },
    {
      "cell_type": "markdown",
      "source": [
        "[Wavelet Families](https:/www.mathworks.com/help/wavelet/gs/introduction-to-the-wavelet-families.html/)"
      ],
      "metadata": {
        "id": "WykCmiD3mtt9"
      }
    },
    {
      "cell_type": "code",
      "source": [
        "channel = [2,3,4,6,7,11,15,17,20,24,25,27,28,29] #14 Channels chosen to fit Emotiv Epoch+\n",
        "band = [4,8,12,16,25,45] #5 bands\n",
        "window_size = 512 #Averaging band power of 2 sec\n",
        "step_size = 64 #Each 0.125 sec update once\n",
        "sample_rate = 128 #Sampling rate of 128 Hz\n",
        "# subjectList = ['01','02','03','04','05','06','07','08','09','10','11','12','13','14','15','16','17','18','19','20','21','22','']\n",
        "#List of subjects"
      ],
      "metadata": {
        "id": "dVcoTEUsmvBS"
      },
      "execution_count": null,
      "outputs": []
    },
    {
      "cell_type": "code",
      "source": [
        "subjectList = []\n",
        "for i in range(1,33):\n",
        "  if i<10:\n",
        "    i = '0'+str(i)\n",
        "  else:\n",
        "    i = str(i)\n",
        "  subjectList.append(i)"
      ],
      "metadata": {
        "id": "GHaLNowLXOyx"
      },
      "execution_count": null,
      "outputs": []
    },
    {
      "cell_type": "code",
      "source": [
        "from statistics import mean"
      ],
      "metadata": {
        "id": "PCWQV1Mh64KT"
      },
      "execution_count": null,
      "outputs": []
    },
    {
      "cell_type": "code",
      "source": [
        "from scipy.stats import entropy"
      ],
      "metadata": {
        "id": "Nu6W5M7Cq4JV"
      },
      "execution_count": null,
      "outputs": []
    },
    {
      "cell_type": "code",
      "source": [
        "pip install antropy"
      ],
      "metadata": {
        "colab": {
          "base_uri": "https://localhost:8080/"
        },
        "id": "aaj0Olgj4PWJ",
        "outputId": "1c89517f-d673-434c-ef7e-80e049eb4867"
      },
      "execution_count": null,
      "outputs": [
        {
          "output_type": "stream",
          "name": "stdout",
          "text": [
            "Collecting antropy\n",
            "  Downloading antropy-0.1.4.tar.gz (16 kB)\n",
            "Collecting stochastic\n",
            "  Downloading stochastic-0.6.0-py3-none-any.whl (49 kB)\n",
            "\u001b[K     |████████████████████████████████| 49 kB 2.6 MB/s \n",
            "\u001b[?25hRequirement already satisfied: scipy<2.0,>=1.3 in /usr/local/lib/python3.7/dist-packages (from stochastic->antropy) (1.4.1)\n",
            "Requirement already satisfied: numpy<2.0,>=1.17 in /usr/local/lib/python3.7/dist-packages (from stochastic->antropy) (1.21.6)\n",
            "Building wheels for collected packages: antropy\n",
            "  Building wheel for antropy (setup.py) ... \u001b[?25l\u001b[?25hdone\n",
            "  Created wheel for antropy: filename=antropy-0.1.4-py3-none-any.whl size=16159 sha256=f927e7c0a4698997de37e5132e112db62336e4b61388f3eec277c48442945e3f\n",
            "  Stored in directory: /root/.cache/pip/wheels/d4/cc/6b/28fa7036bdabc6f1f92fd6a108ae259dbb48f107f676d6b491\n",
            "Successfully built antropy\n",
            "Installing collected packages: stochastic, antropy\n",
            "Successfully installed antropy-0.1.4 stochastic-0.6.0\n"
          ]
        }
      ]
    },
    {
      "cell_type": "code",
      "source": [
        "import antropy as ant"
      ],
      "metadata": {
        "id": "hy00Vcg74fo3"
      },
      "execution_count": null,
      "outputs": []
    },
    {
      "cell_type": "code",
      "source": [
        "def DWT_Processing_min (sub, channel, band, window_size, step_size, sample_rate):\n",
        "    '''\n",
        "    arguments:  string subject\n",
        "                list channel indice\n",
        "                list band\n",
        "                int window size for FFT\n",
        "                int step size for FFT\n",
        "                int sample rate for FFT\n",
        "    return:     void\n",
        "    '''\n",
        "    meta = []\n",
        "    with open('/content/drive/My Drive/data_preprocessed_python/s' + sub + '.dat', 'rb') as file:\n",
        "\n",
        "        subject = pickle.load(file, encoding='latin1') #resolve the python 2 data problem by encoding : latin1\n",
        "\n",
        "        for i in range (0,39):\n",
        "            # loop over 0-39 trails\n",
        "            data = subject[\"data\"][i]\n",
        "            labels = subject[\"labels\"][i]\n",
        "            start = 0;\n",
        "            \n",
        "            while start + window_size < data.shape[1]:\n",
        "                meta_array = []\n",
        "                meta_data = [] #meta vector for analysis\n",
        "                for j in channel:\n",
        "                    X = data[j][start : start + window_size] #Slice raw data over 2 sec, at interval of 0.125 sec\n",
        "                \n",
        "                    coeffs = pywt.wavedec(X, 'db4', level=5)\n",
        "                    cA5, cD5, cD4, cD3, cD2, cD1 = coeffs\n",
        "                    sub_bands=[]\n",
        "                     \n",
        "                    sub_bands.append(min(list(cA5)))\n",
        "                    sub_bands.append(min(list(cD5)))\n",
        "                    sub_bands.append(min(list(cD4)))\n",
        "                    sub_bands.append(min(list(cD3)))\n",
        "                    sub_bands.append(min(list(cD2)))\n",
        "                   \n",
        "                    \n",
        "                    meta_data = meta_data + sub_bands\n",
        "\n",
        "                meta_array.append(np.array(meta_data))\n",
        "                meta_array.append(labels)\n",
        "                \n",
        "                meta.append(meta_array)   \n",
        "                start = start + step_size\n",
        "                \n",
        "        meta = np.array(meta)\n",
        "        \n",
        "        np.save('out\\s' + sub, meta, allow_pickle=True, fix_imports=True)"
      ],
      "metadata": {
        "id": "4_sfePEUTBGx"
      },
      "execution_count": null,
      "outputs": []
    },
    {
      "cell_type": "code",
      "source": [
        "for subjects in subjectList:\n",
        "    DWT_Processing_min (subjects, channel, band, window_size, step_size, sample_rate)"
      ],
      "metadata": {
        "colab": {
          "base_uri": "https://localhost:8080/",
          "height": 400
        },
        "id": "Rnz5FGyEUpTr",
        "outputId": "406a976b-8a64-4ce9-a7f8-4c2ec558c84a"
      },
      "execution_count": null,
      "outputs": [
        {
          "output_type": "stream",
          "name": "stderr",
          "text": [
            "/usr/local/lib/python3.7/dist-packages/pywt/_multilevel.py:45: UserWarning: Level value of 5 is too high: all coefficients will experience boundary effects.\n",
            "  \"boundary effects.\").format(level))\n",
            "/usr/local/lib/python3.7/dist-packages/ipykernel_launcher.py:47: VisibleDeprecationWarning: Creating an ndarray from ragged nested sequences (which is a list-or-tuple of lists-or-tuples-or ndarrays with different lengths or shapes) is deprecated. If you meant to do this, you must specify 'dtype=object' when creating the ndarray.\n"
          ]
        },
        {
          "output_type": "error",
          "ename": "KeyboardInterrupt",
          "evalue": "ignored",
          "traceback": [
            "\u001b[0;31m---------------------------------------------------------------------------\u001b[0m",
            "\u001b[0;31mKeyboardInterrupt\u001b[0m                         Traceback (most recent call last)",
            "\u001b[0;32m<ipython-input-10-d41c797643fa>\u001b[0m in \u001b[0;36m<module>\u001b[0;34m()\u001b[0m\n\u001b[1;32m      1\u001b[0m \u001b[0;32mfor\u001b[0m \u001b[0msubjects\u001b[0m \u001b[0;32min\u001b[0m \u001b[0msubjectList\u001b[0m\u001b[0;34m:\u001b[0m\u001b[0;34m\u001b[0m\u001b[0;34m\u001b[0m\u001b[0m\n\u001b[0;32m----> 2\u001b[0;31m     \u001b[0mDWT_Processing_min\u001b[0m \u001b[0;34m(\u001b[0m\u001b[0msubjects\u001b[0m\u001b[0;34m,\u001b[0m \u001b[0mchannel\u001b[0m\u001b[0;34m,\u001b[0m \u001b[0mband\u001b[0m\u001b[0;34m,\u001b[0m \u001b[0mwindow_size\u001b[0m\u001b[0;34m,\u001b[0m \u001b[0mstep_size\u001b[0m\u001b[0;34m,\u001b[0m \u001b[0msample_rate\u001b[0m\u001b[0;34m)\u001b[0m\u001b[0;34m\u001b[0m\u001b[0;34m\u001b[0m\u001b[0m\n\u001b[0m",
            "\u001b[0;32m<ipython-input-9-bcb4c7667dbe>\u001b[0m in \u001b[0;36mDWT_Processing_min\u001b[0;34m(sub, channel, band, window_size, step_size, sample_rate)\u001b[0m\n\u001b[1;32m     26\u001b[0m                     \u001b[0mX\u001b[0m \u001b[0;34m=\u001b[0m \u001b[0mdata\u001b[0m\u001b[0;34m[\u001b[0m\u001b[0mj\u001b[0m\u001b[0;34m]\u001b[0m\u001b[0;34m[\u001b[0m\u001b[0mstart\u001b[0m \u001b[0;34m:\u001b[0m \u001b[0mstart\u001b[0m \u001b[0;34m+\u001b[0m \u001b[0mwindow_size\u001b[0m\u001b[0;34m]\u001b[0m \u001b[0;31m#Slice raw data over 2 sec, at interval of 0.125 sec\u001b[0m\u001b[0;34m\u001b[0m\u001b[0;34m\u001b[0m\u001b[0m\n\u001b[1;32m     27\u001b[0m \u001b[0;34m\u001b[0m\u001b[0m\n\u001b[0;32m---> 28\u001b[0;31m                     \u001b[0mcoeffs\u001b[0m \u001b[0;34m=\u001b[0m \u001b[0mpywt\u001b[0m\u001b[0;34m.\u001b[0m\u001b[0mwavedec\u001b[0m\u001b[0;34m(\u001b[0m\u001b[0mX\u001b[0m\u001b[0;34m,\u001b[0m \u001b[0;34m'db4'\u001b[0m\u001b[0;34m,\u001b[0m \u001b[0mlevel\u001b[0m\u001b[0;34m=\u001b[0m\u001b[0;36m5\u001b[0m\u001b[0;34m)\u001b[0m\u001b[0;34m\u001b[0m\u001b[0;34m\u001b[0m\u001b[0m\n\u001b[0m\u001b[1;32m     29\u001b[0m                     \u001b[0mcA5\u001b[0m\u001b[0;34m,\u001b[0m \u001b[0mcD5\u001b[0m\u001b[0;34m,\u001b[0m \u001b[0mcD4\u001b[0m\u001b[0;34m,\u001b[0m \u001b[0mcD3\u001b[0m\u001b[0;34m,\u001b[0m \u001b[0mcD2\u001b[0m\u001b[0;34m,\u001b[0m \u001b[0mcD1\u001b[0m \u001b[0;34m=\u001b[0m \u001b[0mcoeffs\u001b[0m\u001b[0;34m\u001b[0m\u001b[0;34m\u001b[0m\u001b[0m\n\u001b[1;32m     30\u001b[0m                     \u001b[0msub_bands\u001b[0m\u001b[0;34m=\u001b[0m\u001b[0;34m[\u001b[0m\u001b[0;34m]\u001b[0m\u001b[0;34m\u001b[0m\u001b[0;34m\u001b[0m\u001b[0m\n",
            "\u001b[0;32m/usr/local/lib/python3.7/dist-packages/pywt/_multilevel.py\u001b[0m in \u001b[0;36mwavedec\u001b[0;34m(data, wavelet, mode, level, axis)\u001b[0m\n\u001b[1;32m    101\u001b[0m     \u001b[0ma\u001b[0m \u001b[0;34m=\u001b[0m \u001b[0mdata\u001b[0m\u001b[0;34m\u001b[0m\u001b[0;34m\u001b[0m\u001b[0m\n\u001b[1;32m    102\u001b[0m     \u001b[0;32mfor\u001b[0m \u001b[0mi\u001b[0m \u001b[0;32min\u001b[0m \u001b[0mrange\u001b[0m\u001b[0;34m(\u001b[0m\u001b[0mlevel\u001b[0m\u001b[0;34m)\u001b[0m\u001b[0;34m:\u001b[0m\u001b[0;34m\u001b[0m\u001b[0;34m\u001b[0m\u001b[0m\n\u001b[0;32m--> 103\u001b[0;31m         \u001b[0ma\u001b[0m\u001b[0;34m,\u001b[0m \u001b[0md\u001b[0m \u001b[0;34m=\u001b[0m \u001b[0mdwt\u001b[0m\u001b[0;34m(\u001b[0m\u001b[0ma\u001b[0m\u001b[0;34m,\u001b[0m \u001b[0mwavelet\u001b[0m\u001b[0;34m,\u001b[0m \u001b[0mmode\u001b[0m\u001b[0;34m,\u001b[0m \u001b[0maxis\u001b[0m\u001b[0;34m)\u001b[0m\u001b[0;34m\u001b[0m\u001b[0;34m\u001b[0m\u001b[0m\n\u001b[0m\u001b[1;32m    104\u001b[0m         \u001b[0mcoeffs_list\u001b[0m\u001b[0;34m.\u001b[0m\u001b[0mappend\u001b[0m\u001b[0;34m(\u001b[0m\u001b[0md\u001b[0m\u001b[0;34m)\u001b[0m\u001b[0;34m\u001b[0m\u001b[0;34m\u001b[0m\u001b[0m\n\u001b[1;32m    105\u001b[0m \u001b[0;34m\u001b[0m\u001b[0m\n",
            "\u001b[0;32m/usr/local/lib/python3.7/dist-packages/pywt/_dwt.py\u001b[0m in \u001b[0;36mdwt\u001b[0;34m(data, wavelet, mode, axis)\u001b[0m\n\u001b[1;32m    180\u001b[0m \u001b[0;34m\u001b[0m\u001b[0m\n\u001b[1;32m    181\u001b[0m     \u001b[0;32mif\u001b[0m \u001b[0mdata\u001b[0m\u001b[0;34m.\u001b[0m\u001b[0mndim\u001b[0m \u001b[0;34m==\u001b[0m \u001b[0;36m1\u001b[0m\u001b[0;34m:\u001b[0m\u001b[0;34m\u001b[0m\u001b[0;34m\u001b[0m\u001b[0m\n\u001b[0;32m--> 182\u001b[0;31m         \u001b[0mcA\u001b[0m\u001b[0;34m,\u001b[0m \u001b[0mcD\u001b[0m \u001b[0;34m=\u001b[0m \u001b[0mdwt_single\u001b[0m\u001b[0;34m(\u001b[0m\u001b[0mdata\u001b[0m\u001b[0;34m,\u001b[0m \u001b[0mwavelet\u001b[0m\u001b[0;34m,\u001b[0m \u001b[0mmode\u001b[0m\u001b[0;34m)\u001b[0m\u001b[0;34m\u001b[0m\u001b[0;34m\u001b[0m\u001b[0m\n\u001b[0m\u001b[1;32m    183\u001b[0m         \u001b[0;31m# TODO: Check whether this makes a copy\u001b[0m\u001b[0;34m\u001b[0m\u001b[0;34m\u001b[0m\u001b[0;34m\u001b[0m\u001b[0m\n\u001b[1;32m    184\u001b[0m         \u001b[0mcA\u001b[0m\u001b[0;34m,\u001b[0m \u001b[0mcD\u001b[0m \u001b[0;34m=\u001b[0m \u001b[0mnp\u001b[0m\u001b[0;34m.\u001b[0m\u001b[0masarray\u001b[0m\u001b[0;34m(\u001b[0m\u001b[0mcA\u001b[0m\u001b[0;34m,\u001b[0m \u001b[0mdt\u001b[0m\u001b[0;34m)\u001b[0m\u001b[0;34m,\u001b[0m \u001b[0mnp\u001b[0m\u001b[0;34m.\u001b[0m\u001b[0masarray\u001b[0m\u001b[0;34m(\u001b[0m\u001b[0mcD\u001b[0m\u001b[0;34m,\u001b[0m \u001b[0mdt\u001b[0m\u001b[0;34m)\u001b[0m\u001b[0;34m\u001b[0m\u001b[0;34m\u001b[0m\u001b[0m\n",
            "\u001b[0;31mKeyboardInterrupt\u001b[0m: "
          ]
        }
      ]
    },
    {
      "cell_type": "code",
      "source": [
        "data_training = []\n",
        "label_training = []\n",
        "data_testing = []\n",
        "label_testing = []\n",
        "data_validation = []\n",
        "label_validation = []\n",
        "\n",
        "for subjects in subjectList:\n",
        "  \n",
        "\n",
        "    with open('/content/out\\s' + subjects + '.npy', 'rb') as file:\n",
        "        sub = np.load(file,allow_pickle=True)\n",
        "       \n",
        "        for i in range (0,sub.shape[0]):\n",
        "            if i % 8 == 0 or i % 8== 0:\n",
        "                data_testing.append(sub[i][0])\n",
        "                label_testing.append(sub[i][1])\n",
        "           \n",
        "            else:\n",
        "                \n",
        "                data_training.append(sub[i][0])\n",
        "                label_training.append(sub[i][1])\n",
        "\n",
        "np.save('out\\data_training', np.array(data_training), allow_pickle=True, fix_imports=True)\n",
        "np.save('out\\label_training', np.array(label_training), allow_pickle=True, fix_imports=True)\n",
        "print(\"training dataset:\", np.array(data_training).shape, np.array(label_training).shape)\n",
        "\n",
        "\n",
        "np.save('out\\data_testing', np.array(data_testing), allow_pickle=True, fix_imports=True)\n",
        "np.save('out\\label_testing', np.array(label_testing), allow_pickle=True, fix_imports=True)\n",
        "print(\"testing dataset:\", np.array(data_testing).shape, np.array(label_testing).shape)\n"
      ],
      "metadata": {
        "colab": {
          "base_uri": "https://localhost:8080/"
        },
        "id": "3K-MQl-7Uvdh",
        "outputId": "93104cf8-bc3b-4fbc-a012-01682ff0f464"
      },
      "execution_count": null,
      "outputs": [
        {
          "output_type": "stream",
          "name": "stdout",
          "text": [
            "training dataset: (50778, 70) (50778, 4)\n",
            "testing dataset: (7254, 70) (7254, 4)\n"
          ]
        }
      ]
    },
    {
      "cell_type": "code",
      "source": [
        "data= []\n",
        "label = []\n",
        "for subjects in subjectList:\n",
        "  \n",
        "\n",
        "    with open('/content/out\\s' + subjects + '.npy', 'rb') as file:\n",
        "        sub = np.load(file,allow_pickle=True)\n",
        "        for i in range (0,sub.shape[0]):\n",
        "          data.append(sub[i][0])\n",
        "          label.append(sub[i][1])\n",
        "np.save('data', np.array(data), allow_pickle=True, fix_imports=True)\n",
        "np.save('label', np.array(label), allow_pickle=True, fix_imports=True)"
      ],
      "metadata": {
        "id": "BuQeTQp7U322"
      },
      "execution_count": null,
      "outputs": []
    },
    {
      "cell_type": "code",
      "source": [
        "df=pd.DataFrame(data=data)\n",
        "df.to_csv(\"data.csv\",index=False)\n",
        "\n",
        "df1=pd.DataFrame(data=label)\n",
        "df1.to_csv(\"label.csv\",index=False)"
      ],
      "metadata": {
        "id": "lJ9ctRWvU_LM"
      },
      "execution_count": null,
      "outputs": []
    },
    {
      "cell_type": "code",
      "source": [
        "data1_min=pd.read_csv(\"/content/data.csv\")\n",
        "data1_min"
      ],
      "metadata": {
        "id": "TrSzLmm6U_bz"
      },
      "execution_count": null,
      "outputs": []
    },
    {
      "cell_type": "markdown",
      "source": [
        "MEAN"
      ],
      "metadata": {
        "id": "ELUgjMAeRRQX"
      }
    },
    {
      "cell_type": "code",
      "source": [
        "def DWT_Processing_mean (sub, channel, band, window_size, step_size, sample_rate):\n",
        "    '''\n",
        "    arguments:  string subject\n",
        "                list channel indice\n",
        "                list band\n",
        "                int window size for FFT\n",
        "                int step size for FFT\n",
        "                int sample rate for FFT\n",
        "    return:     void\n",
        "    '''\n",
        "    meta = []\n",
        "    with open('/content/drive/My Drive/data_preprocessed_python/s' + sub + '.dat', 'rb') as file:\n",
        "\n",
        "        subject = pickle.load(file, encoding='latin1') #resolve the python 2 data problem by encoding : latin1\n",
        "\n",
        "        for i in range (0,39):\n",
        "            # loop over 0-39 trails\n",
        "            data = subject[\"data\"][i]\n",
        "            labels = subject[\"labels\"][i]\n",
        "            start = 0;\n",
        "            \n",
        "            while start + window_size < data.shape[1]:\n",
        "                meta_array = []\n",
        "                meta_data = [] #meta vector for analysis\n",
        "                for j in channel:\n",
        "                    X = data[j][start : start + window_size] #Slice raw data over 2 sec, at interval of 0.125 sec\n",
        "                \n",
        "                    coeffs = pywt.wavedec(X, 'db4', level=5)\n",
        "                    cA5, cD5, cD4, cD3, cD2, cD1 = coeffs\n",
        "                    sub_bands=[]\n",
        "                     \n",
        "                    sub_bands.append(np.average(list(cA5)))\n",
        "                    sub_bands.append(np.average(list(cD5)))\n",
        "                    sub_bands.append(np.average(list(cD4)))\n",
        "                    sub_bands.append(np.average(list(cD3)))\n",
        "                    sub_bands.append(np.average(list(cD2)))\n",
        "                   \n",
        "                    \n",
        "                    meta_data = meta_data + sub_bands\n",
        "\n",
        "                meta_array.append(np.array(meta_data))\n",
        "                meta_array.append(labels)\n",
        "                \n",
        "                meta.append(meta_array)   \n",
        "                start = start + step_size\n",
        "                \n",
        "        meta = np.array(meta)\n",
        "        \n",
        "        np.save('out\\s' + sub, meta, allow_pickle=True, fix_imports=True)\n",
        "        "
      ],
      "metadata": {
        "id": "BoHaaYnlPONT"
      },
      "execution_count": null,
      "outputs": []
    },
    {
      "cell_type": "code",
      "source": [
        "for subjects in subjectList:\n",
        "    DWT_Processing_mean (subjects, channel, band, window_size, step_size, sample_rate)"
      ],
      "metadata": {
        "colab": {
          "base_uri": "https://localhost:8080/"
        },
        "id": "Fz1lRqJwQxff",
        "outputId": "35591d7c-14b8-4b10-ee9d-6c8bc35a7a63"
      },
      "execution_count": null,
      "outputs": [
        {
          "output_type": "stream",
          "name": "stderr",
          "text": [
            "/usr/local/lib/python3.7/dist-packages/pywt/_multilevel.py:45: UserWarning: Level value of 5 is too high: all coefficients will experience boundary effects.\n",
            "  \"boundary effects.\").format(level))\n",
            "/usr/local/lib/python3.7/dist-packages/ipykernel_launcher.py:47: VisibleDeprecationWarning: Creating an ndarray from ragged nested sequences (which is a list-or-tuple of lists-or-tuples-or ndarrays with different lengths or shapes) is deprecated. If you meant to do this, you must specify 'dtype=object' when creating the ndarray.\n"
          ]
        }
      ]
    },
    {
      "cell_type": "code",
      "source": [
        "data_training = []\n",
        "label_training = []\n",
        "data_testing = []\n",
        "label_testing = []\n",
        "data_validation = []\n",
        "label_validation = []\n",
        "\n",
        "for subjects in subjectList:\n",
        "  \n",
        "\n",
        "    with open('/content/out\\s' + subjects + '.npy', 'rb') as file:\n",
        "        sub = np.load(file,allow_pickle=True)\n",
        "       \n",
        "        for i in range (0,sub.shape[0]):\n",
        "            if i % 8 == 0 or i % 8== 0:\n",
        "                data_testing.append(sub[i][0])\n",
        "                label_testing.append(sub[i][1])\n",
        "           \n",
        "            else:\n",
        "                \n",
        "                data_training.append(sub[i][0])\n",
        "                label_training.append(sub[i][1])\n",
        "\n",
        "np.save('out\\data_training', np.array(data_training), allow_pickle=True, fix_imports=True)\n",
        "np.save('out\\label_training', np.array(label_training), allow_pickle=True, fix_imports=True)\n",
        "print(\"training dataset:\", np.array(data_training).shape, np.array(label_training).shape)\n",
        "\n",
        "\n",
        "np.save('out\\data_testing', np.array(data_testing), allow_pickle=True, fix_imports=True)\n",
        "np.save('out\\label_testing', np.array(label_testing), allow_pickle=True, fix_imports=True)\n",
        "print(\"testing dataset:\", np.array(data_testing).shape, np.array(label_testing).shape)\n",
        "\"\"\"\n",
        "np.save('out\\data_validation', np.array(data_validation), allow_pickle=True, fix_imports=True)\n",
        "np.save('out\\label_validation', np.array(label_validation), allow_pickle=True, fix_imports=True)\n",
        "print(\"validation dataset:\", np.array(data_validation).shape, np.array(label_validation).shape)\n",
        "\"\"\""
      ],
      "metadata": {
        "colab": {
          "base_uri": "https://localhost:8080/",
          "height": 88
        },
        "id": "jhoWujgfQ-nK",
        "outputId": "c4f1c88d-95ee-49b6-a1e7-899c5018f107"
      },
      "execution_count": null,
      "outputs": [
        {
          "output_type": "stream",
          "name": "stdout",
          "text": [
            "training dataset: (50778, 70) (50778, 4)\n",
            "testing dataset: (7254, 70) (7254, 4)\n"
          ]
        },
        {
          "output_type": "execute_result",
          "data": {
            "text/plain": [
              "'\\nnp.save(\\'out\\\\data_validation\\', np.array(data_validation), allow_pickle=True, fix_imports=True)\\nnp.save(\\'out\\\\label_validation\\', np.array(label_validation), allow_pickle=True, fix_imports=True)\\nprint(\"validation dataset:\", np.array(data_validation).shape, np.array(label_validation).shape)\\n'"
            ],
            "application/vnd.google.colaboratory.intrinsic+json": {
              "type": "string"
            }
          },
          "metadata": {},
          "execution_count": 17
        }
      ]
    },
    {
      "cell_type": "code",
      "source": [
        "data= []\n",
        "label = []\n",
        "for subjects in subjectList:\n",
        "  \n",
        "\n",
        "    with open('/content/out\\s' + subjects + '.npy', 'rb') as file:\n",
        "        sub = np.load(file,allow_pickle=True)\n",
        "        for i in range (0,sub.shape[0]):\n",
        "          data.append(sub[i][0])\n",
        "          label.append(sub[i][1])\n",
        "np.save('data', np.array(data), allow_pickle=True, fix_imports=True)\n",
        "np.save('label', np.array(label), allow_pickle=True, fix_imports=True)"
      ],
      "metadata": {
        "id": "Fo8a4smdRB5N"
      },
      "execution_count": null,
      "outputs": []
    },
    {
      "cell_type": "code",
      "source": [
        "df=pd.DataFrame(data=data)\n",
        "df.to_csv(\"data.csv\",index=False)\n",
        "\n",
        "df1=pd.DataFrame(data=label)\n",
        "df1.to_csv(\"label.csv\",index=False)"
      ],
      "metadata": {
        "id": "-e9MbYiiRGaB"
      },
      "execution_count": null,
      "outputs": []
    },
    {
      "cell_type": "code",
      "source": [
        "data1_mean=pd.read_csv(\"/content/data.csv\")\n",
        "data1_mean"
      ],
      "metadata": {
        "colab": {
          "base_uri": "https://localhost:8080/",
          "height": 487
        },
        "id": "9c6VuwHKRLmH",
        "outputId": "7680f415-1abf-4edb-fe71-65812ddbb2ad"
      },
      "execution_count": null,
      "outputs": [
        {
          "output_type": "execute_result",
          "data": {
            "text/plain": [
              "               0         1         2         3         4          5         6  \\\n",
              "0      -0.480384  0.201322  1.052130  0.342719  0.651407   3.613345 -0.243051   \n",
              "1      17.207471  0.974964  1.536506 -0.637192  0.860427   9.293240  1.001911   \n",
              "2     -11.524944 -0.122727 -0.144292  0.624432  0.681186  -2.911885  0.432407   \n",
              "3      -6.201523 -1.133518  1.387642 -0.330168  0.722720 -15.593674 -1.901422   \n",
              "4      -1.993622  1.004224 -0.182465  0.265551  0.519045   8.321129  1.533776   \n",
              "...          ...       ...       ...       ...       ...        ...       ...   \n",
              "58027 -17.469092 -1.400848 -0.747766  0.685778  0.081285   4.675943  0.811389   \n",
              "58028   8.455534  0.869826 -1.382293  0.550685 -0.050436   9.320977 -0.619055   \n",
              "58029   1.154905 -0.705139 -0.503339  0.047472 -0.042102   6.885760  1.670281   \n",
              "58030  -7.928681  0.509869 -1.387988  0.441107  0.330306 -18.658358 -2.592860   \n",
              "58031   7.760289 -0.256797 -0.491583 -0.778942  0.120512  -0.140636  0.930549   \n",
              "\n",
              "              7         8         9  ...         60        61        62  \\\n",
              "0      1.351791  0.476817  0.300094  ...  -2.611473  0.122565 -0.401618   \n",
              "1      1.352479 -0.618336  0.292053  ...  -9.270273 -0.719837 -0.909324   \n",
              "2     -0.324202  0.422726  0.345282  ...   7.423594 -0.163547  0.412384   \n",
              "3      0.251134  0.839755  0.402860  ...  14.397670  1.949024 -0.799841   \n",
              "4     -0.206751  0.450545  0.154005  ...  -6.345249 -1.501534  0.026964   \n",
              "...         ...       ...       ...  ...        ...       ...       ...   \n",
              "58027 -4.382633 -0.922071 -0.190700  ... -52.638902 -6.266785  6.417619   \n",
              "58028 -3.951285 -0.834423 -0.367375  ... -11.533899  3.563485  5.599681   \n",
              "58029 -4.948928 -0.571130  0.059944  ... -14.149000 -4.331922  5.532836   \n",
              "58030 -5.115580  0.463135  0.550175  ...  24.642118  5.122710  6.303723   \n",
              "58031 -2.326601 -0.486972  0.448146  ... -15.362326 -4.052183  2.212301   \n",
              "\n",
              "             63        64         65        66        67        68        69  \n",
              "0     -0.216980 -0.584636  -1.586772 -0.092489  0.231365 -0.140109 -0.329235  \n",
              "1      1.361100 -0.685040  -4.904668 -0.093091 -0.009875  0.690897 -0.239828  \n",
              "2     -0.392398 -0.581896   3.926828 -1.043369  1.463155 -0.175745 -0.500734  \n",
              "3      0.391568 -0.574932  12.318582  2.482330  0.425875  0.613153 -0.925171  \n",
              "4      0.967941 -0.228841  -3.155108 -1.791407  0.514677  1.209645 -0.439317  \n",
              "...         ...       ...        ...       ...       ...       ...       ...  \n",
              "58027  2.282704 -0.109200  37.128022  3.956973  0.256710 -1.451766 -0.215159  \n",
              "58028 -0.790057 -0.531721  -6.046037 -2.869387  0.082808 -0.790728  0.377132  \n",
              "58029  0.576135 -0.567385  -5.838153  2.427640 -2.789890 -0.801366  0.383452  \n",
              "58030 -0.744604 -1.219912  -4.549254 -3.173941 -1.592457 -0.861460 -0.182253  \n",
              "58031  0.022247 -1.066163 -16.314166  1.814512 -1.850894 -0.380001  0.371085  \n",
              "\n",
              "[58032 rows x 70 columns]"
            ],
            "text/html": [
              "\n",
              "  <div id=\"df-ae818984-474f-4e67-a086-9f5aaafef253\">\n",
              "    <div class=\"colab-df-container\">\n",
              "      <div>\n",
              "<style scoped>\n",
              "    .dataframe tbody tr th:only-of-type {\n",
              "        vertical-align: middle;\n",
              "    }\n",
              "\n",
              "    .dataframe tbody tr th {\n",
              "        vertical-align: top;\n",
              "    }\n",
              "\n",
              "    .dataframe thead th {\n",
              "        text-align: right;\n",
              "    }\n",
              "</style>\n",
              "<table border=\"1\" class=\"dataframe\">\n",
              "  <thead>\n",
              "    <tr style=\"text-align: right;\">\n",
              "      <th></th>\n",
              "      <th>0</th>\n",
              "      <th>1</th>\n",
              "      <th>2</th>\n",
              "      <th>3</th>\n",
              "      <th>4</th>\n",
              "      <th>5</th>\n",
              "      <th>6</th>\n",
              "      <th>7</th>\n",
              "      <th>8</th>\n",
              "      <th>9</th>\n",
              "      <th>...</th>\n",
              "      <th>60</th>\n",
              "      <th>61</th>\n",
              "      <th>62</th>\n",
              "      <th>63</th>\n",
              "      <th>64</th>\n",
              "      <th>65</th>\n",
              "      <th>66</th>\n",
              "      <th>67</th>\n",
              "      <th>68</th>\n",
              "      <th>69</th>\n",
              "    </tr>\n",
              "  </thead>\n",
              "  <tbody>\n",
              "    <tr>\n",
              "      <th>0</th>\n",
              "      <td>-0.480384</td>\n",
              "      <td>0.201322</td>\n",
              "      <td>1.052130</td>\n",
              "      <td>0.342719</td>\n",
              "      <td>0.651407</td>\n",
              "      <td>3.613345</td>\n",
              "      <td>-0.243051</td>\n",
              "      <td>1.351791</td>\n",
              "      <td>0.476817</td>\n",
              "      <td>0.300094</td>\n",
              "      <td>...</td>\n",
              "      <td>-2.611473</td>\n",
              "      <td>0.122565</td>\n",
              "      <td>-0.401618</td>\n",
              "      <td>-0.216980</td>\n",
              "      <td>-0.584636</td>\n",
              "      <td>-1.586772</td>\n",
              "      <td>-0.092489</td>\n",
              "      <td>0.231365</td>\n",
              "      <td>-0.140109</td>\n",
              "      <td>-0.329235</td>\n",
              "    </tr>\n",
              "    <tr>\n",
              "      <th>1</th>\n",
              "      <td>17.207471</td>\n",
              "      <td>0.974964</td>\n",
              "      <td>1.536506</td>\n",
              "      <td>-0.637192</td>\n",
              "      <td>0.860427</td>\n",
              "      <td>9.293240</td>\n",
              "      <td>1.001911</td>\n",
              "      <td>1.352479</td>\n",
              "      <td>-0.618336</td>\n",
              "      <td>0.292053</td>\n",
              "      <td>...</td>\n",
              "      <td>-9.270273</td>\n",
              "      <td>-0.719837</td>\n",
              "      <td>-0.909324</td>\n",
              "      <td>1.361100</td>\n",
              "      <td>-0.685040</td>\n",
              "      <td>-4.904668</td>\n",
              "      <td>-0.093091</td>\n",
              "      <td>-0.009875</td>\n",
              "      <td>0.690897</td>\n",
              "      <td>-0.239828</td>\n",
              "    </tr>\n",
              "    <tr>\n",
              "      <th>2</th>\n",
              "      <td>-11.524944</td>\n",
              "      <td>-0.122727</td>\n",
              "      <td>-0.144292</td>\n",
              "      <td>0.624432</td>\n",
              "      <td>0.681186</td>\n",
              "      <td>-2.911885</td>\n",
              "      <td>0.432407</td>\n",
              "      <td>-0.324202</td>\n",
              "      <td>0.422726</td>\n",
              "      <td>0.345282</td>\n",
              "      <td>...</td>\n",
              "      <td>7.423594</td>\n",
              "      <td>-0.163547</td>\n",
              "      <td>0.412384</td>\n",
              "      <td>-0.392398</td>\n",
              "      <td>-0.581896</td>\n",
              "      <td>3.926828</td>\n",
              "      <td>-1.043369</td>\n",
              "      <td>1.463155</td>\n",
              "      <td>-0.175745</td>\n",
              "      <td>-0.500734</td>\n",
              "    </tr>\n",
              "    <tr>\n",
              "      <th>3</th>\n",
              "      <td>-6.201523</td>\n",
              "      <td>-1.133518</td>\n",
              "      <td>1.387642</td>\n",
              "      <td>-0.330168</td>\n",
              "      <td>0.722720</td>\n",
              "      <td>-15.593674</td>\n",
              "      <td>-1.901422</td>\n",
              "      <td>0.251134</td>\n",
              "      <td>0.839755</td>\n",
              "      <td>0.402860</td>\n",
              "      <td>...</td>\n",
              "      <td>14.397670</td>\n",
              "      <td>1.949024</td>\n",
              "      <td>-0.799841</td>\n",
              "      <td>0.391568</td>\n",
              "      <td>-0.574932</td>\n",
              "      <td>12.318582</td>\n",
              "      <td>2.482330</td>\n",
              "      <td>0.425875</td>\n",
              "      <td>0.613153</td>\n",
              "      <td>-0.925171</td>\n",
              "    </tr>\n",
              "    <tr>\n",
              "      <th>4</th>\n",
              "      <td>-1.993622</td>\n",
              "      <td>1.004224</td>\n",
              "      <td>-0.182465</td>\n",
              "      <td>0.265551</td>\n",
              "      <td>0.519045</td>\n",
              "      <td>8.321129</td>\n",
              "      <td>1.533776</td>\n",
              "      <td>-0.206751</td>\n",
              "      <td>0.450545</td>\n",
              "      <td>0.154005</td>\n",
              "      <td>...</td>\n",
              "      <td>-6.345249</td>\n",
              "      <td>-1.501534</td>\n",
              "      <td>0.026964</td>\n",
              "      <td>0.967941</td>\n",
              "      <td>-0.228841</td>\n",
              "      <td>-3.155108</td>\n",
              "      <td>-1.791407</td>\n",
              "      <td>0.514677</td>\n",
              "      <td>1.209645</td>\n",
              "      <td>-0.439317</td>\n",
              "    </tr>\n",
              "    <tr>\n",
              "      <th>...</th>\n",
              "      <td>...</td>\n",
              "      <td>...</td>\n",
              "      <td>...</td>\n",
              "      <td>...</td>\n",
              "      <td>...</td>\n",
              "      <td>...</td>\n",
              "      <td>...</td>\n",
              "      <td>...</td>\n",
              "      <td>...</td>\n",
              "      <td>...</td>\n",
              "      <td>...</td>\n",
              "      <td>...</td>\n",
              "      <td>...</td>\n",
              "      <td>...</td>\n",
              "      <td>...</td>\n",
              "      <td>...</td>\n",
              "      <td>...</td>\n",
              "      <td>...</td>\n",
              "      <td>...</td>\n",
              "      <td>...</td>\n",
              "      <td>...</td>\n",
              "    </tr>\n",
              "    <tr>\n",
              "      <th>58027</th>\n",
              "      <td>-17.469092</td>\n",
              "      <td>-1.400848</td>\n",
              "      <td>-0.747766</td>\n",
              "      <td>0.685778</td>\n",
              "      <td>0.081285</td>\n",
              "      <td>4.675943</td>\n",
              "      <td>0.811389</td>\n",
              "      <td>-4.382633</td>\n",
              "      <td>-0.922071</td>\n",
              "      <td>-0.190700</td>\n",
              "      <td>...</td>\n",
              "      <td>-52.638902</td>\n",
              "      <td>-6.266785</td>\n",
              "      <td>6.417619</td>\n",
              "      <td>2.282704</td>\n",
              "      <td>-0.109200</td>\n",
              "      <td>37.128022</td>\n",
              "      <td>3.956973</td>\n",
              "      <td>0.256710</td>\n",
              "      <td>-1.451766</td>\n",
              "      <td>-0.215159</td>\n",
              "    </tr>\n",
              "    <tr>\n",
              "      <th>58028</th>\n",
              "      <td>8.455534</td>\n",
              "      <td>0.869826</td>\n",
              "      <td>-1.382293</td>\n",
              "      <td>0.550685</td>\n",
              "      <td>-0.050436</td>\n",
              "      <td>9.320977</td>\n",
              "      <td>-0.619055</td>\n",
              "      <td>-3.951285</td>\n",
              "      <td>-0.834423</td>\n",
              "      <td>-0.367375</td>\n",
              "      <td>...</td>\n",
              "      <td>-11.533899</td>\n",
              "      <td>3.563485</td>\n",
              "      <td>5.599681</td>\n",
              "      <td>-0.790057</td>\n",
              "      <td>-0.531721</td>\n",
              "      <td>-6.046037</td>\n",
              "      <td>-2.869387</td>\n",
              "      <td>0.082808</td>\n",
              "      <td>-0.790728</td>\n",
              "      <td>0.377132</td>\n",
              "    </tr>\n",
              "    <tr>\n",
              "      <th>58029</th>\n",
              "      <td>1.154905</td>\n",
              "      <td>-0.705139</td>\n",
              "      <td>-0.503339</td>\n",
              "      <td>0.047472</td>\n",
              "      <td>-0.042102</td>\n",
              "      <td>6.885760</td>\n",
              "      <td>1.670281</td>\n",
              "      <td>-4.948928</td>\n",
              "      <td>-0.571130</td>\n",
              "      <td>0.059944</td>\n",
              "      <td>...</td>\n",
              "      <td>-14.149000</td>\n",
              "      <td>-4.331922</td>\n",
              "      <td>5.532836</td>\n",
              "      <td>0.576135</td>\n",
              "      <td>-0.567385</td>\n",
              "      <td>-5.838153</td>\n",
              "      <td>2.427640</td>\n",
              "      <td>-2.789890</td>\n",
              "      <td>-0.801366</td>\n",
              "      <td>0.383452</td>\n",
              "    </tr>\n",
              "    <tr>\n",
              "      <th>58030</th>\n",
              "      <td>-7.928681</td>\n",
              "      <td>0.509869</td>\n",
              "      <td>-1.387988</td>\n",
              "      <td>0.441107</td>\n",
              "      <td>0.330306</td>\n",
              "      <td>-18.658358</td>\n",
              "      <td>-2.592860</td>\n",
              "      <td>-5.115580</td>\n",
              "      <td>0.463135</td>\n",
              "      <td>0.550175</td>\n",
              "      <td>...</td>\n",
              "      <td>24.642118</td>\n",
              "      <td>5.122710</td>\n",
              "      <td>6.303723</td>\n",
              "      <td>-0.744604</td>\n",
              "      <td>-1.219912</td>\n",
              "      <td>-4.549254</td>\n",
              "      <td>-3.173941</td>\n",
              "      <td>-1.592457</td>\n",
              "      <td>-0.861460</td>\n",
              "      <td>-0.182253</td>\n",
              "    </tr>\n",
              "    <tr>\n",
              "      <th>58031</th>\n",
              "      <td>7.760289</td>\n",
              "      <td>-0.256797</td>\n",
              "      <td>-0.491583</td>\n",
              "      <td>-0.778942</td>\n",
              "      <td>0.120512</td>\n",
              "      <td>-0.140636</td>\n",
              "      <td>0.930549</td>\n",
              "      <td>-2.326601</td>\n",
              "      <td>-0.486972</td>\n",
              "      <td>0.448146</td>\n",
              "      <td>...</td>\n",
              "      <td>-15.362326</td>\n",
              "      <td>-4.052183</td>\n",
              "      <td>2.212301</td>\n",
              "      <td>0.022247</td>\n",
              "      <td>-1.066163</td>\n",
              "      <td>-16.314166</td>\n",
              "      <td>1.814512</td>\n",
              "      <td>-1.850894</td>\n",
              "      <td>-0.380001</td>\n",
              "      <td>0.371085</td>\n",
              "    </tr>\n",
              "  </tbody>\n",
              "</table>\n",
              "<p>58032 rows × 70 columns</p>\n",
              "</div>\n",
              "      <button class=\"colab-df-convert\" onclick=\"convertToInteractive('df-ae818984-474f-4e67-a086-9f5aaafef253')\"\n",
              "              title=\"Convert this dataframe to an interactive table.\"\n",
              "              style=\"display:none;\">\n",
              "        \n",
              "  <svg xmlns=\"http://www.w3.org/2000/svg\" height=\"24px\"viewBox=\"0 0 24 24\"\n",
              "       width=\"24px\">\n",
              "    <path d=\"M0 0h24v24H0V0z\" fill=\"none\"/>\n",
              "    <path d=\"M18.56 5.44l.94 2.06.94-2.06 2.06-.94-2.06-.94-.94-2.06-.94 2.06-2.06.94zm-11 1L8.5 8.5l.94-2.06 2.06-.94-2.06-.94L8.5 2.5l-.94 2.06-2.06.94zm10 10l.94 2.06.94-2.06 2.06-.94-2.06-.94-.94-2.06-.94 2.06-2.06.94z\"/><path d=\"M17.41 7.96l-1.37-1.37c-.4-.4-.92-.59-1.43-.59-.52 0-1.04.2-1.43.59L10.3 9.45l-7.72 7.72c-.78.78-.78 2.05 0 2.83L4 21.41c.39.39.9.59 1.41.59.51 0 1.02-.2 1.41-.59l7.78-7.78 2.81-2.81c.8-.78.8-2.07 0-2.86zM5.41 20L4 18.59l7.72-7.72 1.47 1.35L5.41 20z\"/>\n",
              "  </svg>\n",
              "      </button>\n",
              "      \n",
              "  <style>\n",
              "    .colab-df-container {\n",
              "      display:flex;\n",
              "      flex-wrap:wrap;\n",
              "      gap: 12px;\n",
              "    }\n",
              "\n",
              "    .colab-df-convert {\n",
              "      background-color: #E8F0FE;\n",
              "      border: none;\n",
              "      border-radius: 50%;\n",
              "      cursor: pointer;\n",
              "      display: none;\n",
              "      fill: #1967D2;\n",
              "      height: 32px;\n",
              "      padding: 0 0 0 0;\n",
              "      width: 32px;\n",
              "    }\n",
              "\n",
              "    .colab-df-convert:hover {\n",
              "      background-color: #E2EBFA;\n",
              "      box-shadow: 0px 1px 2px rgba(60, 64, 67, 0.3), 0px 1px 3px 1px rgba(60, 64, 67, 0.15);\n",
              "      fill: #174EA6;\n",
              "    }\n",
              "\n",
              "    [theme=dark] .colab-df-convert {\n",
              "      background-color: #3B4455;\n",
              "      fill: #D2E3FC;\n",
              "    }\n",
              "\n",
              "    [theme=dark] .colab-df-convert:hover {\n",
              "      background-color: #434B5C;\n",
              "      box-shadow: 0px 1px 3px 1px rgba(0, 0, 0, 0.15);\n",
              "      filter: drop-shadow(0px 1px 2px rgba(0, 0, 0, 0.3));\n",
              "      fill: #FFFFFF;\n",
              "    }\n",
              "  </style>\n",
              "\n",
              "      <script>\n",
              "        const buttonEl =\n",
              "          document.querySelector('#df-ae818984-474f-4e67-a086-9f5aaafef253 button.colab-df-convert');\n",
              "        buttonEl.style.display =\n",
              "          google.colab.kernel.accessAllowed ? 'block' : 'none';\n",
              "\n",
              "        async function convertToInteractive(key) {\n",
              "          const element = document.querySelector('#df-ae818984-474f-4e67-a086-9f5aaafef253');\n",
              "          const dataTable =\n",
              "            await google.colab.kernel.invokeFunction('convertToInteractive',\n",
              "                                                     [key], {});\n",
              "          if (!dataTable) return;\n",
              "\n",
              "          const docLinkHtml = 'Like what you see? Visit the ' +\n",
              "            '<a target=\"_blank\" href=https://colab.research.google.com/notebooks/data_table.ipynb>data table notebook</a>'\n",
              "            + ' to learn more about interactive tables.';\n",
              "          element.innerHTML = '';\n",
              "          dataTable['output_type'] = 'display_data';\n",
              "          await google.colab.output.renderOutput(dataTable, element);\n",
              "          const docLink = document.createElement('div');\n",
              "          docLink.innerHTML = docLinkHtml;\n",
              "          element.appendChild(docLink);\n",
              "        }\n",
              "      </script>\n",
              "    </div>\n",
              "  </div>\n",
              "  "
            ]
          },
          "metadata": {},
          "execution_count": 14
        }
      ]
    },
    {
      "cell_type": "code",
      "source": [
        "label=pd.read_csv(\"/content/label.csv\")\n",
        "label"
      ],
      "metadata": {
        "colab": {
          "base_uri": "https://localhost:8080/",
          "height": 423
        },
        "id": "kUpxGMRZTSm1",
        "outputId": "70a4ceec-e082-403c-f6f0-2247b3b2eebc"
      },
      "execution_count": null,
      "outputs": [
        {
          "output_type": "execute_result",
          "data": {
            "text/plain": [
              "          0     1     2     3\n",
              "0      7.71  7.60  6.90  7.83\n",
              "1      7.71  7.60  6.90  7.83\n",
              "2      7.71  7.60  6.90  7.83\n",
              "3      7.71  7.60  6.90  7.83\n",
              "4      7.71  7.60  6.90  7.83\n",
              "...     ...   ...   ...   ...\n",
              "58027  4.33  6.21  5.68  4.62\n",
              "58028  4.33  6.21  5.68  4.62\n",
              "58029  4.33  6.21  5.68  4.62\n",
              "58030  4.33  6.21  5.68  4.62\n",
              "58031  4.33  6.21  5.68  4.62\n",
              "\n",
              "[58032 rows x 4 columns]"
            ],
            "text/html": [
              "\n",
              "  <div id=\"df-1918d03a-34f9-4bb0-82b5-9aca5f242446\">\n",
              "    <div class=\"colab-df-container\">\n",
              "      <div>\n",
              "<style scoped>\n",
              "    .dataframe tbody tr th:only-of-type {\n",
              "        vertical-align: middle;\n",
              "    }\n",
              "\n",
              "    .dataframe tbody tr th {\n",
              "        vertical-align: top;\n",
              "    }\n",
              "\n",
              "    .dataframe thead th {\n",
              "        text-align: right;\n",
              "    }\n",
              "</style>\n",
              "<table border=\"1\" class=\"dataframe\">\n",
              "  <thead>\n",
              "    <tr style=\"text-align: right;\">\n",
              "      <th></th>\n",
              "      <th>0</th>\n",
              "      <th>1</th>\n",
              "      <th>2</th>\n",
              "      <th>3</th>\n",
              "    </tr>\n",
              "  </thead>\n",
              "  <tbody>\n",
              "    <tr>\n",
              "      <th>0</th>\n",
              "      <td>7.71</td>\n",
              "      <td>7.60</td>\n",
              "      <td>6.90</td>\n",
              "      <td>7.83</td>\n",
              "    </tr>\n",
              "    <tr>\n",
              "      <th>1</th>\n",
              "      <td>7.71</td>\n",
              "      <td>7.60</td>\n",
              "      <td>6.90</td>\n",
              "      <td>7.83</td>\n",
              "    </tr>\n",
              "    <tr>\n",
              "      <th>2</th>\n",
              "      <td>7.71</td>\n",
              "      <td>7.60</td>\n",
              "      <td>6.90</td>\n",
              "      <td>7.83</td>\n",
              "    </tr>\n",
              "    <tr>\n",
              "      <th>3</th>\n",
              "      <td>7.71</td>\n",
              "      <td>7.60</td>\n",
              "      <td>6.90</td>\n",
              "      <td>7.83</td>\n",
              "    </tr>\n",
              "    <tr>\n",
              "      <th>4</th>\n",
              "      <td>7.71</td>\n",
              "      <td>7.60</td>\n",
              "      <td>6.90</td>\n",
              "      <td>7.83</td>\n",
              "    </tr>\n",
              "    <tr>\n",
              "      <th>...</th>\n",
              "      <td>...</td>\n",
              "      <td>...</td>\n",
              "      <td>...</td>\n",
              "      <td>...</td>\n",
              "    </tr>\n",
              "    <tr>\n",
              "      <th>58027</th>\n",
              "      <td>4.33</td>\n",
              "      <td>6.21</td>\n",
              "      <td>5.68</td>\n",
              "      <td>4.62</td>\n",
              "    </tr>\n",
              "    <tr>\n",
              "      <th>58028</th>\n",
              "      <td>4.33</td>\n",
              "      <td>6.21</td>\n",
              "      <td>5.68</td>\n",
              "      <td>4.62</td>\n",
              "    </tr>\n",
              "    <tr>\n",
              "      <th>58029</th>\n",
              "      <td>4.33</td>\n",
              "      <td>6.21</td>\n",
              "      <td>5.68</td>\n",
              "      <td>4.62</td>\n",
              "    </tr>\n",
              "    <tr>\n",
              "      <th>58030</th>\n",
              "      <td>4.33</td>\n",
              "      <td>6.21</td>\n",
              "      <td>5.68</td>\n",
              "      <td>4.62</td>\n",
              "    </tr>\n",
              "    <tr>\n",
              "      <th>58031</th>\n",
              "      <td>4.33</td>\n",
              "      <td>6.21</td>\n",
              "      <td>5.68</td>\n",
              "      <td>4.62</td>\n",
              "    </tr>\n",
              "  </tbody>\n",
              "</table>\n",
              "<p>58032 rows × 4 columns</p>\n",
              "</div>\n",
              "      <button class=\"colab-df-convert\" onclick=\"convertToInteractive('df-1918d03a-34f9-4bb0-82b5-9aca5f242446')\"\n",
              "              title=\"Convert this dataframe to an interactive table.\"\n",
              "              style=\"display:none;\">\n",
              "        \n",
              "  <svg xmlns=\"http://www.w3.org/2000/svg\" height=\"24px\"viewBox=\"0 0 24 24\"\n",
              "       width=\"24px\">\n",
              "    <path d=\"M0 0h24v24H0V0z\" fill=\"none\"/>\n",
              "    <path d=\"M18.56 5.44l.94 2.06.94-2.06 2.06-.94-2.06-.94-.94-2.06-.94 2.06-2.06.94zm-11 1L8.5 8.5l.94-2.06 2.06-.94-2.06-.94L8.5 2.5l-.94 2.06-2.06.94zm10 10l.94 2.06.94-2.06 2.06-.94-2.06-.94-.94-2.06-.94 2.06-2.06.94z\"/><path d=\"M17.41 7.96l-1.37-1.37c-.4-.4-.92-.59-1.43-.59-.52 0-1.04.2-1.43.59L10.3 9.45l-7.72 7.72c-.78.78-.78 2.05 0 2.83L4 21.41c.39.39.9.59 1.41.59.51 0 1.02-.2 1.41-.59l7.78-7.78 2.81-2.81c.8-.78.8-2.07 0-2.86zM5.41 20L4 18.59l7.72-7.72 1.47 1.35L5.41 20z\"/>\n",
              "  </svg>\n",
              "      </button>\n",
              "      \n",
              "  <style>\n",
              "    .colab-df-container {\n",
              "      display:flex;\n",
              "      flex-wrap:wrap;\n",
              "      gap: 12px;\n",
              "    }\n",
              "\n",
              "    .colab-df-convert {\n",
              "      background-color: #E8F0FE;\n",
              "      border: none;\n",
              "      border-radius: 50%;\n",
              "      cursor: pointer;\n",
              "      display: none;\n",
              "      fill: #1967D2;\n",
              "      height: 32px;\n",
              "      padding: 0 0 0 0;\n",
              "      width: 32px;\n",
              "    }\n",
              "\n",
              "    .colab-df-convert:hover {\n",
              "      background-color: #E2EBFA;\n",
              "      box-shadow: 0px 1px 2px rgba(60, 64, 67, 0.3), 0px 1px 3px 1px rgba(60, 64, 67, 0.15);\n",
              "      fill: #174EA6;\n",
              "    }\n",
              "\n",
              "    [theme=dark] .colab-df-convert {\n",
              "      background-color: #3B4455;\n",
              "      fill: #D2E3FC;\n",
              "    }\n",
              "\n",
              "    [theme=dark] .colab-df-convert:hover {\n",
              "      background-color: #434B5C;\n",
              "      box-shadow: 0px 1px 3px 1px rgba(0, 0, 0, 0.15);\n",
              "      filter: drop-shadow(0px 1px 2px rgba(0, 0, 0, 0.3));\n",
              "      fill: #FFFFFF;\n",
              "    }\n",
              "  </style>\n",
              "\n",
              "      <script>\n",
              "        const buttonEl =\n",
              "          document.querySelector('#df-1918d03a-34f9-4bb0-82b5-9aca5f242446 button.colab-df-convert');\n",
              "        buttonEl.style.display =\n",
              "          google.colab.kernel.accessAllowed ? 'block' : 'none';\n",
              "\n",
              "        async function convertToInteractive(key) {\n",
              "          const element = document.querySelector('#df-1918d03a-34f9-4bb0-82b5-9aca5f242446');\n",
              "          const dataTable =\n",
              "            await google.colab.kernel.invokeFunction('convertToInteractive',\n",
              "                                                     [key], {});\n",
              "          if (!dataTable) return;\n",
              "\n",
              "          const docLinkHtml = 'Like what you see? Visit the ' +\n",
              "            '<a target=\"_blank\" href=https://colab.research.google.com/notebooks/data_table.ipynb>data table notebook</a>'\n",
              "            + ' to learn more about interactive tables.';\n",
              "          element.innerHTML = '';\n",
              "          dataTable['output_type'] = 'display_data';\n",
              "          await google.colab.output.renderOutput(dataTable, element);\n",
              "          const docLink = document.createElement('div');\n",
              "          docLink.innerHTML = docLinkHtml;\n",
              "          element.appendChild(docLink);\n",
              "        }\n",
              "      </script>\n",
              "    </div>\n",
              "  </div>\n",
              "  "
            ]
          },
          "metadata": {},
          "execution_count": 18
        }
      ]
    },
    {
      "cell_type": "code",
      "source": [
        "x=data1_mean.values"
      ],
      "metadata": {
        "id": "eAegg_Z7pg3F"
      },
      "execution_count": null,
      "outputs": []
    },
    {
      "cell_type": "code",
      "source": [
        "from sklearn.preprocessing import StandardScaler\n",
        "scaler = StandardScaler()\n",
        "scaler.fit(x)\n",
        "x = scaler.transform(x)"
      ],
      "metadata": {
        "id": "XssnqqZypp4G"
      },
      "execution_count": null,
      "outputs": []
    },
    {
      "cell_type": "code",
      "source": [
        "# def one_hot_encoding(df):\n",
        "#   emotions = []\n",
        "#   for i in range(len(df)):\n",
        "#     # emotion = ''\n",
        "#     val = df.iloc[i,0]\n",
        "#     aro = df.iloc[i,1]\n",
        "#     if val >=5 and aro >=5:\n",
        "#       emotion = 0 #'happy'\n",
        "#     elif val >=5 and aro <5:\n",
        "#       emotion = 1 #'anxious'\n",
        "#     elif val <5 and aro <5:\n",
        "#       emotion = 2 #'sad'\n",
        "#     else:\n",
        "#       emotion = 3 #'calm'\n",
        "#     emotions.append(emotion)\n",
        "#   df_emo = pd.DataFrame(emotions)\n",
        "#   return df_emo\n",
        "\n",
        "def one_hot_encoding(df):\n",
        "  emotions = []\n",
        "  for i in range(len(df)):\n",
        "    # emotion = ''\n",
        "    val = int(df.iloc[i,0])\n",
        "    aro = int(df.iloc[i,1])\n",
        "    if val in range(1,4) and aro in range(1,4):\n",
        "      emotion = 0 #'depressed'\n",
        "    elif val in range(4,7) and aro in range(1,4):\n",
        "      emotion = 1 #'calm'\n",
        "    elif val in range(7,10) and aro in range(1,4):\n",
        "      emotion = 2 #'relaxed'\n",
        "    elif val in range(1,4) and aro in range(4,7):\n",
        "      emotion = 3 #'miserable'\n",
        "    elif val in range(4,7) and aro in range(4,7):\n",
        "      emotion = 4 #'neutral'\n",
        "    elif val in range(7,10) and aro in range(4,7):\n",
        "      emotion = 5 #'pleased'\n",
        "    elif val in range(1,4) and aro in range(7,10):\n",
        "      emotion = 6 #'distressed'\n",
        "    elif val in range(4,7) and aro in range(7,10):\n",
        "      emotion = 7 #'excited'\n",
        "    elif val in range(7,10) and aro in range(7,10):\n",
        "      emotion = 8 #'happy'\n",
        "\n",
        "    emotions.append(emotion)\n",
        "  df_emo = pd.DataFrame(emotions)\n",
        "  return df_emo"
      ],
      "metadata": {
        "id": "zp5iTM4gS9RD"
      },
      "execution_count": null,
      "outputs": []
    },
    {
      "cell_type": "code",
      "source": [
        "df_emo = one_hot_encoding(label)"
      ],
      "metadata": {
        "colab": {
          "base_uri": "https://localhost:8080/",
          "height": 286
        },
        "id": "e2OWuJWzTLr0",
        "outputId": "d6465e7f-223c-45dc-bfa9-9ce88d137482"
      },
      "execution_count": null,
      "outputs": [
        {
          "output_type": "error",
          "ename": "AttributeError",
          "evalue": "ignored",
          "traceback": [
            "\u001b[0;31m---------------------------------------------------------------------------\u001b[0m",
            "\u001b[0;31mAttributeError\u001b[0m                            Traceback (most recent call last)",
            "\u001b[0;32m<ipython-input-32-5c6e5f58e3d4>\u001b[0m in \u001b[0;36m<module>\u001b[0;34m()\u001b[0m\n\u001b[0;32m----> 1\u001b[0;31m \u001b[0mdf_emo\u001b[0m \u001b[0;34m=\u001b[0m \u001b[0mone_hot_encoding\u001b[0m\u001b[0;34m(\u001b[0m\u001b[0mlabel\u001b[0m\u001b[0;34m)\u001b[0m\u001b[0;34m\u001b[0m\u001b[0;34m\u001b[0m\u001b[0m\n\u001b[0m",
            "\u001b[0;32m<ipython-input-31-83f6a0780972>\u001b[0m in \u001b[0;36mone_hot_encoding\u001b[0;34m(df)\u001b[0m\n\u001b[1;32m     21\u001b[0m   \u001b[0;32mfor\u001b[0m \u001b[0mi\u001b[0m \u001b[0;32min\u001b[0m \u001b[0mrange\u001b[0m\u001b[0;34m(\u001b[0m\u001b[0mlen\u001b[0m\u001b[0;34m(\u001b[0m\u001b[0mdf\u001b[0m\u001b[0;34m)\u001b[0m\u001b[0;34m)\u001b[0m\u001b[0;34m:\u001b[0m\u001b[0;34m\u001b[0m\u001b[0;34m\u001b[0m\u001b[0m\n\u001b[1;32m     22\u001b[0m     \u001b[0;31m# emotion = ''\u001b[0m\u001b[0;34m\u001b[0m\u001b[0;34m\u001b[0m\u001b[0;34m\u001b[0m\u001b[0m\n\u001b[0;32m---> 23\u001b[0;31m     \u001b[0mval\u001b[0m \u001b[0;34m=\u001b[0m \u001b[0mdf\u001b[0m\u001b[0;34m.\u001b[0m\u001b[0miloc\u001b[0m\u001b[0;34m[\u001b[0m\u001b[0mi\u001b[0m\u001b[0;34m,\u001b[0m\u001b[0;36m0\u001b[0m\u001b[0;34m]\u001b[0m\u001b[0;34m\u001b[0m\u001b[0;34m\u001b[0m\u001b[0m\n\u001b[0m\u001b[1;32m     24\u001b[0m     \u001b[0maro\u001b[0m \u001b[0;34m=\u001b[0m \u001b[0mdf\u001b[0m\u001b[0;34m.\u001b[0m\u001b[0miloc\u001b[0m\u001b[0;34m[\u001b[0m\u001b[0mi\u001b[0m\u001b[0;34m,\u001b[0m\u001b[0;36m1\u001b[0m\u001b[0;34m]\u001b[0m\u001b[0;34m\u001b[0m\u001b[0;34m\u001b[0m\u001b[0m\n\u001b[1;32m     25\u001b[0m     \u001b[0;32mif\u001b[0m \u001b[0mval\u001b[0m \u001b[0;32min\u001b[0m \u001b[0mrange\u001b[0m\u001b[0;34m(\u001b[0m\u001b[0;36m1\u001b[0m\u001b[0;34m,\u001b[0m\u001b[0;36m4\u001b[0m\u001b[0;34m)\u001b[0m \u001b[0;32mand\u001b[0m \u001b[0maro\u001b[0m \u001b[0;32min\u001b[0m \u001b[0mrange\u001b[0m\u001b[0;34m(\u001b[0m\u001b[0;36m1\u001b[0m\u001b[0;34m,\u001b[0m\u001b[0;36m4\u001b[0m\u001b[0;34m)\u001b[0m\u001b[0;34m:\u001b[0m\u001b[0;34m\u001b[0m\u001b[0;34m\u001b[0m\u001b[0m\n",
            "\u001b[0;31mAttributeError\u001b[0m: 'list' object has no attribute 'iloc'"
          ]
        }
      ]
    },
    {
      "cell_type": "code",
      "source": [
        "from sklearn.model_selection import train_test_split\n",
        "x_train, x_test, y_train, y_test = train_test_split(x, df_emo.loc[:,0], test_size = 0.2, random_state = 4)"
      ],
      "metadata": {
        "id": "nE4tyRDYp5OT"
      },
      "execution_count": null,
      "outputs": []
    },
    {
      "cell_type": "code",
      "source": [
        "from sklearn.ensemble import RandomForestClassifier\n",
        "clf = RandomForestClassifier(n_estimators = 100) \n",
        "clf.fit(x_train, y_train)"
      ],
      "metadata": {
        "colab": {
          "base_uri": "https://localhost:8080/"
        },
        "id": "iqBfXxF-sbE-",
        "outputId": "bb1e81aa-4847-4359-fa20-6c54cfc364e9"
      },
      "execution_count": null,
      "outputs": [
        {
          "output_type": "execute_result",
          "data": {
            "text/plain": [
              "RandomForestClassifier()"
            ]
          },
          "metadata": {},
          "execution_count": 21
        }
      ]
    },
    {
      "cell_type": "code",
      "source": [
        "pred = clf.predict(x_test)"
      ],
      "metadata": {
        "id": "ccN1aBU6UF90"
      },
      "execution_count": null,
      "outputs": []
    },
    {
      "cell_type": "code",
      "source": [
        "from sklearn import metrics \n",
        "print(\"ACCURACY OF THE MODEL: \", metrics.accuracy_score(y_test, pred))"
      ],
      "metadata": {
        "colab": {
          "base_uri": "https://localhost:8080/"
        },
        "id": "qQhT32RAUKAk",
        "outputId": "de2b350f-b30e-426c-92d4-ee3379e04587"
      },
      "execution_count": null,
      "outputs": [
        {
          "output_type": "stream",
          "name": "stdout",
          "text": [
            "ACCURACY OF THE MODEL:  0.4475747393814078\n"
          ]
        }
      ]
    },
    {
      "cell_type": "code",
      "source": [
        "from sklearn.feature_selection import mutual_info_classif\n",
        "mi = mutual_info_classif(x_train, y_train)"
      ],
      "metadata": {
        "id": "b4fCGvdvqB_t"
      },
      "execution_count": null,
      "outputs": []
    },
    {
      "cell_type": "code",
      "source": [
        "mi"
      ],
      "metadata": {
        "colab": {
          "base_uri": "https://localhost:8080/"
        },
        "id": "zQDVNnraqFCR",
        "outputId": "5d97eb14-6895-49b1-9202-b6c5736ad2af"
      },
      "execution_count": null,
      "outputs": [
        {
          "output_type": "execute_result",
          "data": {
            "text/plain": [
              "array([0.11047619, 0.12154411, 0.10671984, 0.09357775, 0.12954998,\n",
              "       0.032119  , 0.03693942, 0.02750321, 0.0154518 , 0.02433039,\n",
              "       0.07193485, 0.08634341, 0.06229482, 0.03658506, 0.04673498,\n",
              "       0.0404481 , 0.05491296, 0.03940115, 0.02613072, 0.05461061,\n",
              "       0.04359431, 0.04305626, 0.04001545, 0.06425111, 0.10447987,\n",
              "       0.06306712, 0.07913707, 0.05964316, 0.03901783, 0.05749526,\n",
              "       0.10470876, 0.11623535, 0.10086633, 0.07194523, 0.09894954,\n",
              "       0.06536971, 0.07568546, 0.05373233, 0.02693743, 0.05218046,\n",
              "       0.09365861, 0.11607574, 0.09657534, 0.07267331, 0.11733357,\n",
              "       0.06695605, 0.08977128, 0.06675059, 0.03863814, 0.07252256,\n",
              "       0.05990691, 0.06833565, 0.05046779, 0.02312899, 0.05373801,\n",
              "       0.02835565, 0.04391295, 0.02895624, 0.01069783, 0.02232664,\n",
              "       0.00691901, 0.01705506, 0.00150382, 0.        , 0.01228478,\n",
              "       0.01491792, 0.02682786, 0.01394427, 0.        , 0.01694734])"
            ]
          },
          "metadata": {},
          "execution_count": 30
        }
      ]
    },
    {
      "cell_type": "code",
      "source": [
        "wavelet = pywt.Wavelet('db4')\n",
        "wavelet.dec_len"
      ],
      "metadata": {
        "colab": {
          "base_uri": "https://localhost:8080/"
        },
        "id": "o1QDIMVwViWN",
        "outputId": "da5620af-e290-43b0-de7e-962a2451215b"
      },
      "execution_count": null,
      "outputs": [
        {
          "output_type": "execute_result",
          "data": {
            "text/plain": [
              "8"
            ]
          },
          "metadata": {},
          "execution_count": 3
        }
      ]
    },
    {
      "cell_type": "markdown",
      "source": [
        "MAXIMUM OF THE COEFFIECIENTS"
      ],
      "metadata": {
        "id": "OwhUbfGsRePu"
      }
    },
    {
      "cell_type": "code",
      "source": [
        "def DWT_Processing_max (sub, channel, band, window_size, step_size, sample_rate):\n",
        "    '''\n",
        "    arguments:  string subject\n",
        "                list channel indice\n",
        "                list band\n",
        "                int window size for FFT\n",
        "                int step size for FFT\n",
        "                int sample rate for FFT\n",
        "    return:     void\n",
        "    '''\n",
        "    meta = []\n",
        "    with open('/content/drive/My Drive/data_preprocessed_python/s' + sub + '.dat', 'rb') as file:\n",
        "\n",
        "        subject = pickle.load(file, encoding='latin1') #resolve the python 2 data problem by encoding : latin1\n",
        "\n",
        "        for i in range (0,39):\n",
        "            # loop over 0-39 trails\n",
        "            data = subject[\"data\"][i]\n",
        "            labels = subject[\"labels\"][i]\n",
        "            start = 0;\n",
        "            \n",
        "            while start + window_size < data.shape[1]:\n",
        "                meta_array = []\n",
        "                meta_data = [] #meta vector for analysis\n",
        "                for j in channel:\n",
        "                    X = data[j][start : start + window_size] #Slice raw data over 2 sec, at interval of 0.125 sec\n",
        "                \n",
        "                    # approximation,detail = pywt.dwt(X,'db4')\n",
        "                    \n",
        "                    # meta_data = meta_data + list(approximation)\n",
        "                    coeffs = pywt.wavedec(X, 'db4', level=5)\n",
        "                    cA5, cD5, cD4, cD3, cD2, cD1 = coeffs\n",
        "                    sub_bands=[]\n",
        "                    \n",
        "                    sub_bands.append(max(list(cA5)))\n",
        "                    sub_bands.append(max(list(cD5)))\n",
        "                    sub_bands.append(max(list(cD4)))\n",
        "                    sub_bands.append(max(list(cD3)))\n",
        "                    sub_bands.append(max(list(cD2)))\n",
        "                   \n",
        "                    \n",
        "                    meta_data = meta_data + sub_bands\n",
        "\n",
        "                meta_array.append(np.array(meta_data))\n",
        "                meta_array.append(labels)\n",
        "                \n",
        "                meta.append(meta_array)   \n",
        "                start = start + step_size\n",
        "                \n",
        "        meta = np.array(meta)\n",
        "        \n",
        "        np.save('out\\s' + sub, meta, allow_pickle=True, fix_imports=True)\n",
        "        "
      ],
      "metadata": {
        "id": "4jIjUplxxvpD"
      },
      "execution_count": null,
      "outputs": []
    },
    {
      "cell_type": "code",
      "source": [
        "for subjects in subjectList:\n",
        "    DWT_Processing_max (subjects, channel, band, window_size, step_size, sample_rate)"
      ],
      "metadata": {
        "id": "zM4-00KFnzk5",
        "colab": {
          "base_uri": "https://localhost:8080/"
        },
        "outputId": "86533409-3534-4440-e04a-a6a2d3dbe962"
      },
      "execution_count": null,
      "outputs": [
        {
          "output_type": "stream",
          "name": "stderr",
          "text": [
            "/usr/local/lib/python3.7/dist-packages/pywt/_multilevel.py:45: UserWarning: Level value of 5 is too high: all coefficients will experience boundary effects.\n",
            "  \"boundary effects.\").format(level))\n",
            "/usr/local/lib/python3.7/dist-packages/ipykernel_launcher.py:50: VisibleDeprecationWarning: Creating an ndarray from ragged nested sequences (which is a list-or-tuple of lists-or-tuples-or ndarrays with different lengths or shapes) is deprecated. If you meant to do this, you must specify 'dtype=object' when creating the ndarray.\n"
          ]
        }
      ]
    },
    {
      "cell_type": "code",
      "source": [
        "data_training = []\n",
        "label_training = []\n",
        "data_testing = []\n",
        "label_testing = []\n",
        "data_validation = []\n",
        "label_validation = []\n",
        "\n",
        "for subjects in subjectList:\n",
        "  \n",
        "\n",
        "    with open('/content/out\\s' + subjects + '.npy', 'rb') as file:\n",
        "        sub = np.load(file,allow_pickle=True)\n",
        "       \n",
        "        for i in range (0,sub.shape[0]):\n",
        "            if i % 8 == 0 or i % 8== 0:\n",
        "                data_testing.append(sub[i][0])\n",
        "                label_testing.append(sub[i][1])\n",
        "           \n",
        "            else:\n",
        "                \n",
        "                data_training.append(sub[i][0])\n",
        "                label_training.append(sub[i][1])\n",
        "\n",
        "np.save('out\\data_training', np.array(data_training), allow_pickle=True, fix_imports=True)\n",
        "np.save('out\\label_training', np.array(label_training), allow_pickle=True, fix_imports=True)\n",
        "print(\"training dataset:\", np.array(data_training).shape, np.array(label_training).shape)\n",
        "\n",
        "\n",
        "np.save('out\\data_testing', np.array(data_testing), allow_pickle=True, fix_imports=True)\n",
        "np.save('out\\label_testing', np.array(label_testing), allow_pickle=True, fix_imports=True)\n",
        "print(\"testing dataset:\", np.array(data_testing).shape, np.array(label_testing).shape)\n",
        "\"\"\"\n",
        "np.save('out\\data_validation', np.array(data_validation), allow_pickle=True, fix_imports=True)\n",
        "np.save('out\\label_validation', np.array(label_validation), allow_pickle=True, fix_imports=True)\n",
        "print(\"validation dataset:\", np.array(data_validation).shape, np.array(label_validation).shape)\n",
        "\"\"\""
      ],
      "metadata": {
        "colab": {
          "base_uri": "https://localhost:8080/",
          "height": 88
        },
        "id": "ttz_M9cjoGrJ",
        "outputId": "a754b9cd-9ebf-4c45-81dc-8b2d59113e64"
      },
      "execution_count": null,
      "outputs": [
        {
          "output_type": "stream",
          "name": "stdout",
          "text": [
            "training dataset: (50778, 70) (50778, 4)\n",
            "testing dataset: (7254, 70) (7254, 4)\n"
          ]
        },
        {
          "output_type": "execute_result",
          "data": {
            "text/plain": [
              "'\\nnp.save(\\'out\\\\data_validation\\', np.array(data_validation), allow_pickle=True, fix_imports=True)\\nnp.save(\\'out\\\\label_validation\\', np.array(label_validation), allow_pickle=True, fix_imports=True)\\nprint(\"validation dataset:\", np.array(data_validation).shape, np.array(label_validation).shape)\\n'"
            ],
            "application/vnd.google.colaboratory.intrinsic+json": {
              "type": "string"
            }
          },
          "metadata": {},
          "execution_count": 9
        }
      ]
    },
    {
      "cell_type": "markdown",
      "source": [
        "training dataset: (50778, 938) (50778, 4)\n",
        "testing dataset: (7254, 938) (7254, 4)"
      ],
      "metadata": {
        "id": "Bq35aoHdetvp"
      }
    },
    {
      "cell_type": "code",
      "source": [
        "data= []\n",
        "label = []\n",
        "for subjects in subjectList:\n",
        "  \n",
        "\n",
        "    with open('/content/out\\s' + subjects + '.npy', 'rb') as file:\n",
        "        sub = np.load(file,allow_pickle=True)\n",
        "        for i in range (0,sub.shape[0]):\n",
        "          data.append(sub[i][0])\n",
        "          label.append(sub[i][1])\n",
        "data_max=pd.DataFrame(data=data)\n",
        "# df.to_csv(\"data.csv\",index=False)\n",
        "\n",
        "label=pd.DataFrame(data=label)"
      ],
      "metadata": {
        "id": "SsKXrnUHoNrf"
      },
      "execution_count": null,
      "outputs": []
    },
    {
      "cell_type": "code",
      "source": [
        "df=pd.DataFrame(data=data)\n",
        "df.to_csv(\"data.csv\",index=False)\n",
        "\n",
        "df1=pd.DataFrame(data=label)\n",
        "df1.to_csv(\"label.csv\",index=False)\n"
      ],
      "metadata": {
        "id": "n6-5BFJaoTfB"
      },
      "execution_count": null,
      "outputs": []
    },
    {
      "cell_type": "code",
      "source": [
        "data1_max=pd.read_csv(\"/content/data.csv\")"
      ],
      "metadata": {
        "id": "AQuZdkASoZhE"
      },
      "execution_count": null,
      "outputs": []
    },
    {
      "cell_type": "code",
      "source": [
        "data_max"
      ],
      "metadata": {
        "colab": {
          "base_uri": "https://localhost:8080/",
          "height": 487
        },
        "id": "vdxG5TMnoavx",
        "outputId": "011167ba-c8bd-41b1-d8c6-cd0b9d6dbe83"
      },
      "execution_count": null,
      "outputs": [
        {
          "output_type": "execute_result",
          "data": {
            "text/plain": [
              "              0         1          2          3          4          5   \\\n",
              "0       7.587781  5.185461  12.592333  21.766335  16.327276  22.800280   \n",
              "1      39.149579  9.234425  12.348270  11.290272  16.327276  24.508801   \n",
              "2       4.512450  9.106887  12.627298  11.290272  16.327276   6.028925   \n",
              "3      14.838507  6.196320   9.973601  11.290272   9.971282  37.662444   \n",
              "4      20.523452  6.522556  12.919961  11.807878   9.971282  17.710298   \n",
              "...          ...       ...        ...        ...        ...        ...   \n",
              "58027   6.188914  8.475177  11.293980  29.884545   5.653493  11.248073   \n",
              "58028  20.656751  6.773631   6.252543  14.141071   7.929314  18.581349   \n",
              "58029   3.630131  5.909338   6.127601  14.141071   5.653493  13.587918   \n",
              "58030   2.032346  6.056974   6.129063  14.141071   9.073060   1.604437   \n",
              "58031  22.521607  4.271963   8.138779  14.141071   9.073060   3.136677   \n",
              "\n",
              "              6          7          8          9   ...         60         61  \\\n",
              "0       5.321067  11.520462  12.072813   7.698107  ...   0.698974   5.482680   \n",
              "1       7.448365  11.766805  10.858643   7.698107  ...  13.471792   5.677141   \n",
              "2      10.324232  10.394933  10.866466   7.698107  ...  21.489011   6.905376   \n",
              "3       6.195628  12.935181   9.272472   7.698107  ...  38.576805  11.548949   \n",
              "4       8.995223  16.623398   9.266805   7.698107  ...   6.495580   8.642115   \n",
              "...          ...        ...        ...        ...  ...        ...        ...   \n",
              "58027   7.425848   5.619856  11.231342  12.042910  ...   1.291609  20.036339   \n",
              "58028   5.832798   6.471886  11.231342  12.042910  ...   3.813063  21.845698   \n",
              "58029   7.767076   5.541916  11.231342  12.042910  ...   6.464304  16.196512   \n",
              "58030   1.597649   5.541916  21.221514  14.316982  ...  48.145929  23.358672   \n",
              "58031   6.072493   5.485800  12.905342  12.042910  ...  -0.438371  25.660139   \n",
              "\n",
              "              62         63         64         65         66         67  \\\n",
              "0      14.981816  11.806963   8.647761   1.968261   9.269703  19.915142   \n",
              "1      14.782760  17.318746   5.780397  16.964927  10.077435  20.074013   \n",
              "2      15.035408  11.756659   7.502816  11.463685   3.896233  19.652199   \n",
              "3       5.525333  16.875695   8.851534  28.323117  11.881796   9.501159   \n",
              "4      10.809222  17.568510   8.851534   2.238352   2.196338   9.501159   \n",
              "...          ...        ...        ...        ...        ...        ...   \n",
              "58027  38.411817  51.332203  14.478167  83.465262  22.548780  19.141801   \n",
              "58028  38.411817  25.266846  14.478167  12.168562  16.267924  20.870232   \n",
              "58029  38.388318  25.203363  14.478167   9.233818  15.169000  13.559610   \n",
              "58030  37.650652  23.759555  14.478167  15.576784  12.978959  13.541966   \n",
              "58031  39.711138  16.138076  14.478167  14.639091  15.915605  13.754866   \n",
              "\n",
              "              68         69  \n",
              "0      11.452411   6.847965  \n",
              "1      11.601869   6.847965  \n",
              "2       8.516052   7.570814  \n",
              "3       9.705395   9.478351  \n",
              "4       9.116999   9.478351  \n",
              "...          ...        ...  \n",
              "58027  16.147585   7.568944  \n",
              "58028  16.081344   7.568944  \n",
              "58029  16.081344  10.037208  \n",
              "58030  16.085733   8.545465  \n",
              "58031  11.770125  10.647112  \n",
              "\n",
              "[58032 rows x 70 columns]"
            ],
            "text/html": [
              "\n",
              "  <div id=\"df-2efc4c36-9688-457a-80ae-658b7a2291bd\">\n",
              "    <div class=\"colab-df-container\">\n",
              "      <div>\n",
              "<style scoped>\n",
              "    .dataframe tbody tr th:only-of-type {\n",
              "        vertical-align: middle;\n",
              "    }\n",
              "\n",
              "    .dataframe tbody tr th {\n",
              "        vertical-align: top;\n",
              "    }\n",
              "\n",
              "    .dataframe thead th {\n",
              "        text-align: right;\n",
              "    }\n",
              "</style>\n",
              "<table border=\"1\" class=\"dataframe\">\n",
              "  <thead>\n",
              "    <tr style=\"text-align: right;\">\n",
              "      <th></th>\n",
              "      <th>0</th>\n",
              "      <th>1</th>\n",
              "      <th>2</th>\n",
              "      <th>3</th>\n",
              "      <th>4</th>\n",
              "      <th>5</th>\n",
              "      <th>6</th>\n",
              "      <th>7</th>\n",
              "      <th>8</th>\n",
              "      <th>9</th>\n",
              "      <th>...</th>\n",
              "      <th>60</th>\n",
              "      <th>61</th>\n",
              "      <th>62</th>\n",
              "      <th>63</th>\n",
              "      <th>64</th>\n",
              "      <th>65</th>\n",
              "      <th>66</th>\n",
              "      <th>67</th>\n",
              "      <th>68</th>\n",
              "      <th>69</th>\n",
              "    </tr>\n",
              "  </thead>\n",
              "  <tbody>\n",
              "    <tr>\n",
              "      <th>0</th>\n",
              "      <td>7.587781</td>\n",
              "      <td>5.185461</td>\n",
              "      <td>12.592333</td>\n",
              "      <td>21.766335</td>\n",
              "      <td>16.327276</td>\n",
              "      <td>22.800280</td>\n",
              "      <td>5.321067</td>\n",
              "      <td>11.520462</td>\n",
              "      <td>12.072813</td>\n",
              "      <td>7.698107</td>\n",
              "      <td>...</td>\n",
              "      <td>0.698974</td>\n",
              "      <td>5.482680</td>\n",
              "      <td>14.981816</td>\n",
              "      <td>11.806963</td>\n",
              "      <td>8.647761</td>\n",
              "      <td>1.968261</td>\n",
              "      <td>9.269703</td>\n",
              "      <td>19.915142</td>\n",
              "      <td>11.452411</td>\n",
              "      <td>6.847965</td>\n",
              "    </tr>\n",
              "    <tr>\n",
              "      <th>1</th>\n",
              "      <td>39.149579</td>\n",
              "      <td>9.234425</td>\n",
              "      <td>12.348270</td>\n",
              "      <td>11.290272</td>\n",
              "      <td>16.327276</td>\n",
              "      <td>24.508801</td>\n",
              "      <td>7.448365</td>\n",
              "      <td>11.766805</td>\n",
              "      <td>10.858643</td>\n",
              "      <td>7.698107</td>\n",
              "      <td>...</td>\n",
              "      <td>13.471792</td>\n",
              "      <td>5.677141</td>\n",
              "      <td>14.782760</td>\n",
              "      <td>17.318746</td>\n",
              "      <td>5.780397</td>\n",
              "      <td>16.964927</td>\n",
              "      <td>10.077435</td>\n",
              "      <td>20.074013</td>\n",
              "      <td>11.601869</td>\n",
              "      <td>6.847965</td>\n",
              "    </tr>\n",
              "    <tr>\n",
              "      <th>2</th>\n",
              "      <td>4.512450</td>\n",
              "      <td>9.106887</td>\n",
              "      <td>12.627298</td>\n",
              "      <td>11.290272</td>\n",
              "      <td>16.327276</td>\n",
              "      <td>6.028925</td>\n",
              "      <td>10.324232</td>\n",
              "      <td>10.394933</td>\n",
              "      <td>10.866466</td>\n",
              "      <td>7.698107</td>\n",
              "      <td>...</td>\n",
              "      <td>21.489011</td>\n",
              "      <td>6.905376</td>\n",
              "      <td>15.035408</td>\n",
              "      <td>11.756659</td>\n",
              "      <td>7.502816</td>\n",
              "      <td>11.463685</td>\n",
              "      <td>3.896233</td>\n",
              "      <td>19.652199</td>\n",
              "      <td>8.516052</td>\n",
              "      <td>7.570814</td>\n",
              "    </tr>\n",
              "    <tr>\n",
              "      <th>3</th>\n",
              "      <td>14.838507</td>\n",
              "      <td>6.196320</td>\n",
              "      <td>9.973601</td>\n",
              "      <td>11.290272</td>\n",
              "      <td>9.971282</td>\n",
              "      <td>37.662444</td>\n",
              "      <td>6.195628</td>\n",
              "      <td>12.935181</td>\n",
              "      <td>9.272472</td>\n",
              "      <td>7.698107</td>\n",
              "      <td>...</td>\n",
              "      <td>38.576805</td>\n",
              "      <td>11.548949</td>\n",
              "      <td>5.525333</td>\n",
              "      <td>16.875695</td>\n",
              "      <td>8.851534</td>\n",
              "      <td>28.323117</td>\n",
              "      <td>11.881796</td>\n",
              "      <td>9.501159</td>\n",
              "      <td>9.705395</td>\n",
              "      <td>9.478351</td>\n",
              "    </tr>\n",
              "    <tr>\n",
              "      <th>4</th>\n",
              "      <td>20.523452</td>\n",
              "      <td>6.522556</td>\n",
              "      <td>12.919961</td>\n",
              "      <td>11.807878</td>\n",
              "      <td>9.971282</td>\n",
              "      <td>17.710298</td>\n",
              "      <td>8.995223</td>\n",
              "      <td>16.623398</td>\n",
              "      <td>9.266805</td>\n",
              "      <td>7.698107</td>\n",
              "      <td>...</td>\n",
              "      <td>6.495580</td>\n",
              "      <td>8.642115</td>\n",
              "      <td>10.809222</td>\n",
              "      <td>17.568510</td>\n",
              "      <td>8.851534</td>\n",
              "      <td>2.238352</td>\n",
              "      <td>2.196338</td>\n",
              "      <td>9.501159</td>\n",
              "      <td>9.116999</td>\n",
              "      <td>9.478351</td>\n",
              "    </tr>\n",
              "    <tr>\n",
              "      <th>...</th>\n",
              "      <td>...</td>\n",
              "      <td>...</td>\n",
              "      <td>...</td>\n",
              "      <td>...</td>\n",
              "      <td>...</td>\n",
              "      <td>...</td>\n",
              "      <td>...</td>\n",
              "      <td>...</td>\n",
              "      <td>...</td>\n",
              "      <td>...</td>\n",
              "      <td>...</td>\n",
              "      <td>...</td>\n",
              "      <td>...</td>\n",
              "      <td>...</td>\n",
              "      <td>...</td>\n",
              "      <td>...</td>\n",
              "      <td>...</td>\n",
              "      <td>...</td>\n",
              "      <td>...</td>\n",
              "      <td>...</td>\n",
              "      <td>...</td>\n",
              "    </tr>\n",
              "    <tr>\n",
              "      <th>58027</th>\n",
              "      <td>6.188914</td>\n",
              "      <td>8.475177</td>\n",
              "      <td>11.293980</td>\n",
              "      <td>29.884545</td>\n",
              "      <td>5.653493</td>\n",
              "      <td>11.248073</td>\n",
              "      <td>7.425848</td>\n",
              "      <td>5.619856</td>\n",
              "      <td>11.231342</td>\n",
              "      <td>12.042910</td>\n",
              "      <td>...</td>\n",
              "      <td>1.291609</td>\n",
              "      <td>20.036339</td>\n",
              "      <td>38.411817</td>\n",
              "      <td>51.332203</td>\n",
              "      <td>14.478167</td>\n",
              "      <td>83.465262</td>\n",
              "      <td>22.548780</td>\n",
              "      <td>19.141801</td>\n",
              "      <td>16.147585</td>\n",
              "      <td>7.568944</td>\n",
              "    </tr>\n",
              "    <tr>\n",
              "      <th>58028</th>\n",
              "      <td>20.656751</td>\n",
              "      <td>6.773631</td>\n",
              "      <td>6.252543</td>\n",
              "      <td>14.141071</td>\n",
              "      <td>7.929314</td>\n",
              "      <td>18.581349</td>\n",
              "      <td>5.832798</td>\n",
              "      <td>6.471886</td>\n",
              "      <td>11.231342</td>\n",
              "      <td>12.042910</td>\n",
              "      <td>...</td>\n",
              "      <td>3.813063</td>\n",
              "      <td>21.845698</td>\n",
              "      <td>38.411817</td>\n",
              "      <td>25.266846</td>\n",
              "      <td>14.478167</td>\n",
              "      <td>12.168562</td>\n",
              "      <td>16.267924</td>\n",
              "      <td>20.870232</td>\n",
              "      <td>16.081344</td>\n",
              "      <td>7.568944</td>\n",
              "    </tr>\n",
              "    <tr>\n",
              "      <th>58029</th>\n",
              "      <td>3.630131</td>\n",
              "      <td>5.909338</td>\n",
              "      <td>6.127601</td>\n",
              "      <td>14.141071</td>\n",
              "      <td>5.653493</td>\n",
              "      <td>13.587918</td>\n",
              "      <td>7.767076</td>\n",
              "      <td>5.541916</td>\n",
              "      <td>11.231342</td>\n",
              "      <td>12.042910</td>\n",
              "      <td>...</td>\n",
              "      <td>6.464304</td>\n",
              "      <td>16.196512</td>\n",
              "      <td>38.388318</td>\n",
              "      <td>25.203363</td>\n",
              "      <td>14.478167</td>\n",
              "      <td>9.233818</td>\n",
              "      <td>15.169000</td>\n",
              "      <td>13.559610</td>\n",
              "      <td>16.081344</td>\n",
              "      <td>10.037208</td>\n",
              "    </tr>\n",
              "    <tr>\n",
              "      <th>58030</th>\n",
              "      <td>2.032346</td>\n",
              "      <td>6.056974</td>\n",
              "      <td>6.129063</td>\n",
              "      <td>14.141071</td>\n",
              "      <td>9.073060</td>\n",
              "      <td>1.604437</td>\n",
              "      <td>1.597649</td>\n",
              "      <td>5.541916</td>\n",
              "      <td>21.221514</td>\n",
              "      <td>14.316982</td>\n",
              "      <td>...</td>\n",
              "      <td>48.145929</td>\n",
              "      <td>23.358672</td>\n",
              "      <td>37.650652</td>\n",
              "      <td>23.759555</td>\n",
              "      <td>14.478167</td>\n",
              "      <td>15.576784</td>\n",
              "      <td>12.978959</td>\n",
              "      <td>13.541966</td>\n",
              "      <td>16.085733</td>\n",
              "      <td>8.545465</td>\n",
              "    </tr>\n",
              "    <tr>\n",
              "      <th>58031</th>\n",
              "      <td>22.521607</td>\n",
              "      <td>4.271963</td>\n",
              "      <td>8.138779</td>\n",
              "      <td>14.141071</td>\n",
              "      <td>9.073060</td>\n",
              "      <td>3.136677</td>\n",
              "      <td>6.072493</td>\n",
              "      <td>5.485800</td>\n",
              "      <td>12.905342</td>\n",
              "      <td>12.042910</td>\n",
              "      <td>...</td>\n",
              "      <td>-0.438371</td>\n",
              "      <td>25.660139</td>\n",
              "      <td>39.711138</td>\n",
              "      <td>16.138076</td>\n",
              "      <td>14.478167</td>\n",
              "      <td>14.639091</td>\n",
              "      <td>15.915605</td>\n",
              "      <td>13.754866</td>\n",
              "      <td>11.770125</td>\n",
              "      <td>10.647112</td>\n",
              "    </tr>\n",
              "  </tbody>\n",
              "</table>\n",
              "<p>58032 rows × 70 columns</p>\n",
              "</div>\n",
              "      <button class=\"colab-df-convert\" onclick=\"convertToInteractive('df-2efc4c36-9688-457a-80ae-658b7a2291bd')\"\n",
              "              title=\"Convert this dataframe to an interactive table.\"\n",
              "              style=\"display:none;\">\n",
              "        \n",
              "  <svg xmlns=\"http://www.w3.org/2000/svg\" height=\"24px\"viewBox=\"0 0 24 24\"\n",
              "       width=\"24px\">\n",
              "    <path d=\"M0 0h24v24H0V0z\" fill=\"none\"/>\n",
              "    <path d=\"M18.56 5.44l.94 2.06.94-2.06 2.06-.94-2.06-.94-.94-2.06-.94 2.06-2.06.94zm-11 1L8.5 8.5l.94-2.06 2.06-.94-2.06-.94L8.5 2.5l-.94 2.06-2.06.94zm10 10l.94 2.06.94-2.06 2.06-.94-2.06-.94-.94-2.06-.94 2.06-2.06.94z\"/><path d=\"M17.41 7.96l-1.37-1.37c-.4-.4-.92-.59-1.43-.59-.52 0-1.04.2-1.43.59L10.3 9.45l-7.72 7.72c-.78.78-.78 2.05 0 2.83L4 21.41c.39.39.9.59 1.41.59.51 0 1.02-.2 1.41-.59l7.78-7.78 2.81-2.81c.8-.78.8-2.07 0-2.86zM5.41 20L4 18.59l7.72-7.72 1.47 1.35L5.41 20z\"/>\n",
              "  </svg>\n",
              "      </button>\n",
              "      \n",
              "  <style>\n",
              "    .colab-df-container {\n",
              "      display:flex;\n",
              "      flex-wrap:wrap;\n",
              "      gap: 12px;\n",
              "    }\n",
              "\n",
              "    .colab-df-convert {\n",
              "      background-color: #E8F0FE;\n",
              "      border: none;\n",
              "      border-radius: 50%;\n",
              "      cursor: pointer;\n",
              "      display: none;\n",
              "      fill: #1967D2;\n",
              "      height: 32px;\n",
              "      padding: 0 0 0 0;\n",
              "      width: 32px;\n",
              "    }\n",
              "\n",
              "    .colab-df-convert:hover {\n",
              "      background-color: #E2EBFA;\n",
              "      box-shadow: 0px 1px 2px rgba(60, 64, 67, 0.3), 0px 1px 3px 1px rgba(60, 64, 67, 0.15);\n",
              "      fill: #174EA6;\n",
              "    }\n",
              "\n",
              "    [theme=dark] .colab-df-convert {\n",
              "      background-color: #3B4455;\n",
              "      fill: #D2E3FC;\n",
              "    }\n",
              "\n",
              "    [theme=dark] .colab-df-convert:hover {\n",
              "      background-color: #434B5C;\n",
              "      box-shadow: 0px 1px 3px 1px rgba(0, 0, 0, 0.15);\n",
              "      filter: drop-shadow(0px 1px 2px rgba(0, 0, 0, 0.3));\n",
              "      fill: #FFFFFF;\n",
              "    }\n",
              "  </style>\n",
              "\n",
              "      <script>\n",
              "        const buttonEl =\n",
              "          document.querySelector('#df-2efc4c36-9688-457a-80ae-658b7a2291bd button.colab-df-convert');\n",
              "        buttonEl.style.display =\n",
              "          google.colab.kernel.accessAllowed ? 'block' : 'none';\n",
              "\n",
              "        async function convertToInteractive(key) {\n",
              "          const element = document.querySelector('#df-2efc4c36-9688-457a-80ae-658b7a2291bd');\n",
              "          const dataTable =\n",
              "            await google.colab.kernel.invokeFunction('convertToInteractive',\n",
              "                                                     [key], {});\n",
              "          if (!dataTable) return;\n",
              "\n",
              "          const docLinkHtml = 'Like what you see? Visit the ' +\n",
              "            '<a target=\"_blank\" href=https://colab.research.google.com/notebooks/data_table.ipynb>data table notebook</a>'\n",
              "            + ' to learn more about interactive tables.';\n",
              "          element.innerHTML = '';\n",
              "          dataTable['output_type'] = 'display_data';\n",
              "          await google.colab.output.renderOutput(dataTable, element);\n",
              "          const docLink = document.createElement('div');\n",
              "          docLink.innerHTML = docLinkHtml;\n",
              "          element.appendChild(docLink);\n",
              "        }\n",
              "      </script>\n",
              "    </div>\n",
              "  </div>\n",
              "  "
            ]
          },
          "metadata": {},
          "execution_count": 28
        }
      ]
    },
    {
      "cell_type": "code",
      "source": [
        "x=data_max.values"
      ],
      "metadata": {
        "id": "I19yrIdPq-KC"
      },
      "execution_count": null,
      "outputs": []
    },
    {
      "cell_type": "code",
      "source": [
        "from sklearn.preprocessing import StandardScaler\n",
        "scaler = StandardScaler()\n",
        "scaler.fit(x)\n",
        "x = scaler.transform(x)"
      ],
      "metadata": {
        "id": "9Jq7zoikrCG2"
      },
      "execution_count": null,
      "outputs": []
    },
    {
      "cell_type": "code",
      "source": [
        "from sklearn.model_selection import train_test_split\n",
        "x_train, x_test, y_train, y_test = train_test_split(x, df_emo.loc[:,0], test_size = 0.2, random_state = 4)"
      ],
      "metadata": {
        "id": "CRH8AurerFuH"
      },
      "execution_count": null,
      "outputs": []
    },
    {
      "cell_type": "code",
      "source": [
        "print(x_train.shape)\n",
        "print(y_train.shape)\n",
        "print(x_test.shape)\n",
        "print(y_test.shape)"
      ],
      "metadata": {
        "colab": {
          "base_uri": "https://localhost:8080/"
        },
        "id": "XzGVl7KIU0OB",
        "outputId": "7184d7b1-ac78-4cb9-c5ec-7d553ea40a4d"
      },
      "execution_count": null,
      "outputs": [
        {
          "output_type": "stream",
          "name": "stdout",
          "text": [
            "(46425, 70)\n",
            "(46425,)\n",
            "(11607, 70)\n",
            "(11607,)\n"
          ]
        }
      ]
    },
    {
      "cell_type": "code",
      "source": [
        "from sklearn.ensemble import RandomForestClassifier\n",
        "clf = RandomForestClassifier(n_estimators = 1000) \n",
        "clf.fit(x_train, y_train)"
      ],
      "metadata": {
        "colab": {
          "base_uri": "https://localhost:8080/",
          "height": 346
        },
        "id": "pZfu_jK1VILO",
        "outputId": "af1a2a38-4a47-4bbe-e952-1dc1a053a3f0"
      },
      "execution_count": null,
      "outputs": [
        {
          "output_type": "error",
          "ename": "KeyboardInterrupt",
          "evalue": "ignored",
          "traceback": [
            "\u001b[0;31m---------------------------------------------------------------------------\u001b[0m",
            "\u001b[0;31mKeyboardInterrupt\u001b[0m                         Traceback (most recent call last)",
            "\u001b[0;32m<ipython-input-36-d99d98e0e072>\u001b[0m in \u001b[0;36m<module>\u001b[0;34m()\u001b[0m\n\u001b[1;32m      1\u001b[0m \u001b[0;32mfrom\u001b[0m \u001b[0msklearn\u001b[0m\u001b[0;34m.\u001b[0m\u001b[0mensemble\u001b[0m \u001b[0;32mimport\u001b[0m \u001b[0mRandomForestClassifier\u001b[0m\u001b[0;34m\u001b[0m\u001b[0;34m\u001b[0m\u001b[0m\n\u001b[1;32m      2\u001b[0m \u001b[0mclf\u001b[0m \u001b[0;34m=\u001b[0m \u001b[0mRandomForestClassifier\u001b[0m\u001b[0;34m(\u001b[0m\u001b[0mn_estimators\u001b[0m \u001b[0;34m=\u001b[0m \u001b[0;36m1000\u001b[0m\u001b[0;34m)\u001b[0m\u001b[0;34m\u001b[0m\u001b[0;34m\u001b[0m\u001b[0m\n\u001b[0;32m----> 3\u001b[0;31m \u001b[0mclf\u001b[0m\u001b[0;34m.\u001b[0m\u001b[0mfit\u001b[0m\u001b[0;34m(\u001b[0m\u001b[0mx_train\u001b[0m\u001b[0;34m,\u001b[0m \u001b[0my_train\u001b[0m\u001b[0;34m)\u001b[0m\u001b[0;34m\u001b[0m\u001b[0;34m\u001b[0m\u001b[0m\n\u001b[0m",
            "\u001b[0;32m/usr/local/lib/python3.7/dist-packages/sklearn/ensemble/_forest.py\u001b[0m in \u001b[0;36mfit\u001b[0;34m(self, X, y, sample_weight)\u001b[0m\n\u001b[1;32m    465\u001b[0m                     \u001b[0mn_samples_bootstrap\u001b[0m\u001b[0;34m=\u001b[0m\u001b[0mn_samples_bootstrap\u001b[0m\u001b[0;34m,\u001b[0m\u001b[0;34m\u001b[0m\u001b[0;34m\u001b[0m\u001b[0m\n\u001b[1;32m    466\u001b[0m                 )\n\u001b[0;32m--> 467\u001b[0;31m                 \u001b[0;32mfor\u001b[0m \u001b[0mi\u001b[0m\u001b[0;34m,\u001b[0m \u001b[0mt\u001b[0m \u001b[0;32min\u001b[0m \u001b[0menumerate\u001b[0m\u001b[0;34m(\u001b[0m\u001b[0mtrees\u001b[0m\u001b[0;34m)\u001b[0m\u001b[0;34m\u001b[0m\u001b[0;34m\u001b[0m\u001b[0m\n\u001b[0m\u001b[1;32m    468\u001b[0m             )\n\u001b[1;32m    469\u001b[0m \u001b[0;34m\u001b[0m\u001b[0m\n",
            "\u001b[0;32m/usr/local/lib/python3.7/dist-packages/joblib/parallel.py\u001b[0m in \u001b[0;36m__call__\u001b[0;34m(self, iterable)\u001b[0m\n\u001b[1;32m   1044\u001b[0m                 \u001b[0mself\u001b[0m\u001b[0;34m.\u001b[0m\u001b[0m_iterating\u001b[0m \u001b[0;34m=\u001b[0m \u001b[0mself\u001b[0m\u001b[0;34m.\u001b[0m\u001b[0m_original_iterator\u001b[0m \u001b[0;32mis\u001b[0m \u001b[0;32mnot\u001b[0m \u001b[0;32mNone\u001b[0m\u001b[0;34m\u001b[0m\u001b[0;34m\u001b[0m\u001b[0m\n\u001b[1;32m   1045\u001b[0m \u001b[0;34m\u001b[0m\u001b[0m\n\u001b[0;32m-> 1046\u001b[0;31m             \u001b[0;32mwhile\u001b[0m \u001b[0mself\u001b[0m\u001b[0;34m.\u001b[0m\u001b[0mdispatch_one_batch\u001b[0m\u001b[0;34m(\u001b[0m\u001b[0miterator\u001b[0m\u001b[0;34m)\u001b[0m\u001b[0;34m:\u001b[0m\u001b[0;34m\u001b[0m\u001b[0;34m\u001b[0m\u001b[0m\n\u001b[0m\u001b[1;32m   1047\u001b[0m                 \u001b[0;32mpass\u001b[0m\u001b[0;34m\u001b[0m\u001b[0;34m\u001b[0m\u001b[0m\n\u001b[1;32m   1048\u001b[0m \u001b[0;34m\u001b[0m\u001b[0m\n",
            "\u001b[0;32m/usr/local/lib/python3.7/dist-packages/joblib/parallel.py\u001b[0m in \u001b[0;36mdispatch_one_batch\u001b[0;34m(self, iterator)\u001b[0m\n\u001b[1;32m    859\u001b[0m                 \u001b[0;32mreturn\u001b[0m \u001b[0;32mFalse\u001b[0m\u001b[0;34m\u001b[0m\u001b[0;34m\u001b[0m\u001b[0m\n\u001b[1;32m    860\u001b[0m             \u001b[0;32melse\u001b[0m\u001b[0;34m:\u001b[0m\u001b[0;34m\u001b[0m\u001b[0;34m\u001b[0m\u001b[0m\n\u001b[0;32m--> 861\u001b[0;31m                 \u001b[0mself\u001b[0m\u001b[0;34m.\u001b[0m\u001b[0m_dispatch\u001b[0m\u001b[0;34m(\u001b[0m\u001b[0mtasks\u001b[0m\u001b[0;34m)\u001b[0m\u001b[0;34m\u001b[0m\u001b[0;34m\u001b[0m\u001b[0m\n\u001b[0m\u001b[1;32m    862\u001b[0m                 \u001b[0;32mreturn\u001b[0m \u001b[0;32mTrue\u001b[0m\u001b[0;34m\u001b[0m\u001b[0;34m\u001b[0m\u001b[0m\n\u001b[1;32m    863\u001b[0m \u001b[0;34m\u001b[0m\u001b[0m\n",
            "\u001b[0;32m/usr/local/lib/python3.7/dist-packages/joblib/parallel.py\u001b[0m in \u001b[0;36m_dispatch\u001b[0;34m(self, batch)\u001b[0m\n\u001b[1;32m    777\u001b[0m         \u001b[0;32mwith\u001b[0m \u001b[0mself\u001b[0m\u001b[0;34m.\u001b[0m\u001b[0m_lock\u001b[0m\u001b[0;34m:\u001b[0m\u001b[0;34m\u001b[0m\u001b[0;34m\u001b[0m\u001b[0m\n\u001b[1;32m    778\u001b[0m             \u001b[0mjob_idx\u001b[0m \u001b[0;34m=\u001b[0m \u001b[0mlen\u001b[0m\u001b[0;34m(\u001b[0m\u001b[0mself\u001b[0m\u001b[0;34m.\u001b[0m\u001b[0m_jobs\u001b[0m\u001b[0;34m)\u001b[0m\u001b[0;34m\u001b[0m\u001b[0;34m\u001b[0m\u001b[0m\n\u001b[0;32m--> 779\u001b[0;31m             \u001b[0mjob\u001b[0m \u001b[0;34m=\u001b[0m \u001b[0mself\u001b[0m\u001b[0;34m.\u001b[0m\u001b[0m_backend\u001b[0m\u001b[0;34m.\u001b[0m\u001b[0mapply_async\u001b[0m\u001b[0;34m(\u001b[0m\u001b[0mbatch\u001b[0m\u001b[0;34m,\u001b[0m \u001b[0mcallback\u001b[0m\u001b[0;34m=\u001b[0m\u001b[0mcb\u001b[0m\u001b[0;34m)\u001b[0m\u001b[0;34m\u001b[0m\u001b[0;34m\u001b[0m\u001b[0m\n\u001b[0m\u001b[1;32m    780\u001b[0m             \u001b[0;31m# A job can complete so quickly than its callback is\u001b[0m\u001b[0;34m\u001b[0m\u001b[0;34m\u001b[0m\u001b[0;34m\u001b[0m\u001b[0m\n\u001b[1;32m    781\u001b[0m             \u001b[0;31m# called before we get here, causing self._jobs to\u001b[0m\u001b[0;34m\u001b[0m\u001b[0;34m\u001b[0m\u001b[0;34m\u001b[0m\u001b[0m\n",
            "\u001b[0;32m/usr/local/lib/python3.7/dist-packages/joblib/_parallel_backends.py\u001b[0m in \u001b[0;36mapply_async\u001b[0;34m(self, func, callback)\u001b[0m\n\u001b[1;32m    206\u001b[0m     \u001b[0;32mdef\u001b[0m \u001b[0mapply_async\u001b[0m\u001b[0;34m(\u001b[0m\u001b[0mself\u001b[0m\u001b[0;34m,\u001b[0m \u001b[0mfunc\u001b[0m\u001b[0;34m,\u001b[0m \u001b[0mcallback\u001b[0m\u001b[0;34m=\u001b[0m\u001b[0;32mNone\u001b[0m\u001b[0;34m)\u001b[0m\u001b[0;34m:\u001b[0m\u001b[0;34m\u001b[0m\u001b[0;34m\u001b[0m\u001b[0m\n\u001b[1;32m    207\u001b[0m         \u001b[0;34m\"\"\"Schedule a func to be run\"\"\"\u001b[0m\u001b[0;34m\u001b[0m\u001b[0;34m\u001b[0m\u001b[0m\n\u001b[0;32m--> 208\u001b[0;31m         \u001b[0mresult\u001b[0m \u001b[0;34m=\u001b[0m \u001b[0mImmediateResult\u001b[0m\u001b[0;34m(\u001b[0m\u001b[0mfunc\u001b[0m\u001b[0;34m)\u001b[0m\u001b[0;34m\u001b[0m\u001b[0;34m\u001b[0m\u001b[0m\n\u001b[0m\u001b[1;32m    209\u001b[0m         \u001b[0;32mif\u001b[0m \u001b[0mcallback\u001b[0m\u001b[0;34m:\u001b[0m\u001b[0;34m\u001b[0m\u001b[0;34m\u001b[0m\u001b[0m\n\u001b[1;32m    210\u001b[0m             \u001b[0mcallback\u001b[0m\u001b[0;34m(\u001b[0m\u001b[0mresult\u001b[0m\u001b[0;34m)\u001b[0m\u001b[0;34m\u001b[0m\u001b[0;34m\u001b[0m\u001b[0m\n",
            "\u001b[0;32m/usr/local/lib/python3.7/dist-packages/joblib/_parallel_backends.py\u001b[0m in \u001b[0;36m__init__\u001b[0;34m(self, batch)\u001b[0m\n\u001b[1;32m    570\u001b[0m         \u001b[0;31m# Don't delay the application, to avoid keeping the input\u001b[0m\u001b[0;34m\u001b[0m\u001b[0;34m\u001b[0m\u001b[0;34m\u001b[0m\u001b[0m\n\u001b[1;32m    571\u001b[0m         \u001b[0;31m# arguments in memory\u001b[0m\u001b[0;34m\u001b[0m\u001b[0;34m\u001b[0m\u001b[0;34m\u001b[0m\u001b[0m\n\u001b[0;32m--> 572\u001b[0;31m         \u001b[0mself\u001b[0m\u001b[0;34m.\u001b[0m\u001b[0mresults\u001b[0m \u001b[0;34m=\u001b[0m \u001b[0mbatch\u001b[0m\u001b[0;34m(\u001b[0m\u001b[0;34m)\u001b[0m\u001b[0;34m\u001b[0m\u001b[0;34m\u001b[0m\u001b[0m\n\u001b[0m\u001b[1;32m    573\u001b[0m \u001b[0;34m\u001b[0m\u001b[0m\n\u001b[1;32m    574\u001b[0m     \u001b[0;32mdef\u001b[0m \u001b[0mget\u001b[0m\u001b[0;34m(\u001b[0m\u001b[0mself\u001b[0m\u001b[0;34m)\u001b[0m\u001b[0;34m:\u001b[0m\u001b[0;34m\u001b[0m\u001b[0;34m\u001b[0m\u001b[0m\n",
            "\u001b[0;32m/usr/local/lib/python3.7/dist-packages/joblib/parallel.py\u001b[0m in \u001b[0;36m__call__\u001b[0;34m(self)\u001b[0m\n\u001b[1;32m    261\u001b[0m         \u001b[0;32mwith\u001b[0m \u001b[0mparallel_backend\u001b[0m\u001b[0;34m(\u001b[0m\u001b[0mself\u001b[0m\u001b[0;34m.\u001b[0m\u001b[0m_backend\u001b[0m\u001b[0;34m,\u001b[0m \u001b[0mn_jobs\u001b[0m\u001b[0;34m=\u001b[0m\u001b[0mself\u001b[0m\u001b[0;34m.\u001b[0m\u001b[0m_n_jobs\u001b[0m\u001b[0;34m)\u001b[0m\u001b[0;34m:\u001b[0m\u001b[0;34m\u001b[0m\u001b[0;34m\u001b[0m\u001b[0m\n\u001b[1;32m    262\u001b[0m             return [func(*args, **kwargs)\n\u001b[0;32m--> 263\u001b[0;31m                     for func, args, kwargs in self.items]\n\u001b[0m\u001b[1;32m    264\u001b[0m \u001b[0;34m\u001b[0m\u001b[0m\n\u001b[1;32m    265\u001b[0m     \u001b[0;32mdef\u001b[0m \u001b[0m__reduce__\u001b[0m\u001b[0;34m(\u001b[0m\u001b[0mself\u001b[0m\u001b[0;34m)\u001b[0m\u001b[0;34m:\u001b[0m\u001b[0;34m\u001b[0m\u001b[0;34m\u001b[0m\u001b[0m\n",
            "\u001b[0;32m/usr/local/lib/python3.7/dist-packages/joblib/parallel.py\u001b[0m in \u001b[0;36m<listcomp>\u001b[0;34m(.0)\u001b[0m\n\u001b[1;32m    261\u001b[0m         \u001b[0;32mwith\u001b[0m \u001b[0mparallel_backend\u001b[0m\u001b[0;34m(\u001b[0m\u001b[0mself\u001b[0m\u001b[0;34m.\u001b[0m\u001b[0m_backend\u001b[0m\u001b[0;34m,\u001b[0m \u001b[0mn_jobs\u001b[0m\u001b[0;34m=\u001b[0m\u001b[0mself\u001b[0m\u001b[0;34m.\u001b[0m\u001b[0m_n_jobs\u001b[0m\u001b[0;34m)\u001b[0m\u001b[0;34m:\u001b[0m\u001b[0;34m\u001b[0m\u001b[0;34m\u001b[0m\u001b[0m\n\u001b[1;32m    262\u001b[0m             return [func(*args, **kwargs)\n\u001b[0;32m--> 263\u001b[0;31m                     for func, args, kwargs in self.items]\n\u001b[0m\u001b[1;32m    264\u001b[0m \u001b[0;34m\u001b[0m\u001b[0m\n\u001b[1;32m    265\u001b[0m     \u001b[0;32mdef\u001b[0m \u001b[0m__reduce__\u001b[0m\u001b[0;34m(\u001b[0m\u001b[0mself\u001b[0m\u001b[0;34m)\u001b[0m\u001b[0;34m:\u001b[0m\u001b[0;34m\u001b[0m\u001b[0;34m\u001b[0m\u001b[0m\n",
            "\u001b[0;32m/usr/local/lib/python3.7/dist-packages/sklearn/utils/fixes.py\u001b[0m in \u001b[0;36m__call__\u001b[0;34m(self, *args, **kwargs)\u001b[0m\n\u001b[1;32m    214\u001b[0m     \u001b[0;32mdef\u001b[0m \u001b[0m__call__\u001b[0m\u001b[0;34m(\u001b[0m\u001b[0mself\u001b[0m\u001b[0;34m,\u001b[0m \u001b[0;34m*\u001b[0m\u001b[0margs\u001b[0m\u001b[0;34m,\u001b[0m \u001b[0;34m**\u001b[0m\u001b[0mkwargs\u001b[0m\u001b[0;34m)\u001b[0m\u001b[0;34m:\u001b[0m\u001b[0;34m\u001b[0m\u001b[0;34m\u001b[0m\u001b[0m\n\u001b[1;32m    215\u001b[0m         \u001b[0;32mwith\u001b[0m \u001b[0mconfig_context\u001b[0m\u001b[0;34m(\u001b[0m\u001b[0;34m**\u001b[0m\u001b[0mself\u001b[0m\u001b[0;34m.\u001b[0m\u001b[0mconfig\u001b[0m\u001b[0;34m)\u001b[0m\u001b[0;34m:\u001b[0m\u001b[0;34m\u001b[0m\u001b[0;34m\u001b[0m\u001b[0m\n\u001b[0;32m--> 216\u001b[0;31m             \u001b[0;32mreturn\u001b[0m \u001b[0mself\u001b[0m\u001b[0;34m.\u001b[0m\u001b[0mfunction\u001b[0m\u001b[0;34m(\u001b[0m\u001b[0;34m*\u001b[0m\u001b[0margs\u001b[0m\u001b[0;34m,\u001b[0m \u001b[0;34m**\u001b[0m\u001b[0mkwargs\u001b[0m\u001b[0;34m)\u001b[0m\u001b[0;34m\u001b[0m\u001b[0;34m\u001b[0m\u001b[0m\n\u001b[0m\u001b[1;32m    217\u001b[0m \u001b[0;34m\u001b[0m\u001b[0m\n\u001b[1;32m    218\u001b[0m \u001b[0;34m\u001b[0m\u001b[0m\n",
            "\u001b[0;32m/usr/local/lib/python3.7/dist-packages/sklearn/ensemble/_forest.py\u001b[0m in \u001b[0;36m_parallel_build_trees\u001b[0;34m(tree, forest, X, y, sample_weight, tree_idx, n_trees, verbose, class_weight, n_samples_bootstrap)\u001b[0m\n\u001b[1;32m    183\u001b[0m             \u001b[0mcurr_sample_weight\u001b[0m \u001b[0;34m*=\u001b[0m \u001b[0mcompute_sample_weight\u001b[0m\u001b[0;34m(\u001b[0m\u001b[0;34m\"balanced\"\u001b[0m\u001b[0;34m,\u001b[0m \u001b[0my\u001b[0m\u001b[0;34m,\u001b[0m \u001b[0mindices\u001b[0m\u001b[0;34m=\u001b[0m\u001b[0mindices\u001b[0m\u001b[0;34m)\u001b[0m\u001b[0;34m\u001b[0m\u001b[0;34m\u001b[0m\u001b[0m\n\u001b[1;32m    184\u001b[0m \u001b[0;34m\u001b[0m\u001b[0m\n\u001b[0;32m--> 185\u001b[0;31m         \u001b[0mtree\u001b[0m\u001b[0;34m.\u001b[0m\u001b[0mfit\u001b[0m\u001b[0;34m(\u001b[0m\u001b[0mX\u001b[0m\u001b[0;34m,\u001b[0m \u001b[0my\u001b[0m\u001b[0;34m,\u001b[0m \u001b[0msample_weight\u001b[0m\u001b[0;34m=\u001b[0m\u001b[0mcurr_sample_weight\u001b[0m\u001b[0;34m,\u001b[0m \u001b[0mcheck_input\u001b[0m\u001b[0;34m=\u001b[0m\u001b[0;32mFalse\u001b[0m\u001b[0;34m)\u001b[0m\u001b[0;34m\u001b[0m\u001b[0;34m\u001b[0m\u001b[0m\n\u001b[0m\u001b[1;32m    186\u001b[0m     \u001b[0;32melse\u001b[0m\u001b[0;34m:\u001b[0m\u001b[0;34m\u001b[0m\u001b[0;34m\u001b[0m\u001b[0m\n\u001b[1;32m    187\u001b[0m         \u001b[0mtree\u001b[0m\u001b[0;34m.\u001b[0m\u001b[0mfit\u001b[0m\u001b[0;34m(\u001b[0m\u001b[0mX\u001b[0m\u001b[0;34m,\u001b[0m \u001b[0my\u001b[0m\u001b[0;34m,\u001b[0m \u001b[0msample_weight\u001b[0m\u001b[0;34m=\u001b[0m\u001b[0msample_weight\u001b[0m\u001b[0;34m,\u001b[0m \u001b[0mcheck_input\u001b[0m\u001b[0;34m=\u001b[0m\u001b[0;32mFalse\u001b[0m\u001b[0;34m)\u001b[0m\u001b[0;34m\u001b[0m\u001b[0;34m\u001b[0m\u001b[0m\n",
            "\u001b[0;32m/usr/local/lib/python3.7/dist-packages/sklearn/tree/_classes.py\u001b[0m in \u001b[0;36mfit\u001b[0;34m(self, X, y, sample_weight, check_input, X_idx_sorted)\u001b[0m\n\u001b[1;32m    940\u001b[0m             \u001b[0msample_weight\u001b[0m\u001b[0;34m=\u001b[0m\u001b[0msample_weight\u001b[0m\u001b[0;34m,\u001b[0m\u001b[0;34m\u001b[0m\u001b[0;34m\u001b[0m\u001b[0m\n\u001b[1;32m    941\u001b[0m             \u001b[0mcheck_input\u001b[0m\u001b[0;34m=\u001b[0m\u001b[0mcheck_input\u001b[0m\u001b[0;34m,\u001b[0m\u001b[0;34m\u001b[0m\u001b[0;34m\u001b[0m\u001b[0m\n\u001b[0;32m--> 942\u001b[0;31m             \u001b[0mX_idx_sorted\u001b[0m\u001b[0;34m=\u001b[0m\u001b[0mX_idx_sorted\u001b[0m\u001b[0;34m,\u001b[0m\u001b[0;34m\u001b[0m\u001b[0;34m\u001b[0m\u001b[0m\n\u001b[0m\u001b[1;32m    943\u001b[0m         )\n\u001b[1;32m    944\u001b[0m         \u001b[0;32mreturn\u001b[0m \u001b[0mself\u001b[0m\u001b[0;34m\u001b[0m\u001b[0;34m\u001b[0m\u001b[0m\n",
            "\u001b[0;32m/usr/local/lib/python3.7/dist-packages/sklearn/tree/_classes.py\u001b[0m in \u001b[0;36mfit\u001b[0;34m(self, X, y, sample_weight, check_input, X_idx_sorted)\u001b[0m\n\u001b[1;32m    418\u001b[0m             )\n\u001b[1;32m    419\u001b[0m \u001b[0;34m\u001b[0m\u001b[0m\n\u001b[0;32m--> 420\u001b[0;31m         \u001b[0mbuilder\u001b[0m\u001b[0;34m.\u001b[0m\u001b[0mbuild\u001b[0m\u001b[0;34m(\u001b[0m\u001b[0mself\u001b[0m\u001b[0;34m.\u001b[0m\u001b[0mtree_\u001b[0m\u001b[0;34m,\u001b[0m \u001b[0mX\u001b[0m\u001b[0;34m,\u001b[0m \u001b[0my\u001b[0m\u001b[0;34m,\u001b[0m \u001b[0msample_weight\u001b[0m\u001b[0;34m)\u001b[0m\u001b[0;34m\u001b[0m\u001b[0;34m\u001b[0m\u001b[0m\n\u001b[0m\u001b[1;32m    421\u001b[0m \u001b[0;34m\u001b[0m\u001b[0m\n\u001b[1;32m    422\u001b[0m         \u001b[0;32mif\u001b[0m \u001b[0mself\u001b[0m\u001b[0;34m.\u001b[0m\u001b[0mn_outputs_\u001b[0m \u001b[0;34m==\u001b[0m \u001b[0;36m1\u001b[0m \u001b[0;32mand\u001b[0m \u001b[0mis_classifier\u001b[0m\u001b[0;34m(\u001b[0m\u001b[0mself\u001b[0m\u001b[0;34m)\u001b[0m\u001b[0;34m:\u001b[0m\u001b[0;34m\u001b[0m\u001b[0;34m\u001b[0m\u001b[0m\n",
            "\u001b[0;31mKeyboardInterrupt\u001b[0m: "
          ]
        }
      ]
    },
    {
      "cell_type": "code",
      "source": [
        "pred = clf.predict(x_test)"
      ],
      "metadata": {
        "id": "iMLLnLhvVPeq"
      },
      "execution_count": null,
      "outputs": []
    },
    {
      "cell_type": "code",
      "source": [
        "from sklearn import metrics \n",
        "print(\"ACCURACY OF THE MODEL: \", metrics.accuracy_score(y_test, pred))"
      ],
      "metadata": {
        "colab": {
          "base_uri": "https://localhost:8080/"
        },
        "id": "nr0hCji9VZMI",
        "outputId": "d4a30966-eb54-4346-9a94-4b37aa4f8b9e"
      },
      "execution_count": null,
      "outputs": [
        {
          "output_type": "stream",
          "name": "stdout",
          "text": [
            "ACCURACY OF THE MODEL:  0.6957870250710778\n"
          ]
        }
      ]
    },
    {
      "cell_type": "code",
      "source": [
        "from sklearn.feature_selection import mutual_info_classif\n",
        "mi = mutual_info_classif(x_train, y_train)"
      ],
      "metadata": {
        "id": "Woap638FrJGu"
      },
      "execution_count": null,
      "outputs": []
    },
    {
      "cell_type": "code",
      "source": [
        "mi"
      ],
      "metadata": {
        "colab": {
          "base_uri": "https://localhost:8080/"
        },
        "id": "JgXsji8UrJ9G",
        "outputId": "00bebee1-b692-4d6c-ee8f-e6f31cdb14ba"
      },
      "execution_count": null,
      "outputs": [
        {
          "output_type": "execute_result",
          "data": {
            "text/plain": [
              "array([0.11063646, 0.14791513, 0.30969047, 0.85056783, 1.17458624,\n",
              "       0.02731742, 0.04800617, 0.18927021, 0.75900054, 1.09090991,\n",
              "       0.06696785, 0.11470691, 0.2494031 , 0.80043306, 1.12908627,\n",
              "       0.03376456, 0.0822191 , 0.24998556, 0.77947112, 1.08262204,\n",
              "       0.02109656, 0.06242545, 0.2121666 , 0.78410606, 1.12000708,\n",
              "       0.04122699, 0.06880631, 0.21956074, 0.81639967, 1.11710109,\n",
              "       0.07946635, 0.12754435, 0.28335824, 0.83118594, 1.14763543,\n",
              "       0.06191395, 0.10703045, 0.27610371, 0.83377211, 1.13192038,\n",
              "       0.03202989, 0.07117546, 0.21730675, 0.76892045, 1.04131529,\n",
              "       0.02487031, 0.04590294, 0.21136448, 0.78298953, 1.08983629,\n",
              "       0.05715464, 0.10813855, 0.26588262, 0.77827601, 1.08649873,\n",
              "       0.01473504, 0.0325897 , 0.16413165, 0.74613579, 1.07653673,\n",
              "       0.09650605, 0.14773077, 0.29473929, 0.84432213, 1.14774883,\n",
              "       0.0844215 , 0.14191093, 0.29316553, 0.85360392, 1.14830031,\n",
              "       0.02236452, 0.03902583, 0.17251633, 0.74792546, 1.10833621,\n",
              "       0.03730127, 0.07778166, 0.23782631, 0.79034454, 1.13877961,\n",
              "       0.05803639, 0.09998466, 0.23018807, 0.79569198, 1.12314183,\n",
              "       0.0574814 , 0.10554934, 0.24869785, 0.80088097, 1.09307231,\n",
              "       0.09389818, 0.13672712, 0.30293391, 0.83346868, 1.14274737,\n",
              "       0.07153104, 0.1221331 , 0.28120297, 0.80662421, 1.13811585,\n",
              "       0.05682097, 0.10627958, 0.26600672, 0.80371332, 1.11862295,\n",
              "       0.03574117, 0.06705227, 0.20666964, 0.77944294, 1.06233288,\n",
              "       0.02161279, 0.04252922, 0.18873402, 0.75058676, 1.0714495 ,\n",
              "       0.02950126, 0.05874627, 0.1956495 , 0.76871567, 1.06359907,\n",
              "       0.0307441 , 0.06705403, 0.21480662, 0.77218468, 1.06743546,\n",
              "       0.08593945, 0.14109179, 0.29981714, 0.83327755, 1.12441769,\n",
              "       0.04040942, 0.09421456, 0.25025686, 0.7815605 , 1.07411543,\n",
              "       0.0542365 , 0.08535672, 0.22716288, 0.7857998 , 1.06867801,\n",
              "       0.00295983, 0.02003677, 0.13042297, 0.69692737, 1.07123599,\n",
              "       0.08161088, 0.13819656, 0.29429928, 0.81661487, 1.15050912,\n",
              "       0.01384212, 0.04421311, 0.16246823, 0.74067311, 1.06051338,\n",
              "       0.13759511, 0.05011985, 0.2378451 , 0.77914213, 1.02921533])"
            ]
          },
          "metadata": {},
          "execution_count": 110
        }
      ]
    },
    {
      "cell_type": "code",
      "source": [
        "mi_score_selected_index = np.where(mi >0.1)[0]\n",
        "mi_score_selected_index"
      ],
      "metadata": {
        "colab": {
          "base_uri": "https://localhost:8080/"
        },
        "id": "QbVnNGj2sHjE",
        "outputId": "e29581ea-c4c9-48d1-ba0a-ab31b4726362"
      },
      "execution_count": null,
      "outputs": [
        {
          "output_type": "execute_result",
          "data": {
            "text/plain": [
              "array([  0,   1,   2,   3,   4,   7,   8,   9,  11,  12,  13,  14,  17,\n",
              "        18,  19,  22,  23,  24,  27,  28,  29,  31,  32,  33,  34,  36,\n",
              "        37,  38,  39,  42,  43,  44,  47,  48,  49,  51,  52,  53,  54,\n",
              "        57,  58,  59,  61,  62,  63,  64,  66,  67,  68,  69,  72,  73,\n",
              "        74,  77,  78,  79,  82,  83,  84,  86,  87,  88,  89,  91,  92,\n",
              "        93,  94,  96,  97,  98,  99, 101, 102, 103, 104, 107, 108, 109,\n",
              "       112, 113, 114, 117, 118, 119, 122, 123, 124, 126, 127, 128, 129,\n",
              "       132, 133, 134, 137, 138, 139, 142, 143, 144, 146, 147, 148, 149,\n",
              "       152, 153, 154, 155, 157, 158, 159])"
            ]
          },
          "metadata": {},
          "execution_count": 136
        }
      ]
    },
    {
      "cell_type": "code",
      "source": [
        "len(mi_score_selected_index)"
      ],
      "metadata": {
        "colab": {
          "base_uri": "https://localhost:8080/"
        },
        "id": "7IiTJ1ySsMal",
        "outputId": "44f22f2d-90d9-4dea-c180-9c91783e75c1"
      },
      "execution_count": null,
      "outputs": [
        {
          "output_type": "execute_result",
          "data": {
            "text/plain": [
              "111"
            ]
          },
          "metadata": {},
          "execution_count": 137
        }
      ]
    },
    {
      "cell_type": "code",
      "source": [
        "mi_score_selected_index = np.where(mi >0.1)[0]\n",
        "X_2 = x[:,mi_score_selected_index]\n",
        "X_train_2,X_test_2,y_train,y_test = train_test_split(\n",
        "    X_2,y_val1\n",
        "    ,random_state=0\n",
        "    ,stratify=y_val1\n",
        ")"
      ],
      "metadata": {
        "id": "o3aWn4_msTvY"
      },
      "execution_count": null,
      "outputs": []
    },
    {
      "cell_type": "code",
      "source": [
        "y_pred = clf.predict(X_test_2)"
      ],
      "metadata": {
        "id": "3LqpH-R0sgoG"
      },
      "execution_count": null,
      "outputs": []
    },
    {
      "cell_type": "code",
      "source": [
        "print(\"ACCURACY OF THE MODEL: \", metrics.accuracy_score(y_test, y_pred))"
      ],
      "metadata": {
        "colab": {
          "base_uri": "https://localhost:8080/"
        },
        "id": "6jeVZ0SHsnYQ",
        "outputId": "3d47b305-14fa-40f7-a088-b5ba8c525e32"
      },
      "execution_count": null,
      "outputs": [
        {
          "output_type": "stream",
          "name": "stdout",
          "text": [
            "ACCURACY OF THE MODEL:  0.7981113868210642\n"
          ]
        }
      ]
    },
    {
      "cell_type": "markdown",
      "source": [
        "APPROXIMATE ENTROPY"
      ],
      "metadata": {
        "id": "raYN3OrVWGwc"
      }
    },
    {
      "cell_type": "code",
      "source": [
        " # sub_bands.append(entropy(list(cA5),base=2))\n",
        "                    # sub_bands.append(entropy(list(cD5),base=2))\n",
        "                    # sub_bands.append(entropy(list(cD4),base=2))\n",
        "                    # sub_bands.append(entropy(list(cD3),base=2))\n",
        "                    # sub_bands.append(entropy(list(cD2),base=2))\n",
        "                   "
      ],
      "metadata": {
        "id": "pUDup5AuGpmU"
      },
      "execution_count": null,
      "outputs": []
    },
    {
      "cell_type": "code",
      "source": [
        "def DWT_Processing_entropy(sub, channel, band, window_size, step_size, sample_rate):\n",
        "    '''\n",
        "    arguments:  string subject\n",
        "                list channel indice\n",
        "                list band\n",
        "                int window size for FFT\n",
        "                int step size for FFT\n",
        "                int sample rate for FFT\n",
        "    return:     void\n",
        "    '''\n",
        "    meta = []\n",
        "    with open('/content/drive/My Drive/data_preprocessed_python/s' + sub + '.dat', 'rb') as file:\n",
        "\n",
        "        subject = pickle.load(file, encoding='latin1') #resolve the python 2 data problem by encoding : latin1\n",
        "\n",
        "        for i in range (0,39):\n",
        "            # loop over 0-39 trails\n",
        "            data = subject[\"data\"][i]\n",
        "            labels = subject[\"labels\"][i]\n",
        "            start = 384;\n",
        "            # print(start, data.shape[1],data.shape)\n",
        "            while start + window_size < data.shape[1]:\n",
        "                meta_array = []\n",
        "                meta_data = [] #meta vector for analysis\n",
        "                for j in channel:\n",
        "                    X = data[j][start : start + window_size] #Slice raw data over 2 sec, at interval of 0.125 sec\n",
        "                    # print(len(X),X.shape,start,start+window_size)\n",
        "                   \n",
        "                    coeffs = pywt.wavedec(X, 'db4', level=5)\n",
        "                    cA5, cD5, cD4, cD3, cD2, cD1 = coeffs\n",
        "                    sub_bands=[]\n",
        "                    \n",
        "\n",
        "                    wavelet_energy_5 = round(np.nansum((np.square(cD1))),3)\n",
        "                    wavelet_energy_4 = round(np.nansum((np.square(cD5))),3)\n",
        "                    wavelet_energy_3 = round(np.nansum((np.square(cD4))),3)\n",
        "                    wavelet_energy_2 = round(np.nansum((np.square(cD3))),3)\n",
        "                    wavelet_energy_1 = round(np.nansum((np.square(cD2))),3)\n",
        "\n",
        "                    sub_bands.append(wavelet_energy_5)\n",
        "                    sub_bands.append(wavelet_energy_4)\n",
        "                    sub_bands.append(wavelet_energy_3)\n",
        "                    sub_bands.append(wavelet_energy_2)\n",
        "                    sub_bands.append(wavelet_energy_1)\n",
        "                    \n",
        "\n",
        "                    probability_5 = np.square(cD1)\n",
        "                    shannon_entropy_5 = round(-np.nansum(probability_5 * np.log2(probability_5)),3)\n",
        "\n",
        "                    probability_4 = np.square(cD5)\n",
        "                    shannon_entropy_4 = round(-np.nansum(probability_4 * np.log2(probability_4)),3)\n",
        "\n",
        "                    probability_3 = np.square(cD4)\n",
        "                    shannon_entropy_3 = round(-np.nansum(probability_3 * np.log2(probability_3)),3)\n",
        "\n",
        "                    probability_2 = np.square(cD3)\n",
        "                    shannon_entropy_2 = round(-np.nansum(probability_2 * np.log2(probability_2)),3)\n",
        "\n",
        "\n",
        "                    probability_1 = np.square(cD2)\n",
        "                    shannon_entropy_1 = round(-np.nansum(probability_1 * np.log2(probability_1)),3)\n",
        "\n",
        "\n",
        "                    sub_bands.append(shannon_entropy_5)\n",
        "                    sub_bands.append(shannon_entropy_4)\n",
        "                    sub_bands.append(shannon_entropy_3)\n",
        "                    sub_bands.append(shannon_entropy_2)\n",
        "                    sub_bands.append(shannon_entropy_1)\n",
        "\n",
        "                    \n",
        "                    meta_data = meta_data + sub_bands\n",
        "\n",
        "                meta_array.append(np.array(meta_data))\n",
        "                meta_array.append(labels)\n",
        "                \n",
        "                meta.append(meta_array)   \n",
        "                start = start + step_size\n",
        "                # print(len(meta_array),len(meta_data))\n",
        "        meta = np.array(meta)\n",
        "        \n",
        "        np.save('/content/drive/My Drive/data_preprocessed_python/out_dwt/s' + sub, meta, allow_pickle=True, fix_imports=True)"
      ],
      "metadata": {
        "id": "o-qYxXBeWMeo"
      },
      "execution_count": 1,
      "outputs": []
    },
    {
      "cell_type": "code",
      "source": [
        ""
      ],
      "metadata": {
        "id": "Gq9dSkHXrUNy"
      },
      "execution_count": null,
      "outputs": []
    },
    {
      "cell_type": "code",
      "source": [
        "for subjects in subjectList:\n",
        "    print(subjects)\n",
        "    DWT_Processing_entropy (subjects, channel, band, window_size, step_size, sample_rate)"
      ],
      "metadata": {
        "colab": {
          "base_uri": "https://localhost:8080/"
        },
        "id": "9uS2xGEPWZc4",
        "outputId": "759c7749-69d9-4c31-deb8-8f1897cb7d64"
      },
      "execution_count": null,
      "outputs": [
        {
          "output_type": "stream",
          "name": "stdout",
          "text": [
            "01\n"
          ]
        },
        {
          "output_type": "stream",
          "name": "stderr",
          "text": [
            "/usr/local/lib/python3.7/dist-packages/ipykernel_launcher.py:79: VisibleDeprecationWarning: Creating an ndarray from ragged nested sequences (which is a list-or-tuple of lists-or-tuples-or ndarrays with different lengths or shapes) is deprecated. If you meant to do this, you must specify 'dtype=object' when creating the ndarray.\n"
          ]
        },
        {
          "output_type": "stream",
          "name": "stdout",
          "text": [
            "02\n",
            "03\n",
            "04\n",
            "05\n",
            "06\n",
            "07\n",
            "08\n",
            "09\n",
            "10\n",
            "11\n",
            "12\n",
            "13\n",
            "14\n",
            "15\n",
            "16\n",
            "17\n",
            "18\n",
            "19\n",
            "20\n",
            "21\n",
            "22\n",
            "23\n",
            "24\n",
            "25\n",
            "26\n",
            "27\n",
            "28\n",
            "29\n",
            "30\n",
            "31\n",
            "32\n"
          ]
        }
      ]
    },
    {
      "cell_type": "code",
      "source": [
        "res = []"
      ],
      "metadata": {
        "id": "B9alASi4qUwm"
      },
      "execution_count": null,
      "outputs": []
    },
    {
      "cell_type": "code",
      "source": [
        "for s in subjectList:\n",
        "  # if i <10:\n",
        "  #   s = '0'+str(i)\n",
        "  # else:\n",
        "  #   s = str(i)\n",
        "  \n",
        "  data, label = load_data([s])\n",
        "  # print(data.shape, label.shape)\n",
        "\n",
        "\n",
        "  df_emo = one_hot_encoding(label)\n",
        "  x= data\n",
        "  # print(df_emo.loc[:,0].unique())\n",
        "  r=[s,data.shape,label.shape,len(df_emo.iloc[:,0].unique())]\n",
        "  x_train, x_test, y_train, y_test = data_normalization_splitting(data, df_emo, scaling_type='SS')\n",
        "\n",
        "  # clf1, acc1 = rbf_svm(x_train, x_test, y_train, y_test)\n",
        "  # acc1 *= 100\n",
        "  # # print(acc1)\n",
        "  # r.append(acc1)\n",
        "  \n",
        "    \n",
        "  clf2, acc2 = rf(x_train, x_test, y_train, y_test, n_estimators=500)\n",
        "  acc2 *= 100\n",
        "  # print(acc2, h_acc2)\n",
        "  r.append(acc2)\n",
        "  \n",
        "      \n",
        "  clf3, acc3 = rbf_svm_c_gamma(x_train, x_test, y_train, y_test,c=1000000000, gamma='auto')\n",
        "  acc3 *= 100\n",
        "  # print(acc3, h_acc3)\n",
        "  r.append(acc3)\n",
        "  \n",
        "    \n",
        "  clf4, acc4 = knn(x_train, x_test, y_train, y_test, n_neighbours=3)\n",
        "  acc4*= 100\n",
        "  # print(acc4, h_acc4)\n",
        "  # print(acc4, h_acc4)\n",
        "  r.append(acc4)\n",
        "\n",
        "  x = data\n",
        "  y = df_emo.loc[:,0]\n",
        "  scaler = StandardScaler()\n",
        "  x = scaler.fit_transform(x)\n",
        "  x = np.reshape(x, (x.shape[0],1,x.shape[1]))\n",
        "  y = to_categorical(y)\n",
        "  n_e = y.shape[-1]\n",
        "  x_train1, x_test1, y_train1, y_test1 = train_test_split(x, y, test_size = 0.2, random_state = 4)\n",
        "  model1 = model(n_e)\n",
        "  history1 = model1.fit(x_train1, y_train1, verbose=0,epochs = 100, batch_size=100,validation_data= (x_test1, y_test1))\n",
        "  r.extend([history1.history['accuracy'][-1]*100,history1.history['val_accuracy'][-1]*100])\n",
        "\n",
        "\n",
        "  print(r)\n",
        "  res.append(r)"
      ],
      "metadata": {
        "colab": {
          "base_uri": "https://localhost:8080/"
        },
        "id": "POsTsqc8ovYH",
        "outputId": "f4ac08e5-fb04-4471-fb93-89c2f86f3204"
      },
      "execution_count": null,
      "outputs": [
        {
          "output_type": "stream",
          "name": "stdout",
          "text": [
            "['01', (4368, 140), (4368, 4), 9, 96.5675057208238, 98.39816933638444, 98.39816933638444, 99.14138317108154, 98.74141812324524]\n",
            "['02', (4368, 140), (4368, 4), 8, 90.50343249427918, 97.36842105263158, 92.33409610983982, 96.96622490882874, 96.68192267417908]\n",
            "['03', (4368, 140), (4368, 4), 7, 85.24027459954233, 97.94050343249427, 97.59725400457666, 97.7103590965271, 97.13959097862244]\n",
            "['04', (4368, 140), (4368, 4), 7, 89.58810068649885, 94.62242562929062, 89.24485125858124, 94.9055552482605, 92.67734289169312]\n",
            "['05', (4368, 140), (4368, 4), 9, 87.07093821510298, 92.21967963386729, 87.52860411899313, 94.44762468338013, 90.96109867095947]\n",
            "['06', (4368, 140), (4368, 4), 8, 93.24942791762014, 97.82608695652173, 96.33867276887872, 97.2524344921112, 96.4530885219574]\n",
            "['07', (4368, 140), (4368, 4), 9, 97.59725400457666, 99.08466819221968, 98.2837528604119, 98.74069690704346, 98.28375577926636]\n",
            "['08', (4368, 140), (4368, 4), 8, 93.7070938215103, 95.76659038901602, 93.7070938215103, 97.10932970046997, 96.10983729362488]\n",
            "['09', (4368, 140), (4368, 4), 6, 93.7070938215103, 97.25400457665904, 95.19450800915332, 98.28277230262756, 97.826087474823]\n",
            "['10', (4368, 140), (4368, 4), 8, 90.73226544622426, 93.82151029748283, 85.46910755148741, 96.82312607765198, 93.93592476844788]\n",
            "['11', (4368, 140), (4368, 4), 7, 89.7025171624714, 91.87643020594966, 84.09610983981693, 95.64968347549438, 91.99084639549255]\n",
            "['12', (4368, 140), (4368, 4), 8, 85.24027459954233, 94.39359267734554, 90.8466819221968, 95.76416611671448, 91.99084639549255]\n",
            "['13', (4368, 140), (4368, 4), 7, 86.2700228832952, 92.90617848970251, 90.61784897025171, 95.27761936187744, 91.07551574707031]\n",
            "['14', (4368, 140), (4368, 4), 9, 87.75743707093821, 93.13501144164759, 94.05034324942791, 95.73554396629333, 92.79175996780396]\n",
            "['15', (4368, 140), (4368, 4), 8, 97.36842105263158, 97.94050343249427, 95.65217391304348, 98.54035377502441, 98.16933870315552]\n",
            "['16', (4368, 140), (4368, 4), 7, 97.36842105263158, 98.2837528604119, 98.05491990846681, 98.16828966140747, 97.826087474823]\n",
            "['17', (4368, 140), (4368, 4), 9, 87.29977116704805, 94.96567505720824, 90.50343249427918, 97.02346920967102, 93.02059412002563]\n",
            "['18', (4368, 140), (4368, 4), 6, 87.29977116704805, 95.19450800915332, 96.10983981693364, 97.08070755004883, 95.30892372131348]\n",
            "['19', (4368, 140), (4368, 4), 9, 86.95652173913044, 95.53775743707094, 92.5629290617849, 97.68174290657043, 97.48283624649048]\n",
            "['20', (4368, 140), (4368, 4), 6, 88.558352402746, 95.65217391304348, 96.22425629290618, 97.4241554737091, 95.42334079742432]\n",
            "['21', (4368, 140), (4368, 4), 7, 91.07551487414187, 96.79633867276888, 97.7116704805492, 96.3079571723938, 95.0800895690918]\n",
            "['22', (4368, 140), (4368, 4), 8, 87.18535469107552, 91.30434782608695, 87.29977116704805, 93.01660060882568, 91.18993282318115]\n",
            "['23', (4368, 140), (4368, 4), 7, 95.88100686498856, 97.36842105263158, 97.48283752860412, 98.05380702018738, 97.94050455093384]\n",
            "['24', (4368, 140), (4368, 4), 8, 91.4187643020595, 95.53775743707094, 88.78718535469108, 97.05209136009216, 95.76659202575684]\n",
            "['25', (4368, 140), (4368, 4), 8, 84.21052631578947, 95.4233409610984, 91.53318077803205, 95.93589305877686, 95.0800895690918]\n",
            "['26', (4368, 140), (4368, 4), 8, 87.75743707093821, 96.45308924485126, 95.08009153318078, 96.3079571723938, 96.22425436973572]\n",
            "['27', (4368, 140), (4368, 4), 7, 92.10526315789474, 96.22425629290618, 97.25400457665904, 97.82484173774719, 97.48283624649048]\n",
            "['28', (4368, 140), (4368, 4), 9, 86.2700228832952, 94.8512585812357, 92.21967963386729, 96.1362361907959, 95.53775787353516]\n",
            "['29', (4368, 140), (4368, 4), 7, 94.73684210526315, 97.36842105263158, 94.8512585812357, 98.19691181182861, 96.91075682640076]\n",
            "['30', (4368, 140), (4368, 4), 7, 89.81693363844394, 96.68192219679635, 96.68192219679635, 97.48139381408691, 97.0251739025116]\n",
            "['31', (4368, 140), (4368, 4), 6, 88.67276887871853, 96.22425629290618, 96.22425629290618, 97.99656271934509, 96.33867144584656]\n",
            "['32', (4368, 140), (4368, 4), 8, 94.8512585812357, 98.2837528604119, 95.4233409610984, 97.82484173774719, 97.13959097862244]\n"
          ]
        }
      ]
    },
    {
      "cell_type": "code",
      "source": [
        "df1 = pd.DataFrame(res,columns=['Subject','Shape of Data','Shape of Label','Len of Emotion','RF','RBF SVM WITH C AND GAMMA','KNN','Training ACC','Testing Acc'])"
      ],
      "metadata": {
        "id": "yNWYC9BUsrkJ"
      },
      "execution_count": null,
      "outputs": []
    },
    {
      "cell_type": "code",
      "source": [
        "df1.to_csv('/content/drive/My Drive/data_preprocessed_python/dwt_results1.csv')"
      ],
      "metadata": {
        "id": "feqUGu3Iswv0"
      },
      "execution_count": null,
      "outputs": []
    },
    {
      "cell_type": "code",
      "source": [
        "def load_data(subjectList):\n",
        "  data= []\n",
        "  label = []\n",
        "  for subjects in subjectList:\n",
        "    \n",
        "\n",
        "      with open('/content/drive/My Drive/data_preprocessed_python/out_dwt/s' + subjects + '.npy', 'rb') as file:\n",
        "          sub = np.load(file,allow_pickle=True)\n",
        "          for i in range (0,sub.shape[0]):\n",
        "            data.append(sub[i][0])\n",
        "            label.append(sub[i][1])\n",
        "  data=pd.DataFrame(data=data)\n",
        "\n",
        "\n",
        "  label=pd.DataFrame(data=label)\n",
        "  return data, label"
      ],
      "metadata": {
        "id": "SIDJJUA2WwKG"
      },
      "execution_count": null,
      "outputs": []
    },
    {
      "cell_type": "code",
      "source": [
        "import numpy as np\n",
        "from sklearn.preprocessing import StandardScaler\n",
        "from sklearn.model_selection import train_test_split\n",
        "import pickle as pickle\n",
        "import pandas as pd\n",
        "import pyeeg as pe\n",
        "\n",
        "\n",
        "from sklearn import svm\n",
        "from sklearn import metrics\n",
        "from sklearn.ensemble import RandomForestClassifier\n",
        "from sklearn.neighbors import KNeighborsClassifier"
      ],
      "metadata": {
        "id": "k0A_4wsuoc17"
      },
      "execution_count": null,
      "outputs": []
    },
    {
      "cell_type": "code",
      "source": [
        "df_emo = one_hot_encoding(df_emo)"
      ],
      "metadata": {
        "id": "sOAM959WYHjm"
      },
      "execution_count": null,
      "outputs": []
    },
    {
      "cell_type": "code",
      "source": [
        "def data_normalization_splitting(data, emo, scaling_type='SS'):\n",
        "  from sklearn.preprocessing import MinMaxScaler\n",
        "  if scaling_type == 'SS':\n",
        "    x = data\n",
        "    scaler = StandardScaler()\n",
        "    x = scaler.fit_transform(x)\n",
        "  elif scaling_type == 'MM':\n",
        "    x = data\n",
        "    scaler = MinMaxScaler(feature_range=(0.1,1))\n",
        "    x = scaler.fit_transform(x)\n",
        "  x_train, x_test, y_train, y_test = train_test_split(x,emo.loc[:,0] ,test_size = 0.2, random_state = 4)\n",
        "  # print(x_train.shape)\n",
        "  # print(y_train.shape)\n",
        "  # print(x_test.shape)\n",
        "  # print(y_test.shape)\n",
        "  return x_train, x_test, y_train, y_test"
      ],
      "metadata": {
        "id": "0WnGu9eJoaDN"
      },
      "execution_count": null,
      "outputs": []
    },
    {
      "cell_type": "code",
      "source": [
        "def rf(x_train, x_test, y_train, y_test, n_estimators=100):\n",
        "\n",
        "  clf = RandomForestClassifier(n_estimators = n_estimators) \n",
        "  clf.fit(x_train, y_train)\n",
        "  pred = clf.predict(x_test)\n",
        "  acc = metrics.accuracy_score(y_test, pred)\n",
        "  # print(\"ACCURACY OF THE MODEL: \", acc)\n",
        "  # print(n_estimators)\n",
        "  return clf, acc"
      ],
      "metadata": {
        "id": "JB3psM9nofpz"
      },
      "execution_count": null,
      "outputs": []
    },
    {
      "cell_type": "code",
      "source": [
        "def rbf_svm_c_gamma(x_train, x_test, y_train, y_test, c=10, gamma=0.1):\n",
        "  \n",
        "  clf = svm.SVC(kernel='rbf',C=c,gamma=gamma)\n",
        "  clf.fit(x_train,y_train)\n",
        "\n",
        "  pred = clf.predict(x_test)\n",
        "  acc = metrics.accuracy_score(y_test, pred)\n",
        "  # print(\"ACCURACY OF THE MODEL: \", acc)\n",
        "  # print(c, gamma)\n",
        "  return clf, acc"
      ],
      "metadata": {
        "id": "kgJJmclgomNl"
      },
      "execution_count": null,
      "outputs": []
    },
    {
      "cell_type": "code",
      "source": [
        "def knn(x_train, x_test, y_train, y_test,n_neighbours):\n",
        "  knn = KNeighborsClassifier(n_neighbors=n_neighbours)\n",
        "  knn.fit(x_train, y_train)\n",
        "  pred=knn.predict(x_test)\n",
        "  acc = metrics.accuracy_score(y_test, pred)\n",
        "  # print(\"ACCURACY OF THE MODEL: \", acc)\n",
        "  # print(n_neighbours)\n",
        "  return knn, acc"
      ],
      "metadata": {
        "id": "U_5L-n-NoqSf"
      },
      "execution_count": null,
      "outputs": []
    },
    {
      "cell_type": "code",
      "source": [
        "df=pd.DataFrame(data=data)\n",
        "df.to_csv(\"data.csv\",index=False)\n",
        "\n",
        "df1=pd.DataFrame(data=label)\n",
        "df1.to_csv(\"label.csv\",index=False)\n"
      ],
      "metadata": {
        "id": "Gz027t6PW0bN"
      },
      "execution_count": null,
      "outputs": []
    },
    {
      "cell_type": "code",
      "source": [
        "# data1_entropy=pd.read_csv(\"/content/data.csv\")\n",
        "data1_entropy"
      ],
      "metadata": {
        "colab": {
          "base_uri": "https://localhost:8080/",
          "height": 488
        },
        "id": "6XDMgQviW322",
        "outputId": "a4b8bc34-e184-4d55-da67-ccc444f9abc0"
      },
      "execution_count": null,
      "outputs": [
        {
          "output_type": "execute_result",
          "data": {
            "text/plain": [
              "           0       1        2        3        4         5           6    \\\n",
              "0     -205.131  29.660  154.719  259.473  362.868 -1169.730   -1041.354   \n",
              "1     -234.613  25.231  145.892  247.715  353.166 -1138.658    -897.989   \n",
              "2     -250.029  23.942  122.067  292.603  339.017  -977.010    -846.159   \n",
              "3     -216.749  -5.620  141.763  268.273  354.749  -977.902    -336.653   \n",
              "4     -336.732  57.597  165.338  274.692  337.115  -787.727   -2805.591   \n",
              "...        ...     ...      ...      ...      ...       ...         ...   \n",
              "73627  -75.427  40.195  129.176  280.797  348.046 -1951.129   -1188.582   \n",
              "73628  -39.230  76.293  160.092  301.315  326.666 -2416.606 -184427.302   \n",
              "73629  -12.499  74.754  197.912  287.443  344.026 -2521.795  -29901.600   \n",
              "73630   62.068  75.344  223.953  276.545  355.696 -2993.412  -31004.052   \n",
              "73631  106.927  68.890  243.688  257.603  321.803 -3303.330  -31306.014   \n",
              "\n",
              "              7          8          9    ...      130     131      132  \\\n",
              "0      -14662.929 -22090.936 -16884.911  ... -230.028  49.904  149.865   \n",
              "1      -15974.497 -29124.434 -16328.726  ... -256.163  19.307  108.772   \n",
              "2      -14634.260 -32012.392 -14130.204  ... -220.920  26.751  103.103   \n",
              "3      -14918.861 -33764.844 -16152.267  ... -189.929  32.855  112.770   \n",
              "4      -52994.410 -32926.678 -15142.425  ... -102.065  35.091  131.599   \n",
              "...           ...        ...        ...  ...      ...     ...      ...   \n",
              "73627  -15233.332 -32505.413 -13762.698  ...  478.534  64.717  143.216   \n",
              "73628 -112278.662 -77698.809 -13240.116  ...  386.739  65.394  199.306   \n",
              "73629 -141821.385 -57219.074 -14035.473  ...  314.532  99.254  225.440   \n",
              "73630 -178624.037 -60605.323 -16879.425  ...  325.500  92.174  240.990   \n",
              "73631 -177315.855 -54235.592 -13530.799  ...  297.171  92.886  236.819   \n",
              "\n",
              "           133      134        135         136         137        138  \\\n",
              "0      278.426  212.191  -1087.062   -1528.815  -13329.425 -25006.013   \n",
              "1      252.551  232.647  -1072.062    -762.185   -8272.015 -24342.362   \n",
              "2      228.774  201.566  -1228.796   -1134.732   -9350.085 -21215.502   \n",
              "3      245.595  214.327  -1267.772    -992.850  -10101.325 -19247.617   \n",
              "4      241.851  264.985  -1399.458    -952.676  -10545.935 -22255.538   \n",
              "...        ...      ...        ...         ...         ...        ...   \n",
              "73627  294.199  441.341 -13530.770   -5451.149  -25789.681 -33892.126   \n",
              "73628  300.632  448.465 -11070.716  -19223.450  -49579.163 -49097.389   \n",
              "73629  331.131  449.496 -10921.068 -118404.975 -340450.790 -74021.377   \n",
              "73630  340.197  464.394 -10219.049  -82246.603 -363145.447 -86393.300   \n",
              "73631  335.817  433.672 -10370.287  -82042.878 -366345.361 -88463.339   \n",
              "\n",
              "             139  \n",
              "0     -10990.786  \n",
              "1     -10050.078  \n",
              "2      -8137.998  \n",
              "3      -7152.777  \n",
              "4      -7078.084  \n",
              "...          ...  \n",
              "73627 -30989.900  \n",
              "73628 -29253.593  \n",
              "73629 -33823.634  \n",
              "73630 -38630.069  \n",
              "73631 -32118.261  \n",
              "\n",
              "[73632 rows x 140 columns]"
            ],
            "text/html": [
              "\n",
              "  <div id=\"df-9de83140-7e35-4d4a-9ce1-7f34b4cfcc78\">\n",
              "    <div class=\"colab-df-container\">\n",
              "      <div>\n",
              "<style scoped>\n",
              "    .dataframe tbody tr th:only-of-type {\n",
              "        vertical-align: middle;\n",
              "    }\n",
              "\n",
              "    .dataframe tbody tr th {\n",
              "        vertical-align: top;\n",
              "    }\n",
              "\n",
              "    .dataframe thead th {\n",
              "        text-align: right;\n",
              "    }\n",
              "</style>\n",
              "<table border=\"1\" class=\"dataframe\">\n",
              "  <thead>\n",
              "    <tr style=\"text-align: right;\">\n",
              "      <th></th>\n",
              "      <th>0</th>\n",
              "      <th>1</th>\n",
              "      <th>2</th>\n",
              "      <th>3</th>\n",
              "      <th>4</th>\n",
              "      <th>5</th>\n",
              "      <th>6</th>\n",
              "      <th>7</th>\n",
              "      <th>8</th>\n",
              "      <th>9</th>\n",
              "      <th>...</th>\n",
              "      <th>130</th>\n",
              "      <th>131</th>\n",
              "      <th>132</th>\n",
              "      <th>133</th>\n",
              "      <th>134</th>\n",
              "      <th>135</th>\n",
              "      <th>136</th>\n",
              "      <th>137</th>\n",
              "      <th>138</th>\n",
              "      <th>139</th>\n",
              "    </tr>\n",
              "  </thead>\n",
              "  <tbody>\n",
              "    <tr>\n",
              "      <th>0</th>\n",
              "      <td>-205.131</td>\n",
              "      <td>29.660</td>\n",
              "      <td>154.719</td>\n",
              "      <td>259.473</td>\n",
              "      <td>362.868</td>\n",
              "      <td>-1169.730</td>\n",
              "      <td>-1041.354</td>\n",
              "      <td>-14662.929</td>\n",
              "      <td>-22090.936</td>\n",
              "      <td>-16884.911</td>\n",
              "      <td>...</td>\n",
              "      <td>-230.028</td>\n",
              "      <td>49.904</td>\n",
              "      <td>149.865</td>\n",
              "      <td>278.426</td>\n",
              "      <td>212.191</td>\n",
              "      <td>-1087.062</td>\n",
              "      <td>-1528.815</td>\n",
              "      <td>-13329.425</td>\n",
              "      <td>-25006.013</td>\n",
              "      <td>-10990.786</td>\n",
              "    </tr>\n",
              "    <tr>\n",
              "      <th>1</th>\n",
              "      <td>-234.613</td>\n",
              "      <td>25.231</td>\n",
              "      <td>145.892</td>\n",
              "      <td>247.715</td>\n",
              "      <td>353.166</td>\n",
              "      <td>-1138.658</td>\n",
              "      <td>-897.989</td>\n",
              "      <td>-15974.497</td>\n",
              "      <td>-29124.434</td>\n",
              "      <td>-16328.726</td>\n",
              "      <td>...</td>\n",
              "      <td>-256.163</td>\n",
              "      <td>19.307</td>\n",
              "      <td>108.772</td>\n",
              "      <td>252.551</td>\n",
              "      <td>232.647</td>\n",
              "      <td>-1072.062</td>\n",
              "      <td>-762.185</td>\n",
              "      <td>-8272.015</td>\n",
              "      <td>-24342.362</td>\n",
              "      <td>-10050.078</td>\n",
              "    </tr>\n",
              "    <tr>\n",
              "      <th>2</th>\n",
              "      <td>-250.029</td>\n",
              "      <td>23.942</td>\n",
              "      <td>122.067</td>\n",
              "      <td>292.603</td>\n",
              "      <td>339.017</td>\n",
              "      <td>-977.010</td>\n",
              "      <td>-846.159</td>\n",
              "      <td>-14634.260</td>\n",
              "      <td>-32012.392</td>\n",
              "      <td>-14130.204</td>\n",
              "      <td>...</td>\n",
              "      <td>-220.920</td>\n",
              "      <td>26.751</td>\n",
              "      <td>103.103</td>\n",
              "      <td>228.774</td>\n",
              "      <td>201.566</td>\n",
              "      <td>-1228.796</td>\n",
              "      <td>-1134.732</td>\n",
              "      <td>-9350.085</td>\n",
              "      <td>-21215.502</td>\n",
              "      <td>-8137.998</td>\n",
              "    </tr>\n",
              "    <tr>\n",
              "      <th>3</th>\n",
              "      <td>-216.749</td>\n",
              "      <td>-5.620</td>\n",
              "      <td>141.763</td>\n",
              "      <td>268.273</td>\n",
              "      <td>354.749</td>\n",
              "      <td>-977.902</td>\n",
              "      <td>-336.653</td>\n",
              "      <td>-14918.861</td>\n",
              "      <td>-33764.844</td>\n",
              "      <td>-16152.267</td>\n",
              "      <td>...</td>\n",
              "      <td>-189.929</td>\n",
              "      <td>32.855</td>\n",
              "      <td>112.770</td>\n",
              "      <td>245.595</td>\n",
              "      <td>214.327</td>\n",
              "      <td>-1267.772</td>\n",
              "      <td>-992.850</td>\n",
              "      <td>-10101.325</td>\n",
              "      <td>-19247.617</td>\n",
              "      <td>-7152.777</td>\n",
              "    </tr>\n",
              "    <tr>\n",
              "      <th>4</th>\n",
              "      <td>-336.732</td>\n",
              "      <td>57.597</td>\n",
              "      <td>165.338</td>\n",
              "      <td>274.692</td>\n",
              "      <td>337.115</td>\n",
              "      <td>-787.727</td>\n",
              "      <td>-2805.591</td>\n",
              "      <td>-52994.410</td>\n",
              "      <td>-32926.678</td>\n",
              "      <td>-15142.425</td>\n",
              "      <td>...</td>\n",
              "      <td>-102.065</td>\n",
              "      <td>35.091</td>\n",
              "      <td>131.599</td>\n",
              "      <td>241.851</td>\n",
              "      <td>264.985</td>\n",
              "      <td>-1399.458</td>\n",
              "      <td>-952.676</td>\n",
              "      <td>-10545.935</td>\n",
              "      <td>-22255.538</td>\n",
              "      <td>-7078.084</td>\n",
              "    </tr>\n",
              "    <tr>\n",
              "      <th>...</th>\n",
              "      <td>...</td>\n",
              "      <td>...</td>\n",
              "      <td>...</td>\n",
              "      <td>...</td>\n",
              "      <td>...</td>\n",
              "      <td>...</td>\n",
              "      <td>...</td>\n",
              "      <td>...</td>\n",
              "      <td>...</td>\n",
              "      <td>...</td>\n",
              "      <td>...</td>\n",
              "      <td>...</td>\n",
              "      <td>...</td>\n",
              "      <td>...</td>\n",
              "      <td>...</td>\n",
              "      <td>...</td>\n",
              "      <td>...</td>\n",
              "      <td>...</td>\n",
              "      <td>...</td>\n",
              "      <td>...</td>\n",
              "      <td>...</td>\n",
              "    </tr>\n",
              "    <tr>\n",
              "      <th>73627</th>\n",
              "      <td>-75.427</td>\n",
              "      <td>40.195</td>\n",
              "      <td>129.176</td>\n",
              "      <td>280.797</td>\n",
              "      <td>348.046</td>\n",
              "      <td>-1951.129</td>\n",
              "      <td>-1188.582</td>\n",
              "      <td>-15233.332</td>\n",
              "      <td>-32505.413</td>\n",
              "      <td>-13762.698</td>\n",
              "      <td>...</td>\n",
              "      <td>478.534</td>\n",
              "      <td>64.717</td>\n",
              "      <td>143.216</td>\n",
              "      <td>294.199</td>\n",
              "      <td>441.341</td>\n",
              "      <td>-13530.770</td>\n",
              "      <td>-5451.149</td>\n",
              "      <td>-25789.681</td>\n",
              "      <td>-33892.126</td>\n",
              "      <td>-30989.900</td>\n",
              "    </tr>\n",
              "    <tr>\n",
              "      <th>73628</th>\n",
              "      <td>-39.230</td>\n",
              "      <td>76.293</td>\n",
              "      <td>160.092</td>\n",
              "      <td>301.315</td>\n",
              "      <td>326.666</td>\n",
              "      <td>-2416.606</td>\n",
              "      <td>-184427.302</td>\n",
              "      <td>-112278.662</td>\n",
              "      <td>-77698.809</td>\n",
              "      <td>-13240.116</td>\n",
              "      <td>...</td>\n",
              "      <td>386.739</td>\n",
              "      <td>65.394</td>\n",
              "      <td>199.306</td>\n",
              "      <td>300.632</td>\n",
              "      <td>448.465</td>\n",
              "      <td>-11070.716</td>\n",
              "      <td>-19223.450</td>\n",
              "      <td>-49579.163</td>\n",
              "      <td>-49097.389</td>\n",
              "      <td>-29253.593</td>\n",
              "    </tr>\n",
              "    <tr>\n",
              "      <th>73629</th>\n",
              "      <td>-12.499</td>\n",
              "      <td>74.754</td>\n",
              "      <td>197.912</td>\n",
              "      <td>287.443</td>\n",
              "      <td>344.026</td>\n",
              "      <td>-2521.795</td>\n",
              "      <td>-29901.600</td>\n",
              "      <td>-141821.385</td>\n",
              "      <td>-57219.074</td>\n",
              "      <td>-14035.473</td>\n",
              "      <td>...</td>\n",
              "      <td>314.532</td>\n",
              "      <td>99.254</td>\n",
              "      <td>225.440</td>\n",
              "      <td>331.131</td>\n",
              "      <td>449.496</td>\n",
              "      <td>-10921.068</td>\n",
              "      <td>-118404.975</td>\n",
              "      <td>-340450.790</td>\n",
              "      <td>-74021.377</td>\n",
              "      <td>-33823.634</td>\n",
              "    </tr>\n",
              "    <tr>\n",
              "      <th>73630</th>\n",
              "      <td>62.068</td>\n",
              "      <td>75.344</td>\n",
              "      <td>223.953</td>\n",
              "      <td>276.545</td>\n",
              "      <td>355.696</td>\n",
              "      <td>-2993.412</td>\n",
              "      <td>-31004.052</td>\n",
              "      <td>-178624.037</td>\n",
              "      <td>-60605.323</td>\n",
              "      <td>-16879.425</td>\n",
              "      <td>...</td>\n",
              "      <td>325.500</td>\n",
              "      <td>92.174</td>\n",
              "      <td>240.990</td>\n",
              "      <td>340.197</td>\n",
              "      <td>464.394</td>\n",
              "      <td>-10219.049</td>\n",
              "      <td>-82246.603</td>\n",
              "      <td>-363145.447</td>\n",
              "      <td>-86393.300</td>\n",
              "      <td>-38630.069</td>\n",
              "    </tr>\n",
              "    <tr>\n",
              "      <th>73631</th>\n",
              "      <td>106.927</td>\n",
              "      <td>68.890</td>\n",
              "      <td>243.688</td>\n",
              "      <td>257.603</td>\n",
              "      <td>321.803</td>\n",
              "      <td>-3303.330</td>\n",
              "      <td>-31306.014</td>\n",
              "      <td>-177315.855</td>\n",
              "      <td>-54235.592</td>\n",
              "      <td>-13530.799</td>\n",
              "      <td>...</td>\n",
              "      <td>297.171</td>\n",
              "      <td>92.886</td>\n",
              "      <td>236.819</td>\n",
              "      <td>335.817</td>\n",
              "      <td>433.672</td>\n",
              "      <td>-10370.287</td>\n",
              "      <td>-82042.878</td>\n",
              "      <td>-366345.361</td>\n",
              "      <td>-88463.339</td>\n",
              "      <td>-32118.261</td>\n",
              "    </tr>\n",
              "  </tbody>\n",
              "</table>\n",
              "<p>73632 rows × 140 columns</p>\n",
              "</div>\n",
              "      <button class=\"colab-df-convert\" onclick=\"convertToInteractive('df-9de83140-7e35-4d4a-9ce1-7f34b4cfcc78')\"\n",
              "              title=\"Convert this dataframe to an interactive table.\"\n",
              "              style=\"display:none;\">\n",
              "        \n",
              "  <svg xmlns=\"http://www.w3.org/2000/svg\" height=\"24px\"viewBox=\"0 0 24 24\"\n",
              "       width=\"24px\">\n",
              "    <path d=\"M0 0h24v24H0V0z\" fill=\"none\"/>\n",
              "    <path d=\"M18.56 5.44l.94 2.06.94-2.06 2.06-.94-2.06-.94-.94-2.06-.94 2.06-2.06.94zm-11 1L8.5 8.5l.94-2.06 2.06-.94-2.06-.94L8.5 2.5l-.94 2.06-2.06.94zm10 10l.94 2.06.94-2.06 2.06-.94-2.06-.94-.94-2.06-.94 2.06-2.06.94z\"/><path d=\"M17.41 7.96l-1.37-1.37c-.4-.4-.92-.59-1.43-.59-.52 0-1.04.2-1.43.59L10.3 9.45l-7.72 7.72c-.78.78-.78 2.05 0 2.83L4 21.41c.39.39.9.59 1.41.59.51 0 1.02-.2 1.41-.59l7.78-7.78 2.81-2.81c.8-.78.8-2.07 0-2.86zM5.41 20L4 18.59l7.72-7.72 1.47 1.35L5.41 20z\"/>\n",
              "  </svg>\n",
              "      </button>\n",
              "      \n",
              "  <style>\n",
              "    .colab-df-container {\n",
              "      display:flex;\n",
              "      flex-wrap:wrap;\n",
              "      gap: 12px;\n",
              "    }\n",
              "\n",
              "    .colab-df-convert {\n",
              "      background-color: #E8F0FE;\n",
              "      border: none;\n",
              "      border-radius: 50%;\n",
              "      cursor: pointer;\n",
              "      display: none;\n",
              "      fill: #1967D2;\n",
              "      height: 32px;\n",
              "      padding: 0 0 0 0;\n",
              "      width: 32px;\n",
              "    }\n",
              "\n",
              "    .colab-df-convert:hover {\n",
              "      background-color: #E2EBFA;\n",
              "      box-shadow: 0px 1px 2px rgba(60, 64, 67, 0.3), 0px 1px 3px 1px rgba(60, 64, 67, 0.15);\n",
              "      fill: #174EA6;\n",
              "    }\n",
              "\n",
              "    [theme=dark] .colab-df-convert {\n",
              "      background-color: #3B4455;\n",
              "      fill: #D2E3FC;\n",
              "    }\n",
              "\n",
              "    [theme=dark] .colab-df-convert:hover {\n",
              "      background-color: #434B5C;\n",
              "      box-shadow: 0px 1px 3px 1px rgba(0, 0, 0, 0.15);\n",
              "      filter: drop-shadow(0px 1px 2px rgba(0, 0, 0, 0.3));\n",
              "      fill: #FFFFFF;\n",
              "    }\n",
              "  </style>\n",
              "\n",
              "      <script>\n",
              "        const buttonEl =\n",
              "          document.querySelector('#df-9de83140-7e35-4d4a-9ce1-7f34b4cfcc78 button.colab-df-convert');\n",
              "        buttonEl.style.display =\n",
              "          google.colab.kernel.accessAllowed ? 'block' : 'none';\n",
              "\n",
              "        async function convertToInteractive(key) {\n",
              "          const element = document.querySelector('#df-9de83140-7e35-4d4a-9ce1-7f34b4cfcc78');\n",
              "          const dataTable =\n",
              "            await google.colab.kernel.invokeFunction('convertToInteractive',\n",
              "                                                     [key], {});\n",
              "          if (!dataTable) return;\n",
              "\n",
              "          const docLinkHtml = 'Like what you see? Visit the ' +\n",
              "            '<a target=\"_blank\" href=https://colab.research.google.com/notebooks/data_table.ipynb>data table notebook</a>'\n",
              "            + ' to learn more about interactive tables.';\n",
              "          element.innerHTML = '';\n",
              "          dataTable['output_type'] = 'display_data';\n",
              "          await google.colab.output.renderOutput(dataTable, element);\n",
              "          const docLink = document.createElement('div');\n",
              "          docLink.innerHTML = docLinkHtml;\n",
              "          element.appendChild(docLink);\n",
              "        }\n",
              "      </script>\n",
              "    </div>\n",
              "  </div>\n",
              "  "
            ]
          },
          "metadata": {},
          "execution_count": 27
        }
      ]
    },
    {
      "cell_type": "markdown",
      "source": [
        ""
      ],
      "metadata": {
        "id": "phw0ITR5XIof"
      }
    },
    {
      "cell_type": "code",
      "source": [
        "label1=pd.read_csv(\"/content/label.csv\")\n",
        "label1"
      ],
      "metadata": {
        "colab": {
          "base_uri": "https://localhost:8080/",
          "height": 424
        },
        "id": "cChyieZLqJfk",
        "outputId": "2e4556ff-bf72-4a2a-9e6b-e5f15f00b519"
      },
      "execution_count": null,
      "outputs": [
        {
          "output_type": "execute_result",
          "data": {
            "text/plain": [
              "          0     1     2     3\n",
              "0      7.71  7.60  6.90  7.83\n",
              "1      7.71  7.60  6.90  7.83\n",
              "2      7.71  7.60  6.90  7.83\n",
              "3      7.71  7.60  6.90  7.83\n",
              "4      7.71  7.60  6.90  7.83\n",
              "...     ...   ...   ...   ...\n",
              "18403  1.04  3.06  2.05  2.06\n",
              "18404  1.04  3.06  2.05  2.06\n",
              "18405  1.04  3.06  2.05  2.06\n",
              "18406  1.04  3.06  2.05  2.06\n",
              "18407  1.04  3.06  2.05  2.06\n",
              "\n",
              "[18408 rows x 4 columns]"
            ],
            "text/html": [
              "\n",
              "  <div id=\"df-c969ee16-b81d-4015-a11b-120211a30dde\">\n",
              "    <div class=\"colab-df-container\">\n",
              "      <div>\n",
              "<style scoped>\n",
              "    .dataframe tbody tr th:only-of-type {\n",
              "        vertical-align: middle;\n",
              "    }\n",
              "\n",
              "    .dataframe tbody tr th {\n",
              "        vertical-align: top;\n",
              "    }\n",
              "\n",
              "    .dataframe thead th {\n",
              "        text-align: right;\n",
              "    }\n",
              "</style>\n",
              "<table border=\"1\" class=\"dataframe\">\n",
              "  <thead>\n",
              "    <tr style=\"text-align: right;\">\n",
              "      <th></th>\n",
              "      <th>0</th>\n",
              "      <th>1</th>\n",
              "      <th>2</th>\n",
              "      <th>3</th>\n",
              "    </tr>\n",
              "  </thead>\n",
              "  <tbody>\n",
              "    <tr>\n",
              "      <th>0</th>\n",
              "      <td>7.71</td>\n",
              "      <td>7.60</td>\n",
              "      <td>6.90</td>\n",
              "      <td>7.83</td>\n",
              "    </tr>\n",
              "    <tr>\n",
              "      <th>1</th>\n",
              "      <td>7.71</td>\n",
              "      <td>7.60</td>\n",
              "      <td>6.90</td>\n",
              "      <td>7.83</td>\n",
              "    </tr>\n",
              "    <tr>\n",
              "      <th>2</th>\n",
              "      <td>7.71</td>\n",
              "      <td>7.60</td>\n",
              "      <td>6.90</td>\n",
              "      <td>7.83</td>\n",
              "    </tr>\n",
              "    <tr>\n",
              "      <th>3</th>\n",
              "      <td>7.71</td>\n",
              "      <td>7.60</td>\n",
              "      <td>6.90</td>\n",
              "      <td>7.83</td>\n",
              "    </tr>\n",
              "    <tr>\n",
              "      <th>4</th>\n",
              "      <td>7.71</td>\n",
              "      <td>7.60</td>\n",
              "      <td>6.90</td>\n",
              "      <td>7.83</td>\n",
              "    </tr>\n",
              "    <tr>\n",
              "      <th>...</th>\n",
              "      <td>...</td>\n",
              "      <td>...</td>\n",
              "      <td>...</td>\n",
              "      <td>...</td>\n",
              "    </tr>\n",
              "    <tr>\n",
              "      <th>18403</th>\n",
              "      <td>1.04</td>\n",
              "      <td>3.06</td>\n",
              "      <td>2.05</td>\n",
              "      <td>2.06</td>\n",
              "    </tr>\n",
              "    <tr>\n",
              "      <th>18404</th>\n",
              "      <td>1.04</td>\n",
              "      <td>3.06</td>\n",
              "      <td>2.05</td>\n",
              "      <td>2.06</td>\n",
              "    </tr>\n",
              "    <tr>\n",
              "      <th>18405</th>\n",
              "      <td>1.04</td>\n",
              "      <td>3.06</td>\n",
              "      <td>2.05</td>\n",
              "      <td>2.06</td>\n",
              "    </tr>\n",
              "    <tr>\n",
              "      <th>18406</th>\n",
              "      <td>1.04</td>\n",
              "      <td>3.06</td>\n",
              "      <td>2.05</td>\n",
              "      <td>2.06</td>\n",
              "    </tr>\n",
              "    <tr>\n",
              "      <th>18407</th>\n",
              "      <td>1.04</td>\n",
              "      <td>3.06</td>\n",
              "      <td>2.05</td>\n",
              "      <td>2.06</td>\n",
              "    </tr>\n",
              "  </tbody>\n",
              "</table>\n",
              "<p>18408 rows × 4 columns</p>\n",
              "</div>\n",
              "      <button class=\"colab-df-convert\" onclick=\"convertToInteractive('df-c969ee16-b81d-4015-a11b-120211a30dde')\"\n",
              "              title=\"Convert this dataframe to an interactive table.\"\n",
              "              style=\"display:none;\">\n",
              "        \n",
              "  <svg xmlns=\"http://www.w3.org/2000/svg\" height=\"24px\"viewBox=\"0 0 24 24\"\n",
              "       width=\"24px\">\n",
              "    <path d=\"M0 0h24v24H0V0z\" fill=\"none\"/>\n",
              "    <path d=\"M18.56 5.44l.94 2.06.94-2.06 2.06-.94-2.06-.94-.94-2.06-.94 2.06-2.06.94zm-11 1L8.5 8.5l.94-2.06 2.06-.94-2.06-.94L8.5 2.5l-.94 2.06-2.06.94zm10 10l.94 2.06.94-2.06 2.06-.94-2.06-.94-.94-2.06-.94 2.06-2.06.94z\"/><path d=\"M17.41 7.96l-1.37-1.37c-.4-.4-.92-.59-1.43-.59-.52 0-1.04.2-1.43.59L10.3 9.45l-7.72 7.72c-.78.78-.78 2.05 0 2.83L4 21.41c.39.39.9.59 1.41.59.51 0 1.02-.2 1.41-.59l7.78-7.78 2.81-2.81c.8-.78.8-2.07 0-2.86zM5.41 20L4 18.59l7.72-7.72 1.47 1.35L5.41 20z\"/>\n",
              "  </svg>\n",
              "      </button>\n",
              "      \n",
              "  <style>\n",
              "    .colab-df-container {\n",
              "      display:flex;\n",
              "      flex-wrap:wrap;\n",
              "      gap: 12px;\n",
              "    }\n",
              "\n",
              "    .colab-df-convert {\n",
              "      background-color: #E8F0FE;\n",
              "      border: none;\n",
              "      border-radius: 50%;\n",
              "      cursor: pointer;\n",
              "      display: none;\n",
              "      fill: #1967D2;\n",
              "      height: 32px;\n",
              "      padding: 0 0 0 0;\n",
              "      width: 32px;\n",
              "    }\n",
              "\n",
              "    .colab-df-convert:hover {\n",
              "      background-color: #E2EBFA;\n",
              "      box-shadow: 0px 1px 2px rgba(60, 64, 67, 0.3), 0px 1px 3px 1px rgba(60, 64, 67, 0.15);\n",
              "      fill: #174EA6;\n",
              "    }\n",
              "\n",
              "    [theme=dark] .colab-df-convert {\n",
              "      background-color: #3B4455;\n",
              "      fill: #D2E3FC;\n",
              "    }\n",
              "\n",
              "    [theme=dark] .colab-df-convert:hover {\n",
              "      background-color: #434B5C;\n",
              "      box-shadow: 0px 1px 3px 1px rgba(0, 0, 0, 0.15);\n",
              "      filter: drop-shadow(0px 1px 2px rgba(0, 0, 0, 0.3));\n",
              "      fill: #FFFFFF;\n",
              "    }\n",
              "  </style>\n",
              "\n",
              "      <script>\n",
              "        const buttonEl =\n",
              "          document.querySelector('#df-c969ee16-b81d-4015-a11b-120211a30dde button.colab-df-convert');\n",
              "        buttonEl.style.display =\n",
              "          google.colab.kernel.accessAllowed ? 'block' : 'none';\n",
              "\n",
              "        async function convertToInteractive(key) {\n",
              "          const element = document.querySelector('#df-c969ee16-b81d-4015-a11b-120211a30dde');\n",
              "          const dataTable =\n",
              "            await google.colab.kernel.invokeFunction('convertToInteractive',\n",
              "                                                     [key], {});\n",
              "          if (!dataTable) return;\n",
              "\n",
              "          const docLinkHtml = 'Like what you see? Visit the ' +\n",
              "            '<a target=\"_blank\" href=https://colab.research.google.com/notebooks/data_table.ipynb>data table notebook</a>'\n",
              "            + ' to learn more about interactive tables.';\n",
              "          element.innerHTML = '';\n",
              "          dataTable['output_type'] = 'display_data';\n",
              "          await google.colab.output.renderOutput(dataTable, element);\n",
              "          const docLink = document.createElement('div');\n",
              "          docLink.innerHTML = docLinkHtml;\n",
              "          element.appendChild(docLink);\n",
              "        }\n",
              "      </script>\n",
              "    </div>\n",
              "  </div>\n",
              "  "
            ]
          },
          "metadata": {},
          "execution_count": 35
        }
      ]
    },
    {
      "cell_type": "code",
      "source": [
        "data1_entropy.describe()"
      ],
      "metadata": {
        "colab": {
          "base_uri": "https://localhost:8080/",
          "height": 394
        },
        "id": "bg1ckMwaSYqS",
        "outputId": "4b232965-c8ca-453f-9f62-f98036989bd8"
      },
      "execution_count": null,
      "outputs": [
        {
          "output_type": "execute_result",
          "data": {
            "text/plain": [
              "                  0             1             2             3             4  \\\n",
              "count  58032.000000  58032.000000  58032.000000  58032.000000  58032.000000   \n",
              "mean      44.794427     35.278440     36.393500     34.976120     33.991438   \n",
              "std       57.440906     47.196879     43.821501     43.037462     42.917577   \n",
              "min     -199.954286   -199.849961   -199.866897   -199.905094   -199.982577   \n",
              "25%       24.639543     17.169117     21.047934     18.996502     18.397688   \n",
              "50%       49.172517     37.368159     38.149068     36.597365     35.139922   \n",
              "75%       73.664158     57.238248     55.801664     54.188043     52.654801   \n",
              "max      199.979946    199.992927    199.869906    199.971554    199.976344   \n",
              "\n",
              "                  5             6             7             8             9  \\\n",
              "count  58032.000000  58032.000000  58032.000000  58032.000000  58032.000000   \n",
              "mean      34.060151     33.429103     34.279809     33.421971     33.739732   \n",
              "std       42.349426     42.280961     41.760354     42.457945     42.174414   \n",
              "min     -199.964742   -199.923968   -199.992371   -199.973238   -199.954390   \n",
              "25%       18.456030     17.106186     18.425950     17.144016     17.948789   \n",
              "50%       35.283959     34.252623     35.398931     34.457521     34.771206   \n",
              "75%       52.656505     52.218588     52.851824     52.093559     52.245142   \n",
              "max      199.887986    199.999356    199.989822    199.974953    199.822048   \n",
              "\n",
              "       ...          1768          1769          1770          1771  \\\n",
              "count  ...  58032.000000  58032.000000  58032.000000  58032.000000   \n",
              "mean   ...     38.629658     38.376281     39.036390     38.393784   \n",
              "std    ...     47.084911     47.444587     46.902199     47.401613   \n",
              "min    ...   -199.965845   -199.804498   -199.718363   -199.954095   \n",
              "25%    ...     21.801751     20.953067     22.459022     21.278507   \n",
              "50%    ...     40.731334     40.464305     41.187698     40.472048   \n",
              "75%    ...     60.046492     60.217544     60.229259     59.812859   \n",
              "max    ...    199.981842    199.960123    199.969649    199.984506   \n",
              "\n",
              "               1772          1773          1774          1775          1776  \\\n",
              "count  58032.000000  58032.000000  58032.000000  58032.000000  58032.000000   \n",
              "mean      39.324107     38.126456     39.707302     40.800197     41.220606   \n",
              "std       46.382964     47.725551     47.806058     49.296466     51.721213   \n",
              "min     -199.902838   -199.854065   -199.984476   -199.692025   -199.906787   \n",
              "25%       22.822974     21.270446     23.011440     23.922287     22.197184   \n",
              "50%       41.418457     40.394415     42.136750     43.524501     44.450592   \n",
              "75%       60.320848     59.893600     61.672175     63.402582     66.143789   \n",
              "max      199.808764    199.832492    199.969191    199.949491    199.981097   \n",
              "\n",
              "               1777  \n",
              "count  58032.000000  \n",
              "mean      48.726032  \n",
              "std       60.861274  \n",
              "min     -199.976722  \n",
              "25%       28.473234  \n",
              "50%       54.311366  \n",
              "75%       80.155434  \n",
              "max      199.962106  \n",
              "\n",
              "[8 rows x 1778 columns]"
            ],
            "text/html": [
              "\n",
              "  <div id=\"df-513059c8-d873-48d6-bb6c-24d94975911c\">\n",
              "    <div class=\"colab-df-container\">\n",
              "      <div>\n",
              "<style scoped>\n",
              "    .dataframe tbody tr th:only-of-type {\n",
              "        vertical-align: middle;\n",
              "    }\n",
              "\n",
              "    .dataframe tbody tr th {\n",
              "        vertical-align: top;\n",
              "    }\n",
              "\n",
              "    .dataframe thead th {\n",
              "        text-align: right;\n",
              "    }\n",
              "</style>\n",
              "<table border=\"1\" class=\"dataframe\">\n",
              "  <thead>\n",
              "    <tr style=\"text-align: right;\">\n",
              "      <th></th>\n",
              "      <th>0</th>\n",
              "      <th>1</th>\n",
              "      <th>2</th>\n",
              "      <th>3</th>\n",
              "      <th>4</th>\n",
              "      <th>5</th>\n",
              "      <th>6</th>\n",
              "      <th>7</th>\n",
              "      <th>8</th>\n",
              "      <th>9</th>\n",
              "      <th>...</th>\n",
              "      <th>1768</th>\n",
              "      <th>1769</th>\n",
              "      <th>1770</th>\n",
              "      <th>1771</th>\n",
              "      <th>1772</th>\n",
              "      <th>1773</th>\n",
              "      <th>1774</th>\n",
              "      <th>1775</th>\n",
              "      <th>1776</th>\n",
              "      <th>1777</th>\n",
              "    </tr>\n",
              "  </thead>\n",
              "  <tbody>\n",
              "    <tr>\n",
              "      <th>count</th>\n",
              "      <td>58032.000000</td>\n",
              "      <td>58032.000000</td>\n",
              "      <td>58032.000000</td>\n",
              "      <td>58032.000000</td>\n",
              "      <td>58032.000000</td>\n",
              "      <td>58032.000000</td>\n",
              "      <td>58032.000000</td>\n",
              "      <td>58032.000000</td>\n",
              "      <td>58032.000000</td>\n",
              "      <td>58032.000000</td>\n",
              "      <td>...</td>\n",
              "      <td>58032.000000</td>\n",
              "      <td>58032.000000</td>\n",
              "      <td>58032.000000</td>\n",
              "      <td>58032.000000</td>\n",
              "      <td>58032.000000</td>\n",
              "      <td>58032.000000</td>\n",
              "      <td>58032.000000</td>\n",
              "      <td>58032.000000</td>\n",
              "      <td>58032.000000</td>\n",
              "      <td>58032.000000</td>\n",
              "    </tr>\n",
              "    <tr>\n",
              "      <th>mean</th>\n",
              "      <td>44.794427</td>\n",
              "      <td>35.278440</td>\n",
              "      <td>36.393500</td>\n",
              "      <td>34.976120</td>\n",
              "      <td>33.991438</td>\n",
              "      <td>34.060151</td>\n",
              "      <td>33.429103</td>\n",
              "      <td>34.279809</td>\n",
              "      <td>33.421971</td>\n",
              "      <td>33.739732</td>\n",
              "      <td>...</td>\n",
              "      <td>38.629658</td>\n",
              "      <td>38.376281</td>\n",
              "      <td>39.036390</td>\n",
              "      <td>38.393784</td>\n",
              "      <td>39.324107</td>\n",
              "      <td>38.126456</td>\n",
              "      <td>39.707302</td>\n",
              "      <td>40.800197</td>\n",
              "      <td>41.220606</td>\n",
              "      <td>48.726032</td>\n",
              "    </tr>\n",
              "    <tr>\n",
              "      <th>std</th>\n",
              "      <td>57.440906</td>\n",
              "      <td>47.196879</td>\n",
              "      <td>43.821501</td>\n",
              "      <td>43.037462</td>\n",
              "      <td>42.917577</td>\n",
              "      <td>42.349426</td>\n",
              "      <td>42.280961</td>\n",
              "      <td>41.760354</td>\n",
              "      <td>42.457945</td>\n",
              "      <td>42.174414</td>\n",
              "      <td>...</td>\n",
              "      <td>47.084911</td>\n",
              "      <td>47.444587</td>\n",
              "      <td>46.902199</td>\n",
              "      <td>47.401613</td>\n",
              "      <td>46.382964</td>\n",
              "      <td>47.725551</td>\n",
              "      <td>47.806058</td>\n",
              "      <td>49.296466</td>\n",
              "      <td>51.721213</td>\n",
              "      <td>60.861274</td>\n",
              "    </tr>\n",
              "    <tr>\n",
              "      <th>min</th>\n",
              "      <td>-199.954286</td>\n",
              "      <td>-199.849961</td>\n",
              "      <td>-199.866897</td>\n",
              "      <td>-199.905094</td>\n",
              "      <td>-199.982577</td>\n",
              "      <td>-199.964742</td>\n",
              "      <td>-199.923968</td>\n",
              "      <td>-199.992371</td>\n",
              "      <td>-199.973238</td>\n",
              "      <td>-199.954390</td>\n",
              "      <td>...</td>\n",
              "      <td>-199.965845</td>\n",
              "      <td>-199.804498</td>\n",
              "      <td>-199.718363</td>\n",
              "      <td>-199.954095</td>\n",
              "      <td>-199.902838</td>\n",
              "      <td>-199.854065</td>\n",
              "      <td>-199.984476</td>\n",
              "      <td>-199.692025</td>\n",
              "      <td>-199.906787</td>\n",
              "      <td>-199.976722</td>\n",
              "    </tr>\n",
              "    <tr>\n",
              "      <th>25%</th>\n",
              "      <td>24.639543</td>\n",
              "      <td>17.169117</td>\n",
              "      <td>21.047934</td>\n",
              "      <td>18.996502</td>\n",
              "      <td>18.397688</td>\n",
              "      <td>18.456030</td>\n",
              "      <td>17.106186</td>\n",
              "      <td>18.425950</td>\n",
              "      <td>17.144016</td>\n",
              "      <td>17.948789</td>\n",
              "      <td>...</td>\n",
              "      <td>21.801751</td>\n",
              "      <td>20.953067</td>\n",
              "      <td>22.459022</td>\n",
              "      <td>21.278507</td>\n",
              "      <td>22.822974</td>\n",
              "      <td>21.270446</td>\n",
              "      <td>23.011440</td>\n",
              "      <td>23.922287</td>\n",
              "      <td>22.197184</td>\n",
              "      <td>28.473234</td>\n",
              "    </tr>\n",
              "    <tr>\n",
              "      <th>50%</th>\n",
              "      <td>49.172517</td>\n",
              "      <td>37.368159</td>\n",
              "      <td>38.149068</td>\n",
              "      <td>36.597365</td>\n",
              "      <td>35.139922</td>\n",
              "      <td>35.283959</td>\n",
              "      <td>34.252623</td>\n",
              "      <td>35.398931</td>\n",
              "      <td>34.457521</td>\n",
              "      <td>34.771206</td>\n",
              "      <td>...</td>\n",
              "      <td>40.731334</td>\n",
              "      <td>40.464305</td>\n",
              "      <td>41.187698</td>\n",
              "      <td>40.472048</td>\n",
              "      <td>41.418457</td>\n",
              "      <td>40.394415</td>\n",
              "      <td>42.136750</td>\n",
              "      <td>43.524501</td>\n",
              "      <td>44.450592</td>\n",
              "      <td>54.311366</td>\n",
              "    </tr>\n",
              "    <tr>\n",
              "      <th>75%</th>\n",
              "      <td>73.664158</td>\n",
              "      <td>57.238248</td>\n",
              "      <td>55.801664</td>\n",
              "      <td>54.188043</td>\n",
              "      <td>52.654801</td>\n",
              "      <td>52.656505</td>\n",
              "      <td>52.218588</td>\n",
              "      <td>52.851824</td>\n",
              "      <td>52.093559</td>\n",
              "      <td>52.245142</td>\n",
              "      <td>...</td>\n",
              "      <td>60.046492</td>\n",
              "      <td>60.217544</td>\n",
              "      <td>60.229259</td>\n",
              "      <td>59.812859</td>\n",
              "      <td>60.320848</td>\n",
              "      <td>59.893600</td>\n",
              "      <td>61.672175</td>\n",
              "      <td>63.402582</td>\n",
              "      <td>66.143789</td>\n",
              "      <td>80.155434</td>\n",
              "    </tr>\n",
              "    <tr>\n",
              "      <th>max</th>\n",
              "      <td>199.979946</td>\n",
              "      <td>199.992927</td>\n",
              "      <td>199.869906</td>\n",
              "      <td>199.971554</td>\n",
              "      <td>199.976344</td>\n",
              "      <td>199.887986</td>\n",
              "      <td>199.999356</td>\n",
              "      <td>199.989822</td>\n",
              "      <td>199.974953</td>\n",
              "      <td>199.822048</td>\n",
              "      <td>...</td>\n",
              "      <td>199.981842</td>\n",
              "      <td>199.960123</td>\n",
              "      <td>199.969649</td>\n",
              "      <td>199.984506</td>\n",
              "      <td>199.808764</td>\n",
              "      <td>199.832492</td>\n",
              "      <td>199.969191</td>\n",
              "      <td>199.949491</td>\n",
              "      <td>199.981097</td>\n",
              "      <td>199.962106</td>\n",
              "    </tr>\n",
              "  </tbody>\n",
              "</table>\n",
              "<p>8 rows × 1778 columns</p>\n",
              "</div>\n",
              "      <button class=\"colab-df-convert\" onclick=\"convertToInteractive('df-513059c8-d873-48d6-bb6c-24d94975911c')\"\n",
              "              title=\"Convert this dataframe to an interactive table.\"\n",
              "              style=\"display:none;\">\n",
              "        \n",
              "  <svg xmlns=\"http://www.w3.org/2000/svg\" height=\"24px\"viewBox=\"0 0 24 24\"\n",
              "       width=\"24px\">\n",
              "    <path d=\"M0 0h24v24H0V0z\" fill=\"none\"/>\n",
              "    <path d=\"M18.56 5.44l.94 2.06.94-2.06 2.06-.94-2.06-.94-.94-2.06-.94 2.06-2.06.94zm-11 1L8.5 8.5l.94-2.06 2.06-.94-2.06-.94L8.5 2.5l-.94 2.06-2.06.94zm10 10l.94 2.06.94-2.06 2.06-.94-2.06-.94-.94-2.06-.94 2.06-2.06.94z\"/><path d=\"M17.41 7.96l-1.37-1.37c-.4-.4-.92-.59-1.43-.59-.52 0-1.04.2-1.43.59L10.3 9.45l-7.72 7.72c-.78.78-.78 2.05 0 2.83L4 21.41c.39.39.9.59 1.41.59.51 0 1.02-.2 1.41-.59l7.78-7.78 2.81-2.81c.8-.78.8-2.07 0-2.86zM5.41 20L4 18.59l7.72-7.72 1.47 1.35L5.41 20z\"/>\n",
              "  </svg>\n",
              "      </button>\n",
              "      \n",
              "  <style>\n",
              "    .colab-df-container {\n",
              "      display:flex;\n",
              "      flex-wrap:wrap;\n",
              "      gap: 12px;\n",
              "    }\n",
              "\n",
              "    .colab-df-convert {\n",
              "      background-color: #E8F0FE;\n",
              "      border: none;\n",
              "      border-radius: 50%;\n",
              "      cursor: pointer;\n",
              "      display: none;\n",
              "      fill: #1967D2;\n",
              "      height: 32px;\n",
              "      padding: 0 0 0 0;\n",
              "      width: 32px;\n",
              "    }\n",
              "\n",
              "    .colab-df-convert:hover {\n",
              "      background-color: #E2EBFA;\n",
              "      box-shadow: 0px 1px 2px rgba(60, 64, 67, 0.3), 0px 1px 3px 1px rgba(60, 64, 67, 0.15);\n",
              "      fill: #174EA6;\n",
              "    }\n",
              "\n",
              "    [theme=dark] .colab-df-convert {\n",
              "      background-color: #3B4455;\n",
              "      fill: #D2E3FC;\n",
              "    }\n",
              "\n",
              "    [theme=dark] .colab-df-convert:hover {\n",
              "      background-color: #434B5C;\n",
              "      box-shadow: 0px 1px 3px 1px rgba(0, 0, 0, 0.15);\n",
              "      filter: drop-shadow(0px 1px 2px rgba(0, 0, 0, 0.3));\n",
              "      fill: #FFFFFF;\n",
              "    }\n",
              "  </style>\n",
              "\n",
              "      <script>\n",
              "        const buttonEl =\n",
              "          document.querySelector('#df-513059c8-d873-48d6-bb6c-24d94975911c button.colab-df-convert');\n",
              "        buttonEl.style.display =\n",
              "          google.colab.kernel.accessAllowed ? 'block' : 'none';\n",
              "\n",
              "        async function convertToInteractive(key) {\n",
              "          const element = document.querySelector('#df-513059c8-d873-48d6-bb6c-24d94975911c');\n",
              "          const dataTable =\n",
              "            await google.colab.kernel.invokeFunction('convertToInteractive',\n",
              "                                                     [key], {});\n",
              "          if (!dataTable) return;\n",
              "\n",
              "          const docLinkHtml = 'Like what you see? Visit the ' +\n",
              "            '<a target=\"_blank\" href=https://colab.research.google.com/notebooks/data_table.ipynb>data table notebook</a>'\n",
              "            + ' to learn more about interactive tables.';\n",
              "          element.innerHTML = '';\n",
              "          dataTable['output_type'] = 'display_data';\n",
              "          await google.colab.output.renderOutput(dataTable, element);\n",
              "          const docLink = document.createElement('div');\n",
              "          docLink.innerHTML = docLinkHtml;\n",
              "          element.appendChild(docLink);\n",
              "        }\n",
              "      </script>\n",
              "    </div>\n",
              "  </div>\n",
              "  "
            ]
          },
          "metadata": {},
          "execution_count": 18
        }
      ]
    },
    {
      "cell_type": "code",
      "source": [
        "x=data1_entropy.values"
      ],
      "metadata": {
        "id": "6Gfe93kwqPw9"
      },
      "execution_count": null,
      "outputs": []
    },
    {
      "cell_type": "code",
      "source": [
        "from sklearn.preprocessing import StandardScaler\n",
        "scaler = StandardScaler()\n",
        "scaler.fit(x)\n",
        "x = scaler.transform(x)"
      ],
      "metadata": {
        "id": "7-yr-mOQqXJu"
      },
      "execution_count": null,
      "outputs": []
    },
    {
      "cell_type": "code",
      "source": [
        "from sklearn.preprocessing import MinMaxScaler\n",
        "x = data\n",
        "scaler = MinMaxScaler(feature_range=(0.1,1))\n",
        "x = scaler.fit_transform(x)"
      ],
      "metadata": {
        "id": "XdYFZlqDHNqw"
      },
      "execution_count": null,
      "outputs": []
    },
    {
      "cell_type": "code",
      "source": [
        "x"
      ],
      "metadata": {
        "colab": {
          "base_uri": "https://localhost:8080/"
        },
        "id": "Iv-qxsOHqdtX",
        "outputId": "f81d39db-6cbb-4041-b1e7-c1302ba5242d"
      },
      "execution_count": null,
      "outputs": [
        {
          "output_type": "execute_result",
          "data": {
            "text/plain": [
              "array([[-4.38872321e-02, -3.85601502e-01,  1.71185593e-01, ...,\n",
              "         1.76615901e-01,  3.20309731e-01,  1.92066759e-01],\n",
              "       [-1.28879801e-01, -1.04820320e-01,  2.90797856e-01, ...,\n",
              "         1.71956573e-01,  3.52360812e-01,  9.96112706e-02],\n",
              "       [-2.90800553e-01, -4.01973141e-01,  2.48443990e-01, ...,\n",
              "         1.76807176e-01,  3.53813386e-01,  2.18431166e-02],\n",
              "       ...,\n",
              "       [-1.65120460e+00, -2.51975581e-01, -3.72453277e-01, ...,\n",
              "        -3.02759954e-02, -1.43441567e+00,  1.31170594e-01],\n",
              "       [-1.14353364e+00, -6.89694632e-02, -4.67863331e-01, ...,\n",
              "        -1.12597127e-03, -1.72972863e+00, -2.46554912e-02],\n",
              "       [-1.28220621e+00, -9.07068510e-01, -6.19777735e-01, ...,\n",
              "         1.02896696e-01, -1.37003371e+00,  2.22168324e-01]])"
            ]
          },
          "metadata": {},
          "execution_count": 22
        }
      ]
    },
    {
      "cell_type": "code",
      "source": [
        "y_val=label1.loc[:,'0']"
      ],
      "metadata": {
        "id": "IkbZwARFjqDx"
      },
      "execution_count": null,
      "outputs": []
    },
    {
      "cell_type": "code",
      "source": [
        "df_emo"
      ],
      "metadata": {
        "id": "LkaoBftQj6DA",
        "colab": {
          "base_uri": "https://localhost:8080/",
          "height": 423
        },
        "outputId": "e0ed11cb-c42f-4400-9684-792da8859f26"
      },
      "execution_count": null,
      "outputs": [
        {
          "output_type": "execute_result",
          "data": {
            "text/plain": [
              "       0\n",
              "0      8\n",
              "1      8\n",
              "2      8\n",
              "3      8\n",
              "4      8\n",
              "...   ..\n",
              "57091  4\n",
              "57092  4\n",
              "57093  4\n",
              "57094  4\n",
              "57095  4\n",
              "\n",
              "[57096 rows x 1 columns]"
            ],
            "text/html": [
              "\n",
              "  <div id=\"df-d3b7831a-2f86-465a-ae54-f342769613cf\">\n",
              "    <div class=\"colab-df-container\">\n",
              "      <div>\n",
              "<style scoped>\n",
              "    .dataframe tbody tr th:only-of-type {\n",
              "        vertical-align: middle;\n",
              "    }\n",
              "\n",
              "    .dataframe tbody tr th {\n",
              "        vertical-align: top;\n",
              "    }\n",
              "\n",
              "    .dataframe thead th {\n",
              "        text-align: right;\n",
              "    }\n",
              "</style>\n",
              "<table border=\"1\" class=\"dataframe\">\n",
              "  <thead>\n",
              "    <tr style=\"text-align: right;\">\n",
              "      <th></th>\n",
              "      <th>0</th>\n",
              "    </tr>\n",
              "  </thead>\n",
              "  <tbody>\n",
              "    <tr>\n",
              "      <th>0</th>\n",
              "      <td>8</td>\n",
              "    </tr>\n",
              "    <tr>\n",
              "      <th>1</th>\n",
              "      <td>8</td>\n",
              "    </tr>\n",
              "    <tr>\n",
              "      <th>2</th>\n",
              "      <td>8</td>\n",
              "    </tr>\n",
              "    <tr>\n",
              "      <th>3</th>\n",
              "      <td>8</td>\n",
              "    </tr>\n",
              "    <tr>\n",
              "      <th>4</th>\n",
              "      <td>8</td>\n",
              "    </tr>\n",
              "    <tr>\n",
              "      <th>...</th>\n",
              "      <td>...</td>\n",
              "    </tr>\n",
              "    <tr>\n",
              "      <th>57091</th>\n",
              "      <td>4</td>\n",
              "    </tr>\n",
              "    <tr>\n",
              "      <th>57092</th>\n",
              "      <td>4</td>\n",
              "    </tr>\n",
              "    <tr>\n",
              "      <th>57093</th>\n",
              "      <td>4</td>\n",
              "    </tr>\n",
              "    <tr>\n",
              "      <th>57094</th>\n",
              "      <td>4</td>\n",
              "    </tr>\n",
              "    <tr>\n",
              "      <th>57095</th>\n",
              "      <td>4</td>\n",
              "    </tr>\n",
              "  </tbody>\n",
              "</table>\n",
              "<p>57096 rows × 1 columns</p>\n",
              "</div>\n",
              "      <button class=\"colab-df-convert\" onclick=\"convertToInteractive('df-d3b7831a-2f86-465a-ae54-f342769613cf')\"\n",
              "              title=\"Convert this dataframe to an interactive table.\"\n",
              "              style=\"display:none;\">\n",
              "        \n",
              "  <svg xmlns=\"http://www.w3.org/2000/svg\" height=\"24px\"viewBox=\"0 0 24 24\"\n",
              "       width=\"24px\">\n",
              "    <path d=\"M0 0h24v24H0V0z\" fill=\"none\"/>\n",
              "    <path d=\"M18.56 5.44l.94 2.06.94-2.06 2.06-.94-2.06-.94-.94-2.06-.94 2.06-2.06.94zm-11 1L8.5 8.5l.94-2.06 2.06-.94-2.06-.94L8.5 2.5l-.94 2.06-2.06.94zm10 10l.94 2.06.94-2.06 2.06-.94-2.06-.94-.94-2.06-.94 2.06-2.06.94z\"/><path d=\"M17.41 7.96l-1.37-1.37c-.4-.4-.92-.59-1.43-.59-.52 0-1.04.2-1.43.59L10.3 9.45l-7.72 7.72c-.78.78-.78 2.05 0 2.83L4 21.41c.39.39.9.59 1.41.59.51 0 1.02-.2 1.41-.59l7.78-7.78 2.81-2.81c.8-.78.8-2.07 0-2.86zM5.41 20L4 18.59l7.72-7.72 1.47 1.35L5.41 20z\"/>\n",
              "  </svg>\n",
              "      </button>\n",
              "      \n",
              "  <style>\n",
              "    .colab-df-container {\n",
              "      display:flex;\n",
              "      flex-wrap:wrap;\n",
              "      gap: 12px;\n",
              "    }\n",
              "\n",
              "    .colab-df-convert {\n",
              "      background-color: #E8F0FE;\n",
              "      border: none;\n",
              "      border-radius: 50%;\n",
              "      cursor: pointer;\n",
              "      display: none;\n",
              "      fill: #1967D2;\n",
              "      height: 32px;\n",
              "      padding: 0 0 0 0;\n",
              "      width: 32px;\n",
              "    }\n",
              "\n",
              "    .colab-df-convert:hover {\n",
              "      background-color: #E2EBFA;\n",
              "      box-shadow: 0px 1px 2px rgba(60, 64, 67, 0.3), 0px 1px 3px 1px rgba(60, 64, 67, 0.15);\n",
              "      fill: #174EA6;\n",
              "    }\n",
              "\n",
              "    [theme=dark] .colab-df-convert {\n",
              "      background-color: #3B4455;\n",
              "      fill: #D2E3FC;\n",
              "    }\n",
              "\n",
              "    [theme=dark] .colab-df-convert:hover {\n",
              "      background-color: #434B5C;\n",
              "      box-shadow: 0px 1px 3px 1px rgba(0, 0, 0, 0.15);\n",
              "      filter: drop-shadow(0px 1px 2px rgba(0, 0, 0, 0.3));\n",
              "      fill: #FFFFFF;\n",
              "    }\n",
              "  </style>\n",
              "\n",
              "      <script>\n",
              "        const buttonEl =\n",
              "          document.querySelector('#df-d3b7831a-2f86-465a-ae54-f342769613cf button.colab-df-convert');\n",
              "        buttonEl.style.display =\n",
              "          google.colab.kernel.accessAllowed ? 'block' : 'none';\n",
              "\n",
              "        async function convertToInteractive(key) {\n",
              "          const element = document.querySelector('#df-d3b7831a-2f86-465a-ae54-f342769613cf');\n",
              "          const dataTable =\n",
              "            await google.colab.kernel.invokeFunction('convertToInteractive',\n",
              "                                                     [key], {});\n",
              "          if (!dataTable) return;\n",
              "\n",
              "          const docLinkHtml = 'Like what you see? Visit the ' +\n",
              "            '<a target=\"_blank\" href=https://colab.research.google.com/notebooks/data_table.ipynb>data table notebook</a>'\n",
              "            + ' to learn more about interactive tables.';\n",
              "          element.innerHTML = '';\n",
              "          dataTable['output_type'] = 'display_data';\n",
              "          await google.colab.output.renderOutput(dataTable, element);\n",
              "          const docLink = document.createElement('div');\n",
              "          docLink.innerHTML = docLinkHtml;\n",
              "          element.appendChild(docLink);\n",
              "        }\n",
              "      </script>\n",
              "    </div>\n",
              "  </div>\n",
              "  "
            ]
          },
          "metadata": {},
          "execution_count": 18
        }
      ]
    },
    {
      "cell_type": "code",
      "source": [
        "from sklearn.model_selection import train_test_split\n",
        "x_train, x_test, y_train, y_test = train_test_split(x, df_emo.loc[:,0], test_size = 0.2, random_state = 4)"
      ],
      "metadata": {
        "id": "Nknod54_kEi7"
      },
      "execution_count": null,
      "outputs": []
    },
    {
      "cell_type": "code",
      "source": [
        "from sklearn.feature_selection import mutual_info_classif\n",
        "mi = mutual_info_classif(x_train, y_train)\n",
        "mi"
      ],
      "metadata": {
        "colab": {
          "base_uri": "https://localhost:8080/"
        },
        "id": "ohXMC7HqjygH",
        "outputId": "af1e7412-3242-40aa-e43a-e8065f6dc3cc"
      },
      "execution_count": null,
      "outputs": [
        {
          "output_type": "execute_result",
          "data": {
            "text/plain": [
              "array([0.13784498, 0.05238666, 0.05617204, 0.048967  , 0.08193195,\n",
              "       0.16878933, 0.05761893, 0.0714634 , 0.067463  , 0.11241976,\n",
              "       0.18472008, 0.10628711, 0.11649723, 0.11176052, 0.15894041,\n",
              "       0.21754353, 0.11879561, 0.12981255, 0.1467053 , 0.17987834,\n",
              "       0.22719313, 0.08659282, 0.09927478, 0.06380033, 0.17156371,\n",
              "       0.25474908, 0.10416469, 0.1156059 , 0.10152211, 0.17645169,\n",
              "       0.21599133, 0.07074261, 0.08735547, 0.11532656, 0.18996857,\n",
              "       0.23642732, 0.07737553, 0.10341586, 0.12276499, 0.18739663,\n",
              "       0.2257161 , 0.12819594, 0.14620909, 0.15803061, 0.22869967,\n",
              "       0.25137822, 0.13396186, 0.15642674, 0.15948816, 0.2348137 ,\n",
              "       0.21624218, 0.11792567, 0.11196423, 0.07967171, 0.18583517,\n",
              "       0.25111746, 0.12839288, 0.14022272, 0.10477953, 0.20093606,\n",
              "       0.21469996, 0.04965505, 0.05161778, 0.01427573, 0.12256866,\n",
              "       0.23697442, 0.05623525, 0.07024886, 0.03393266, 0.14833893,\n",
              "       0.21320982, 0.10404716, 0.10124946, 0.08521085, 0.14184472,\n",
              "       0.2367981 , 0.11287059, 0.11140579, 0.10591844, 0.15870309,\n",
              "       0.30525511, 0.12855246, 0.13607396, 0.11360894, 0.22795735,\n",
              "       0.32640304, 0.13992713, 0.15494106, 0.13619531, 0.24547285,\n",
              "       0.09753575, 0.05908896, 0.05852723, 0.0386735 , 0.0286746 ,\n",
              "       0.11453394, 0.06500564, 0.07136864, 0.05249593, 0.04764623,\n",
              "       0.12815425, 0.05983567, 0.06646177, 0.04770228, 0.07004639,\n",
              "       0.15345809, 0.07919703, 0.08123304, 0.06586737, 0.09312852,\n",
              "       0.2046162 , 0.08729613, 0.10018232, 0.0717478 , 0.12780133,\n",
              "       0.22412035, 0.1163638 , 0.12887934, 0.10418728, 0.14908672,\n",
              "       0.20823902, 0.08612835, 0.09493102, 0.07848438, 0.11800414,\n",
              "       0.25038387, 0.09529488, 0.10079094, 0.10309004, 0.14392862,\n",
              "       0.09638026, 0.02211652, 0.02044114, 0.00789378, 0.0276203 ,\n",
              "       0.13148337, 0.03153133, 0.03961882, 0.02289278, 0.04198283])"
            ]
          },
          "metadata": {},
          "execution_count": 110
        }
      ]
    },
    {
      "cell_type": "code",
      "source": [
        "from sklearn.feature_selection import mutual_info_classif\n",
        "mi = mutual_info_classif(x_train, y_train)\n",
        "mi"
      ],
      "metadata": {
        "colab": {
          "base_uri": "https://localhost:8080/"
        },
        "id": "bMjll8vkfPk9",
        "outputId": "2982b7a7-1519-40bb-b75a-9b11af213827"
      },
      "execution_count": null,
      "outputs": [
        {
          "output_type": "execute_result",
          "data": {
            "text/plain": [
              "array([0.18245158, 0.07577648, 0.08007573, 0.07491224, 0.12574949,\n",
              "       0.22424584, 0.08917837, 0.1301442 , 0.11845228, 0.16467103,\n",
              "       0.24107932, 0.14091362, 0.15121544, 0.1633928 , 0.19925094,\n",
              "       0.2702708 , 0.15733937, 0.19282157, 0.20501694, 0.21213836,\n",
              "       0.27777475, 0.11720053, 0.11437038, 0.08938374, 0.23025038,\n",
              "       0.29796358, 0.14752967, 0.19843041, 0.15454812, 0.21743671,\n",
              "       0.25372687, 0.09043834, 0.12009119, 0.16243257, 0.20271189,\n",
              "       0.27781374, 0.11062043, 0.15092558, 0.17334437, 0.21407999,\n",
              "       0.26645293, 0.15307932, 0.16738574, 0.18645464, 0.27189834,\n",
              "       0.2965462 , 0.16730472, 0.2137341 , 0.20153028, 0.26276544,\n",
              "       0.26043499, 0.15223022, 0.15575921, 0.12052634, 0.22788296,\n",
              "       0.29018599, 0.17476941, 0.21148574, 0.17266043, 0.23430986,\n",
              "       0.25398636, 0.07117692, 0.07898398, 0.02587207, 0.16682467,\n",
              "       0.28885617, 0.07971076, 0.11970147, 0.06551318, 0.17760164,\n",
              "       0.2739448 , 0.13005955, 0.12578579, 0.11503772, 0.17998773,\n",
              "       0.29657294, 0.14448446, 0.16254149, 0.16577333, 0.19950158,\n",
              "       0.3557805 , 0.16723835, 0.17942532, 0.15973326, 0.31332062,\n",
              "       0.38223866, 0.18925002, 0.23667903, 0.20005943, 0.31362985,\n",
              "       0.12947157, 0.08474951, 0.08085862, 0.06331925, 0.03493948,\n",
              "       0.15898202, 0.10269365, 0.13291087, 0.09788447, 0.06923632,\n",
              "       0.16218902, 0.0937947 , 0.09395731, 0.06560892, 0.10119499,\n",
              "       0.18518462, 0.11041804, 0.15165674, 0.11506495, 0.12738073,\n",
              "       0.25508983, 0.12683264, 0.13187768, 0.09740661, 0.16394894,\n",
              "       0.27292318, 0.15095431, 0.19580397, 0.15711134, 0.17770426,\n",
              "       0.27195727, 0.11450355, 0.11316282, 0.10912698, 0.1684489 ,\n",
              "       0.31389821, 0.12940784, 0.16898683, 0.14983189, 0.18875039,\n",
              "       0.14336821, 0.04141579, 0.03454208, 0.00966046, 0.04757745,\n",
              "       0.17494529, 0.05360557, 0.07909403, 0.04512035, 0.07598486])"
            ]
          },
          "metadata": {},
          "execution_count": 80
        }
      ]
    },
    {
      "cell_type": "code",
      "source": [
        "from sklearn.feature_selection import mutual_info_classif\n",
        "mi = mutual_info_classif(x_train, y_train)\n",
        "mi"
      ],
      "metadata": {
        "colab": {
          "base_uri": "https://localhost:8080/"
        },
        "id": "vOIbHFwjMhY0",
        "outputId": "599a6cd9-1b7b-46d5-d4b9-072eadd35c16"
      },
      "execution_count": null,
      "outputs": [
        {
          "output_type": "execute_result",
          "data": {
            "text/plain": [
              "array([0.18233483, 0.07563091, 0.08055396, 0.07531863, 0.12556481,\n",
              "       0.22447469, 0.08922334, 0.13013755, 0.1184589 , 0.16465533,\n",
              "       0.24076475, 0.1409088 , 0.15150154, 0.16334835, 0.19924543,\n",
              "       0.27031763, 0.15736764, 0.19280359, 0.20502558, 0.21213475,\n",
              "       0.27782674, 0.11723242, 0.1144116 , 0.08916062, 0.23049398,\n",
              "       0.29795504, 0.14753338, 0.19842373, 0.15455043, 0.21741676,\n",
              "       0.25353753, 0.09034666, 0.12030825, 0.16228003, 0.2025483 ,\n",
              "       0.27776606, 0.1105773 , 0.15095111, 0.17334   , 0.21408337,\n",
              "       0.26634145, 0.15308157, 0.16701886, 0.18659221, 0.27168227,\n",
              "       0.29652341, 0.16731319, 0.21371935, 0.20152285, 0.26276232,\n",
              "       0.26057021, 0.15253163, 0.15558884, 0.12053949, 0.22781099,\n",
              "       0.29015499, 0.17478228, 0.21146831, 0.17266155, 0.23430734,\n",
              "       0.25398191, 0.07121474, 0.07904679, 0.02558536, 0.1666945 ,\n",
              "       0.28883299, 0.07970971, 0.11969256, 0.06551127, 0.17762515,\n",
              "       0.27393466, 0.12988371, 0.12558174, 0.11482907, 0.18003876,\n",
              "       0.29655426, 0.14448867, 0.16254142, 0.16578112, 0.1994894 ,\n",
              "       0.35585645, 0.16743248, 0.17965116, 0.15994091, 0.31367696,\n",
              "       0.38221305, 0.18923649, 0.23669608, 0.20005351, 0.31363986,\n",
              "       0.12943882, 0.08462004, 0.08124133, 0.06345878, 0.03491603,\n",
              "       0.15898305, 0.10275838, 0.13290418, 0.09792864, 0.06924665,\n",
              "       0.16224696, 0.09378136, 0.09380631, 0.06581406, 0.10103583,\n",
              "       0.18517373, 0.11043445, 0.15167448, 0.115054  , 0.12737689,\n",
              "       0.25503536, 0.12658709, 0.13204228, 0.09729531, 0.16413454,\n",
              "       0.27286108, 0.15094592, 0.19580978, 0.1571069 , 0.17770534,\n",
              "       0.27196434, 0.11442981, 0.11311977, 0.10914319, 0.16844229,\n",
              "       0.31389581, 0.12942008, 0.16898207, 0.14984172, 0.18876076,\n",
              "       0.14342751, 0.04155579, 0.03427323, 0.00989221, 0.04733184,\n",
              "       0.17492534, 0.05357952, 0.07909571, 0.04510001, 0.07596264])"
            ]
          },
          "metadata": {},
          "execution_count": 22
        }
      ]
    },
    {
      "cell_type": "code",
      "source": [
        "from sklearn.feature_selection import mutual_info_classif\n",
        "mi = mutual_info_classif(x_train, y_train)\n",
        "mi"
      ],
      "metadata": {
        "colab": {
          "base_uri": "https://localhost:8080/"
        },
        "id": "GP-TjcsyKEIZ",
        "outputId": "33ca5aab-b334-4c0e-dba8-9d0d5d9b277c"
      },
      "execution_count": null,
      "outputs": [
        {
          "output_type": "execute_result",
          "data": {
            "text/plain": [
              "array([0.13795562, 0.05273291, 0.0555939 , 0.04866772, 0.08158492,\n",
              "       0.16887673, 0.05762108, 0.07149196, 0.06743767, 0.11240836,\n",
              "       0.18447744, 0.10636296, 0.11733402, 0.11189714, 0.15918925,\n",
              "       0.21758268, 0.11880768, 0.12980213, 0.14672177, 0.17988211,\n",
              "       0.22735964, 0.08633565, 0.09963912, 0.06346111, 0.17156672,\n",
              "       0.25478311, 0.10419205, 0.11562346, 0.10151206, 0.17646936,\n",
              "       0.21596601, 0.07062287, 0.08753169, 0.11509737, 0.19027418,\n",
              "       0.2364421 , 0.07735186, 0.10343902, 0.12276391, 0.18740408,\n",
              "       0.22594847, 0.12862992, 0.14611865, 0.15789933, 0.22857433,\n",
              "       0.2513819 , 0.13393711, 0.1564402 , 0.15950046, 0.23482638,\n",
              "       0.21631431, 0.11814207, 0.11197015, 0.07961035, 0.18594317,\n",
              "       0.25115578, 0.12840094, 0.14022584, 0.1047704 , 0.20093552,\n",
              "       0.21452202, 0.04929466, 0.05182714, 0.014432  , 0.12276317,\n",
              "       0.23698697, 0.05624506, 0.07028367, 0.03393749, 0.14826459,\n",
              "       0.21277738, 0.10457806, 0.10124692, 0.08527585, 0.14190221,\n",
              "       0.23675138, 0.11290558, 0.11139737, 0.10594097, 0.15869906,\n",
              "       0.30532258, 0.12875013, 0.13633151, 0.11328453, 0.22807692,\n",
              "       0.32642288, 0.1399522 , 0.15495611, 0.13619653, 0.24545856,\n",
              "       0.09732913, 0.05881842, 0.05869142, 0.03866681, 0.02849883,\n",
              "       0.11448043, 0.06499635, 0.07138583, 0.05250168, 0.04764293,\n",
              "       0.12845148, 0.05977022, 0.0666283 , 0.04781781, 0.07008169,\n",
              "       0.15345809, 0.07920752, 0.08123821, 0.06587742, 0.09313675,\n",
              "       0.20456051, 0.08732729, 0.10004708, 0.07203402, 0.12797579,\n",
              "       0.22422734, 0.11638946, 0.12888955, 0.10420713, 0.14905122,\n",
              "       0.20808734, 0.0865298 , 0.09503367, 0.07854312, 0.11837743,\n",
              "       0.25034927, 0.09526714, 0.10077813, 0.10309413, 0.14391634,\n",
              "       0.09630306, 0.02213334, 0.01993819, 0.00742175, 0.02765064,\n",
              "       0.1315718 , 0.03149507, 0.03960573, 0.02285323, 0.04192095])"
            ]
          },
          "metadata": {},
          "execution_count": 48
        }
      ]
    },
    {
      "cell_type": "code",
      "source": [
        "len(mi)"
      ],
      "metadata": {
        "colab": {
          "base_uri": "https://localhost:8080/"
        },
        "id": "FJ5FOuKp4p_f",
        "outputId": "e018cd86-0709-4dbc-c9f0-8746d35068f8"
      },
      "execution_count": null,
      "outputs": [
        {
          "output_type": "execute_result",
          "data": {
            "text/plain": [
              "140"
            ]
          },
          "metadata": {},
          "execution_count": 19
        }
      ]
    },
    {
      "cell_type": "code",
      "source": [
        "mi_score_selected_index = np.where(mi >0.2)[0]\n",
        "mi_score_selected_index"
      ],
      "metadata": {
        "colab": {
          "base_uri": "https://localhost:8080/"
        },
        "id": "EgoV17A4B5uk",
        "outputId": "82868304-bf33-460a-e35a-8c89ccf26f73"
      },
      "execution_count": null,
      "outputs": [
        {
          "output_type": "execute_result",
          "data": {
            "text/plain": [
              "array([  5,  10,  15,  18,  19,  20,  24,  25,  29,  30,  34,  35,  39,\n",
              "        40,  44,  45,  47,  48,  49,  50,  54,  55,  57,  59,  60,  65,\n",
              "        70,  75,  80,  84,  85,  87,  88,  89, 110, 115, 120, 125])"
            ]
          },
          "metadata": {},
          "execution_count": 81
        }
      ]
    },
    {
      "cell_type": "code",
      "source": [
        "mi_score_selected_index = np.where(mi >0.2)[0]\n",
        "mi_score_selected_index"
      ],
      "metadata": {
        "colab": {
          "base_uri": "https://localhost:8080/"
        },
        "id": "xqoSzuwMNskf",
        "outputId": "6acd622c-9d32-43dd-ec83-4d2b4a9b5128"
      },
      "execution_count": null,
      "outputs": [
        {
          "output_type": "execute_result",
          "data": {
            "text/plain": [
              "array([  5,  10,  15,  18,  19,  20,  24,  25,  29,  30,  34,  35,  39,\n",
              "        40,  44,  45,  47,  48,  49,  50,  54,  55,  57,  59,  60,  65,\n",
              "        70,  75,  80,  84,  85,  87,  88,  89, 110, 115, 120, 125])"
            ]
          },
          "metadata": {},
          "execution_count": 23
        }
      ]
    },
    {
      "cell_type": "code",
      "source": [
        "mi_score_selected_index = np.where(mi >0.2)[0]\n",
        "X_2 = x[:,mi_score_selected_index]\n",
        "X_train_2,X_test_2,y_train,y_test = train_test_split(\n",
        "    X_2,y_val1\n",
        "    ,random_state=0\n",
        "    ,stratify=y_val1\n",
        ")"
      ],
      "metadata": {
        "id": "roh3AiTa7SS-"
      },
      "execution_count": null,
      "outputs": []
    },
    {
      "cell_type": "code",
      "source": [
        "len(mi_score_selected_index)"
      ],
      "metadata": {
        "colab": {
          "base_uri": "https://localhost:8080/"
        },
        "id": "ijjKq_rFNv_-",
        "outputId": "67145caa-59ae-4795-fcbb-1fcb31f5f976"
      },
      "execution_count": null,
      "outputs": [
        {
          "output_type": "execute_result",
          "data": {
            "text/plain": [
              "38"
            ]
          },
          "metadata": {},
          "execution_count": 24
        }
      ]
    },
    {
      "cell_type": "code",
      "source": [
        "len(mi_score_selected_index)"
      ],
      "metadata": {
        "colab": {
          "base_uri": "https://localhost:8080/"
        },
        "id": "A9_uqkqU9QmL",
        "outputId": "2b2c6e0e-d9ec-4f44-da0d-476e83544728"
      },
      "execution_count": null,
      "outputs": [
        {
          "output_type": "execute_result",
          "data": {
            "text/plain": [
              "38"
            ]
          },
          "metadata": {},
          "execution_count": 87
        }
      ]
    },
    {
      "cell_type": "code",
      "source": [
        "from sklearn.tree import DecisionTreeClassifier as DTC\n",
        "model_2 = DTC().fit(X_train_2,y_train)"
      ],
      "metadata": {
        "id": "fOeS_8738AXJ"
      },
      "execution_count": null,
      "outputs": []
    },
    {
      "cell_type": "code",
      "source": [
        "score_2 = model_2.score(X_test_2,y_test)\n",
        "print(score_2)"
      ],
      "metadata": {
        "colab": {
          "base_uri": "https://localhost:8080/"
        },
        "id": "MqkC2K5x8aeX",
        "outputId": "0303a9ef-41c2-453e-f2b4-4dbb216a0740"
      },
      "execution_count": null,
      "outputs": [
        {
          "output_type": "stream",
          "name": "stdout",
          "text": [
            "0.18355510064824293\n"
          ]
        }
      ]
    },
    {
      "cell_type": "code",
      "source": [
        "x_train.shape"
      ],
      "metadata": {
        "colab": {
          "base_uri": "https://localhost:8080/"
        },
        "id": "imnBJArV_TgT",
        "outputId": "7f880b04-c9f3-4692-93ce-c3e2a6e8d319"
      },
      "execution_count": null,
      "outputs": [
        {
          "output_type": "execute_result",
          "data": {
            "text/plain": [
              "(46425, 56)"
            ]
          },
          "metadata": {},
          "execution_count": 22
        }
      ]
    },
    {
      "cell_type": "code",
      "source": [
        "classes=['depressed','calm','relaxed','misrable','neutral','pleased','distressed','excited','happy']"
      ],
      "metadata": {
        "id": "tNKoiFO6XLUr"
      },
      "execution_count": null,
      "outputs": []
    },
    {
      "cell_type": "markdown",
      "source": [
        "SVM"
      ],
      "metadata": {
        "id": "twJJDaS9RwlY"
      }
    },
    {
      "cell_type": "code",
      "source": [
        "from sklearn import svm\n",
        "c = svm.SVC(kernel='rbf',C=10,gamma=0.1)\n",
        "c.fit(x_train,y_train)"
      ],
      "metadata": {
        "colab": {
          "base_uri": "https://localhost:8080/"
        },
        "id": "TXGzAY7XkJ5-",
        "outputId": "895ec082-03e9-45e7-fe10-dcc23522c810"
      },
      "execution_count": null,
      "outputs": [
        {
          "output_type": "execute_result",
          "data": {
            "text/plain": [
              "SVC(C=10, gamma=0.1)"
            ]
          },
          "metadata": {},
          "execution_count": 24
        }
      ]
    },
    {
      "cell_type": "code",
      "source": [
        "pred = c.predict(x_test)"
      ],
      "metadata": {
        "id": "--naDqxekRbN"
      },
      "execution_count": null,
      "outputs": []
    },
    {
      "cell_type": "code",
      "source": [
        "from sklearn.metrics import accuracy_score\n",
        "pred_accu = accuracy_score(y_test,pred)\n",
        "pred_accu"
      ],
      "metadata": {
        "colab": {
          "base_uri": "https://localhost:8080/"
        },
        "id": "yKAwqjsuRzB0",
        "outputId": "c7f8445e-30dc-4ea9-9bae-f583aa49614b"
      },
      "execution_count": null,
      "outputs": [
        {
          "output_type": "execute_result",
          "data": {
            "text/plain": [
              "0.9512259194395797"
            ]
          },
          "metadata": {},
          "execution_count": 26
        }
      ]
    },
    {
      "cell_type": "code",
      "source": [
        "from yellowbrick.classifier import ConfusionMatrix\n",
        "svm_cm = ConfusionMatrix(\n",
        "    c, classes=classes,\n",
        "    \n",
        ")\n",
        "\n",
        "svm_cm.fit(x_train, y_train)\n",
        "svm_cm.score(x_test, y_test)\n",
        "svm_cm.show()"
      ],
      "metadata": {
        "colab": {
          "base_uri": "https://localhost:8080/",
          "height": 418
        },
        "id": "2V6v2gcuW86m",
        "outputId": "a91ade90-8bb1-4734-eb63-adb868da3c4b"
      },
      "execution_count": null,
      "outputs": [
        {
          "output_type": "display_data",
          "data": {
            "text/plain": [
              "<Figure size 576x396 with 1 Axes>"
            ],
            "image/png": "[encoded data removed]"
          },
          "metadata": {}
        },
        {
          "output_type": "execute_result",
          "data": {
            "text/plain": [
              "<matplotlib.axes._subplots.AxesSubplot at 0x7f8cbbd40850>"
            ]
          },
          "metadata": {},
          "execution_count": 29
        }
      ]
    },
    {
      "cell_type": "code",
      "source": [
        "from yellowbrick.classifier import ClassificationReport\n",
        "\n",
        "visualizer = ClassificationReport(c, classes=classes, support=True)\n",
        "\n",
        "visualizer.fit(x_train, y_train)       \n",
        "visualizer.score(x_test, y_test)        \n",
        "visualizer.show() "
      ],
      "metadata": {
        "colab": {
          "base_uri": "https://localhost:8080/",
          "height": 418
        },
        "id": "Qldi9HvvYCbk",
        "outputId": "e9d47e6e-5dbf-428e-e612-9bef86bd73c2"
      },
      "execution_count": null,
      "outputs": [
        {
          "output_type": "display_data",
          "data": {
            "text/plain": [
              "<Figure size 576x396 with 2 Axes>"
            ],
            "image/png": "[encoded data removed]"
          },
          "metadata": {}
        },
        {
          "output_type": "execute_result",
          "data": {
            "text/plain": [
              "<matplotlib.axes._subplots.AxesSubplot at 0x7f8cbbb2e9d0>"
            ]
          },
          "metadata": {},
          "execution_count": 30
        }
      ]
    },
    {
      "cell_type": "code",
      "source": [
        "from yellowbrick.classifier import ROCAUC\n",
        "visualizer = ROCAUC(c, classes=classes)\n",
        "\n",
        "visualizer.fit(x_train, y_train)        \n",
        "visualizer.score(x_test, y_test)       \n",
        "visualizer.show()     "
      ],
      "metadata": {
        "colab": {
          "base_uri": "https://localhost:8080/",
          "height": 394
        },
        "id": "eZr4UFByYVbB",
        "outputId": "b5f717c1-8f08-40a2-e3da-cde5678045f4"
      },
      "execution_count": null,
      "outputs": [
        {
          "output_type": "display_data",
          "data": {
            "text/plain": [
              "<Figure size 576x396 with 1 Axes>"
            ],
            "image/png": "[encoded data removed]"
          },
          "metadata": {}
        },
        {
          "output_type": "execute_result",
          "data": {
            "text/plain": [
              "<matplotlib.axes._subplots.AxesSubplot at 0x7f8cbb6a7cd0>"
            ]
          },
          "metadata": {},
          "execution_count": 31
        }
      ]
    },
    {
      "cell_type": "code",
      "source": [
        "from sklearn.metrics import accuracy_score\n",
        "pred_accu = accuracy_score(y_test,pred)\n",
        "pred_accu"
      ],
      "metadata": {
        "colab": {
          "base_uri": "https://localhost:8080/"
        },
        "id": "xQem6kH5kS6h",
        "outputId": "a2846574-bf72-4217-8462-f78ba2dc70be"
      },
      "execution_count": null,
      "outputs": [
        {
          "output_type": "execute_result",
          "data": {
            "text/plain": [
              "0.8106315154648057"
            ]
          },
          "metadata": {},
          "execution_count": 18
        }
      ]
    },
    {
      "cell_type": "code",
      "source": [
        "x_test.shape"
      ],
      "metadata": {
        "colab": {
          "base_uri": "https://localhost:8080/"
        },
        "id": "sFj7E3JvBWtI",
        "outputId": "c24f8a19-a604-404f-fa4e-2daf3d9fe555"
      },
      "execution_count": null,
      "outputs": [
        {
          "output_type": "execute_result",
          "data": {
            "text/plain": [
              "(11724, 56)"
            ]
          },
          "metadata": {},
          "execution_count": 105
        }
      ]
    },
    {
      "cell_type": "code",
      "source": [
        "from sklearn.ensemble import RandomForestClassifier\n",
        "clf = RandomForestClassifier(n_estimators = 400) \n",
        "clf.fit(x_train, y_train)"
      ],
      "metadata": {
        "id": "ZbrADmv86_l1"
      },
      "execution_count": null,
      "outputs": []
    },
    {
      "cell_type": "code",
      "source": [
        "from sklearn.ensemble import RandomForestClassifier\n",
        "clf = RandomForestClassifier(n_estimators = 500) \n",
        "clf.fit(x_train, y_train)"
      ],
      "metadata": {
        "colab": {
          "base_uri": "https://localhost:8080/"
        },
        "id": "ovcn9B-saNuP",
        "outputId": "a358878d-2c01-43e4-e2fc-094716c01af0"
      },
      "execution_count": null,
      "outputs": [
        {
          "output_type": "execute_result",
          "data": {
            "text/plain": [
              "RandomForestClassifier(n_estimators=500)"
            ]
          },
          "metadata": {},
          "execution_count": 35
        }
      ]
    },
    {
      "cell_type": "code",
      "source": [
        "y_pred = clf.predict(x_test)"
      ],
      "metadata": {
        "id": "6FXIR-dC7I2u"
      },
      "execution_count": null,
      "outputs": []
    },
    {
      "cell_type": "code",
      "source": [
        "from sklearn import metrics "
      ],
      "metadata": {
        "id": "-bqtEbYe7Ts0"
      },
      "execution_count": null,
      "outputs": []
    },
    {
      "cell_type": "code",
      "source": [
        "print(\"ACCURACY OF THE MODEL: \", metrics.accuracy_score(y_test, y_pred))"
      ],
      "metadata": {
        "colab": {
          "base_uri": "https://localhost:8080/"
        },
        "id": "QtugtSwiaQ13",
        "outputId": "d8e4cdfa-000f-483f-bdb0-fafce179c641"
      },
      "execution_count": null,
      "outputs": [
        {
          "output_type": "stream",
          "name": "stdout",
          "text": [
            "ACCURACY OF THE MODEL:  0.750933659265295\n"
          ]
        }
      ]
    },
    {
      "cell_type": "code",
      "source": [
        "from yellowbrick.classifier import ConfusionMatrix\n",
        "random_forest_cm = ConfusionMatrix(\n",
        "    clf, classes=classes,\n",
        "    \n",
        ")\n",
        "\n",
        "random_forest_cm.fit(x_train, y_train)\n",
        "random_forest_cm.score(x_test, y_test)\n",
        "random_forest_cm.show()"
      ],
      "metadata": {
        "colab": {
          "base_uri": "https://localhost:8080/",
          "height": 418
        },
        "id": "TeBVOQa7anj5",
        "outputId": "3b27d51d-bfaf-4c60-8684-f1182d027b21"
      },
      "execution_count": null,
      "outputs": [
        {
          "output_type": "display_data",
          "data": {
            "text/plain": [
              "<Figure size 576x396 with 1 Axes>"
            ],
            "image/png": "[encoded data removed]"
          },
          "metadata": {}
        },
        {
          "output_type": "execute_result",
          "data": {
            "text/plain": [
              "<matplotlib.axes._subplots.AxesSubplot at 0x7f8cb8590310>"
            ]
          },
          "metadata": {},
          "execution_count": 37
        }
      ]
    },
    {
      "cell_type": "code",
      "source": [
        "from yellowbrick.classifier import ClassificationReport\n",
        "classes=['depressed','calm','relaxed','misrable','neutral','pleased','distressed','excited','happy']\n",
        "visualizer = ClassificationReport(clf, classes=classes, support=True)\n",
        "\n",
        "visualizer.fit(x_train, y_train)       \n",
        "visualizer.score(x_test, y_test)       \n",
        "visualizer.show() "
      ],
      "metadata": {
        "colab": {
          "base_uri": "https://localhost:8080/",
          "height": 418
        },
        "id": "m6koUEe-a505",
        "outputId": "5c701ec9-ebda-4be2-c27a-82350f32d145"
      },
      "execution_count": null,
      "outputs": [
        {
          "output_type": "display_data",
          "data": {
            "text/plain": [
              "<Figure size 576x396 with 2 Axes>"
            ],
            "image/png": "[encoded data removed]"
          },
          "metadata": {}
        },
        {
          "output_type": "execute_result",
          "data": {
            "text/plain": [
              "<matplotlib.axes._subplots.AxesSubplot at 0x7f8cb7f82cd0>"
            ]
          },
          "metadata": {},
          "execution_count": 38
        }
      ]
    },
    {
      "cell_type": "code",
      "source": [
        "from yellowbrick.classifier import ROCAUC\n",
        "visualizer = ROCAUC(clf, classes=classes)\n",
        "\n",
        "visualizer.fit(x_train, y_train)       \n",
        "visualizer.score(x_test, y_test)       \n",
        "visualizer.show()     "
      ],
      "metadata": {
        "colab": {
          "base_uri": "https://localhost:8080/",
          "height": 394
        },
        "id": "yDG8WWkkdT5L",
        "outputId": "a6406f5f-93e9-4e44-9e4a-fe1ea6b3f4d4"
      },
      "execution_count": null,
      "outputs": [
        {
          "output_type": "display_data",
          "data": {
            "text/plain": [
              "<Figure size 576x396 with 1 Axes>"
            ],
            "image/png": "[encoded data removed]"
          },
          "metadata": {}
        },
        {
          "output_type": "execute_result",
          "data": {
            "text/plain": [
              "<matplotlib.axes._subplots.AxesSubplot at 0x7f8cb8794110>"
            ]
          },
          "metadata": {},
          "execution_count": 39
        }
      ]
    },
    {
      "cell_type": "code",
      "source": [
        "print(\"ACCURACY OF THE MODEL: \", metrics.accuracy_score(y_test, y_pred))"
      ],
      "metadata": {
        "colab": {
          "base_uri": "https://localhost:8080/"
        },
        "id": "VrnoUZ8Za2_5",
        "outputId": "0fc4814b-74fa-4dbf-f00a-63c073298f08"
      },
      "execution_count": null,
      "outputs": [
        {
          "output_type": "stream",
          "name": "stdout",
          "text": [
            "ACCURACY OF THE MODEL:  0.7214611872146118\n"
          ]
        }
      ]
    },
    {
      "cell_type": "code",
      "source": [
        "print(\"ACCURACY OF THE MODEL: \", metrics.accuracy_score(y_test, y_pred))"
      ],
      "metadata": {
        "colab": {
          "base_uri": "https://localhost:8080/"
        },
        "id": "EGEMXV7Q7blw",
        "outputId": "02ab8652-93b9-4ac8-d61f-c0c2ed23d37c"
      },
      "execution_count": null,
      "outputs": [
        {
          "output_type": "stream",
          "name": "stdout",
          "text": [
            "ACCURACY OF THE MODEL:  0.9136191677175284\n"
          ]
        }
      ]
    },
    {
      "cell_type": "code",
      "source": [
        "\n",
        "# Import necessary modules\n",
        "from sklearn.neighbors import KNeighborsClassifier\n",
        "knn = KNeighborsClassifier(n_neighbors=3)\n",
        " \n",
        "knn.fit(x_train, y_train)\n",
        "\n",
        "y_pred=knn.predict(x_test)\n",
        "print(\"ACCURACY OF THE MODEL: \", metrics.accuracy_score(y_test, y_pred))"
      ],
      "metadata": {
        "colab": {
          "base_uri": "https://localhost:8080/"
        },
        "id": "PvZAsoAZOA_I",
        "outputId": "efb1e16f-fcd0-43d1-b05c-a93274327171"
      },
      "execution_count": null,
      "outputs": [
        {
          "output_type": "stream",
          "name": "stdout",
          "text": [
            "ACCURACY OF THE MODEL:  0.7233652475045834\n"
          ]
        }
      ]
    },
    {
      "cell_type": "code",
      "source": [
        "from yellowbrick.classifier import ConfusionMatrix\n",
        "knn_cm = ConfusionMatrix(\n",
        "    knn, classes=classes,\n",
        "    \n",
        ")\n",
        "\n",
        "knn_cm.fit(x_train, y_train)\n",
        "knn_cm.score(x_test, y_test)\n",
        "knn_cm.show()"
      ],
      "metadata": {
        "colab": {
          "base_uri": "https://localhost:8080/",
          "height": 418
        },
        "id": "yXxhtReHipGs",
        "outputId": "0955fbb2-b892-45bb-c899-08581b4edf6f"
      },
      "execution_count": null,
      "outputs": [
        {
          "output_type": "display_data",
          "data": {
            "text/plain": [
              "<Figure size 576x396 with 1 Axes>"
            ],
            "image/png": "[encoded data removed]"
          },
          "metadata": {}
        },
        {
          "output_type": "execute_result",
          "data": {
            "text/plain": [
              "<matplotlib.axes._subplots.AxesSubplot at 0x7f8cb7e20c10>"
            ]
          },
          "metadata": {},
          "execution_count": 41
        }
      ]
    },
    {
      "cell_type": "code",
      "source": [
        "from yellowbrick.classifier import ClassificationReport\n",
        "\n",
        "visualizer = ClassificationReport(knn, classes=classes, support=True)\n",
        "\n",
        "visualizer.fit(x_train, y_train)       \n",
        "visualizer.score(x_test, y_test)       \n",
        "visualizer.show() "
      ],
      "metadata": {
        "colab": {
          "base_uri": "https://localhost:8080/",
          "height": 418
        },
        "id": "oS-MBXg0jRYI",
        "outputId": "91f020d4-e956-411f-e784-80a272bbd448"
      },
      "execution_count": null,
      "outputs": [
        {
          "output_type": "display_data",
          "data": {
            "text/plain": [
              "<Figure size 576x396 with 2 Axes>"
            ],
            "image/png": "[encoded data removed]"
          },
          "metadata": {}
        },
        {
          "output_type": "execute_result",
          "data": {
            "text/plain": [
              "<matplotlib.axes._subplots.AxesSubplot at 0x7f8cb7d83c50>"
            ]
          },
          "metadata": {},
          "execution_count": 42
        }
      ]
    },
    {
      "cell_type": "code",
      "source": [
        "from yellowbrick.classifier import ROCAUC\n",
        "visualizer = ROCAUC(knn, classes=classes)\n",
        "\n",
        "visualizer.fit(x_train, y_train)        \n",
        "visualizer.score(x_test, y_test)       \n",
        "visualizer.show()         "
      ],
      "metadata": {
        "colab": {
          "base_uri": "https://localhost:8080/",
          "height": 394
        },
        "id": "EcMheR-BjUPo",
        "outputId": "6f25b687-e93f-4d69-edd6-7fab710bd7bc"
      },
      "execution_count": null,
      "outputs": [
        {
          "output_type": "display_data",
          "data": {
            "text/plain": [
              "<Figure size 576x396 with 1 Axes>"
            ],
            "image/png": "[encoded data removed]"
          },
          "metadata": {}
        },
        {
          "output_type": "execute_result",
          "data": {
            "text/plain": [
              "<matplotlib.axes._subplots.AxesSubplot at 0x7f8cb7d7ae90>"
            ]
          },
          "metadata": {},
          "execution_count": 43
        }
      ]
    },
    {
      "cell_type": "code",
      "source": [
        "from sklearn import svm\n",
        "c = svm.SVC(kernel='rbf',C=10,gamma=0.1)\n",
        "c.fit(x_train,y_train)\n",
        "y_pred = c.predict(x_test)\n",
        "print(\"ACCURACY OF THE MODEL: \", metrics.accuracy_score(y_test, y_pred))"
      ],
      "metadata": {
        "colab": {
          "base_uri": "https://localhost:8080/"
        },
        "id": "F-dFhgk3OauX",
        "outputId": "15a0c83f-78d3-42bf-b076-769677be83e6"
      },
      "execution_count": null,
      "outputs": [
        {
          "output_type": "stream",
          "name": "stdout",
          "text": [
            "ACCURACY OF THE MODEL:  0.8031506756297956\n"
          ]
        }
      ]
    },
    {
      "cell_type": "code",
      "source": [
        "from sklearn import svm\n",
        "c = svm.SVC(kernel='rbf')\n",
        "c.fit(X_train_2,y_train)\n",
        "y_pred = c.predict(X_test_2)\n",
        "print(\"ACCURACY OF THE MODEL: \", metrics.accuracy_score(y_test, y_pred))"
      ],
      "metadata": {
        "colab": {
          "base_uri": "https://localhost:8080/"
        },
        "id": "VLRWdQcJPagi",
        "outputId": "ead75525-e724-4bbf-f279-f6d2609cd6be"
      },
      "execution_count": null,
      "outputs": [
        {
          "output_type": "stream",
          "name": "stdout",
          "text": [
            "ACCURACY OF THE MODEL:  0.4759002381953202\n"
          ]
        }
      ]
    },
    {
      "cell_type": "code",
      "source": [
        "import numpy as np\n",
        "from sklearn.preprocessing import normalize\n",
        "import pickle as pickle\n",
        "import matplotlib.pyplot as plt\n",
        "import pandas as pd\n",
        "# import pyeeg as pe\n",
        "from sklearn import svm\n",
        "from sklearn.preprocessing import StandardScaler\n",
        "from tensorflow.keras.utils import to_categorical\n",
        "from sklearn.model_selection import train_test_split\n",
        "import keras\n",
        "from keras.models import Sequential\n",
        "from keras.layers import Dense, Dropout\n",
        "from keras.layers import LSTM,BatchNormalization,Activation\n",
        "from sklearn.model_selection import train_test_split\n",
        "import keras\n",
        "from keras.models import Sequential\n",
        "from keras.layers import Dense, Dropout\n",
        "from keras.layers import LSTM,BatchNormalization,Activation\n",
        "import tensorflow"
      ],
      "metadata": {
        "id": "aCz8NwNbFXC0"
      },
      "execution_count": null,
      "outputs": []
    },
    {
      "cell_type": "code",
      "source": [
        "res = []"
      ],
      "metadata": {
        "id": "y7l7fzXNxIJJ"
      },
      "execution_count": null,
      "outputs": []
    },
    {
      "cell_type": "code",
      "source": [
        "for i in range(1,33):\n",
        "  if i <10:\n",
        "    i = '0'+str(i)\n",
        "  else:\n",
        "    i = str(i)\n",
        "  subjectList = [i]\n",
        "  print(subjectList)\n",
        "  data, label = load_data(subjectList)\n",
        "  df_emo = one_hot_encoding(label)\n",
        "  # n_e = len(df_emo.loc[:,0].unique())\n",
        "  # print(n_e)\n",
        "  x = data\n",
        "  y = df_emo.loc[:,0]\n",
        "  scaler = StandardScaler()\n",
        "  x = scaler.fit_transform(x)\n",
        "  x = np.reshape(x, (x.shape[0],1,x.shape[1]))\n",
        "  y = to_categorical(y)\n",
        "  n_e = y.shape[-1]\n",
        "  x_train1, x_test1, y_train1, y_test1 = train_test_split(x, y, test_size = 0.2, random_state = 4)\n",
        "  model1 = model(n_e)\n",
        "  history1 = model1.fit(x_train1, y_train1, verbose=0,epochs = 100, batch_size=100,validation_data= (x_test1, y_test1))\n",
        "  r = [i,history1.history['accuracy'][-1],history1.history['val_accuracy'][-1]]\n",
        "  print(r)\n",
        "  res.append(r)"
      ],
      "metadata": {
        "colab": {
          "base_uri": "https://localhost:8080/"
        },
        "id": "zZceNCi-w6K9",
        "outputId": "e87ab4f6-25c8-4f8b-d092-2c6d616ed6e2"
      },
      "execution_count": null,
      "outputs": [
        {
          "output_type": "stream",
          "name": "stdout",
          "text": [
            "['01']\n"
          ]
        },
        {
          "output_type": "stream",
          "name": "stderr",
          "text": [
            "/usr/local/lib/python3.7/dist-packages/keras/optimizer_v2/rmsprop.py:130: UserWarning: The `lr` argument is deprecated, use `learning_rate` instead.\n",
            "  super(RMSprop, self).__init__(name, **kwargs)\n"
          ]
        },
        {
          "output_type": "stream",
          "name": "stdout",
          "text": [
            "['01', 0.9872317314147949, 0.9858849048614502]\n",
            "['02']\n"
          ]
        },
        {
          "output_type": "stream",
          "name": "stderr",
          "text": [
            "/usr/local/lib/python3.7/dist-packages/keras/optimizer_v2/rmsprop.py:130: UserWarning: The `lr` argument is deprecated, use `learning_rate` instead.\n",
            "  super(RMSprop, self).__init__(name, **kwargs)\n"
          ]
        },
        {
          "output_type": "stream",
          "name": "stdout",
          "text": [
            "['02', 0.9644118547439575, 0.9467969536781311]\n",
            "['03']\n"
          ]
        },
        {
          "output_type": "stream",
          "name": "stderr",
          "text": [
            "/usr/local/lib/python3.7/dist-packages/keras/optimizer_v2/rmsprop.py:130: UserWarning: The `lr` argument is deprecated, use `learning_rate` instead.\n",
            "  super(RMSprop, self).__init__(name, **kwargs)\n"
          ]
        },
        {
          "output_type": "stream",
          "name": "stdout",
          "text": [
            "['03', 0.97555011510849, 0.9652551412582397]\n",
            "['04']\n"
          ]
        },
        {
          "output_type": "stream",
          "name": "stderr",
          "text": [
            "/usr/local/lib/python3.7/dist-packages/keras/optimizer_v2/rmsprop.py:130: UserWarning: The `lr` argument is deprecated, use `learning_rate` instead.\n",
            "  super(RMSprop, self).__init__(name, **kwargs)\n"
          ]
        },
        {
          "output_type": "stream",
          "name": "stdout",
          "text": [
            "['04', 0.9478402733802795, 0.9565689563751221]\n",
            "['05']\n"
          ]
        },
        {
          "output_type": "stream",
          "name": "stderr",
          "text": [
            "/usr/local/lib/python3.7/dist-packages/keras/optimizer_v2/rmsprop.py:130: UserWarning: The `lr` argument is deprecated, use `learning_rate` instead.\n",
            "  super(RMSprop, self).__init__(name, **kwargs)\n"
          ]
        },
        {
          "output_type": "stream",
          "name": "stdout",
          "text": [
            "['05', 0.9443086385726929, 0.9142236709594727]\n",
            "['06']\n"
          ]
        },
        {
          "output_type": "stream",
          "name": "stderr",
          "text": [
            "/usr/local/lib/python3.7/dist-packages/keras/optimizer_v2/rmsprop.py:130: UserWarning: The `lr` argument is deprecated, use `learning_rate` instead.\n",
            "  super(RMSprop, self).__init__(name, **kwargs)\n"
          ]
        },
        {
          "output_type": "stream",
          "name": "stdout",
          "text": [
            "['06', 0.9760934710502625, 0.9587404727935791]\n",
            "['07']\n"
          ]
        },
        {
          "output_type": "stream",
          "name": "stderr",
          "text": [
            "/usr/local/lib/python3.7/dist-packages/keras/optimizer_v2/rmsprop.py:130: UserWarning: The `lr` argument is deprecated, use `learning_rate` instead.\n",
            "  super(RMSprop, self).__init__(name, **kwargs)\n"
          ]
        },
        {
          "output_type": "stream",
          "name": "stdout",
          "text": [
            "['07', 0.9875034093856812, 0.9837133288383484]\n",
            "['08']\n"
          ]
        },
        {
          "output_type": "stream",
          "name": "stderr",
          "text": [
            "/usr/local/lib/python3.7/dist-packages/keras/optimizer_v2/rmsprop.py:130: UserWarning: The `lr` argument is deprecated, use `learning_rate` instead.\n",
            "  super(RMSprop, self).__init__(name, **kwargs)\n"
          ]
        },
        {
          "output_type": "stream",
          "name": "stdout",
          "text": [
            "['08', 0.9657701849937439, 0.9609120488166809]\n",
            "['09']\n"
          ]
        },
        {
          "output_type": "stream",
          "name": "stderr",
          "text": [
            "/usr/local/lib/python3.7/dist-packages/keras/optimizer_v2/rmsprop.py:130: UserWarning: The `lr` argument is deprecated, use `learning_rate` instead.\n",
            "  super(RMSprop, self).__init__(name, **kwargs)\n"
          ]
        },
        {
          "output_type": "stream",
          "name": "stdout",
          "text": [
            "['09', 0.9842433929443359, 0.9728555679321289]\n",
            "['10']\n"
          ]
        },
        {
          "output_type": "stream",
          "name": "stderr",
          "text": [
            "/usr/local/lib/python3.7/dist-packages/keras/optimizer_v2/rmsprop.py:130: UserWarning: The `lr` argument is deprecated, use `learning_rate` instead.\n",
            "  super(RMSprop, self).__init__(name, **kwargs)\n"
          ]
        },
        {
          "output_type": "stream",
          "name": "stdout",
          "text": [
            "['10', 0.9587068557739258, 0.9261671900749207]\n",
            "['11']\n"
          ]
        },
        {
          "output_type": "stream",
          "name": "stderr",
          "text": [
            "/usr/local/lib/python3.7/dist-packages/keras/optimizer_v2/rmsprop.py:130: UserWarning: The `lr` argument is deprecated, use `learning_rate` instead.\n",
            "  super(RMSprop, self).__init__(name, **kwargs)\n"
          ]
        },
        {
          "output_type": "stream",
          "name": "stdout",
          "text": [
            "['11', 0.9562618732452393, 0.9402822852134705]\n",
            "['12']\n"
          ]
        },
        {
          "output_type": "stream",
          "name": "stderr",
          "text": [
            "/usr/local/lib/python3.7/dist-packages/keras/optimizer_v2/rmsprop.py:130: UserWarning: The `lr` argument is deprecated, use `learning_rate` instead.\n",
            "  super(RMSprop, self).__init__(name, **kwargs)\n"
          ]
        },
        {
          "output_type": "stream",
          "name": "stdout",
          "text": [
            "['12', 0.954088568687439, 0.9131379127502441]\n",
            "['13']\n"
          ]
        },
        {
          "output_type": "stream",
          "name": "stderr",
          "text": [
            "/usr/local/lib/python3.7/dist-packages/keras/optimizer_v2/rmsprop.py:130: UserWarning: The `lr` argument is deprecated, use `learning_rate` instead.\n",
            "  super(RMSprop, self).__init__(name, **kwargs)\n"
          ]
        },
        {
          "output_type": "stream",
          "name": "stdout",
          "text": [
            "['13', 0.9576202034950256, 0.9218240976333618]\n",
            "['14']\n"
          ]
        },
        {
          "output_type": "stream",
          "name": "stderr",
          "text": [
            "/usr/local/lib/python3.7/dist-packages/keras/optimizer_v2/rmsprop.py:130: UserWarning: The `lr` argument is deprecated, use `learning_rate` instead.\n",
            "  super(RMSprop, self).__init__(name, **kwargs)\n"
          ]
        },
        {
          "output_type": "stream",
          "name": "stdout",
          "text": [
            "['14', 0.9513719081878662, 0.9381107687950134]\n",
            "['15']\n"
          ]
        },
        {
          "output_type": "stream",
          "name": "stderr",
          "text": [
            "/usr/local/lib/python3.7/dist-packages/keras/optimizer_v2/rmsprop.py:130: UserWarning: The `lr` argument is deprecated, use `learning_rate` instead.\n",
            "  super(RMSprop, self).__init__(name, **kwargs)\n"
          ]
        },
        {
          "output_type": "stream",
          "name": "stdout",
          "text": [
            "['15', 0.9823417663574219, 0.9891422390937805]\n",
            "['16']\n"
          ]
        },
        {
          "output_type": "stream",
          "name": "stderr",
          "text": [
            "/usr/local/lib/python3.7/dist-packages/keras/optimizer_v2/rmsprop.py:130: UserWarning: The `lr` argument is deprecated, use `learning_rate` instead.\n",
            "  super(RMSprop, self).__init__(name, **kwargs)\n"
          ]
        },
        {
          "output_type": "stream",
          "name": "stdout",
          "text": [
            "['16', 0.9763650894165039, 0.9728555679321289]\n",
            "['17']\n"
          ]
        },
        {
          "output_type": "stream",
          "name": "stderr",
          "text": [
            "/usr/local/lib/python3.7/dist-packages/keras/optimizer_v2/rmsprop.py:130: UserWarning: The `lr` argument is deprecated, use `learning_rate` instead.\n",
            "  super(RMSprop, self).__init__(name, **kwargs)\n"
          ]
        },
        {
          "output_type": "stream",
          "name": "stdout",
          "text": [
            "['17', 0.9652268290519714, 0.9359391927719116]\n",
            "['18']\n"
          ]
        },
        {
          "output_type": "stream",
          "name": "stderr",
          "text": [
            "/usr/local/lib/python3.7/dist-packages/keras/optimizer_v2/rmsprop.py:130: UserWarning: The `lr` argument is deprecated, use `learning_rate` instead.\n",
            "  super(RMSprop, self).__init__(name, **kwargs)\n"
          ]
        },
        {
          "output_type": "stream",
          "name": "stdout",
          "text": [
            "['18', 0.9793534278869629, 0.9511400461196899]\n",
            "['19']\n"
          ]
        },
        {
          "output_type": "stream",
          "name": "stderr",
          "text": [
            "/usr/local/lib/python3.7/dist-packages/keras/optimizer_v2/rmsprop.py:130: UserWarning: The `lr` argument is deprecated, use `learning_rate` instead.\n",
            "  super(RMSprop, self).__init__(name, **kwargs)\n"
          ]
        },
        {
          "output_type": "stream",
          "name": "stdout",
          "text": [
            "['19', 0.9687584638595581, 0.9587404727935791]\n",
            "['20']\n"
          ]
        },
        {
          "output_type": "stream",
          "name": "stderr",
          "text": [
            "/usr/local/lib/python3.7/dist-packages/keras/optimizer_v2/rmsprop.py:130: UserWarning: The `lr` argument is deprecated, use `learning_rate` instead.\n",
            "  super(RMSprop, self).__init__(name, **kwargs)\n"
          ]
        },
        {
          "output_type": "stream",
          "name": "stdout",
          "text": [
            "['20', 0.9703884720802307, 0.9348534345626831]\n",
            "['21']\n"
          ]
        },
        {
          "output_type": "stream",
          "name": "stderr",
          "text": [
            "/usr/local/lib/python3.7/dist-packages/keras/optimizer_v2/rmsprop.py:130: UserWarning: The `lr` argument is deprecated, use `learning_rate` instead.\n",
            "  super(RMSprop, self).__init__(name, **kwargs)\n"
          ]
        },
        {
          "output_type": "stream",
          "name": "stdout",
          "text": [
            "['21', 0.9652268290519714, 0.9435396194458008]\n",
            "['22']\n"
          ]
        },
        {
          "output_type": "stream",
          "name": "stderr",
          "text": [
            "/usr/local/lib/python3.7/dist-packages/keras/optimizer_v2/rmsprop.py:130: UserWarning: The `lr` argument is deprecated, use `learning_rate` instead.\n",
            "  super(RMSprop, self).__init__(name, **kwargs)\n"
          ]
        },
        {
          "output_type": "stream",
          "name": "stdout",
          "text": [
            "['22', 0.9195870757102966, 0.9001085758209229]\n",
            "['23']\n"
          ]
        },
        {
          "output_type": "stream",
          "name": "stderr",
          "text": [
            "/usr/local/lib/python3.7/dist-packages/keras/optimizer_v2/rmsprop.py:130: UserWarning: The `lr` argument is deprecated, use `learning_rate` instead.\n",
            "  super(RMSprop, self).__init__(name, **kwargs)\n"
          ]
        },
        {
          "output_type": "stream",
          "name": "stdout",
          "text": [
            "['23', 0.9837000966072083, 0.9891422390937805]\n",
            "['24']\n"
          ]
        },
        {
          "output_type": "stream",
          "name": "stderr",
          "text": [
            "/usr/local/lib/python3.7/dist-packages/keras/optimizer_v2/rmsprop.py:130: UserWarning: The `lr` argument is deprecated, use `learning_rate` instead.\n",
            "  super(RMSprop, self).__init__(name, **kwargs)\n"
          ]
        },
        {
          "output_type": "stream",
          "name": "stdout",
          "text": [
            "['24', 0.9690301418304443, 0.9576547145843506]\n",
            "['25']\n"
          ]
        },
        {
          "output_type": "stream",
          "name": "stderr",
          "text": [
            "/usr/local/lib/python3.7/dist-packages/keras/optimizer_v2/rmsprop.py:130: UserWarning: The `lr` argument is deprecated, use `learning_rate` instead.\n",
            "  super(RMSprop, self).__init__(name, **kwargs)\n"
          ]
        },
        {
          "output_type": "stream",
          "name": "stdout",
          "text": [
            "['25', 0.9597935080528259, 0.9500542879104614]\n",
            "['26']\n"
          ]
        },
        {
          "output_type": "stream",
          "name": "stderr",
          "text": [
            "/usr/local/lib/python3.7/dist-packages/keras/optimizer_v2/rmsprop.py:130: UserWarning: The `lr` argument is deprecated, use `learning_rate` instead.\n",
            "  super(RMSprop, self).__init__(name, **kwargs)\n"
          ]
        },
        {
          "output_type": "stream",
          "name": "stdout",
          "text": [
            "['26', 0.9671285152435303, 0.9446253776550293]\n",
            "['27']\n"
          ]
        },
        {
          "output_type": "stream",
          "name": "stderr",
          "text": [
            "/usr/local/lib/python3.7/dist-packages/keras/optimizer_v2/rmsprop.py:130: UserWarning: The `lr` argument is deprecated, use `learning_rate` instead.\n",
            "  super(RMSprop, self).__init__(name, **kwargs)\n"
          ]
        },
        {
          "output_type": "stream",
          "name": "stdout",
          "text": [
            "['27', 0.9744634628295898, 0.9739413857460022]\n",
            "['28']\n"
          ]
        },
        {
          "output_type": "stream",
          "name": "stderr",
          "text": [
            "/usr/local/lib/python3.7/dist-packages/keras/optimizer_v2/rmsprop.py:130: UserWarning: The `lr` argument is deprecated, use `learning_rate` instead.\n",
            "  super(RMSprop, self).__init__(name, **kwargs)\n"
          ]
        },
        {
          "output_type": "stream",
          "name": "stdout",
          "text": [
            "['28', 0.9578918814659119, 0.9424538612365723]\n",
            "['29']\n"
          ]
        },
        {
          "output_type": "stream",
          "name": "stderr",
          "text": [
            "/usr/local/lib/python3.7/dist-packages/keras/optimizer_v2/rmsprop.py:130: UserWarning: The `lr` argument is deprecated, use `learning_rate` instead.\n",
            "  super(RMSprop, self).__init__(name, **kwargs)\n"
          ]
        },
        {
          "output_type": "stream",
          "name": "stdout",
          "text": [
            "['29', 0.9826134443283081, 0.9706840515136719]\n",
            "['30']\n"
          ]
        },
        {
          "output_type": "stream",
          "name": "stderr",
          "text": [
            "/usr/local/lib/python3.7/dist-packages/keras/optimizer_v2/rmsprop.py:130: UserWarning: The `lr` argument is deprecated, use `learning_rate` instead.\n",
            "  super(RMSprop, self).__init__(name, **kwargs)\n"
          ]
        },
        {
          "output_type": "stream",
          "name": "stdout",
          "text": [
            "['30', 0.9739201068878174, 0.9706840515136719]\n",
            "['31']\n"
          ]
        },
        {
          "output_type": "stream",
          "name": "stderr",
          "text": [
            "/usr/local/lib/python3.7/dist-packages/keras/optimizer_v2/rmsprop.py:130: UserWarning: The `lr` argument is deprecated, use `learning_rate` instead.\n",
            "  super(RMSprop, self).__init__(name, **kwargs)\n"
          ]
        },
        {
          "output_type": "stream",
          "name": "stdout",
          "text": [
            "['31', 0.9744634628295898, 0.9500542879104614]\n",
            "['32']\n"
          ]
        },
        {
          "output_type": "stream",
          "name": "stderr",
          "text": [
            "/usr/local/lib/python3.7/dist-packages/keras/optimizer_v2/rmsprop.py:130: UserWarning: The `lr` argument is deprecated, use `learning_rate` instead.\n",
            "  super(RMSprop, self).__init__(name, **kwargs)\n"
          ]
        },
        {
          "output_type": "stream",
          "name": "stdout",
          "text": [
            "['32', 0.9820700883865356, 0.9858849048614502]\n"
          ]
        }
      ]
    },
    {
      "cell_type": "code",
      "source": [
        "df = pd.DataFrame(res,columns=['Subject','Accuracy','Val Accuracy'])"
      ],
      "metadata": {
        "id": "dmhMOfZUEbiH"
      },
      "execution_count": null,
      "outputs": []
    },
    {
      "cell_type": "code",
      "source": [
        "df.to_csv('/content/drive/My Drive/data_preprocessed_python/dwt_lstm_Results.csv')"
      ],
      "metadata": {
        "id": "e4e0C3gJEb8O"
      },
      "execution_count": null,
      "outputs": []
    },
    {
      "cell_type": "code",
      "source": [
        "x = np.reshape(x, (x.shape[0],1,x.shape[1]))"
      ],
      "metadata": {
        "id": "arfvrhLqF6Mj"
      },
      "execution_count": null,
      "outputs": []
    },
    {
      "cell_type": "code",
      "source": [
        "y = df_emo.loc[:,0]\n",
        "y = to_categorical(y)"
      ],
      "metadata": {
        "id": "UHlk4kqXGBA8"
      },
      "execution_count": null,
      "outputs": []
    },
    {
      "cell_type": "code",
      "source": [
        "x_train1, x_test1, y_train1, y_test1 = train_test_split(x, y, test_size = 0.2, random_state = 4)"
      ],
      "metadata": {
        "id": "Rw9ogrmrGGGS"
      },
      "execution_count": null,
      "outputs": []
    },
    {
      "cell_type": "code",
      "source": [
        "print(x_train.shape)\n",
        "print(y_train.shape)\n",
        "print(x_test.shape)\n",
        "print(y_test.shape)"
      ],
      "metadata": {
        "colab": {
          "base_uri": "https://localhost:8080/"
        },
        "id": "QJ0nF5fnGJQc",
        "outputId": "1a0ee2cb-d499-4e16-b832-c6ee73957980"
      },
      "execution_count": null,
      "outputs": [
        {
          "output_type": "stream",
          "name": "stdout",
          "text": [
            "(46425, 140)\n",
            "(46425,)\n",
            "(11607, 140)\n",
            "(11607,)\n"
          ]
        }
      ]
    },
    {
      "cell_type": "code",
      "source": [
        "\n",
        "model = Sequential()\n",
        "model.add(LSTM(512, batch_input_shape = (None, None, x.shape[2]),return_sequences=True))\n",
        "model.add(BatchNormalization())\n",
        "model.add(Dropout(0.3))\n",
        "\n",
        "\n",
        "model.add(LSTM(256,activation=\"relu\",return_sequences=True))\n",
        "model.add(BatchNormalization())\n",
        "model.add(Dropout(0.5))\n",
        "\n",
        "\n",
        "model.add(LSTM(128,activation=\"relu\",return_sequences=True))\n",
        "model.add(BatchNormalization())\n",
        "model.add(Dropout(0.3))\n",
        "\n",
        "model.add(LSTM(64,activation=\"relu\",return_sequences=True))\n",
        "model.add(BatchNormalization())\n",
        "model.add(Dropout(0.3))\n",
        "\n",
        "\n",
        "model.add(LSTM(32,activation=\"relu\"))\n",
        "model.add(BatchNormalization())\n",
        "model.add(Dropout(0.2))\n",
        "\n",
        "\n",
        "model.add(Dense(9))\n",
        "model.add(Activation('softmax'))\n",
        "\n",
        "\n",
        "\n",
        "rmsprop =tensorflow.keras.optimizers.RMSprop(lr=0.0005, rho=0.9, epsilon=1e-08)\n",
        "model.compile(loss='mean_squared_error',\n",
        "                  optimizer=rmsprop,\n",
        "                  metrics=['accuracy'])\n",
        "model.summary()"
      ],
      "metadata": {
        "colab": {
          "base_uri": "https://localhost:8080/"
        },
        "id": "UMmYADj4GQKS",
        "outputId": "4712a0c9-63b4-4ce7-840f-7f0558883d12"
      },
      "execution_count": null,
      "outputs": [
        {
          "output_type": "stream",
          "name": "stdout",
          "text": [
            "WARNING:tensorflow:Layer lstm_6 will not use cuDNN kernels since it doesn't meet the criteria. It will use a generic GPU kernel as fallback when running on GPU.\n",
            "WARNING:tensorflow:Layer lstm_7 will not use cuDNN kernels since it doesn't meet the criteria. It will use a generic GPU kernel as fallback when running on GPU.\n",
            "WARNING:tensorflow:Layer lstm_8 will not use cuDNN kernels since it doesn't meet the criteria. It will use a generic GPU kernel as fallback when running on GPU.\n",
            "WARNING:tensorflow:Layer lstm_9 will not use cuDNN kernels since it doesn't meet the criteria. It will use a generic GPU kernel as fallback when running on GPU.\n",
            "Model: \"sequential_1\"\n",
            "_________________________________________________________________\n",
            " Layer (type)                Output Shape              Param #   \n",
            "=================================================================\n",
            " lstm_5 (LSTM)               (None, None, 512)         1337344   \n",
            "                                                                 \n",
            " batch_normalization_5 (Batc  (None, None, 512)        2048      \n",
            " hNormalization)                                                 \n",
            "                                                                 \n",
            " dropout_5 (Dropout)         (None, None, 512)         0         \n",
            "                                                                 \n",
            " lstm_6 (LSTM)               (None, None, 256)         787456    \n",
            "                                                                 \n",
            " batch_normalization_6 (Batc  (None, None, 256)        1024      \n",
            " hNormalization)                                                 \n",
            "                                                                 \n",
            " dropout_6 (Dropout)         (None, None, 256)         0         \n",
            "                                                                 \n",
            " lstm_7 (LSTM)               (None, None, 128)         197120    \n",
            "                                                                 \n",
            " batch_normalization_7 (Batc  (None, None, 128)        512       \n",
            " hNormalization)                                                 \n",
            "                                                                 \n",
            " dropout_7 (Dropout)         (None, None, 128)         0         \n",
            "                                                                 \n",
            " lstm_8 (LSTM)               (None, None, 64)          49408     \n",
            "                                                                 \n",
            " batch_normalization_8 (Batc  (None, None, 64)         256       \n",
            " hNormalization)                                                 \n",
            "                                                                 \n",
            " dropout_8 (Dropout)         (None, None, 64)          0         \n",
            "                                                                 \n",
            " lstm_9 (LSTM)               (None, 32)                12416     \n",
            "                                                                 \n",
            " batch_normalization_9 (Batc  (None, 32)               128       \n",
            " hNormalization)                                                 \n",
            "                                                                 \n",
            " dropout_9 (Dropout)         (None, 32)                0         \n",
            "                                                                 \n",
            " dense_1 (Dense)             (None, 9)                 297       \n",
            "                                                                 \n",
            " activation_1 (Activation)   (None, 9)                 0         \n",
            "                                                                 \n",
            "=================================================================\n",
            "Total params: 2,388,009\n",
            "Trainable params: 2,386,025\n",
            "Non-trainable params: 1,984\n",
            "_________________________________________________________________\n"
          ]
        },
        {
          "output_type": "stream",
          "name": "stderr",
          "text": [
            "/usr/local/lib/python3.7/dist-packages/keras/optimizer_v2/rmsprop.py:130: UserWarning: The `lr` argument is deprecated, use `learning_rate` instead.\n",
            "  super(RMSprop, self).__init__(name, **kwargs)\n"
          ]
        }
      ]
    },
    {
      "cell_type": "code",
      "source": [
        "history = model.fit(x_train1, y_train1, epochs = 500, batch_size=150,validation_data= (x_test1, y_test1))"
      ],
      "metadata": {
        "colab": {
          "base_uri": "https://localhost:8080/"
        },
        "id": "pwy2UikRGTDe",
        "outputId": "38d78a19-860f-48fe-e04d-8f8de2d32ffc"
      },
      "execution_count": null,
      "outputs": [
        {
          "output_type": "stream",
          "name": "stdout",
          "text": [
            "Epoch 1/500\n",
            "99/99 [==============================] - 10s 33ms/step - loss: 0.1052 - accuracy: 0.1681 - val_loss: 0.0980 - val_accuracy: 0.1483\n",
            "Epoch 2/500\n",
            "99/99 [==============================] - 2s 23ms/step - loss: 0.1000 - accuracy: 0.2221 - val_loss: 0.0978 - val_accuracy: 0.1418\n",
            "Epoch 3/500\n",
            "99/99 [==============================] - 2s 23ms/step - loss: 0.0981 - accuracy: 0.2435 - val_loss: 0.0978 - val_accuracy: 0.1678\n",
            "Epoch 4/500\n",
            "99/99 [==============================] - 2s 23ms/step - loss: 0.0967 - accuracy: 0.2612 - val_loss: 0.0968 - val_accuracy: 0.2208\n",
            "Epoch 5/500\n",
            "99/99 [==============================] - 2s 22ms/step - loss: 0.0954 - accuracy: 0.2678 - val_loss: 0.0947 - val_accuracy: 0.2610\n",
            "Epoch 6/500\n",
            "99/99 [==============================] - 2s 23ms/step - loss: 0.0943 - accuracy: 0.2798 - val_loss: 0.0940 - val_accuracy: 0.2466\n",
            "Epoch 7/500\n",
            "99/99 [==============================] - 2s 23ms/step - loss: 0.0931 - accuracy: 0.2892 - val_loss: 0.0926 - val_accuracy: 0.2743\n",
            "Epoch 8/500\n",
            "99/99 [==============================] - 2s 23ms/step - loss: 0.0926 - accuracy: 0.2981 - val_loss: 0.0921 - val_accuracy: 0.3099\n",
            "Epoch 9/500\n",
            "99/99 [==============================] - 2s 22ms/step - loss: 0.0919 - accuracy: 0.3069 - val_loss: 0.1061 - val_accuracy: 0.2222\n",
            "Epoch 10/500\n",
            "99/99 [==============================] - 2s 23ms/step - loss: 0.0906 - accuracy: 0.3194 - val_loss: 0.0949 - val_accuracy: 0.2735\n",
            "Epoch 11/500\n",
            "99/99 [==============================] - 2s 23ms/step - loss: 0.0901 - accuracy: 0.3229 - val_loss: 0.0900 - val_accuracy: 0.3145\n",
            "Epoch 12/500\n",
            "99/99 [==============================] - 2s 23ms/step - loss: 0.0892 - accuracy: 0.3370 - val_loss: 0.1012 - val_accuracy: 0.2064\n",
            "Epoch 13/500\n",
            "99/99 [==============================] - 2s 23ms/step - loss: 0.0888 - accuracy: 0.3376 - val_loss: 0.0935 - val_accuracy: 0.2520\n",
            "Epoch 14/500\n",
            "99/99 [==============================] - 2s 23ms/step - loss: 0.0879 - accuracy: 0.3511 - val_loss: 0.1155 - val_accuracy: 0.2018\n",
            "Epoch 15/500\n",
            "99/99 [==============================] - 2s 22ms/step - loss: 0.0875 - accuracy: 0.3484 - val_loss: 0.0942 - val_accuracy: 0.2740\n",
            "Epoch 16/500\n",
            "99/99 [==============================] - 2s 23ms/step - loss: 0.0866 - accuracy: 0.3614 - val_loss: 0.0934 - val_accuracy: 0.2930\n",
            "Epoch 17/500\n",
            "99/99 [==============================] - 2s 22ms/step - loss: 0.0862 - accuracy: 0.3643 - val_loss: 0.0969 - val_accuracy: 0.2792\n",
            "Epoch 18/500\n",
            "99/99 [==============================] - 2s 22ms/step - loss: 0.0859 - accuracy: 0.3644 - val_loss: 0.0897 - val_accuracy: 0.3207\n",
            "Epoch 19/500\n",
            "99/99 [==============================] - 2s 22ms/step - loss: 0.0850 - accuracy: 0.3744 - val_loss: 0.0898 - val_accuracy: 0.3205\n",
            "Epoch 20/500\n",
            "99/99 [==============================] - 2s 22ms/step - loss: 0.0842 - accuracy: 0.3795 - val_loss: 0.0920 - val_accuracy: 0.2849\n",
            "Epoch 21/500\n",
            "99/99 [==============================] - 2s 24ms/step - loss: 0.0837 - accuracy: 0.3883 - val_loss: 0.1086 - val_accuracy: 0.1898\n",
            "Epoch 22/500\n",
            "99/99 [==============================] - 2s 25ms/step - loss: 0.0829 - accuracy: 0.3948 - val_loss: 0.0960 - val_accuracy: 0.2792\n",
            "Epoch 23/500\n",
            "99/99 [==============================] - 2s 23ms/step - loss: 0.0828 - accuracy: 0.3986 - val_loss: 0.0999 - val_accuracy: 0.2882\n",
            "Epoch 24/500\n",
            "99/99 [==============================] - 2s 24ms/step - loss: 0.0821 - accuracy: 0.4009 - val_loss: 0.0957 - val_accuracy: 0.3169\n",
            "Epoch 25/500\n",
            "99/99 [==============================] - 4s 38ms/step - loss: 0.0818 - accuracy: 0.4078 - val_loss: 0.0945 - val_accuracy: 0.2713\n",
            "Epoch 26/500\n",
            "99/99 [==============================] - 2s 23ms/step - loss: 0.0815 - accuracy: 0.4102 - val_loss: 0.0911 - val_accuracy: 0.3102\n",
            "Epoch 27/500\n",
            "99/99 [==============================] - 2s 23ms/step - loss: 0.0807 - accuracy: 0.4147 - val_loss: 0.0882 - val_accuracy: 0.3408\n",
            "Epoch 28/500\n",
            "99/99 [==============================] - 2s 23ms/step - loss: 0.0804 - accuracy: 0.4172 - val_loss: 0.0881 - val_accuracy: 0.3240\n",
            "Epoch 29/500\n",
            "99/99 [==============================] - 2s 22ms/step - loss: 0.0798 - accuracy: 0.4266 - val_loss: 0.0994 - val_accuracy: 0.2344\n",
            "Epoch 30/500\n",
            "99/99 [==============================] - 2s 23ms/step - loss: 0.0795 - accuracy: 0.4292 - val_loss: 0.1015 - val_accuracy: 0.2099\n",
            "Epoch 31/500\n",
            "99/99 [==============================] - 2s 23ms/step - loss: 0.0788 - accuracy: 0.4324 - val_loss: 0.0972 - val_accuracy: 0.2901\n",
            "Epoch 32/500\n",
            "99/99 [==============================] - 2s 22ms/step - loss: 0.0781 - accuracy: 0.4373 - val_loss: 0.0869 - val_accuracy: 0.3512\n",
            "Epoch 33/500\n",
            "99/99 [==============================] - 2s 22ms/step - loss: 0.0781 - accuracy: 0.4388 - val_loss: 0.1285 - val_accuracy: 0.2040\n",
            "Epoch 34/500\n",
            "99/99 [==============================] - 2s 22ms/step - loss: 0.0774 - accuracy: 0.4486 - val_loss: 0.0887 - val_accuracy: 0.3243\n",
            "Epoch 35/500\n",
            "99/99 [==============================] - 2s 22ms/step - loss: 0.0771 - accuracy: 0.4495 - val_loss: 0.0950 - val_accuracy: 0.2349\n",
            "Epoch 36/500\n",
            "99/99 [==============================] - 2s 22ms/step - loss: 0.0767 - accuracy: 0.4524 - val_loss: 0.1055 - val_accuracy: 0.2099\n",
            "Epoch 37/500\n",
            "99/99 [==============================] - 2s 23ms/step - loss: 0.0762 - accuracy: 0.4578 - val_loss: 0.1238 - val_accuracy: 0.2051\n",
            "Epoch 38/500\n",
            "99/99 [==============================] - 2s 22ms/step - loss: 0.0757 - accuracy: 0.4631 - val_loss: 0.0952 - val_accuracy: 0.3289\n",
            "Epoch 39/500\n",
            "99/99 [==============================] - 2s 23ms/step - loss: 0.0754 - accuracy: 0.4671 - val_loss: 0.1183 - val_accuracy: 0.2420\n",
            "Epoch 40/500\n",
            "99/99 [==============================] - 2s 24ms/step - loss: 0.0748 - accuracy: 0.4710 - val_loss: 0.0830 - val_accuracy: 0.3954\n",
            "Epoch 41/500\n",
            "99/99 [==============================] - 2s 23ms/step - loss: 0.0746 - accuracy: 0.4692 - val_loss: 0.1110 - val_accuracy: 0.1423\n",
            "Epoch 42/500\n",
            "99/99 [==============================] - 2s 22ms/step - loss: 0.0745 - accuracy: 0.4709 - val_loss: 0.0987 - val_accuracy: 0.2510\n",
            "Epoch 43/500\n",
            "99/99 [==============================] - 2s 23ms/step - loss: 0.0737 - accuracy: 0.4781 - val_loss: 0.1044 - val_accuracy: 0.3172\n",
            "Epoch 44/500\n",
            "99/99 [==============================] - 2s 23ms/step - loss: 0.0733 - accuracy: 0.4824 - val_loss: 0.0993 - val_accuracy: 0.2355\n",
            "Epoch 45/500\n",
            "99/99 [==============================] - 2s 22ms/step - loss: 0.0729 - accuracy: 0.4874 - val_loss: 0.1173 - val_accuracy: 0.2678\n",
            "Epoch 46/500\n",
            "99/99 [==============================] - 2s 23ms/step - loss: 0.0726 - accuracy: 0.4916 - val_loss: 0.1120 - val_accuracy: 0.2512\n",
            "Epoch 47/500\n",
            "99/99 [==============================] - 2s 23ms/step - loss: 0.0723 - accuracy: 0.4925 - val_loss: 0.0970 - val_accuracy: 0.2833\n",
            "Epoch 48/500\n",
            "99/99 [==============================] - 2s 24ms/step - loss: 0.0722 - accuracy: 0.4955 - val_loss: 0.0957 - val_accuracy: 0.3216\n",
            "Epoch 49/500\n",
            "99/99 [==============================] - 2s 23ms/step - loss: 0.0719 - accuracy: 0.4952 - val_loss: 0.1083 - val_accuracy: 0.3028\n",
            "Epoch 50/500\n",
            "99/99 [==============================] - 2s 24ms/step - loss: 0.0717 - accuracy: 0.4972 - val_loss: 0.1005 - val_accuracy: 0.2974\n",
            "Epoch 51/500\n",
            "99/99 [==============================] - 2s 23ms/step - loss: 0.0711 - accuracy: 0.5044 - val_loss: 0.1056 - val_accuracy: 0.2846\n",
            "Epoch 52/500\n",
            "99/99 [==============================] - 2s 24ms/step - loss: 0.0701 - accuracy: 0.5107 - val_loss: 0.0990 - val_accuracy: 0.3148\n",
            "Epoch 53/500\n",
            "99/99 [==============================] - 2s 23ms/step - loss: 0.0706 - accuracy: 0.5071 - val_loss: 0.1075 - val_accuracy: 0.2778\n",
            "Epoch 54/500\n",
            "99/99 [==============================] - 2s 23ms/step - loss: 0.0696 - accuracy: 0.5194 - val_loss: 0.1598 - val_accuracy: 0.1719\n",
            "Epoch 55/500\n",
            "99/99 [==============================] - 2s 24ms/step - loss: 0.0695 - accuracy: 0.5189 - val_loss: 0.1191 - val_accuracy: 0.2382\n",
            "Epoch 56/500\n",
            "99/99 [==============================] - 2s 24ms/step - loss: 0.0694 - accuracy: 0.5179 - val_loss: 0.1026 - val_accuracy: 0.2911\n",
            "Epoch 57/500\n",
            "99/99 [==============================] - 2s 24ms/step - loss: 0.0688 - accuracy: 0.5236 - val_loss: 0.1018 - val_accuracy: 0.2257\n",
            "Epoch 58/500\n",
            "99/99 [==============================] - 2s 24ms/step - loss: 0.0685 - accuracy: 0.5281 - val_loss: 0.0972 - val_accuracy: 0.3457\n",
            "Epoch 59/500\n",
            "99/99 [==============================] - 2s 24ms/step - loss: 0.0682 - accuracy: 0.5324 - val_loss: 0.1183 - val_accuracy: 0.1738\n",
            "Epoch 60/500\n",
            "99/99 [==============================] - 2s 23ms/step - loss: 0.0676 - accuracy: 0.5357 - val_loss: 0.1185 - val_accuracy: 0.2279\n",
            "Epoch 61/500\n",
            "99/99 [==============================] - 2s 23ms/step - loss: 0.0680 - accuracy: 0.5346 - val_loss: 0.1051 - val_accuracy: 0.2844\n",
            "Epoch 62/500\n",
            "99/99 [==============================] - 2s 23ms/step - loss: 0.0679 - accuracy: 0.5313 - val_loss: 0.1107 - val_accuracy: 0.2455\n",
            "Epoch 63/500\n",
            "99/99 [==============================] - 2s 22ms/step - loss: 0.0672 - accuracy: 0.5361 - val_loss: 0.1198 - val_accuracy: 0.2621\n",
            "Epoch 64/500\n",
            "99/99 [==============================] - 2s 22ms/step - loss: 0.0670 - accuracy: 0.5399 - val_loss: 0.1106 - val_accuracy: 0.2455\n",
            "Epoch 65/500\n",
            "99/99 [==============================] - 2s 23ms/step - loss: 0.0669 - accuracy: 0.5435 - val_loss: 0.0963 - val_accuracy: 0.3593\n",
            "Epoch 66/500\n",
            "99/99 [==============================] - 2s 23ms/step - loss: 0.0664 - accuracy: 0.5441 - val_loss: 0.1045 - val_accuracy: 0.2197\n",
            "Epoch 67/500\n",
            "99/99 [==============================] - 2s 22ms/step - loss: 0.0665 - accuracy: 0.5462 - val_loss: 0.1293 - val_accuracy: 0.2447\n",
            "Epoch 68/500\n",
            "99/99 [==============================] - 2s 23ms/step - loss: 0.0654 - accuracy: 0.5536 - val_loss: 0.1529 - val_accuracy: 0.2156\n",
            "Epoch 69/500\n",
            "99/99 [==============================] - 2s 22ms/step - loss: 0.0652 - accuracy: 0.5541 - val_loss: 0.1051 - val_accuracy: 0.3088\n",
            "Epoch 70/500\n",
            "99/99 [==============================] - 2s 23ms/step - loss: 0.0656 - accuracy: 0.5541 - val_loss: 0.0921 - val_accuracy: 0.3547\n",
            "Epoch 71/500\n",
            "99/99 [==============================] - 2s 22ms/step - loss: 0.0650 - accuracy: 0.5587 - val_loss: 0.0876 - val_accuracy: 0.4117\n",
            "Epoch 72/500\n",
            "99/99 [==============================] - 2s 22ms/step - loss: 0.0645 - accuracy: 0.5646 - val_loss: 0.1127 - val_accuracy: 0.2727\n",
            "Epoch 73/500\n",
            "99/99 [==============================] - 2s 23ms/step - loss: 0.0640 - accuracy: 0.5658 - val_loss: 0.1413 - val_accuracy: 0.1706\n",
            "Epoch 74/500\n",
            "99/99 [==============================] - 2s 24ms/step - loss: 0.0642 - accuracy: 0.5656 - val_loss: 0.0877 - val_accuracy: 0.3745\n",
            "Epoch 75/500\n",
            "99/99 [==============================] - 2s 23ms/step - loss: 0.0632 - accuracy: 0.5746 - val_loss: 0.1101 - val_accuracy: 0.3281\n",
            "Epoch 76/500\n",
            "99/99 [==============================] - 2s 22ms/step - loss: 0.0630 - accuracy: 0.5777 - val_loss: 0.1227 - val_accuracy: 0.2575\n",
            "Epoch 77/500\n",
            "99/99 [==============================] - 2s 23ms/step - loss: 0.0628 - accuracy: 0.5723 - val_loss: 0.1027 - val_accuracy: 0.2835\n",
            "Epoch 78/500\n",
            "99/99 [==============================] - 2s 23ms/step - loss: 0.0630 - accuracy: 0.5725 - val_loss: 0.0937 - val_accuracy: 0.3683\n",
            "Epoch 79/500\n",
            "99/99 [==============================] - 2s 23ms/step - loss: 0.0626 - accuracy: 0.5770 - val_loss: 0.1185 - val_accuracy: 0.3074\n",
            "Epoch 80/500\n",
            "99/99 [==============================] - 2s 22ms/step - loss: 0.0624 - accuracy: 0.5758 - val_loss: 0.1051 - val_accuracy: 0.3061\n",
            "Epoch 81/500\n",
            "99/99 [==============================] - 2s 22ms/step - loss: 0.0619 - accuracy: 0.5843 - val_loss: 0.1538 - val_accuracy: 0.1187\n",
            "Epoch 82/500\n",
            "99/99 [==============================] - 2s 23ms/step - loss: 0.0618 - accuracy: 0.5871 - val_loss: 0.1276 - val_accuracy: 0.2140\n",
            "Epoch 83/500\n",
            "99/99 [==============================] - 2s 22ms/step - loss: 0.0621 - accuracy: 0.5824 - val_loss: 0.0977 - val_accuracy: 0.3460\n",
            "Epoch 84/500\n",
            "99/99 [==============================] - 2s 22ms/step - loss: 0.0615 - accuracy: 0.5830 - val_loss: 0.1076 - val_accuracy: 0.2857\n",
            "Epoch 85/500\n",
            "99/99 [==============================] - 2s 22ms/step - loss: 0.0605 - accuracy: 0.5943 - val_loss: 0.0972 - val_accuracy: 0.3615\n",
            "Epoch 86/500\n",
            "99/99 [==============================] - 2s 23ms/step - loss: 0.0613 - accuracy: 0.5896 - val_loss: 0.1024 - val_accuracy: 0.3254\n",
            "Epoch 87/500\n",
            "99/99 [==============================] - 2s 24ms/step - loss: 0.0608 - accuracy: 0.5930 - val_loss: 0.1126 - val_accuracy: 0.3281\n",
            "Epoch 88/500\n",
            "99/99 [==============================] - 2s 23ms/step - loss: 0.0599 - accuracy: 0.6011 - val_loss: 0.0865 - val_accuracy: 0.4068\n",
            "Epoch 89/500\n",
            "99/99 [==============================] - 2s 22ms/step - loss: 0.0598 - accuracy: 0.6018 - val_loss: 0.1192 - val_accuracy: 0.2632\n",
            "Epoch 90/500\n",
            "99/99 [==============================] - 2s 23ms/step - loss: 0.0599 - accuracy: 0.6002 - val_loss: 0.1053 - val_accuracy: 0.2949\n",
            "Epoch 91/500\n",
            "99/99 [==============================] - 2s 23ms/step - loss: 0.0595 - accuracy: 0.6044 - val_loss: 0.1062 - val_accuracy: 0.3246\n",
            "Epoch 92/500\n",
            "99/99 [==============================] - 2s 24ms/step - loss: 0.0590 - accuracy: 0.6066 - val_loss: 0.1006 - val_accuracy: 0.3422\n",
            "Epoch 93/500\n",
            "99/99 [==============================] - 2s 23ms/step - loss: 0.0596 - accuracy: 0.6032 - val_loss: 0.1102 - val_accuracy: 0.3351\n",
            "Epoch 94/500\n",
            "99/99 [==============================] - 2s 24ms/step - loss: 0.0587 - accuracy: 0.6113 - val_loss: 0.1062 - val_accuracy: 0.3487\n",
            "Epoch 95/500\n",
            "99/99 [==============================] - 2s 23ms/step - loss: 0.0587 - accuracy: 0.6112 - val_loss: 0.0915 - val_accuracy: 0.4039\n",
            "Epoch 96/500\n",
            "99/99 [==============================] - 2s 23ms/step - loss: 0.0585 - accuracy: 0.6106 - val_loss: 0.1218 - val_accuracy: 0.2189\n",
            "Epoch 97/500\n",
            "99/99 [==============================] - 2s 22ms/step - loss: 0.0578 - accuracy: 0.6154 - val_loss: 0.1112 - val_accuracy: 0.2854\n",
            "Epoch 98/500\n",
            "99/99 [==============================] - 2s 23ms/step - loss: 0.0585 - accuracy: 0.6130 - val_loss: 0.1019 - val_accuracy: 0.3775\n",
            "Epoch 99/500\n",
            "99/99 [==============================] - 2s 22ms/step - loss: 0.0582 - accuracy: 0.6137 - val_loss: 0.1221 - val_accuracy: 0.3207\n",
            "Epoch 100/500\n",
            "99/99 [==============================] - 2s 23ms/step - loss: 0.0572 - accuracy: 0.6201 - val_loss: 0.0953 - val_accuracy: 0.4006\n",
            "Epoch 101/500\n",
            "99/99 [==============================] - 2s 23ms/step - loss: 0.0570 - accuracy: 0.6215 - val_loss: 0.1064 - val_accuracy: 0.2958\n",
            "Epoch 102/500\n",
            "99/99 [==============================] - 2s 23ms/step - loss: 0.0570 - accuracy: 0.6278 - val_loss: 0.1010 - val_accuracy: 0.3639\n",
            "Epoch 103/500\n",
            "99/99 [==============================] - 2s 23ms/step - loss: 0.0570 - accuracy: 0.6244 - val_loss: 0.1138 - val_accuracy: 0.2211\n",
            "Epoch 104/500\n",
            "99/99 [==============================] - 2s 23ms/step - loss: 0.0567 - accuracy: 0.6262 - val_loss: 0.1075 - val_accuracy: 0.3150\n",
            "Epoch 105/500\n",
            "99/99 [==============================] - 2s 22ms/step - loss: 0.0570 - accuracy: 0.6207 - val_loss: 0.0931 - val_accuracy: 0.3555\n",
            "Epoch 106/500\n",
            "99/99 [==============================] - 2s 23ms/step - loss: 0.0563 - accuracy: 0.6335 - val_loss: 0.1231 - val_accuracy: 0.2306\n",
            "Epoch 107/500\n",
            "99/99 [==============================] - 2s 23ms/step - loss: 0.0560 - accuracy: 0.6311 - val_loss: 0.1026 - val_accuracy: 0.3924\n",
            "Epoch 108/500\n",
            "99/99 [==============================] - 2s 22ms/step - loss: 0.0552 - accuracy: 0.6399 - val_loss: 0.1109 - val_accuracy: 0.3395\n",
            "Epoch 109/500\n",
            "99/99 [==============================] - 2s 23ms/step - loss: 0.0555 - accuracy: 0.6348 - val_loss: 0.1071 - val_accuracy: 0.3042\n",
            "Epoch 110/500\n",
            "99/99 [==============================] - 2s 22ms/step - loss: 0.0552 - accuracy: 0.6382 - val_loss: 0.0940 - val_accuracy: 0.3786\n",
            "Epoch 111/500\n",
            "99/99 [==============================] - 2s 24ms/step - loss: 0.0553 - accuracy: 0.6360 - val_loss: 0.1141 - val_accuracy: 0.2553\n",
            "Epoch 112/500\n",
            "99/99 [==============================] - 2s 23ms/step - loss: 0.0547 - accuracy: 0.6429 - val_loss: 0.1024 - val_accuracy: 0.3601\n",
            "Epoch 113/500\n",
            "99/99 [==============================] - 2s 23ms/step - loss: 0.0550 - accuracy: 0.6367 - val_loss: 0.1052 - val_accuracy: 0.3207\n",
            "Epoch 114/500\n",
            "99/99 [==============================] - 2s 23ms/step - loss: 0.0542 - accuracy: 0.6453 - val_loss: 0.1007 - val_accuracy: 0.3724\n",
            "Epoch 115/500\n",
            "99/99 [==============================] - 2s 22ms/step - loss: 0.0542 - accuracy: 0.6442 - val_loss: 0.1185 - val_accuracy: 0.3066\n",
            "Epoch 116/500\n",
            "99/99 [==============================] - 2s 23ms/step - loss: 0.0539 - accuracy: 0.6495 - val_loss: 0.1067 - val_accuracy: 0.3615\n",
            "Epoch 117/500\n",
            "99/99 [==============================] - 2s 23ms/step - loss: 0.0542 - accuracy: 0.6480 - val_loss: 0.1090 - val_accuracy: 0.3563\n",
            "Epoch 118/500\n",
            "99/99 [==============================] - 2s 23ms/step - loss: 0.0543 - accuracy: 0.6425 - val_loss: 0.0926 - val_accuracy: 0.4117\n",
            "Epoch 119/500\n",
            "99/99 [==============================] - 2s 22ms/step - loss: 0.0536 - accuracy: 0.6503 - val_loss: 0.1211 - val_accuracy: 0.2594\n",
            "Epoch 120/500\n",
            "99/99 [==============================] - 2s 22ms/step - loss: 0.0538 - accuracy: 0.6453 - val_loss: 0.1309 - val_accuracy: 0.2920\n",
            "Epoch 121/500\n",
            "99/99 [==============================] - 2s 22ms/step - loss: 0.0534 - accuracy: 0.6512 - val_loss: 0.1044 - val_accuracy: 0.3612\n",
            "Epoch 122/500\n",
            "99/99 [==============================] - 2s 22ms/step - loss: 0.0532 - accuracy: 0.6542 - val_loss: 0.1273 - val_accuracy: 0.2575\n",
            "Epoch 123/500\n",
            "99/99 [==============================] - 2s 23ms/step - loss: 0.0534 - accuracy: 0.6512 - val_loss: 0.0990 - val_accuracy: 0.3680\n",
            "Epoch 124/500\n",
            "99/99 [==============================] - 2s 23ms/step - loss: 0.0530 - accuracy: 0.6575 - val_loss: 0.1303 - val_accuracy: 0.2412\n",
            "Epoch 125/500\n",
            "99/99 [==============================] - 2s 22ms/step - loss: 0.0527 - accuracy: 0.6558 - val_loss: 0.1025 - val_accuracy: 0.3485\n",
            "Epoch 126/500\n",
            "99/99 [==============================] - 2s 23ms/step - loss: 0.0522 - accuracy: 0.6640 - val_loss: 0.1013 - val_accuracy: 0.3851\n",
            "Epoch 127/500\n",
            "99/99 [==============================] - 2s 23ms/step - loss: 0.0523 - accuracy: 0.6629 - val_loss: 0.1052 - val_accuracy: 0.3240\n",
            "Epoch 128/500\n",
            "99/99 [==============================] - 2s 23ms/step - loss: 0.0518 - accuracy: 0.6602 - val_loss: 0.1024 - val_accuracy: 0.3110\n",
            "Epoch 129/500\n",
            "99/99 [==============================] - 2s 23ms/step - loss: 0.0521 - accuracy: 0.6612 - val_loss: 0.1182 - val_accuracy: 0.2811\n",
            "Epoch 130/500\n",
            "99/99 [==============================] - 2s 24ms/step - loss: 0.0510 - accuracy: 0.6698 - val_loss: 0.1103 - val_accuracy: 0.3354\n",
            "Epoch 131/500\n",
            "99/99 [==============================] - 2s 22ms/step - loss: 0.0517 - accuracy: 0.6623 - val_loss: 0.1217 - val_accuracy: 0.2181\n",
            "Epoch 132/500\n",
            "99/99 [==============================] - 2s 23ms/step - loss: 0.0510 - accuracy: 0.6700 - val_loss: 0.1178 - val_accuracy: 0.3083\n",
            "Epoch 133/500\n",
            "99/99 [==============================] - 2s 23ms/step - loss: 0.0512 - accuracy: 0.6680 - val_loss: 0.1140 - val_accuracy: 0.2979\n",
            "Epoch 134/500\n",
            "99/99 [==============================] - 2s 23ms/step - loss: 0.0512 - accuracy: 0.6645 - val_loss: 0.0969 - val_accuracy: 0.3800\n",
            "Epoch 135/500\n",
            "99/99 [==============================] - 2s 23ms/step - loss: 0.0503 - accuracy: 0.6738 - val_loss: 0.1325 - val_accuracy: 0.2205\n",
            "Epoch 136/500\n",
            "99/99 [==============================] - 2s 23ms/step - loss: 0.0512 - accuracy: 0.6662 - val_loss: 0.0992 - val_accuracy: 0.3838\n",
            "Epoch 137/500\n",
            "99/99 [==============================] - 2s 23ms/step - loss: 0.0504 - accuracy: 0.6747 - val_loss: 0.1196 - val_accuracy: 0.3167\n",
            "Epoch 138/500\n",
            "99/99 [==============================] - 2s 23ms/step - loss: 0.0502 - accuracy: 0.6751 - val_loss: 0.1065 - val_accuracy: 0.3580\n",
            "Epoch 139/500\n",
            "99/99 [==============================] - 2s 23ms/step - loss: 0.0504 - accuracy: 0.6749 - val_loss: 0.1115 - val_accuracy: 0.2849\n",
            "Epoch 140/500\n",
            "99/99 [==============================] - 2s 23ms/step - loss: 0.0504 - accuracy: 0.6734 - val_loss: 0.1503 - val_accuracy: 0.2078\n",
            "Epoch 141/500\n",
            "99/99 [==============================] - 2s 23ms/step - loss: 0.0506 - accuracy: 0.6744 - val_loss: 0.1057 - val_accuracy: 0.3789\n",
            "Epoch 142/500\n",
            "99/99 [==============================] - 2s 24ms/step - loss: 0.0491 - accuracy: 0.6840 - val_loss: 0.0963 - val_accuracy: 0.4142\n",
            "Epoch 143/500\n",
            "99/99 [==============================] - 2s 23ms/step - loss: 0.0487 - accuracy: 0.6867 - val_loss: 0.0927 - val_accuracy: 0.3808\n",
            "Epoch 144/500\n",
            "99/99 [==============================] - 2s 23ms/step - loss: 0.0496 - accuracy: 0.6819 - val_loss: 0.1091 - val_accuracy: 0.3509\n",
            "Epoch 145/500\n",
            "99/99 [==============================] - 2s 23ms/step - loss: 0.0494 - accuracy: 0.6817 - val_loss: 0.1053 - val_accuracy: 0.3941\n",
            "Epoch 146/500\n",
            "99/99 [==============================] - 2s 23ms/step - loss: 0.0494 - accuracy: 0.6859 - val_loss: 0.1244 - val_accuracy: 0.2656\n",
            "Epoch 147/500\n",
            "99/99 [==============================] - 4s 37ms/step - loss: 0.0489 - accuracy: 0.6858 - val_loss: 0.1193 - val_accuracy: 0.2599\n",
            "Epoch 148/500\n",
            "99/99 [==============================] - 3s 26ms/step - loss: 0.0486 - accuracy: 0.6890 - val_loss: 0.1409 - val_accuracy: 0.1822\n",
            "Epoch 149/500\n",
            "99/99 [==============================] - 2s 23ms/step - loss: 0.0490 - accuracy: 0.6858 - val_loss: 0.0945 - val_accuracy: 0.4115\n",
            "Epoch 150/500\n",
            "99/99 [==============================] - 2s 23ms/step - loss: 0.0489 - accuracy: 0.6847 - val_loss: 0.0935 - val_accuracy: 0.4240\n",
            "Epoch 151/500\n",
            "99/99 [==============================] - 2s 23ms/step - loss: 0.0483 - accuracy: 0.6885 - val_loss: 0.1102 - val_accuracy: 0.3221\n",
            "Epoch 152/500\n",
            "99/99 [==============================] - 2s 23ms/step - loss: 0.0482 - accuracy: 0.6913 - val_loss: 0.1150 - val_accuracy: 0.2860\n",
            "Epoch 153/500\n",
            "99/99 [==============================] - 2s 23ms/step - loss: 0.0483 - accuracy: 0.6902 - val_loss: 0.0980 - val_accuracy: 0.3963\n",
            "Epoch 154/500\n",
            "99/99 [==============================] - 2s 23ms/step - loss: 0.0483 - accuracy: 0.6879 - val_loss: 0.0925 - val_accuracy: 0.4237\n",
            "Epoch 155/500\n",
            "99/99 [==============================] - 2s 23ms/step - loss: 0.0481 - accuracy: 0.6941 - val_loss: 0.1077 - val_accuracy: 0.3536\n",
            "Epoch 156/500\n",
            "99/99 [==============================] - 2s 24ms/step - loss: 0.0472 - accuracy: 0.6987 - val_loss: 0.1071 - val_accuracy: 0.3824\n",
            "Epoch 157/500\n",
            "99/99 [==============================] - 2s 23ms/step - loss: 0.0476 - accuracy: 0.6944 - val_loss: 0.1127 - val_accuracy: 0.2854\n",
            "Epoch 158/500\n",
            "99/99 [==============================] - 2s 23ms/step - loss: 0.0474 - accuracy: 0.6973 - val_loss: 0.1046 - val_accuracy: 0.3485\n",
            "Epoch 159/500\n",
            "99/99 [==============================] - 2s 23ms/step - loss: 0.0469 - accuracy: 0.7014 - val_loss: 0.1056 - val_accuracy: 0.3474\n",
            "Epoch 160/500\n",
            "99/99 [==============================] - 2s 24ms/step - loss: 0.0478 - accuracy: 0.6959 - val_loss: 0.0986 - val_accuracy: 0.4022\n",
            "Epoch 161/500\n",
            "99/99 [==============================] - 2s 24ms/step - loss: 0.0465 - accuracy: 0.7024 - val_loss: 0.0951 - val_accuracy: 0.3990\n",
            "Epoch 162/500\n",
            "99/99 [==============================] - 2s 24ms/step - loss: 0.0473 - accuracy: 0.6968 - val_loss: 0.1212 - val_accuracy: 0.2776\n",
            "Epoch 163/500\n",
            "99/99 [==============================] - 2s 24ms/step - loss: 0.0474 - accuracy: 0.6960 - val_loss: 0.1076 - val_accuracy: 0.3965\n",
            "Epoch 164/500\n",
            "99/99 [==============================] - 2s 24ms/step - loss: 0.0468 - accuracy: 0.7000 - val_loss: 0.1121 - val_accuracy: 0.3188\n",
            "Epoch 165/500\n",
            "99/99 [==============================] - 2s 23ms/step - loss: 0.0467 - accuracy: 0.7023 - val_loss: 0.1006 - val_accuracy: 0.3884\n",
            "Epoch 166/500\n",
            "99/99 [==============================] - 2s 23ms/step - loss: 0.0464 - accuracy: 0.7044 - val_loss: 0.0997 - val_accuracy: 0.3805\n",
            "Epoch 167/500\n",
            "99/99 [==============================] - 2s 23ms/step - loss: 0.0468 - accuracy: 0.7019 - val_loss: 0.0931 - val_accuracy: 0.4218\n",
            "Epoch 168/500\n",
            "99/99 [==============================] - 2s 23ms/step - loss: 0.0467 - accuracy: 0.6990 - val_loss: 0.1197 - val_accuracy: 0.2689\n",
            "Epoch 169/500\n",
            "99/99 [==============================] - 2s 23ms/step - loss: 0.0466 - accuracy: 0.7062 - val_loss: 0.1033 - val_accuracy: 0.3596\n",
            "Epoch 170/500\n",
            "99/99 [==============================] - 2s 23ms/step - loss: 0.0463 - accuracy: 0.7038 - val_loss: 0.0975 - val_accuracy: 0.3944\n",
            "Epoch 171/500\n",
            "99/99 [==============================] - 2s 23ms/step - loss: 0.0458 - accuracy: 0.7085 - val_loss: 0.0970 - val_accuracy: 0.4231\n",
            "Epoch 172/500\n",
            "99/99 [==============================] - 2s 22ms/step - loss: 0.0458 - accuracy: 0.7066 - val_loss: 0.1003 - val_accuracy: 0.3914\n",
            "Epoch 173/500\n",
            "99/99 [==============================] - 2s 23ms/step - loss: 0.0448 - accuracy: 0.7157 - val_loss: 0.0955 - val_accuracy: 0.4185\n",
            "Epoch 174/500\n",
            "99/99 [==============================] - 2s 23ms/step - loss: 0.0461 - accuracy: 0.7081 - val_loss: 0.1042 - val_accuracy: 0.3278\n",
            "Epoch 175/500\n",
            "99/99 [==============================] - 2s 23ms/step - loss: 0.0457 - accuracy: 0.7059 - val_loss: 0.1038 - val_accuracy: 0.3669\n",
            "Epoch 176/500\n",
            "99/99 [==============================] - 2s 23ms/step - loss: 0.0457 - accuracy: 0.7090 - val_loss: 0.0973 - val_accuracy: 0.4125\n",
            "Epoch 177/500\n",
            "99/99 [==============================] - 2s 23ms/step - loss: 0.0454 - accuracy: 0.7109 - val_loss: 0.1034 - val_accuracy: 0.3819\n",
            "Epoch 178/500\n",
            "99/99 [==============================] - 2s 24ms/step - loss: 0.0460 - accuracy: 0.7070 - val_loss: 0.1072 - val_accuracy: 0.3324\n",
            "Epoch 179/500\n",
            "99/99 [==============================] - 2s 24ms/step - loss: 0.0445 - accuracy: 0.7162 - val_loss: 0.0996 - val_accuracy: 0.3797\n",
            "Epoch 180/500\n",
            "99/99 [==============================] - 2s 23ms/step - loss: 0.0451 - accuracy: 0.7143 - val_loss: 0.1054 - val_accuracy: 0.3897\n",
            "Epoch 181/500\n",
            "99/99 [==============================] - 2s 24ms/step - loss: 0.0451 - accuracy: 0.7145 - val_loss: 0.1097 - val_accuracy: 0.3542\n",
            "Epoch 182/500\n",
            "99/99 [==============================] - 2s 23ms/step - loss: 0.0447 - accuracy: 0.7170 - val_loss: 0.1097 - val_accuracy: 0.3517\n",
            "Epoch 183/500\n",
            "99/99 [==============================] - 2s 24ms/step - loss: 0.0446 - accuracy: 0.7140 - val_loss: 0.0944 - val_accuracy: 0.4231\n",
            "Epoch 184/500\n",
            "99/99 [==============================] - 2s 23ms/step - loss: 0.0443 - accuracy: 0.7187 - val_loss: 0.1012 - val_accuracy: 0.4071\n",
            "Epoch 185/500\n",
            "99/99 [==============================] - 2s 23ms/step - loss: 0.0439 - accuracy: 0.7216 - val_loss: 0.1058 - val_accuracy: 0.3691\n",
            "Epoch 186/500\n",
            "99/99 [==============================] - 2s 23ms/step - loss: 0.0447 - accuracy: 0.7152 - val_loss: 0.0986 - val_accuracy: 0.3976\n",
            "Epoch 187/500\n",
            "99/99 [==============================] - 2s 23ms/step - loss: 0.0451 - accuracy: 0.7117 - val_loss: 0.1012 - val_accuracy: 0.3933\n",
            "Epoch 188/500\n",
            "99/99 [==============================] - 2s 23ms/step - loss: 0.0444 - accuracy: 0.7149 - val_loss: 0.0964 - val_accuracy: 0.4139\n",
            "Epoch 189/500\n",
            "99/99 [==============================] - 2s 23ms/step - loss: 0.0442 - accuracy: 0.7183 - val_loss: 0.0919 - val_accuracy: 0.3800\n",
            "Epoch 190/500\n",
            "99/99 [==============================] - 2s 24ms/step - loss: 0.0449 - accuracy: 0.7145 - val_loss: 0.1085 - val_accuracy: 0.3468\n",
            "Epoch 191/500\n",
            "99/99 [==============================] - 2s 24ms/step - loss: 0.0438 - accuracy: 0.7209 - val_loss: 0.1153 - val_accuracy: 0.3156\n",
            "Epoch 192/500\n",
            "99/99 [==============================] - 2s 23ms/step - loss: 0.0439 - accuracy: 0.7239 - val_loss: 0.0921 - val_accuracy: 0.4278\n",
            "Epoch 193/500\n",
            "99/99 [==============================] - 2s 24ms/step - loss: 0.0445 - accuracy: 0.7188 - val_loss: 0.0991 - val_accuracy: 0.3924\n",
            "Epoch 194/500\n",
            "99/99 [==============================] - 2s 24ms/step - loss: 0.0441 - accuracy: 0.7200 - val_loss: 0.1251 - val_accuracy: 0.3058\n",
            "Epoch 195/500\n",
            "99/99 [==============================] - 2s 25ms/step - loss: 0.0435 - accuracy: 0.7231 - val_loss: 0.1082 - val_accuracy: 0.3240\n",
            "Epoch 196/500\n",
            "99/99 [==============================] - 2s 24ms/step - loss: 0.0437 - accuracy: 0.7227 - val_loss: 0.1009 - val_accuracy: 0.3561\n",
            "Epoch 197/500\n",
            "99/99 [==============================] - 2s 24ms/step - loss: 0.0428 - accuracy: 0.7277 - val_loss: 0.0923 - val_accuracy: 0.4405\n",
            "Epoch 198/500\n",
            "99/99 [==============================] - 2s 24ms/step - loss: 0.0429 - accuracy: 0.7266 - val_loss: 0.1045 - val_accuracy: 0.3656\n",
            "Epoch 199/500\n",
            "99/99 [==============================] - 2s 23ms/step - loss: 0.0435 - accuracy: 0.7239 - val_loss: 0.0978 - val_accuracy: 0.4196\n",
            "Epoch 200/500\n",
            "99/99 [==============================] - 2s 23ms/step - loss: 0.0436 - accuracy: 0.7228 - val_loss: 0.1054 - val_accuracy: 0.3463\n",
            "Epoch 201/500\n",
            "99/99 [==============================] - 2s 23ms/step - loss: 0.0428 - accuracy: 0.7295 - val_loss: 0.0967 - val_accuracy: 0.4180\n",
            "Epoch 202/500\n",
            "99/99 [==============================] - 2s 23ms/step - loss: 0.0427 - accuracy: 0.7294 - val_loss: 0.1047 - val_accuracy: 0.3436\n",
            "Epoch 203/500\n",
            "99/99 [==============================] - 2s 23ms/step - loss: 0.0433 - accuracy: 0.7303 - val_loss: 0.1094 - val_accuracy: 0.3256\n",
            "Epoch 204/500\n",
            "99/99 [==============================] - 2s 23ms/step - loss: 0.0434 - accuracy: 0.7246 - val_loss: 0.1042 - val_accuracy: 0.3531\n",
            "Epoch 205/500\n",
            "99/99 [==============================] - 2s 23ms/step - loss: 0.0424 - accuracy: 0.7329 - val_loss: 0.0964 - val_accuracy: 0.4014\n",
            "Epoch 206/500\n",
            "99/99 [==============================] - 2s 22ms/step - loss: 0.0431 - accuracy: 0.7259 - val_loss: 0.1005 - val_accuracy: 0.3726\n",
            "Epoch 207/500\n",
            "99/99 [==============================] - 2s 23ms/step - loss: 0.0430 - accuracy: 0.7291 - val_loss: 0.0921 - val_accuracy: 0.4544\n",
            "Epoch 208/500\n",
            "99/99 [==============================] - 2s 24ms/step - loss: 0.0428 - accuracy: 0.7288 - val_loss: 0.0960 - val_accuracy: 0.3778\n",
            "Epoch 209/500\n",
            "99/99 [==============================] - 2s 23ms/step - loss: 0.0423 - accuracy: 0.7341 - val_loss: 0.0893 - val_accuracy: 0.4373\n",
            "Epoch 210/500\n",
            "99/99 [==============================] - 2s 23ms/step - loss: 0.0422 - accuracy: 0.7341 - val_loss: 0.1045 - val_accuracy: 0.3846\n",
            "Epoch 211/500\n",
            "99/99 [==============================] - 2s 23ms/step - loss: 0.0417 - accuracy: 0.7374 - val_loss: 0.0995 - val_accuracy: 0.4006\n",
            "Epoch 212/500\n",
            "99/99 [==============================] - 2s 24ms/step - loss: 0.0425 - accuracy: 0.7320 - val_loss: 0.0783 - val_accuracy: 0.4913\n",
            "Epoch 213/500\n",
            "99/99 [==============================] - 2s 24ms/step - loss: 0.0421 - accuracy: 0.7346 - val_loss: 0.1126 - val_accuracy: 0.3430\n",
            "Epoch 214/500\n",
            "99/99 [==============================] - 2s 23ms/step - loss: 0.0420 - accuracy: 0.7367 - val_loss: 0.1056 - val_accuracy: 0.3808\n",
            "Epoch 215/500\n",
            "99/99 [==============================] - 2s 23ms/step - loss: 0.0421 - accuracy: 0.7339 - val_loss: 0.1017 - val_accuracy: 0.3946\n",
            "Epoch 216/500\n",
            "99/99 [==============================] - 2s 23ms/step - loss: 0.0415 - accuracy: 0.7388 - val_loss: 0.1290 - val_accuracy: 0.2602\n",
            "Epoch 217/500\n",
            "99/99 [==============================] - 2s 23ms/step - loss: 0.0422 - accuracy: 0.7300 - val_loss: 0.1113 - val_accuracy: 0.3313\n",
            "Epoch 218/500\n",
            "99/99 [==============================] - 2s 23ms/step - loss: 0.0422 - accuracy: 0.7333 - val_loss: 0.0988 - val_accuracy: 0.3938\n",
            "Epoch 219/500\n",
            "99/99 [==============================] - 2s 23ms/step - loss: 0.0419 - accuracy: 0.7386 - val_loss: 0.1252 - val_accuracy: 0.2740\n",
            "Epoch 220/500\n",
            "99/99 [==============================] - 2s 23ms/step - loss: 0.0416 - accuracy: 0.7351 - val_loss: 0.1059 - val_accuracy: 0.3707\n",
            "Epoch 221/500\n",
            "99/99 [==============================] - 2s 23ms/step - loss: 0.0406 - accuracy: 0.7429 - val_loss: 0.1158 - val_accuracy: 0.2876\n",
            "Epoch 222/500\n",
            "99/99 [==============================] - 2s 23ms/step - loss: 0.0410 - accuracy: 0.7414 - val_loss: 0.1099 - val_accuracy: 0.3452\n",
            "Epoch 223/500\n",
            "99/99 [==============================] - 2s 23ms/step - loss: 0.0417 - accuracy: 0.7354 - val_loss: 0.0955 - val_accuracy: 0.4030\n",
            "Epoch 224/500\n",
            "99/99 [==============================] - 2s 24ms/step - loss: 0.0407 - accuracy: 0.7441 - val_loss: 0.1043 - val_accuracy: 0.3509\n",
            "Epoch 225/500\n",
            "99/99 [==============================] - 2s 23ms/step - loss: 0.0413 - accuracy: 0.7394 - val_loss: 0.1013 - val_accuracy: 0.3982\n",
            "Epoch 226/500\n",
            "99/99 [==============================] - 2s 24ms/step - loss: 0.0410 - accuracy: 0.7443 - val_loss: 0.1074 - val_accuracy: 0.3289\n",
            "Epoch 227/500\n",
            "99/99 [==============================] - 2s 24ms/step - loss: 0.0408 - accuracy: 0.7447 - val_loss: 0.1097 - val_accuracy: 0.3550\n",
            "Epoch 228/500\n",
            "99/99 [==============================] - 2s 24ms/step - loss: 0.0410 - accuracy: 0.7406 - val_loss: 0.1230 - val_accuracy: 0.2659\n",
            "Epoch 229/500\n",
            "99/99 [==============================] - 2s 23ms/step - loss: 0.0416 - accuracy: 0.7379 - val_loss: 0.0838 - val_accuracy: 0.4796\n",
            "Epoch 230/500\n",
            "99/99 [==============================] - 2s 25ms/step - loss: 0.0402 - accuracy: 0.7472 - val_loss: 0.0988 - val_accuracy: 0.3952\n",
            "Epoch 231/500\n",
            "99/99 [==============================] - 2s 24ms/step - loss: 0.0404 - accuracy: 0.7479 - val_loss: 0.1162 - val_accuracy: 0.2979\n",
            "Epoch 232/500\n",
            "99/99 [==============================] - 2s 25ms/step - loss: 0.0411 - accuracy: 0.7414 - val_loss: 0.0992 - val_accuracy: 0.3870\n",
            "Epoch 233/500\n",
            "99/99 [==============================] - 2s 24ms/step - loss: 0.0401 - accuracy: 0.7500 - val_loss: 0.1024 - val_accuracy: 0.3558\n",
            "Epoch 234/500\n",
            "99/99 [==============================] - 2s 25ms/step - loss: 0.0399 - accuracy: 0.7499 - val_loss: 0.1032 - val_accuracy: 0.3786\n",
            "Epoch 235/500\n",
            "99/99 [==============================] - 2s 23ms/step - loss: 0.0405 - accuracy: 0.7437 - val_loss: 0.1109 - val_accuracy: 0.3088\n",
            "Epoch 236/500\n",
            "99/99 [==============================] - 2s 23ms/step - loss: 0.0406 - accuracy: 0.7454 - val_loss: 0.0930 - val_accuracy: 0.4199\n",
            "Epoch 237/500\n",
            "99/99 [==============================] - 2s 23ms/step - loss: 0.0405 - accuracy: 0.7468 - val_loss: 0.0849 - val_accuracy: 0.4764\n",
            "Epoch 238/500\n",
            "99/99 [==============================] - 2s 24ms/step - loss: 0.0398 - accuracy: 0.7489 - val_loss: 0.0985 - val_accuracy: 0.4272\n",
            "Epoch 239/500\n",
            "99/99 [==============================] - 2s 24ms/step - loss: 0.0401 - accuracy: 0.7509 - val_loss: 0.1071 - val_accuracy: 0.3637\n",
            "Epoch 240/500\n",
            "99/99 [==============================] - 2s 24ms/step - loss: 0.0400 - accuracy: 0.7455 - val_loss: 0.1211 - val_accuracy: 0.3232\n",
            "Epoch 241/500\n",
            "99/99 [==============================] - 2s 23ms/step - loss: 0.0396 - accuracy: 0.7496 - val_loss: 0.1120 - val_accuracy: 0.3365\n",
            "Epoch 242/500\n",
            "99/99 [==============================] - 2s 24ms/step - loss: 0.0398 - accuracy: 0.7489 - val_loss: 0.0973 - val_accuracy: 0.4180\n",
            "Epoch 243/500\n",
            "99/99 [==============================] - 2s 24ms/step - loss: 0.0399 - accuracy: 0.7498 - val_loss: 0.1024 - val_accuracy: 0.3770\n",
            "Epoch 244/500\n",
            "99/99 [==============================] - 2s 23ms/step - loss: 0.0398 - accuracy: 0.7492 - val_loss: 0.1122 - val_accuracy: 0.3531\n",
            "Epoch 245/500\n",
            "99/99 [==============================] - 2s 25ms/step - loss: 0.0392 - accuracy: 0.7554 - val_loss: 0.1158 - val_accuracy: 0.3297\n",
            "Epoch 246/500\n",
            "99/99 [==============================] - 2s 24ms/step - loss: 0.0389 - accuracy: 0.7540 - val_loss: 0.1090 - val_accuracy: 0.3835\n",
            "Epoch 247/500\n",
            "99/99 [==============================] - 2s 24ms/step - loss: 0.0390 - accuracy: 0.7549 - val_loss: 0.1073 - val_accuracy: 0.3656\n",
            "Epoch 248/500\n",
            "99/99 [==============================] - 2s 24ms/step - loss: 0.0392 - accuracy: 0.7550 - val_loss: 0.1011 - val_accuracy: 0.4017\n",
            "Epoch 249/500\n",
            "99/99 [==============================] - 2s 23ms/step - loss: 0.0392 - accuracy: 0.7533 - val_loss: 0.0949 - val_accuracy: 0.4441\n",
            "Epoch 250/500\n",
            "99/99 [==============================] - 2s 23ms/step - loss: 0.0392 - accuracy: 0.7555 - val_loss: 0.1055 - val_accuracy: 0.3417\n",
            "Epoch 251/500\n",
            "99/99 [==============================] - 2s 24ms/step - loss: 0.0386 - accuracy: 0.7581 - val_loss: 0.1271 - val_accuracy: 0.2865\n",
            "Epoch 252/500\n",
            "99/99 [==============================] - 2s 24ms/step - loss: 0.0392 - accuracy: 0.7555 - val_loss: 0.0946 - val_accuracy: 0.4514\n",
            "Epoch 253/500\n",
            "99/99 [==============================] - 2s 24ms/step - loss: 0.0396 - accuracy: 0.7530 - val_loss: 0.0913 - val_accuracy: 0.4454\n",
            "Epoch 254/500\n",
            "99/99 [==============================] - 2s 23ms/step - loss: 0.0387 - accuracy: 0.7555 - val_loss: 0.0990 - val_accuracy: 0.4085\n",
            "Epoch 255/500\n",
            "99/99 [==============================] - 2s 23ms/step - loss: 0.0394 - accuracy: 0.7551 - val_loss: 0.0967 - val_accuracy: 0.4394\n",
            "Epoch 256/500\n",
            "99/99 [==============================] - 2s 23ms/step - loss: 0.0389 - accuracy: 0.7563 - val_loss: 0.0932 - val_accuracy: 0.4278\n",
            "Epoch 257/500\n",
            "99/99 [==============================] - 2s 24ms/step - loss: 0.0395 - accuracy: 0.7533 - val_loss: 0.1115 - val_accuracy: 0.3786\n",
            "Epoch 258/500\n",
            "99/99 [==============================] - 2s 23ms/step - loss: 0.0391 - accuracy: 0.7532 - val_loss: 0.1106 - val_accuracy: 0.3639\n",
            "Epoch 259/500\n",
            "99/99 [==============================] - 2s 24ms/step - loss: 0.0387 - accuracy: 0.7585 - val_loss: 0.0957 - val_accuracy: 0.4231\n",
            "Epoch 260/500\n",
            "99/99 [==============================] - 2s 24ms/step - loss: 0.0389 - accuracy: 0.7564 - val_loss: 0.0864 - val_accuracy: 0.4557\n",
            "Epoch 261/500\n",
            "99/99 [==============================] - 2s 24ms/step - loss: 0.0390 - accuracy: 0.7562 - val_loss: 0.1016 - val_accuracy: 0.3805\n",
            "Epoch 262/500\n",
            "99/99 [==============================] - 2s 24ms/step - loss: 0.0381 - accuracy: 0.7625 - val_loss: 0.1361 - val_accuracy: 0.2480\n",
            "Epoch 263/500\n",
            "99/99 [==============================] - 2s 23ms/step - loss: 0.0385 - accuracy: 0.7609 - val_loss: 0.1047 - val_accuracy: 0.3726\n",
            "Epoch 264/500\n",
            "99/99 [==============================] - 2s 24ms/step - loss: 0.0381 - accuracy: 0.7633 - val_loss: 0.1497 - val_accuracy: 0.2485\n",
            "Epoch 265/500\n",
            "99/99 [==============================] - 2s 24ms/step - loss: 0.0386 - accuracy: 0.7593 - val_loss: 0.1077 - val_accuracy: 0.3370\n",
            "Epoch 266/500\n",
            "99/99 [==============================] - 2s 25ms/step - loss: 0.0384 - accuracy: 0.7611 - val_loss: 0.0969 - val_accuracy: 0.4231\n",
            "Epoch 267/500\n",
            "99/99 [==============================] - 2s 25ms/step - loss: 0.0383 - accuracy: 0.7606 - val_loss: 0.1216 - val_accuracy: 0.2713\n",
            "Epoch 268/500\n",
            "99/99 [==============================] - 2s 25ms/step - loss: 0.0388 - accuracy: 0.7557 - val_loss: 0.0964 - val_accuracy: 0.4128\n",
            "Epoch 269/500\n",
            "99/99 [==============================] - 2s 24ms/step - loss: 0.0383 - accuracy: 0.7604 - val_loss: 0.1183 - val_accuracy: 0.3487\n",
            "Epoch 270/500\n",
            "99/99 [==============================] - 2s 24ms/step - loss: 0.0379 - accuracy: 0.7633 - val_loss: 0.1012 - val_accuracy: 0.3963\n",
            "Epoch 271/500\n",
            "99/99 [==============================] - 2s 24ms/step - loss: 0.0375 - accuracy: 0.7657 - val_loss: 0.0894 - val_accuracy: 0.4457\n",
            "Epoch 272/500\n",
            "99/99 [==============================] - 2s 25ms/step - loss: 0.0382 - accuracy: 0.7636 - val_loss: 0.1003 - val_accuracy: 0.3838\n",
            "Epoch 273/500\n",
            "99/99 [==============================] - 2s 24ms/step - loss: 0.0380 - accuracy: 0.7635 - val_loss: 0.1131 - val_accuracy: 0.3569\n",
            "Epoch 274/500\n",
            "99/99 [==============================] - 2s 24ms/step - loss: 0.0377 - accuracy: 0.7679 - val_loss: 0.0965 - val_accuracy: 0.4188\n",
            "Epoch 275/500\n",
            "99/99 [==============================] - 2s 24ms/step - loss: 0.0373 - accuracy: 0.7663 - val_loss: 0.0869 - val_accuracy: 0.4598\n",
            "Epoch 276/500\n",
            "99/99 [==============================] - 2s 24ms/step - loss: 0.0378 - accuracy: 0.7627 - val_loss: 0.1024 - val_accuracy: 0.3596\n",
            "Epoch 277/500\n",
            "99/99 [==============================] - 2s 24ms/step - loss: 0.0379 - accuracy: 0.7634 - val_loss: 0.1050 - val_accuracy: 0.3661\n",
            "Epoch 278/500\n",
            "99/99 [==============================] - 2s 24ms/step - loss: 0.0373 - accuracy: 0.7667 - val_loss: 0.0907 - val_accuracy: 0.4549\n",
            "Epoch 279/500\n",
            "99/99 [==============================] - 2s 24ms/step - loss: 0.0381 - accuracy: 0.7595 - val_loss: 0.1059 - val_accuracy: 0.3762\n",
            "Epoch 280/500\n",
            "99/99 [==============================] - 2s 24ms/step - loss: 0.0370 - accuracy: 0.7699 - val_loss: 0.1204 - val_accuracy: 0.3471\n",
            "Epoch 281/500\n",
            "99/99 [==============================] - 2s 24ms/step - loss: 0.0375 - accuracy: 0.7662 - val_loss: 0.1098 - val_accuracy: 0.3642\n",
            "Epoch 282/500\n",
            "99/99 [==============================] - 2s 24ms/step - loss: 0.0374 - accuracy: 0.7673 - val_loss: 0.0920 - val_accuracy: 0.4275\n",
            "Epoch 283/500\n",
            "99/99 [==============================] - 2s 25ms/step - loss: 0.0368 - accuracy: 0.7725 - val_loss: 0.1086 - val_accuracy: 0.3142\n",
            "Epoch 284/500\n",
            "99/99 [==============================] - 2s 24ms/step - loss: 0.0373 - accuracy: 0.7693 - val_loss: 0.1095 - val_accuracy: 0.3781\n",
            "Epoch 285/500\n",
            "99/99 [==============================] - 2s 25ms/step - loss: 0.0373 - accuracy: 0.7684 - val_loss: 0.1181 - val_accuracy: 0.3381\n",
            "Epoch 286/500\n",
            "99/99 [==============================] - 2s 24ms/step - loss: 0.0370 - accuracy: 0.7709 - val_loss: 0.1107 - val_accuracy: 0.3759\n",
            "Epoch 287/500\n",
            "99/99 [==============================] - 2s 24ms/step - loss: 0.0371 - accuracy: 0.7714 - val_loss: 0.1111 - val_accuracy: 0.3430\n",
            "Epoch 288/500\n",
            "99/99 [==============================] - 2s 24ms/step - loss: 0.0367 - accuracy: 0.7736 - val_loss: 0.1114 - val_accuracy: 0.3411\n",
            "Epoch 289/500\n",
            "99/99 [==============================] - 2s 24ms/step - loss: 0.0378 - accuracy: 0.7635 - val_loss: 0.1229 - val_accuracy: 0.3265\n",
            "Epoch 290/500\n",
            "99/99 [==============================] - 2s 25ms/step - loss: 0.0371 - accuracy: 0.7677 - val_loss: 0.1098 - val_accuracy: 0.3707\n",
            "Epoch 291/500\n",
            "99/99 [==============================] - 2s 25ms/step - loss: 0.0369 - accuracy: 0.7731 - val_loss: 0.1137 - val_accuracy: 0.3197\n",
            "Epoch 292/500\n",
            "99/99 [==============================] - 2s 25ms/step - loss: 0.0371 - accuracy: 0.7702 - val_loss: 0.1020 - val_accuracy: 0.3924\n",
            "Epoch 293/500\n",
            "99/99 [==============================] - 2s 25ms/step - loss: 0.0368 - accuracy: 0.7727 - val_loss: 0.0999 - val_accuracy: 0.4063\n",
            "Epoch 294/500\n",
            "99/99 [==============================] - 2s 24ms/step - loss: 0.0376 - accuracy: 0.7655 - val_loss: 0.0897 - val_accuracy: 0.4297\n",
            "Epoch 295/500\n",
            "99/99 [==============================] - 2s 25ms/step - loss: 0.0368 - accuracy: 0.7721 - val_loss: 0.0995 - val_accuracy: 0.4191\n",
            "Epoch 296/500\n",
            "99/99 [==============================] - 2s 25ms/step - loss: 0.0365 - accuracy: 0.7726 - val_loss: 0.0934 - val_accuracy: 0.4582\n",
            "Epoch 297/500\n",
            "99/99 [==============================] - 2s 25ms/step - loss: 0.0367 - accuracy: 0.7689 - val_loss: 0.1126 - val_accuracy: 0.3542\n",
            "Epoch 298/500\n",
            "99/99 [==============================] - 3s 25ms/step - loss: 0.0369 - accuracy: 0.7718 - val_loss: 0.0957 - val_accuracy: 0.4071\n",
            "Epoch 299/500\n",
            "99/99 [==============================] - 3s 25ms/step - loss: 0.0367 - accuracy: 0.7741 - val_loss: 0.0996 - val_accuracy: 0.3838\n",
            "Epoch 300/500\n",
            "99/99 [==============================] - 2s 25ms/step - loss: 0.0375 - accuracy: 0.7689 - val_loss: 0.0906 - val_accuracy: 0.4500\n",
            "Epoch 301/500\n",
            "99/99 [==============================] - 2s 25ms/step - loss: 0.0363 - accuracy: 0.7733 - val_loss: 0.1259 - val_accuracy: 0.2903\n",
            "Epoch 302/500\n",
            "99/99 [==============================] - 2s 25ms/step - loss: 0.0364 - accuracy: 0.7743 - val_loss: 0.1021 - val_accuracy: 0.4136\n",
            "Epoch 303/500\n",
            "99/99 [==============================] - 2s 24ms/step - loss: 0.0362 - accuracy: 0.7761 - val_loss: 0.1139 - val_accuracy: 0.3034\n",
            "Epoch 304/500\n",
            "99/99 [==============================] - 2s 25ms/step - loss: 0.0369 - accuracy: 0.7703 - val_loss: 0.0902 - val_accuracy: 0.4563\n",
            "Epoch 305/500\n",
            "99/99 [==============================] - 2s 25ms/step - loss: 0.0363 - accuracy: 0.7767 - val_loss: 0.0933 - val_accuracy: 0.4443\n",
            "Epoch 306/500\n",
            "99/99 [==============================] - 2s 25ms/step - loss: 0.0366 - accuracy: 0.7736 - val_loss: 0.1195 - val_accuracy: 0.3023\n",
            "Epoch 307/500\n",
            "99/99 [==============================] - 2s 24ms/step - loss: 0.0368 - accuracy: 0.7731 - val_loss: 0.1195 - val_accuracy: 0.3297\n",
            "Epoch 308/500\n",
            "99/99 [==============================] - 2s 24ms/step - loss: 0.0363 - accuracy: 0.7740 - val_loss: 0.0807 - val_accuracy: 0.5272\n",
            "Epoch 309/500\n",
            "99/99 [==============================] - 2s 24ms/step - loss: 0.0362 - accuracy: 0.7767 - val_loss: 0.1056 - val_accuracy: 0.3715\n",
            "Epoch 310/500\n",
            "99/99 [==============================] - 2s 25ms/step - loss: 0.0359 - accuracy: 0.7764 - val_loss: 0.1007 - val_accuracy: 0.3886\n",
            "Epoch 311/500\n",
            "99/99 [==============================] - 2s 24ms/step - loss: 0.0359 - accuracy: 0.7800 - val_loss: 0.1158 - val_accuracy: 0.3444\n",
            "Epoch 312/500\n",
            "99/99 [==============================] - 3s 31ms/step - loss: 0.0358 - accuracy: 0.7790 - val_loss: 0.0975 - val_accuracy: 0.4229\n",
            "Epoch 313/500\n",
            "99/99 [==============================] - 3s 35ms/step - loss: 0.0360 - accuracy: 0.7734 - val_loss: 0.0908 - val_accuracy: 0.4302\n",
            "Epoch 314/500\n",
            "99/99 [==============================] - 2s 25ms/step - loss: 0.0363 - accuracy: 0.7742 - val_loss: 0.0959 - val_accuracy: 0.4207\n",
            "Epoch 315/500\n",
            "99/99 [==============================] - 2s 24ms/step - loss: 0.0352 - accuracy: 0.7839 - val_loss: 0.0972 - val_accuracy: 0.4408\n",
            "Epoch 316/500\n",
            "99/99 [==============================] - 2s 24ms/step - loss: 0.0353 - accuracy: 0.7805 - val_loss: 0.0890 - val_accuracy: 0.4772\n",
            "Epoch 317/500\n",
            "99/99 [==============================] - 2s 24ms/step - loss: 0.0353 - accuracy: 0.7829 - val_loss: 0.0921 - val_accuracy: 0.4549\n",
            "Epoch 318/500\n",
            "99/99 [==============================] - 2s 25ms/step - loss: 0.0363 - accuracy: 0.7755 - val_loss: 0.1075 - val_accuracy: 0.3460\n",
            "Epoch 319/500\n",
            "99/99 [==============================] - 2s 24ms/step - loss: 0.0362 - accuracy: 0.7762 - val_loss: 0.1009 - val_accuracy: 0.4003\n",
            "Epoch 320/500\n",
            "99/99 [==============================] - 2s 24ms/step - loss: 0.0353 - accuracy: 0.7808 - val_loss: 0.1071 - val_accuracy: 0.3694\n",
            "Epoch 321/500\n",
            "99/99 [==============================] - 2s 24ms/step - loss: 0.0358 - accuracy: 0.7782 - val_loss: 0.1403 - val_accuracy: 0.2681\n",
            "Epoch 322/500\n",
            "99/99 [==============================] - 2s 25ms/step - loss: 0.0349 - accuracy: 0.7849 - val_loss: 0.0867 - val_accuracy: 0.4897\n",
            "Epoch 323/500\n",
            "99/99 [==============================] - 2s 24ms/step - loss: 0.0350 - accuracy: 0.7833 - val_loss: 0.1082 - val_accuracy: 0.3810\n",
            "Epoch 324/500\n",
            "99/99 [==============================] - 2s 25ms/step - loss: 0.0360 - accuracy: 0.7774 - val_loss: 0.0993 - val_accuracy: 0.4174\n",
            "Epoch 325/500\n",
            "99/99 [==============================] - 2s 25ms/step - loss: 0.0354 - accuracy: 0.7856 - val_loss: 0.0867 - val_accuracy: 0.4842\n",
            "Epoch 326/500\n",
            "99/99 [==============================] - 2s 25ms/step - loss: 0.0360 - accuracy: 0.7792 - val_loss: 0.1272 - val_accuracy: 0.2835\n",
            "Epoch 327/500\n",
            "99/99 [==============================] - 2s 24ms/step - loss: 0.0356 - accuracy: 0.7798 - val_loss: 0.1043 - val_accuracy: 0.3691\n",
            "Epoch 328/500\n",
            "99/99 [==============================] - 2s 24ms/step - loss: 0.0356 - accuracy: 0.7777 - val_loss: 0.1043 - val_accuracy: 0.3862\n",
            "Epoch 329/500\n",
            "99/99 [==============================] - 2s 25ms/step - loss: 0.0349 - accuracy: 0.7826 - val_loss: 0.1205 - val_accuracy: 0.3180\n",
            "Epoch 330/500\n",
            "99/99 [==============================] - 3s 26ms/step - loss: 0.0353 - accuracy: 0.7821 - val_loss: 0.0948 - val_accuracy: 0.4185\n",
            "Epoch 331/500\n",
            "99/99 [==============================] - 3s 25ms/step - loss: 0.0344 - accuracy: 0.7847 - val_loss: 0.0941 - val_accuracy: 0.4574\n",
            "Epoch 332/500\n",
            "99/99 [==============================] - 2s 25ms/step - loss: 0.0359 - accuracy: 0.7748 - val_loss: 0.0913 - val_accuracy: 0.4307\n",
            "Epoch 333/500\n",
            "99/99 [==============================] - 2s 25ms/step - loss: 0.0355 - accuracy: 0.7815 - val_loss: 0.0968 - val_accuracy: 0.4131\n",
            "Epoch 334/500\n",
            "99/99 [==============================] - 3s 25ms/step - loss: 0.0351 - accuracy: 0.7838 - val_loss: 0.1049 - val_accuracy: 0.4185\n",
            "Epoch 335/500\n",
            "99/99 [==============================] - 2s 25ms/step - loss: 0.0355 - accuracy: 0.7803 - val_loss: 0.0907 - val_accuracy: 0.4503\n",
            "Epoch 336/500\n",
            "99/99 [==============================] - 2s 24ms/step - loss: 0.0346 - accuracy: 0.7848 - val_loss: 0.1108 - val_accuracy: 0.3313\n",
            "Epoch 337/500\n",
            "99/99 [==============================] - 2s 24ms/step - loss: 0.0347 - accuracy: 0.7848 - val_loss: 0.1003 - val_accuracy: 0.4427\n",
            "Epoch 338/500\n",
            "99/99 [==============================] - 2s 24ms/step - loss: 0.0351 - accuracy: 0.7830 - val_loss: 0.0948 - val_accuracy: 0.4492\n",
            "Epoch 339/500\n",
            "99/99 [==============================] - 2s 24ms/step - loss: 0.0350 - accuracy: 0.7849 - val_loss: 0.1058 - val_accuracy: 0.3487\n",
            "Epoch 340/500\n",
            "99/99 [==============================] - 2s 24ms/step - loss: 0.0352 - accuracy: 0.7807 - val_loss: 0.0989 - val_accuracy: 0.4090\n",
            "Epoch 341/500\n",
            "99/99 [==============================] - 2s 24ms/step - loss: 0.0341 - accuracy: 0.7891 - val_loss: 0.1083 - val_accuracy: 0.3848\n",
            "Epoch 342/500\n",
            "99/99 [==============================] - 2s 25ms/step - loss: 0.0347 - accuracy: 0.7839 - val_loss: 0.1039 - val_accuracy: 0.4177\n",
            "Epoch 343/500\n",
            "99/99 [==============================] - 2s 25ms/step - loss: 0.0349 - accuracy: 0.7850 - val_loss: 0.1074 - val_accuracy: 0.3905\n",
            "Epoch 344/500\n",
            "99/99 [==============================] - 2s 24ms/step - loss: 0.0343 - accuracy: 0.7887 - val_loss: 0.0972 - val_accuracy: 0.4174\n",
            "Epoch 345/500\n",
            "99/99 [==============================] - 2s 25ms/step - loss: 0.0341 - accuracy: 0.7902 - val_loss: 0.1087 - val_accuracy: 0.3658\n",
            "Epoch 346/500\n",
            "99/99 [==============================] - 2s 24ms/step - loss: 0.0342 - accuracy: 0.7908 - val_loss: 0.0983 - val_accuracy: 0.3751\n",
            "Epoch 347/500\n",
            "99/99 [==============================] - 2s 25ms/step - loss: 0.0351 - accuracy: 0.7834 - val_loss: 0.0900 - val_accuracy: 0.4389\n",
            "Epoch 348/500\n",
            "99/99 [==============================] - 2s 24ms/step - loss: 0.0347 - accuracy: 0.7853 - val_loss: 0.1032 - val_accuracy: 0.4052\n",
            "Epoch 349/500\n",
            "99/99 [==============================] - 2s 24ms/step - loss: 0.0338 - accuracy: 0.7934 - val_loss: 0.0872 - val_accuracy: 0.4718\n",
            "Epoch 350/500\n",
            "99/99 [==============================] - 2s 24ms/step - loss: 0.0348 - accuracy: 0.7863 - val_loss: 0.1083 - val_accuracy: 0.3384\n",
            "Epoch 351/500\n",
            "99/99 [==============================] - 3s 25ms/step - loss: 0.0347 - accuracy: 0.7868 - val_loss: 0.0967 - val_accuracy: 0.4267\n",
            "Epoch 352/500\n",
            "99/99 [==============================] - 2s 25ms/step - loss: 0.0345 - accuracy: 0.7862 - val_loss: 0.1047 - val_accuracy: 0.3859\n",
            "Epoch 353/500\n",
            "99/99 [==============================] - 2s 25ms/step - loss: 0.0339 - accuracy: 0.7923 - val_loss: 0.1068 - val_accuracy: 0.3808\n",
            "Epoch 354/500\n",
            "99/99 [==============================] - 2s 25ms/step - loss: 0.0349 - accuracy: 0.7831 - val_loss: 0.1026 - val_accuracy: 0.3838\n",
            "Epoch 355/500\n",
            "99/99 [==============================] - 2s 25ms/step - loss: 0.0340 - accuracy: 0.7904 - val_loss: 0.1245 - val_accuracy: 0.3039\n",
            "Epoch 356/500\n",
            "99/99 [==============================] - 2s 25ms/step - loss: 0.0341 - accuracy: 0.7910 - val_loss: 0.0959 - val_accuracy: 0.4207\n",
            "Epoch 357/500\n",
            "99/99 [==============================] - 2s 24ms/step - loss: 0.0350 - accuracy: 0.7837 - val_loss: 0.0811 - val_accuracy: 0.4976\n",
            "Epoch 358/500\n",
            "99/99 [==============================] - 2s 25ms/step - loss: 0.0347 - accuracy: 0.7864 - val_loss: 0.0912 - val_accuracy: 0.4348\n",
            "Epoch 359/500\n",
            "99/99 [==============================] - 2s 24ms/step - loss: 0.0342 - accuracy: 0.7885 - val_loss: 0.1162 - val_accuracy: 0.3186\n",
            "Epoch 360/500\n",
            "99/99 [==============================] - 2s 25ms/step - loss: 0.0342 - accuracy: 0.7896 - val_loss: 0.0922 - val_accuracy: 0.4622\n",
            "Epoch 361/500\n",
            "99/99 [==============================] - 2s 25ms/step - loss: 0.0338 - accuracy: 0.7941 - val_loss: 0.0889 - val_accuracy: 0.4449\n",
            "Epoch 362/500\n",
            "99/99 [==============================] - 3s 25ms/step - loss: 0.0337 - accuracy: 0.7906 - val_loss: 0.0990 - val_accuracy: 0.4123\n",
            "Epoch 363/500\n",
            "99/99 [==============================] - 3s 25ms/step - loss: 0.0339 - accuracy: 0.7900 - val_loss: 0.1323 - val_accuracy: 0.2719\n",
            "Epoch 364/500\n",
            "99/99 [==============================] - 3s 26ms/step - loss: 0.0341 - accuracy: 0.7889 - val_loss: 0.1190 - val_accuracy: 0.3148\n",
            "Epoch 365/500\n",
            "99/99 [==============================] - 2s 25ms/step - loss: 0.0339 - accuracy: 0.7921 - val_loss: 0.0915 - val_accuracy: 0.4332\n",
            "Epoch 366/500\n",
            "99/99 [==============================] - 2s 25ms/step - loss: 0.0344 - accuracy: 0.7875 - val_loss: 0.0789 - val_accuracy: 0.5130\n",
            "Epoch 367/500\n",
            "99/99 [==============================] - 2s 24ms/step - loss: 0.0343 - accuracy: 0.7893 - val_loss: 0.1310 - val_accuracy: 0.2645\n",
            "Epoch 368/500\n",
            "99/99 [==============================] - 2s 24ms/step - loss: 0.0337 - accuracy: 0.7934 - val_loss: 0.1213 - val_accuracy: 0.3055\n",
            "Epoch 369/500\n",
            "99/99 [==============================] - 2s 25ms/step - loss: 0.0334 - accuracy: 0.7948 - val_loss: 0.1039 - val_accuracy: 0.4123\n",
            "Epoch 370/500\n",
            "99/99 [==============================] - 2s 24ms/step - loss: 0.0332 - accuracy: 0.7929 - val_loss: 0.1091 - val_accuracy: 0.3713\n",
            "Epoch 371/500\n",
            "99/99 [==============================] - 2s 25ms/step - loss: 0.0341 - accuracy: 0.7897 - val_loss: 0.0934 - val_accuracy: 0.4565\n",
            "Epoch 372/500\n",
            "99/99 [==============================] - 2s 25ms/step - loss: 0.0340 - accuracy: 0.7908 - val_loss: 0.1035 - val_accuracy: 0.4036\n",
            "Epoch 373/500\n",
            "99/99 [==============================] - 2s 24ms/step - loss: 0.0338 - accuracy: 0.7913 - val_loss: 0.1081 - val_accuracy: 0.3737\n",
            "Epoch 374/500\n",
            "99/99 [==============================] - 2s 24ms/step - loss: 0.0341 - accuracy: 0.7917 - val_loss: 0.1045 - val_accuracy: 0.3867\n",
            "Epoch 375/500\n",
            "99/99 [==============================] - 2s 24ms/step - loss: 0.0336 - accuracy: 0.7938 - val_loss: 0.0940 - val_accuracy: 0.4617\n",
            "Epoch 376/500\n",
            "99/99 [==============================] - 3s 25ms/step - loss: 0.0334 - accuracy: 0.7932 - val_loss: 0.1093 - val_accuracy: 0.3829\n",
            "Epoch 377/500\n",
            "99/99 [==============================] - 3s 25ms/step - loss: 0.0336 - accuracy: 0.7941 - val_loss: 0.0973 - val_accuracy: 0.4128\n",
            "Epoch 378/500\n",
            "99/99 [==============================] - 2s 25ms/step - loss: 0.0334 - accuracy: 0.7976 - val_loss: 0.1019 - val_accuracy: 0.4144\n",
            "Epoch 379/500\n",
            "99/99 [==============================] - 2s 25ms/step - loss: 0.0337 - accuracy: 0.7938 - val_loss: 0.1169 - val_accuracy: 0.3297\n",
            "Epoch 380/500\n",
            "99/99 [==============================] - 2s 25ms/step - loss: 0.0330 - accuracy: 0.7981 - val_loss: 0.0989 - val_accuracy: 0.4226\n",
            "Epoch 381/500\n",
            "99/99 [==============================] - 2s 25ms/step - loss: 0.0325 - accuracy: 0.7977 - val_loss: 0.0891 - val_accuracy: 0.4658\n",
            "Epoch 382/500\n",
            "99/99 [==============================] - 2s 25ms/step - loss: 0.0337 - accuracy: 0.7934 - val_loss: 0.1047 - val_accuracy: 0.3884\n",
            "Epoch 383/500\n",
            "99/99 [==============================] - 3s 25ms/step - loss: 0.0335 - accuracy: 0.7938 - val_loss: 0.1068 - val_accuracy: 0.3604\n",
            "Epoch 384/500\n",
            "99/99 [==============================] - 2s 25ms/step - loss: 0.0335 - accuracy: 0.7932 - val_loss: 0.1047 - val_accuracy: 0.3639\n",
            "Epoch 385/500\n",
            "99/99 [==============================] - 2s 25ms/step - loss: 0.0327 - accuracy: 0.7979 - val_loss: 0.0815 - val_accuracy: 0.5223\n",
            "Epoch 386/500\n",
            "99/99 [==============================] - 2s 24ms/step - loss: 0.0333 - accuracy: 0.7962 - val_loss: 0.1102 - val_accuracy: 0.3843\n",
            "Epoch 387/500\n",
            "99/99 [==============================] - 2s 25ms/step - loss: 0.0331 - accuracy: 0.7977 - val_loss: 0.1072 - val_accuracy: 0.3653\n",
            "Epoch 388/500\n",
            "99/99 [==============================] - 2s 25ms/step - loss: 0.0331 - accuracy: 0.7958 - val_loss: 0.0904 - val_accuracy: 0.4644\n",
            "Epoch 389/500\n",
            "99/99 [==============================] - 2s 24ms/step - loss: 0.0332 - accuracy: 0.7974 - val_loss: 0.1238 - val_accuracy: 0.2854\n",
            "Epoch 390/500\n",
            "99/99 [==============================] - 2s 24ms/step - loss: 0.0329 - accuracy: 0.7978 - val_loss: 0.0920 - val_accuracy: 0.4631\n",
            "Epoch 391/500\n",
            "99/99 [==============================] - 2s 24ms/step - loss: 0.0332 - accuracy: 0.7976 - val_loss: 0.0943 - val_accuracy: 0.4253\n",
            "Epoch 392/500\n",
            "99/99 [==============================] - 2s 25ms/step - loss: 0.0333 - accuracy: 0.7968 - val_loss: 0.1118 - val_accuracy: 0.3474\n",
            "Epoch 393/500\n",
            "99/99 [==============================] - 2s 25ms/step - loss: 0.0332 - accuracy: 0.7950 - val_loss: 0.0963 - val_accuracy: 0.4155\n",
            "Epoch 394/500\n",
            "99/99 [==============================] - 2s 24ms/step - loss: 0.0338 - accuracy: 0.7921 - val_loss: 0.1033 - val_accuracy: 0.4093\n",
            "Epoch 395/500\n",
            "99/99 [==============================] - 2s 25ms/step - loss: 0.0331 - accuracy: 0.7976 - val_loss: 0.1159 - val_accuracy: 0.3218\n",
            "Epoch 396/500\n",
            "99/99 [==============================] - 3s 27ms/step - loss: 0.0331 - accuracy: 0.7962 - val_loss: 0.0941 - val_accuracy: 0.4435\n",
            "Epoch 397/500\n",
            "99/99 [==============================] - 3s 26ms/step - loss: 0.0330 - accuracy: 0.7980 - val_loss: 0.0879 - val_accuracy: 0.4669\n",
            "Epoch 398/500\n",
            "99/99 [==============================] - 3s 26ms/step - loss: 0.0324 - accuracy: 0.7987 - val_loss: 0.1032 - val_accuracy: 0.4074\n",
            "Epoch 399/500\n",
            "99/99 [==============================] - 3s 25ms/step - loss: 0.0330 - accuracy: 0.7972 - val_loss: 0.1026 - val_accuracy: 0.3919\n",
            "Epoch 400/500\n",
            "99/99 [==============================] - 2s 24ms/step - loss: 0.0327 - accuracy: 0.7968 - val_loss: 0.1008 - val_accuracy: 0.4044\n",
            "Epoch 401/500\n",
            "99/99 [==============================] - 2s 25ms/step - loss: 0.0325 - accuracy: 0.8001 - val_loss: 0.1181 - val_accuracy: 0.3411\n",
            "Epoch 402/500\n",
            "99/99 [==============================] - 2s 25ms/step - loss: 0.0328 - accuracy: 0.7984 - val_loss: 0.0946 - val_accuracy: 0.4389\n",
            "Epoch 403/500\n",
            "99/99 [==============================] - 2s 24ms/step - loss: 0.0330 - accuracy: 0.7982 - val_loss: 0.1165 - val_accuracy: 0.3696\n",
            "Epoch 404/500\n",
            "99/99 [==============================] - 3s 25ms/step - loss: 0.0333 - accuracy: 0.7940 - val_loss: 0.0898 - val_accuracy: 0.4549\n",
            "Epoch 405/500\n",
            "99/99 [==============================] - 2s 24ms/step - loss: 0.0324 - accuracy: 0.8007 - val_loss: 0.1074 - val_accuracy: 0.3618\n",
            "Epoch 406/500\n",
            "99/99 [==============================] - 2s 25ms/step - loss: 0.0319 - accuracy: 0.8028 - val_loss: 0.0908 - val_accuracy: 0.4777\n",
            "Epoch 407/500\n",
            "99/99 [==============================] - 2s 25ms/step - loss: 0.0325 - accuracy: 0.7995 - val_loss: 0.0937 - val_accuracy: 0.4229\n",
            "Epoch 408/500\n",
            "99/99 [==============================] - 3s 25ms/step - loss: 0.0328 - accuracy: 0.7981 - val_loss: 0.0939 - val_accuracy: 0.4397\n",
            "Epoch 409/500\n",
            "99/99 [==============================] - 2s 25ms/step - loss: 0.0317 - accuracy: 0.8059 - val_loss: 0.0916 - val_accuracy: 0.4511\n",
            "Epoch 410/500\n",
            "99/99 [==============================] - 3s 26ms/step - loss: 0.0325 - accuracy: 0.8001 - val_loss: 0.0987 - val_accuracy: 0.4212\n",
            "Epoch 411/500\n",
            "99/99 [==============================] - 3s 25ms/step - loss: 0.0325 - accuracy: 0.8002 - val_loss: 0.0838 - val_accuracy: 0.4948\n",
            "Epoch 412/500\n",
            "99/99 [==============================] - 3s 25ms/step - loss: 0.0329 - accuracy: 0.7975 - val_loss: 0.0833 - val_accuracy: 0.4932\n",
            "Epoch 413/500\n",
            "99/99 [==============================] - 3s 26ms/step - loss: 0.0322 - accuracy: 0.8039 - val_loss: 0.1101 - val_accuracy: 0.3675\n",
            "Epoch 414/500\n",
            "99/99 [==============================] - 3s 26ms/step - loss: 0.0323 - accuracy: 0.8016 - val_loss: 0.0939 - val_accuracy: 0.4438\n",
            "Epoch 415/500\n",
            "99/99 [==============================] - 2s 25ms/step - loss: 0.0327 - accuracy: 0.7998 - val_loss: 0.0917 - val_accuracy: 0.4609\n",
            "Epoch 416/500\n",
            "99/99 [==============================] - 2s 25ms/step - loss: 0.0320 - accuracy: 0.8033 - val_loss: 0.1070 - val_accuracy: 0.3827\n",
            "Epoch 417/500\n",
            "99/99 [==============================] - 3s 25ms/step - loss: 0.0314 - accuracy: 0.8076 - val_loss: 0.1183 - val_accuracy: 0.3419\n",
            "Epoch 418/500\n",
            "99/99 [==============================] - 2s 25ms/step - loss: 0.0323 - accuracy: 0.8010 - val_loss: 0.1015 - val_accuracy: 0.4136\n",
            "Epoch 419/500\n",
            "99/99 [==============================] - 3s 25ms/step - loss: 0.0319 - accuracy: 0.8012 - val_loss: 0.1104 - val_accuracy: 0.3403\n",
            "Epoch 420/500\n",
            "99/99 [==============================] - 3s 26ms/step - loss: 0.0326 - accuracy: 0.7970 - val_loss: 0.1014 - val_accuracy: 0.4212\n",
            "Epoch 421/500\n",
            "99/99 [==============================] - 2s 25ms/step - loss: 0.0326 - accuracy: 0.7970 - val_loss: 0.0990 - val_accuracy: 0.4250\n",
            "Epoch 422/500\n",
            "99/99 [==============================] - 2s 24ms/step - loss: 0.0325 - accuracy: 0.7995 - val_loss: 0.1060 - val_accuracy: 0.3699\n",
            "Epoch 423/500\n",
            "99/99 [==============================] - 2s 25ms/step - loss: 0.0316 - accuracy: 0.8062 - val_loss: 0.0890 - val_accuracy: 0.4595\n",
            "Epoch 424/500\n",
            "99/99 [==============================] - 2s 25ms/step - loss: 0.0321 - accuracy: 0.8059 - val_loss: 0.0988 - val_accuracy: 0.4087\n",
            "Epoch 425/500\n",
            "99/99 [==============================] - 2s 25ms/step - loss: 0.0309 - accuracy: 0.8102 - val_loss: 0.1011 - val_accuracy: 0.4033\n",
            "Epoch 426/500\n",
            "99/99 [==============================] - 2s 25ms/step - loss: 0.0321 - accuracy: 0.8040 - val_loss: 0.1035 - val_accuracy: 0.3824\n",
            "Epoch 427/500\n",
            "99/99 [==============================] - 2s 25ms/step - loss: 0.0329 - accuracy: 0.7968 - val_loss: 0.0792 - val_accuracy: 0.5228\n",
            "Epoch 428/500\n",
            "99/99 [==============================] - 3s 26ms/step - loss: 0.0326 - accuracy: 0.7999 - val_loss: 0.1063 - val_accuracy: 0.3908\n",
            "Epoch 429/500\n",
            "99/99 [==============================] - 3s 26ms/step - loss: 0.0322 - accuracy: 0.8012 - val_loss: 0.0901 - val_accuracy: 0.4527\n",
            "Epoch 430/500\n",
            "99/99 [==============================] - 3s 26ms/step - loss: 0.0310 - accuracy: 0.8103 - val_loss: 0.1218 - val_accuracy: 0.3164\n",
            "Epoch 431/500\n",
            "99/99 [==============================] - 3s 27ms/step - loss: 0.0317 - accuracy: 0.8055 - val_loss: 0.0802 - val_accuracy: 0.5160\n",
            "Epoch 432/500\n",
            "99/99 [==============================] - 3s 26ms/step - loss: 0.0319 - accuracy: 0.8035 - val_loss: 0.1114 - val_accuracy: 0.3786\n",
            "Epoch 433/500\n",
            "99/99 [==============================] - 2s 25ms/step - loss: 0.0319 - accuracy: 0.8054 - val_loss: 0.0904 - val_accuracy: 0.4747\n",
            "Epoch 434/500\n",
            "99/99 [==============================] - 2s 24ms/step - loss: 0.0329 - accuracy: 0.7968 - val_loss: 0.0952 - val_accuracy: 0.4533\n",
            "Epoch 435/500\n",
            "99/99 [==============================] - 3s 25ms/step - loss: 0.0316 - accuracy: 0.8073 - val_loss: 0.0872 - val_accuracy: 0.4842\n",
            "Epoch 436/500\n",
            "99/99 [==============================] - 3s 26ms/step - loss: 0.0323 - accuracy: 0.8022 - val_loss: 0.1191 - val_accuracy: 0.3324\n",
            "Epoch 437/500\n",
            "99/99 [==============================] - 3s 25ms/step - loss: 0.0319 - accuracy: 0.8080 - val_loss: 0.0910 - val_accuracy: 0.4590\n",
            "Epoch 438/500\n",
            "99/99 [==============================] - 2s 25ms/step - loss: 0.0313 - accuracy: 0.8090 - val_loss: 0.1025 - val_accuracy: 0.4022\n",
            "Epoch 439/500\n",
            "99/99 [==============================] - 3s 26ms/step - loss: 0.0315 - accuracy: 0.8074 - val_loss: 0.0840 - val_accuracy: 0.4842\n",
            "Epoch 440/500\n",
            "99/99 [==============================] - 3s 26ms/step - loss: 0.0311 - accuracy: 0.8085 - val_loss: 0.0902 - val_accuracy: 0.4731\n",
            "Epoch 441/500\n",
            "99/99 [==============================] - 3s 26ms/step - loss: 0.0317 - accuracy: 0.8076 - val_loss: 0.1099 - val_accuracy: 0.3609\n",
            "Epoch 442/500\n",
            "99/99 [==============================] - 2s 24ms/step - loss: 0.0312 - accuracy: 0.8090 - val_loss: 0.0950 - val_accuracy: 0.4326\n",
            "Epoch 443/500\n",
            "99/99 [==============================] - 2s 25ms/step - loss: 0.0322 - accuracy: 0.8022 - val_loss: 0.1025 - val_accuracy: 0.4147\n",
            "Epoch 444/500\n",
            "99/99 [==============================] - 2s 25ms/step - loss: 0.0316 - accuracy: 0.8056 - val_loss: 0.1028 - val_accuracy: 0.4047\n",
            "Epoch 445/500\n",
            "99/99 [==============================] - 2s 24ms/step - loss: 0.0319 - accuracy: 0.8061 - val_loss: 0.1016 - val_accuracy: 0.4215\n",
            "Epoch 446/500\n",
            "99/99 [==============================] - 2s 24ms/step - loss: 0.0315 - accuracy: 0.8051 - val_loss: 0.1130 - val_accuracy: 0.3664\n",
            "Epoch 447/500\n",
            "99/99 [==============================] - 2s 24ms/step - loss: 0.0321 - accuracy: 0.8025 - val_loss: 0.1078 - val_accuracy: 0.3805\n",
            "Epoch 448/500\n",
            "99/99 [==============================] - 2s 25ms/step - loss: 0.0319 - accuracy: 0.8037 - val_loss: 0.0837 - val_accuracy: 0.4910\n",
            "Epoch 449/500\n",
            "99/99 [==============================] - 3s 26ms/step - loss: 0.0312 - accuracy: 0.8065 - val_loss: 0.0988 - val_accuracy: 0.4402\n",
            "Epoch 450/500\n",
            "99/99 [==============================] - 2s 25ms/step - loss: 0.0312 - accuracy: 0.8109 - val_loss: 0.0851 - val_accuracy: 0.4916\n",
            "Epoch 451/500\n",
            "99/99 [==============================] - 2s 25ms/step - loss: 0.0308 - accuracy: 0.8102 - val_loss: 0.1039 - val_accuracy: 0.4017\n",
            "Epoch 452/500\n",
            "99/99 [==============================] - 3s 25ms/step - loss: 0.0313 - accuracy: 0.8081 - val_loss: 0.0932 - val_accuracy: 0.4557\n",
            "Epoch 453/500\n",
            "99/99 [==============================] - 2s 25ms/step - loss: 0.0314 - accuracy: 0.8071 - val_loss: 0.1045 - val_accuracy: 0.4117\n",
            "Epoch 454/500\n",
            "99/99 [==============================] - 3s 25ms/step - loss: 0.0311 - accuracy: 0.8079 - val_loss: 0.0943 - val_accuracy: 0.4517\n",
            "Epoch 455/500\n",
            "99/99 [==============================] - 3s 25ms/step - loss: 0.0312 - accuracy: 0.8096 - val_loss: 0.0997 - val_accuracy: 0.4101\n",
            "Epoch 456/500\n",
            "99/99 [==============================] - 3s 26ms/step - loss: 0.0311 - accuracy: 0.8100 - val_loss: 0.1046 - val_accuracy: 0.3829\n",
            "Epoch 457/500\n",
            "99/99 [==============================] - 3s 26ms/step - loss: 0.0318 - accuracy: 0.8064 - val_loss: 0.0962 - val_accuracy: 0.4441\n",
            "Epoch 458/500\n",
            "99/99 [==============================] - 3s 26ms/step - loss: 0.0315 - accuracy: 0.8080 - val_loss: 0.0930 - val_accuracy: 0.4495\n",
            "Epoch 459/500\n",
            "99/99 [==============================] - 2s 25ms/step - loss: 0.0315 - accuracy: 0.8080 - val_loss: 0.1023 - val_accuracy: 0.3539\n",
            "Epoch 460/500\n",
            "99/99 [==============================] - 3s 26ms/step - loss: 0.0312 - accuracy: 0.8079 - val_loss: 0.0866 - val_accuracy: 0.4696\n",
            "Epoch 461/500\n",
            "99/99 [==============================] - 3s 26ms/step - loss: 0.0314 - accuracy: 0.8063 - val_loss: 0.1050 - val_accuracy: 0.3976\n",
            "Epoch 462/500\n",
            "99/99 [==============================] - 3s 26ms/step - loss: 0.0311 - accuracy: 0.8089 - val_loss: 0.1020 - val_accuracy: 0.4117\n",
            "Epoch 463/500\n",
            "99/99 [==============================] - 3s 26ms/step - loss: 0.0312 - accuracy: 0.8078 - val_loss: 0.0802 - val_accuracy: 0.5141\n",
            "Epoch 464/500\n",
            "99/99 [==============================] - 3s 25ms/step - loss: 0.0310 - accuracy: 0.8120 - val_loss: 0.1066 - val_accuracy: 0.3995\n",
            "Epoch 465/500\n",
            "99/99 [==============================] - 3s 26ms/step - loss: 0.0305 - accuracy: 0.8145 - val_loss: 0.1043 - val_accuracy: 0.3924\n",
            "Epoch 466/500\n",
            "99/99 [==============================] - 3s 25ms/step - loss: 0.0312 - accuracy: 0.8088 - val_loss: 0.1012 - val_accuracy: 0.4068\n",
            "Epoch 467/500\n",
            "99/99 [==============================] - 2s 25ms/step - loss: 0.0308 - accuracy: 0.8135 - val_loss: 0.1031 - val_accuracy: 0.4212\n",
            "Epoch 468/500\n",
            "99/99 [==============================] - 3s 26ms/step - loss: 0.0307 - accuracy: 0.8125 - val_loss: 0.1153 - val_accuracy: 0.3240\n",
            "Epoch 469/500\n",
            "99/99 [==============================] - 3s 26ms/step - loss: 0.0310 - accuracy: 0.8096 - val_loss: 0.0962 - val_accuracy: 0.4104\n",
            "Epoch 470/500\n",
            "99/99 [==============================] - 2s 25ms/step - loss: 0.0314 - accuracy: 0.8054 - val_loss: 0.0987 - val_accuracy: 0.4120\n",
            "Epoch 471/500\n",
            "99/99 [==============================] - 2s 25ms/step - loss: 0.0307 - accuracy: 0.8106 - val_loss: 0.0960 - val_accuracy: 0.4356\n",
            "Epoch 472/500\n",
            "99/99 [==============================] - 3s 26ms/step - loss: 0.0307 - accuracy: 0.8122 - val_loss: 0.0954 - val_accuracy: 0.4345\n",
            "Epoch 473/500\n",
            "99/99 [==============================] - 3s 26ms/step - loss: 0.0309 - accuracy: 0.8084 - val_loss: 0.0907 - val_accuracy: 0.4533\n",
            "Epoch 474/500\n",
            "99/99 [==============================] - 2s 24ms/step - loss: 0.0304 - accuracy: 0.8137 - val_loss: 0.1004 - val_accuracy: 0.4191\n",
            "Epoch 475/500\n",
            "99/99 [==============================] - 2s 25ms/step - loss: 0.0306 - accuracy: 0.8128 - val_loss: 0.0988 - val_accuracy: 0.4036\n",
            "Epoch 476/500\n",
            "99/99 [==============================] - 2s 25ms/step - loss: 0.0309 - accuracy: 0.8106 - val_loss: 0.0911 - val_accuracy: 0.4726\n",
            "Epoch 477/500\n",
            "99/99 [==============================] - 2s 25ms/step - loss: 0.0309 - accuracy: 0.8117 - val_loss: 0.1018 - val_accuracy: 0.4071\n",
            "Epoch 478/500\n",
            "99/99 [==============================] - 3s 26ms/step - loss: 0.0311 - accuracy: 0.8092 - val_loss: 0.1039 - val_accuracy: 0.3954\n",
            "Epoch 479/500\n",
            "99/99 [==============================] - 3s 25ms/step - loss: 0.0313 - accuracy: 0.8071 - val_loss: 0.0994 - val_accuracy: 0.4264\n",
            "Epoch 480/500\n",
            "99/99 [==============================] - 3s 26ms/step - loss: 0.0305 - accuracy: 0.8143 - val_loss: 0.0989 - val_accuracy: 0.4109\n",
            "Epoch 481/500\n",
            "99/99 [==============================] - 2s 25ms/step - loss: 0.0308 - accuracy: 0.8118 - val_loss: 0.1073 - val_accuracy: 0.3933\n",
            "Epoch 482/500\n",
            "99/99 [==============================] - 2s 24ms/step - loss: 0.0306 - accuracy: 0.8131 - val_loss: 0.1012 - val_accuracy: 0.4058\n",
            "Epoch 483/500\n",
            "99/99 [==============================] - 3s 26ms/step - loss: 0.0302 - accuracy: 0.8145 - val_loss: 0.0877 - val_accuracy: 0.4764\n",
            "Epoch 484/500\n",
            "99/99 [==============================] - 3s 26ms/step - loss: 0.0307 - accuracy: 0.8109 - val_loss: 0.0855 - val_accuracy: 0.4946\n",
            "Epoch 485/500\n",
            "99/99 [==============================] - 3s 27ms/step - loss: 0.0311 - accuracy: 0.8085 - val_loss: 0.0907 - val_accuracy: 0.4422\n",
            "Epoch 486/500\n",
            "99/99 [==============================] - 2s 25ms/step - loss: 0.0301 - accuracy: 0.8164 - val_loss: 0.0917 - val_accuracy: 0.4508\n",
            "Epoch 487/500\n",
            "99/99 [==============================] - 3s 25ms/step - loss: 0.0302 - accuracy: 0.8156 - val_loss: 0.0980 - val_accuracy: 0.4326\n",
            "Epoch 488/500\n",
            "99/99 [==============================] - 2s 25ms/step - loss: 0.0307 - accuracy: 0.8138 - val_loss: 0.0954 - val_accuracy: 0.4324\n",
            "Epoch 489/500\n",
            "99/99 [==============================] - 2s 25ms/step - loss: 0.0309 - accuracy: 0.8111 - val_loss: 0.1023 - val_accuracy: 0.4022\n",
            "Epoch 490/500\n",
            "99/99 [==============================] - 2s 25ms/step - loss: 0.0307 - accuracy: 0.8126 - val_loss: 0.0950 - val_accuracy: 0.4498\n",
            "Epoch 491/500\n",
            "99/99 [==============================] - 3s 26ms/step - loss: 0.0299 - accuracy: 0.8171 - val_loss: 0.0961 - val_accuracy: 0.4416\n",
            "Epoch 492/500\n",
            "99/99 [==============================] - 4s 38ms/step - loss: 0.0304 - accuracy: 0.8155 - val_loss: 0.0819 - val_accuracy: 0.5133\n",
            "Epoch 493/500\n",
            "99/99 [==============================] - 3s 33ms/step - loss: 0.0295 - accuracy: 0.8208 - val_loss: 0.0969 - val_accuracy: 0.4068\n",
            "Epoch 494/500\n",
            "99/99 [==============================] - 3s 26ms/step - loss: 0.0305 - accuracy: 0.8135 - val_loss: 0.0938 - val_accuracy: 0.4411\n",
            "Epoch 495/500\n",
            "99/99 [==============================] - 2s 25ms/step - loss: 0.0302 - accuracy: 0.8162 - val_loss: 0.1034 - val_accuracy: 0.4256\n",
            "Epoch 496/500\n",
            "99/99 [==============================] - 3s 26ms/step - loss: 0.0310 - accuracy: 0.8126 - val_loss: 0.0908 - val_accuracy: 0.4636\n",
            "Epoch 497/500\n",
            "99/99 [==============================] - 3s 25ms/step - loss: 0.0313 - accuracy: 0.8075 - val_loss: 0.0946 - val_accuracy: 0.4340\n",
            "Epoch 498/500\n",
            "99/99 [==============================] - 2s 25ms/step - loss: 0.0303 - accuracy: 0.8145 - val_loss: 0.0904 - val_accuracy: 0.4647\n",
            "Epoch 499/500\n",
            "99/99 [==============================] - 3s 25ms/step - loss: 0.0296 - accuracy: 0.8207 - val_loss: 0.0936 - val_accuracy: 0.4506\n",
            "Epoch 500/500\n",
            "99/99 [==============================] - 3s 26ms/step - loss: 0.0304 - accuracy: 0.8154 - val_loss: 0.0895 - val_accuracy: 0.4606\n"
          ]
        }
      ]
    },
    {
      "cell_type": "code",
      "source": [
        "def model(n_e):\n",
        "  model1 = Sequential()\n",
        "  model1.add(LSTM(512, batch_input_shape = (None, None, x.shape[2]),return_sequences=True))\n",
        "  model1.add(BatchNormalization())\n",
        "  model1.add(Dropout(0.3))\n",
        "\n",
        "\n",
        "  model1.add(LSTM(256,activation=\"tanh\",return_sequences=True))\n",
        "  model1.add(BatchNormalization())\n",
        "  model1.add(Dropout(0.5))\n",
        "\n",
        "\n",
        "  model1.add(LSTM(128,activation=\"tanh\",return_sequences=True))\n",
        "  model1.add(BatchNormalization())\n",
        "  model1.add(Dropout(0.3))\n",
        "\n",
        "  model1.add(LSTM(64,activation=\"tanh\",return_sequences=True))\n",
        "  model1.add(BatchNormalization())\n",
        "  model1.add(Dropout(0.3))\n",
        "\n",
        "\n",
        "  model1.add(LSTM(32,activation=\"tanh\"))\n",
        "  model1.add(BatchNormalization())\n",
        "  model1.add(Dropout(0.2))\n",
        "\n",
        "\n",
        "  model1.add(Dense(n_e))\n",
        "  model1.add(Activation('softmax'))\n",
        "\n",
        "\n",
        "\n",
        "  rmsprop =tensorflow.keras.optimizers.RMSprop(learning_rate=0.0005, rho=0.9, epsilon=1e-08)\n",
        "  model1.compile(loss='mean_squared_error',\n",
        "                    optimizer=rmsprop,\n",
        "                    metrics=['accuracy'])\n",
        "  # model1.summary()\n",
        "  return model1"
      ],
      "metadata": {
        "id": "-ElIlDXUGkyc"
      },
      "execution_count": null,
      "outputs": []
    },
    {
      "cell_type": "code",
      "source": [
        "history1 = model1.fit(x_train1, y_train1, epochs = 500, batch_size=150,validation_data= (x_test1, y_test1))"
      ],
      "metadata": {
        "colab": {
          "base_uri": "https://localhost:8080/"
        },
        "id": "VwfhnJw0AzuA",
        "outputId": "e6913660-1e86-4736-b826-f166c5a32a07"
      },
      "execution_count": null,
      "outputs": [
        {
          "output_type": "stream",
          "name": "stdout",
          "text": [
            "Epoch 1/500\n",
            "310/310 [==============================] - 19s 21ms/step - loss: 0.0989 - accuracy: 0.2417 - val_loss: 0.0894 - val_accuracy: 0.3218\n",
            "Epoch 2/500\n",
            "310/310 [==============================] - 5s 16ms/step - loss: 0.0899 - accuracy: 0.3158 - val_loss: 0.0832 - val_accuracy: 0.3861\n",
            "Epoch 3/500\n",
            "310/310 [==============================] - 5s 16ms/step - loss: 0.0860 - accuracy: 0.3557 - val_loss: 0.0812 - val_accuracy: 0.4015\n",
            "Epoch 4/500\n",
            "310/310 [==============================] - 5s 16ms/step - loss: 0.0838 - accuracy: 0.3814 - val_loss: 0.0810 - val_accuracy: 0.4085\n",
            "Epoch 5/500\n",
            "310/310 [==============================] - 5s 17ms/step - loss: 0.0820 - accuracy: 0.3977 - val_loss: 0.0791 - val_accuracy: 0.4263\n",
            "Epoch 6/500\n",
            "310/310 [==============================] - 5s 16ms/step - loss: 0.0810 - accuracy: 0.4075 - val_loss: 0.0784 - val_accuracy: 0.4419\n",
            "Epoch 7/500\n",
            "310/310 [==============================] - 5s 16ms/step - loss: 0.0795 - accuracy: 0.4196 - val_loss: 0.0763 - val_accuracy: 0.4491\n",
            "Epoch 8/500\n",
            "310/310 [==============================] - 5s 16ms/step - loss: 0.0786 - accuracy: 0.4302 - val_loss: 0.0773 - val_accuracy: 0.4522\n",
            "Epoch 9/500\n",
            "310/310 [==============================] - 5s 16ms/step - loss: 0.0778 - accuracy: 0.4404 - val_loss: 0.0754 - val_accuracy: 0.4652\n",
            "Epoch 10/500\n",
            "310/310 [==============================] - 5s 16ms/step - loss: 0.0771 - accuracy: 0.4477 - val_loss: 0.0740 - val_accuracy: 0.4745\n",
            "Epoch 11/500\n",
            "310/310 [==============================] - 5s 16ms/step - loss: 0.0762 - accuracy: 0.4567 - val_loss: 0.0734 - val_accuracy: 0.4812\n",
            "Epoch 12/500\n",
            "310/310 [==============================] - 5s 16ms/step - loss: 0.0756 - accuracy: 0.4622 - val_loss: 0.0743 - val_accuracy: 0.4746\n",
            "Epoch 13/500\n",
            "310/310 [==============================] - 5s 16ms/step - loss: 0.0748 - accuracy: 0.4697 - val_loss: 0.0720 - val_accuracy: 0.4890\n",
            "Epoch 14/500\n",
            "310/310 [==============================] - 5s 16ms/step - loss: 0.0739 - accuracy: 0.4799 - val_loss: 0.0719 - val_accuracy: 0.4992\n",
            "Epoch 15/500\n",
            "310/310 [==============================] - 5s 16ms/step - loss: 0.0735 - accuracy: 0.4788 - val_loss: 0.0712 - val_accuracy: 0.5010\n",
            "Epoch 16/500\n",
            "310/310 [==============================] - 5s 16ms/step - loss: 0.0727 - accuracy: 0.4891 - val_loss: 0.0694 - val_accuracy: 0.5154\n",
            "Epoch 17/500\n",
            "310/310 [==============================] - 5s 16ms/step - loss: 0.0724 - accuracy: 0.4929 - val_loss: 0.0701 - val_accuracy: 0.5149\n",
            "Epoch 18/500\n",
            "310/310 [==============================] - 5s 16ms/step - loss: 0.0718 - accuracy: 0.4979 - val_loss: 0.0695 - val_accuracy: 0.5130\n",
            "Epoch 19/500\n",
            "310/310 [==============================] - 6s 18ms/step - loss: 0.0710 - accuracy: 0.5063 - val_loss: 0.0687 - val_accuracy: 0.5277\n",
            "Epoch 20/500\n",
            "310/310 [==============================] - 5s 16ms/step - loss: 0.0704 - accuracy: 0.5094 - val_loss: 0.0690 - val_accuracy: 0.5214\n",
            "Epoch 21/500\n",
            "310/310 [==============================] - 5s 16ms/step - loss: 0.0698 - accuracy: 0.5163 - val_loss: 0.0677 - val_accuracy: 0.5363\n",
            "Epoch 22/500\n",
            "310/310 [==============================] - 5s 16ms/step - loss: 0.0691 - accuracy: 0.5220 - val_loss: 0.0663 - val_accuracy: 0.5402\n",
            "Epoch 23/500\n",
            "310/310 [==============================] - 5s 18ms/step - loss: 0.0685 - accuracy: 0.5272 - val_loss: 0.0667 - val_accuracy: 0.5479\n",
            "Epoch 24/500\n",
            "310/310 [==============================] - 5s 17ms/step - loss: 0.0680 - accuracy: 0.5311 - val_loss: 0.0661 - val_accuracy: 0.5493\n",
            "Epoch 25/500\n",
            "310/310 [==============================] - 5s 18ms/step - loss: 0.0677 - accuracy: 0.5343 - val_loss: 0.0657 - val_accuracy: 0.5518\n",
            "Epoch 26/500\n",
            "310/310 [==============================] - 6s 20ms/step - loss: 0.0670 - accuracy: 0.5405 - val_loss: 0.0652 - val_accuracy: 0.5519\n",
            "Epoch 27/500\n",
            "310/310 [==============================] - 6s 18ms/step - loss: 0.0664 - accuracy: 0.5449 - val_loss: 0.0649 - val_accuracy: 0.5599\n",
            "Epoch 28/500\n",
            "310/310 [==============================] - 6s 18ms/step - loss: 0.0657 - accuracy: 0.5520 - val_loss: 0.0644 - val_accuracy: 0.5593\n",
            "Epoch 29/500\n",
            "310/310 [==============================] - 5s 17ms/step - loss: 0.0654 - accuracy: 0.5539 - val_loss: 0.0632 - val_accuracy: 0.5730\n",
            "Epoch 30/500\n",
            "310/310 [==============================] - 5s 18ms/step - loss: 0.0646 - accuracy: 0.5620 - val_loss: 0.0637 - val_accuracy: 0.5647\n",
            "Epoch 31/500\n",
            "310/310 [==============================] - 5s 17ms/step - loss: 0.0643 - accuracy: 0.5627 - val_loss: 0.0639 - val_accuracy: 0.5674\n",
            "Epoch 32/500\n",
            "310/310 [==============================] - 5s 17ms/step - loss: 0.0639 - accuracy: 0.5679 - val_loss: 0.0633 - val_accuracy: 0.5698\n",
            "Epoch 33/500\n",
            "310/310 [==============================] - 5s 16ms/step - loss: 0.0636 - accuracy: 0.5686 - val_loss: 0.0619 - val_accuracy: 0.5821\n",
            "Epoch 34/500\n",
            "310/310 [==============================] - 5s 16ms/step - loss: 0.0629 - accuracy: 0.5751 - val_loss: 0.0622 - val_accuracy: 0.5808\n",
            "Epoch 35/500\n",
            "310/310 [==============================] - 5s 16ms/step - loss: 0.0622 - accuracy: 0.5812 - val_loss: 0.0619 - val_accuracy: 0.5872\n",
            "Epoch 36/500\n",
            "310/310 [==============================] - 5s 16ms/step - loss: 0.0618 - accuracy: 0.5845 - val_loss: 0.0614 - val_accuracy: 0.5885\n",
            "Epoch 37/500\n",
            "310/310 [==============================] - 5s 15ms/step - loss: 0.0613 - accuracy: 0.5892 - val_loss: 0.0608 - val_accuracy: 0.5930\n",
            "Epoch 38/500\n",
            "310/310 [==============================] - 5s 16ms/step - loss: 0.0606 - accuracy: 0.5947 - val_loss: 0.0630 - val_accuracy: 0.5816\n",
            "Epoch 39/500\n",
            "310/310 [==============================] - 5s 16ms/step - loss: 0.0606 - accuracy: 0.5944 - val_loss: 0.0599 - val_accuracy: 0.5965\n",
            "Epoch 40/500\n",
            "310/310 [==============================] - 6s 20ms/step - loss: 0.0598 - accuracy: 0.6006 - val_loss: 0.0602 - val_accuracy: 0.5955\n",
            "Epoch 41/500\n",
            "310/310 [==============================] - 5s 17ms/step - loss: 0.0595 - accuracy: 0.6038 - val_loss: 0.0601 - val_accuracy: 0.5955\n",
            "Epoch 42/500\n",
            "310/310 [==============================] - 5s 17ms/step - loss: 0.0590 - accuracy: 0.6053 - val_loss: 0.0594 - val_accuracy: 0.6004\n",
            "Epoch 43/500\n",
            "310/310 [==============================] - 5s 17ms/step - loss: 0.0585 - accuracy: 0.6118 - val_loss: 0.0589 - val_accuracy: 0.6063\n",
            "Epoch 44/500\n",
            "310/310 [==============================] - 5s 16ms/step - loss: 0.0584 - accuracy: 0.6122 - val_loss: 0.0596 - val_accuracy: 0.6044\n",
            "Epoch 45/500\n",
            "310/310 [==============================] - 5s 16ms/step - loss: 0.0578 - accuracy: 0.6178 - val_loss: 0.0583 - val_accuracy: 0.6133\n",
            "Epoch 46/500\n",
            "310/310 [==============================] - 6s 18ms/step - loss: 0.0577 - accuracy: 0.6177 - val_loss: 0.0579 - val_accuracy: 0.6153\n",
            "Epoch 47/500\n",
            "310/310 [==============================] - 5s 16ms/step - loss: 0.0570 - accuracy: 0.6224 - val_loss: 0.0579 - val_accuracy: 0.6192\n",
            "Epoch 48/500\n",
            "310/310 [==============================] - 5s 16ms/step - loss: 0.0566 - accuracy: 0.6252 - val_loss: 0.0581 - val_accuracy: 0.6122\n",
            "Epoch 49/500\n",
            "310/310 [==============================] - 5s 16ms/step - loss: 0.0559 - accuracy: 0.6297 - val_loss: 0.0575 - val_accuracy: 0.6233\n",
            "Epoch 50/500\n",
            "310/310 [==============================] - 5s 16ms/step - loss: 0.0560 - accuracy: 0.6279 - val_loss: 0.0565 - val_accuracy: 0.6294\n",
            "Epoch 51/500\n",
            "310/310 [==============================] - 5s 16ms/step - loss: 0.0557 - accuracy: 0.6309 - val_loss: 0.0567 - val_accuracy: 0.6306\n",
            "Epoch 52/500\n",
            "310/310 [==============================] - 5s 16ms/step - loss: 0.0550 - accuracy: 0.6380 - val_loss: 0.0573 - val_accuracy: 0.6251\n",
            "Epoch 53/500\n",
            "310/310 [==============================] - 5s 16ms/step - loss: 0.0549 - accuracy: 0.6365 - val_loss: 0.0559 - val_accuracy: 0.6363\n",
            "Epoch 54/500\n",
            "310/310 [==============================] - 5s 17ms/step - loss: 0.0541 - accuracy: 0.6445 - val_loss: 0.0568 - val_accuracy: 0.6288\n",
            "Epoch 55/500\n",
            "310/310 [==============================] - 5s 16ms/step - loss: 0.0539 - accuracy: 0.6464 - val_loss: 0.0558 - val_accuracy: 0.6351\n",
            "Epoch 56/500\n",
            "310/310 [==============================] - 5s 16ms/step - loss: 0.0536 - accuracy: 0.6481 - val_loss: 0.0562 - val_accuracy: 0.6407\n",
            "Epoch 57/500\n",
            "310/310 [==============================] - 5s 16ms/step - loss: 0.0532 - accuracy: 0.6521 - val_loss: 0.0548 - val_accuracy: 0.6443\n",
            "Epoch 58/500\n",
            "310/310 [==============================] - 5s 16ms/step - loss: 0.0528 - accuracy: 0.6546 - val_loss: 0.0548 - val_accuracy: 0.6424\n",
            "Epoch 59/500\n",
            "310/310 [==============================] - 5s 16ms/step - loss: 0.0523 - accuracy: 0.6577 - val_loss: 0.0544 - val_accuracy: 0.6462\n",
            "Epoch 60/500\n",
            "310/310 [==============================] - 5s 16ms/step - loss: 0.0518 - accuracy: 0.6608 - val_loss: 0.0545 - val_accuracy: 0.6476\n",
            "Epoch 61/500\n",
            "310/310 [==============================] - 5s 16ms/step - loss: 0.0517 - accuracy: 0.6626 - val_loss: 0.0549 - val_accuracy: 0.6446\n",
            "Epoch 62/500\n",
            "310/310 [==============================] - 5s 16ms/step - loss: 0.0516 - accuracy: 0.6637 - val_loss: 0.0535 - val_accuracy: 0.6559\n",
            "Epoch 63/500\n",
            "310/310 [==============================] - 5s 16ms/step - loss: 0.0511 - accuracy: 0.6689 - val_loss: 0.0540 - val_accuracy: 0.6514\n",
            "Epoch 64/500\n",
            "310/310 [==============================] - 5s 16ms/step - loss: 0.0512 - accuracy: 0.6672 - val_loss: 0.0532 - val_accuracy: 0.6557\n",
            "Epoch 65/500\n",
            "310/310 [==============================] - 5s 16ms/step - loss: 0.0507 - accuracy: 0.6704 - val_loss: 0.0534 - val_accuracy: 0.6544\n",
            "Epoch 66/500\n",
            "310/310 [==============================] - 5s 17ms/step - loss: 0.0503 - accuracy: 0.6746 - val_loss: 0.0530 - val_accuracy: 0.6624\n",
            "Epoch 67/500\n",
            "310/310 [==============================] - 5s 16ms/step - loss: 0.0501 - accuracy: 0.6731 - val_loss: 0.0531 - val_accuracy: 0.6560\n",
            "Epoch 68/500\n",
            "310/310 [==============================] - 5s 17ms/step - loss: 0.0498 - accuracy: 0.6756 - val_loss: 0.0529 - val_accuracy: 0.6597\n",
            "Epoch 69/500\n",
            "310/310 [==============================] - 5s 17ms/step - loss: 0.0496 - accuracy: 0.6789 - val_loss: 0.0531 - val_accuracy: 0.6612\n",
            "Epoch 70/500\n",
            "310/310 [==============================] - 5s 16ms/step - loss: 0.0490 - accuracy: 0.6835 - val_loss: 0.0527 - val_accuracy: 0.6607\n",
            "Epoch 71/500\n",
            "310/310 [==============================] - 5s 16ms/step - loss: 0.0488 - accuracy: 0.6847 - val_loss: 0.0528 - val_accuracy: 0.6660\n",
            "Epoch 72/500\n",
            "310/310 [==============================] - 5s 16ms/step - loss: 0.0485 - accuracy: 0.6870 - val_loss: 0.0525 - val_accuracy: 0.6669\n",
            "Epoch 73/500\n",
            "310/310 [==============================] - 5s 16ms/step - loss: 0.0481 - accuracy: 0.6908 - val_loss: 0.0520 - val_accuracy: 0.6732\n",
            "Epoch 74/500\n",
            "310/310 [==============================] - 5s 16ms/step - loss: 0.0477 - accuracy: 0.6932 - val_loss: 0.0524 - val_accuracy: 0.6673\n",
            "Epoch 75/500\n",
            "310/310 [==============================] - 5s 16ms/step - loss: 0.0477 - accuracy: 0.6927 - val_loss: 0.0521 - val_accuracy: 0.6699\n",
            "Epoch 76/500\n",
            "310/310 [==============================] - 5s 16ms/step - loss: 0.0474 - accuracy: 0.6957 - val_loss: 0.0519 - val_accuracy: 0.6693\n",
            "Epoch 77/500\n",
            "310/310 [==============================] - 5s 17ms/step - loss: 0.0470 - accuracy: 0.6978 - val_loss: 0.0522 - val_accuracy: 0.6688\n",
            "Epoch 78/500\n",
            "310/310 [==============================] - 5s 17ms/step - loss: 0.0469 - accuracy: 0.6980 - val_loss: 0.0508 - val_accuracy: 0.6736\n",
            "Epoch 79/500\n",
            "310/310 [==============================] - 5s 16ms/step - loss: 0.0467 - accuracy: 0.6991 - val_loss: 0.0508 - val_accuracy: 0.6817\n",
            "Epoch 80/500\n",
            "310/310 [==============================] - 5s 16ms/step - loss: 0.0462 - accuracy: 0.7022 - val_loss: 0.0507 - val_accuracy: 0.6751\n",
            "Epoch 81/500\n",
            "310/310 [==============================] - 5s 16ms/step - loss: 0.0459 - accuracy: 0.7061 - val_loss: 0.0508 - val_accuracy: 0.6786\n",
            "Epoch 82/500\n",
            "310/310 [==============================] - 5s 16ms/step - loss: 0.0457 - accuracy: 0.7065 - val_loss: 0.0509 - val_accuracy: 0.6761\n",
            "Epoch 83/500\n",
            "310/310 [==============================] - 5s 16ms/step - loss: 0.0453 - accuracy: 0.7107 - val_loss: 0.0518 - val_accuracy: 0.6761\n",
            "Epoch 84/500\n",
            "310/310 [==============================] - 5s 16ms/step - loss: 0.0453 - accuracy: 0.7102 - val_loss: 0.0495 - val_accuracy: 0.6891\n",
            "Epoch 85/500\n",
            "310/310 [==============================] - 5s 16ms/step - loss: 0.0452 - accuracy: 0.7129 - val_loss: 0.0504 - val_accuracy: 0.6823\n",
            "Epoch 86/500\n",
            "310/310 [==============================] - 5s 16ms/step - loss: 0.0450 - accuracy: 0.7113 - val_loss: 0.0501 - val_accuracy: 0.6842\n",
            "Epoch 87/500\n",
            "310/310 [==============================] - 5s 16ms/step - loss: 0.0448 - accuracy: 0.7143 - val_loss: 0.0496 - val_accuracy: 0.6859\n",
            "Epoch 88/500\n",
            "310/310 [==============================] - 5s 16ms/step - loss: 0.0442 - accuracy: 0.7181 - val_loss: 0.0500 - val_accuracy: 0.6840\n",
            "Epoch 89/500\n",
            "310/310 [==============================] - 5s 17ms/step - loss: 0.0441 - accuracy: 0.7185 - val_loss: 0.0498 - val_accuracy: 0.6867\n",
            "Epoch 90/500\n",
            "310/310 [==============================] - 5s 16ms/step - loss: 0.0439 - accuracy: 0.7221 - val_loss: 0.0494 - val_accuracy: 0.6901\n",
            "Epoch 91/500\n",
            "310/310 [==============================] - 5s 16ms/step - loss: 0.0438 - accuracy: 0.7191 - val_loss: 0.0495 - val_accuracy: 0.6926\n",
            "Epoch 92/500\n",
            "310/310 [==============================] - 5s 16ms/step - loss: 0.0433 - accuracy: 0.7258 - val_loss: 0.0495 - val_accuracy: 0.6913\n",
            "Epoch 93/500\n",
            "310/310 [==============================] - 5s 16ms/step - loss: 0.0434 - accuracy: 0.7239 - val_loss: 0.0490 - val_accuracy: 0.6933\n",
            "Epoch 94/500\n",
            "310/310 [==============================] - 5s 16ms/step - loss: 0.0431 - accuracy: 0.7257 - val_loss: 0.0488 - val_accuracy: 0.6944\n",
            "Epoch 95/500\n",
            "310/310 [==============================] - 5s 16ms/step - loss: 0.0431 - accuracy: 0.7259 - val_loss: 0.0489 - val_accuracy: 0.6940\n",
            "Epoch 96/500\n",
            "310/310 [==============================] - 5s 16ms/step - loss: 0.0428 - accuracy: 0.7284 - val_loss: 0.0494 - val_accuracy: 0.6935\n",
            "Epoch 97/500\n",
            "310/310 [==============================] - 5s 16ms/step - loss: 0.0428 - accuracy: 0.7299 - val_loss: 0.0495 - val_accuracy: 0.6932\n",
            "Epoch 98/500\n",
            "310/310 [==============================] - 5s 16ms/step - loss: 0.0421 - accuracy: 0.7323 - val_loss: 0.0482 - val_accuracy: 0.7005\n",
            "Epoch 99/500\n",
            "310/310 [==============================] - 5s 17ms/step - loss: 0.0422 - accuracy: 0.7328 - val_loss: 0.0483 - val_accuracy: 0.7024\n",
            "Epoch 100/500\n",
            "310/310 [==============================] - 5s 17ms/step - loss: 0.0419 - accuracy: 0.7347 - val_loss: 0.0486 - val_accuracy: 0.6998\n",
            "Epoch 101/500\n",
            "310/310 [==============================] - 5s 17ms/step - loss: 0.0417 - accuracy: 0.7355 - val_loss: 0.0481 - val_accuracy: 0.7017\n",
            "Epoch 102/500\n",
            "310/310 [==============================] - 5s 17ms/step - loss: 0.0413 - accuracy: 0.7409 - val_loss: 0.0479 - val_accuracy: 0.7042\n",
            "Epoch 103/500\n",
            "310/310 [==============================] - 5s 17ms/step - loss: 0.0411 - accuracy: 0.7407 - val_loss: 0.0484 - val_accuracy: 0.6970\n",
            "Epoch 104/500\n",
            "310/310 [==============================] - 5s 16ms/step - loss: 0.0413 - accuracy: 0.7391 - val_loss: 0.0485 - val_accuracy: 0.6973\n",
            "Epoch 105/500\n",
            "310/310 [==============================] - 5s 17ms/step - loss: 0.0411 - accuracy: 0.7413 - val_loss: 0.0476 - val_accuracy: 0.7037\n",
            "Epoch 106/500\n",
            "310/310 [==============================] - 5s 16ms/step - loss: 0.0404 - accuracy: 0.7441 - val_loss: 0.0479 - val_accuracy: 0.7047\n",
            "Epoch 107/500\n",
            "310/310 [==============================] - 5s 16ms/step - loss: 0.0406 - accuracy: 0.7448 - val_loss: 0.0483 - val_accuracy: 0.7051\n",
            "Epoch 108/500\n",
            "310/310 [==============================] - 5s 16ms/step - loss: 0.0403 - accuracy: 0.7454 - val_loss: 0.0474 - val_accuracy: 0.7066\n",
            "Epoch 109/500\n",
            "310/310 [==============================] - 5s 16ms/step - loss: 0.0403 - accuracy: 0.7461 - val_loss: 0.0474 - val_accuracy: 0.7049\n",
            "Epoch 110/500\n",
            "310/310 [==============================] - 5s 16ms/step - loss: 0.0399 - accuracy: 0.7472 - val_loss: 0.0470 - val_accuracy: 0.7054\n",
            "Epoch 111/500\n",
            "310/310 [==============================] - 5s 16ms/step - loss: 0.0398 - accuracy: 0.7489 - val_loss: 0.0467 - val_accuracy: 0.7125\n",
            "Epoch 112/500\n",
            "310/310 [==============================] - 5s 16ms/step - loss: 0.0397 - accuracy: 0.7503 - val_loss: 0.0471 - val_accuracy: 0.7091\n",
            "Epoch 113/500\n",
            "310/310 [==============================] - 5s 17ms/step - loss: 0.0397 - accuracy: 0.7514 - val_loss: 0.0468 - val_accuracy: 0.7122\n",
            "Epoch 114/500\n",
            "310/310 [==============================] - 5s 16ms/step - loss: 0.0388 - accuracy: 0.7559 - val_loss: 0.0472 - val_accuracy: 0.7152\n",
            "Epoch 115/500\n",
            "310/310 [==============================] - 5s 16ms/step - loss: 0.0393 - accuracy: 0.7535 - val_loss: 0.0464 - val_accuracy: 0.7143\n",
            "Epoch 116/500\n",
            "310/310 [==============================] - 5s 16ms/step - loss: 0.0389 - accuracy: 0.7555 - val_loss: 0.0469 - val_accuracy: 0.7133\n",
            "Epoch 117/500\n",
            "310/310 [==============================] - 5s 17ms/step - loss: 0.0388 - accuracy: 0.7578 - val_loss: 0.0464 - val_accuracy: 0.7128\n",
            "Epoch 118/500\n",
            "310/310 [==============================] - 5s 17ms/step - loss: 0.0388 - accuracy: 0.7560 - val_loss: 0.0464 - val_accuracy: 0.7128\n",
            "Epoch 119/500\n",
            "310/310 [==============================] - 5s 16ms/step - loss: 0.0383 - accuracy: 0.7585 - val_loss: 0.0466 - val_accuracy: 0.7150\n",
            "Epoch 120/500\n",
            "310/310 [==============================] - 5s 16ms/step - loss: 0.0381 - accuracy: 0.7612 - val_loss: 0.0465 - val_accuracy: 0.7168\n",
            "Epoch 121/500\n",
            "310/310 [==============================] - 5s 16ms/step - loss: 0.0379 - accuracy: 0.7645 - val_loss: 0.0461 - val_accuracy: 0.7175\n",
            "Epoch 122/500\n",
            "310/310 [==============================] - 5s 16ms/step - loss: 0.0382 - accuracy: 0.7605 - val_loss: 0.0459 - val_accuracy: 0.7175\n",
            "Epoch 123/500\n",
            "310/310 [==============================] - 5s 16ms/step - loss: 0.0376 - accuracy: 0.7650 - val_loss: 0.0468 - val_accuracy: 0.7143\n",
            "Epoch 124/500\n",
            "310/310 [==============================] - 5s 17ms/step - loss: 0.0375 - accuracy: 0.7650 - val_loss: 0.0466 - val_accuracy: 0.7132\n",
            "Epoch 125/500\n",
            "310/310 [==============================] - 5s 17ms/step - loss: 0.0376 - accuracy: 0.7654 - val_loss: 0.0459 - val_accuracy: 0.7213\n",
            "Epoch 126/500\n",
            "310/310 [==============================] - 5s 16ms/step - loss: 0.0372 - accuracy: 0.7666 - val_loss: 0.0458 - val_accuracy: 0.7205\n",
            "Epoch 127/500\n",
            "310/310 [==============================] - 5s 17ms/step - loss: 0.0372 - accuracy: 0.7686 - val_loss: 0.0458 - val_accuracy: 0.7209\n",
            "Epoch 128/500\n",
            "310/310 [==============================] - 5s 16ms/step - loss: 0.0372 - accuracy: 0.7672 - val_loss: 0.0456 - val_accuracy: 0.7228\n",
            "Epoch 129/500\n",
            "310/310 [==============================] - 5s 16ms/step - loss: 0.0365 - accuracy: 0.7720 - val_loss: 0.0454 - val_accuracy: 0.7251\n",
            "Epoch 130/500\n",
            "310/310 [==============================] - 5s 17ms/step - loss: 0.0369 - accuracy: 0.7701 - val_loss: 0.0454 - val_accuracy: 0.7202\n",
            "Epoch 131/500\n",
            "310/310 [==============================] - 5s 16ms/step - loss: 0.0364 - accuracy: 0.7728 - val_loss: 0.0454 - val_accuracy: 0.7233\n",
            "Epoch 132/500\n",
            "310/310 [==============================] - 5s 17ms/step - loss: 0.0365 - accuracy: 0.7733 - val_loss: 0.0452 - val_accuracy: 0.7254\n",
            "Epoch 133/500\n",
            "310/310 [==============================] - 5s 16ms/step - loss: 0.0362 - accuracy: 0.7749 - val_loss: 0.0450 - val_accuracy: 0.7287\n",
            "Epoch 134/500\n",
            "310/310 [==============================] - 5s 16ms/step - loss: 0.0360 - accuracy: 0.7768 - val_loss: 0.0445 - val_accuracy: 0.7270\n",
            "Epoch 135/500\n",
            "310/310 [==============================] - 5s 16ms/step - loss: 0.0361 - accuracy: 0.7749 - val_loss: 0.0446 - val_accuracy: 0.7290\n",
            "Epoch 136/500\n",
            "310/310 [==============================] - 5s 17ms/step - loss: 0.0361 - accuracy: 0.7759 - val_loss: 0.0449 - val_accuracy: 0.7240\n",
            "Epoch 137/500\n",
            "310/310 [==============================] - 5s 17ms/step - loss: 0.0355 - accuracy: 0.7802 - val_loss: 0.0444 - val_accuracy: 0.7269\n",
            "Epoch 138/500\n",
            "310/310 [==============================] - 5s 16ms/step - loss: 0.0355 - accuracy: 0.7788 - val_loss: 0.0446 - val_accuracy: 0.7289\n",
            "Epoch 139/500\n",
            "310/310 [==============================] - 5s 17ms/step - loss: 0.0353 - accuracy: 0.7798 - val_loss: 0.0450 - val_accuracy: 0.7301\n",
            "Epoch 140/500\n",
            "310/310 [==============================] - 5s 17ms/step - loss: 0.0355 - accuracy: 0.7802 - val_loss: 0.0443 - val_accuracy: 0.7298\n",
            "Epoch 141/500\n",
            "310/310 [==============================] - 5s 17ms/step - loss: 0.0349 - accuracy: 0.7837 - val_loss: 0.0438 - val_accuracy: 0.7347\n",
            "Epoch 142/500\n",
            "310/310 [==============================] - 5s 17ms/step - loss: 0.0349 - accuracy: 0.7835 - val_loss: 0.0443 - val_accuracy: 0.7342\n",
            "Epoch 143/500\n",
            "310/310 [==============================] - 5s 16ms/step - loss: 0.0347 - accuracy: 0.7845 - val_loss: 0.0446 - val_accuracy: 0.7315\n",
            "Epoch 144/500\n",
            "310/310 [==============================] - 5s 16ms/step - loss: 0.0347 - accuracy: 0.7858 - val_loss: 0.0443 - val_accuracy: 0.7340\n",
            "Epoch 145/500\n",
            "310/310 [==============================] - 5s 17ms/step - loss: 0.0350 - accuracy: 0.7833 - val_loss: 0.0435 - val_accuracy: 0.7380\n",
            "Epoch 146/500\n",
            "310/310 [==============================] - 5s 16ms/step - loss: 0.0344 - accuracy: 0.7874 - val_loss: 0.0437 - val_accuracy: 0.7359\n",
            "Epoch 147/500\n",
            "310/310 [==============================] - 5s 16ms/step - loss: 0.0343 - accuracy: 0.7891 - val_loss: 0.0443 - val_accuracy: 0.7334\n",
            "Epoch 148/500\n",
            "310/310 [==============================] - 5s 17ms/step - loss: 0.0340 - accuracy: 0.7887 - val_loss: 0.0435 - val_accuracy: 0.7365\n",
            "Epoch 149/500\n",
            "310/310 [==============================] - 5s 17ms/step - loss: 0.0342 - accuracy: 0.7887 - val_loss: 0.0440 - val_accuracy: 0.7352\n",
            "Epoch 150/500\n",
            "310/310 [==============================] - 5s 17ms/step - loss: 0.0342 - accuracy: 0.7885 - val_loss: 0.0438 - val_accuracy: 0.7361\n",
            "Epoch 151/500\n",
            "310/310 [==============================] - 5s 17ms/step - loss: 0.0343 - accuracy: 0.7881 - val_loss: 0.0438 - val_accuracy: 0.7360\n",
            "Epoch 152/500\n",
            "310/310 [==============================] - 5s 18ms/step - loss: 0.0336 - accuracy: 0.7924 - val_loss: 0.0441 - val_accuracy: 0.7336\n",
            "Epoch 153/500\n",
            "310/310 [==============================] - 5s 17ms/step - loss: 0.0333 - accuracy: 0.7949 - val_loss: 0.0428 - val_accuracy: 0.7425\n",
            "Epoch 154/500\n",
            "310/310 [==============================] - 5s 17ms/step - loss: 0.0335 - accuracy: 0.7941 - val_loss: 0.0432 - val_accuracy: 0.7415\n",
            "Epoch 155/500\n",
            "310/310 [==============================] - 5s 16ms/step - loss: 0.0335 - accuracy: 0.7946 - val_loss: 0.0433 - val_accuracy: 0.7417\n",
            "Epoch 156/500\n",
            "310/310 [==============================] - 5s 16ms/step - loss: 0.0332 - accuracy: 0.7954 - val_loss: 0.0435 - val_accuracy: 0.7419\n",
            "Epoch 157/500\n",
            "310/310 [==============================] - 5s 17ms/step - loss: 0.0333 - accuracy: 0.7944 - val_loss: 0.0440 - val_accuracy: 0.7354\n",
            "Epoch 158/500\n",
            "310/310 [==============================] - 5s 17ms/step - loss: 0.0328 - accuracy: 0.7992 - val_loss: 0.0434 - val_accuracy: 0.7386\n",
            "Epoch 159/500\n",
            "310/310 [==============================] - 5s 17ms/step - loss: 0.0332 - accuracy: 0.7957 - val_loss: 0.0438 - val_accuracy: 0.7352\n",
            "Epoch 160/500\n",
            "310/310 [==============================] - 5s 17ms/step - loss: 0.0330 - accuracy: 0.7963 - val_loss: 0.0424 - val_accuracy: 0.7431\n",
            "Epoch 161/500\n",
            "310/310 [==============================] - 5s 17ms/step - loss: 0.0331 - accuracy: 0.7963 - val_loss: 0.0428 - val_accuracy: 0.7426\n",
            "Epoch 162/500\n",
            "310/310 [==============================] - 5s 17ms/step - loss: 0.0324 - accuracy: 0.8010 - val_loss: 0.0436 - val_accuracy: 0.7424\n",
            "Epoch 163/500\n",
            "310/310 [==============================] - 5s 17ms/step - loss: 0.0324 - accuracy: 0.8024 - val_loss: 0.0428 - val_accuracy: 0.7445\n",
            "Epoch 164/500\n",
            "310/310 [==============================] - 5s 17ms/step - loss: 0.0324 - accuracy: 0.8003 - val_loss: 0.0423 - val_accuracy: 0.7463\n",
            "Epoch 165/500\n",
            "310/310 [==============================] - 6s 19ms/step - loss: 0.0324 - accuracy: 0.8003 - val_loss: 0.0430 - val_accuracy: 0.7383\n",
            "Epoch 166/500\n",
            "310/310 [==============================] - 6s 18ms/step - loss: 0.0324 - accuracy: 0.7997 - val_loss: 0.0434 - val_accuracy: 0.7428\n",
            "Epoch 167/500\n",
            "310/310 [==============================] - 6s 18ms/step - loss: 0.0318 - accuracy: 0.8040 - val_loss: 0.0429 - val_accuracy: 0.7470\n",
            "Epoch 168/500\n",
            "310/310 [==============================] - 5s 17ms/step - loss: 0.0318 - accuracy: 0.8046 - val_loss: 0.0421 - val_accuracy: 0.7483\n",
            "Epoch 169/500\n",
            "310/310 [==============================] - 5s 17ms/step - loss: 0.0318 - accuracy: 0.8045 - val_loss: 0.0420 - val_accuracy: 0.7498\n",
            "Epoch 170/500\n",
            "310/310 [==============================] - 5s 17ms/step - loss: 0.0318 - accuracy: 0.8059 - val_loss: 0.0420 - val_accuracy: 0.7510\n",
            "Epoch 171/500\n",
            "310/310 [==============================] - 5s 17ms/step - loss: 0.0318 - accuracy: 0.8052 - val_loss: 0.0424 - val_accuracy: 0.7488\n",
            "Epoch 172/500\n",
            "310/310 [==============================] - 5s 17ms/step - loss: 0.0316 - accuracy: 0.8056 - val_loss: 0.0428 - val_accuracy: 0.7464\n",
            "Epoch 173/500\n",
            "310/310 [==============================] - 5s 17ms/step - loss: 0.0314 - accuracy: 0.8081 - val_loss: 0.0426 - val_accuracy: 0.7469\n",
            "Epoch 174/500\n",
            "310/310 [==============================] - 5s 17ms/step - loss: 0.0312 - accuracy: 0.8094 - val_loss: 0.0423 - val_accuracy: 0.7498\n",
            "Epoch 175/500\n",
            "310/310 [==============================] - 5s 17ms/step - loss: 0.0312 - accuracy: 0.8092 - val_loss: 0.0423 - val_accuracy: 0.7483\n",
            "Epoch 176/500\n",
            "310/310 [==============================] - 5s 17ms/step - loss: 0.0309 - accuracy: 0.8101 - val_loss: 0.0425 - val_accuracy: 0.7466\n",
            "Epoch 177/500\n",
            "310/310 [==============================] - 5s 17ms/step - loss: 0.0310 - accuracy: 0.8101 - val_loss: 0.0419 - val_accuracy: 0.7502\n",
            "Epoch 178/500\n",
            "310/310 [==============================] - 5s 17ms/step - loss: 0.0311 - accuracy: 0.8096 - val_loss: 0.0419 - val_accuracy: 0.7489\n",
            "Epoch 179/500\n",
            "310/310 [==============================] - 5s 17ms/step - loss: 0.0308 - accuracy: 0.8109 - val_loss: 0.0417 - val_accuracy: 0.7534\n",
            "Epoch 180/500\n",
            "310/310 [==============================] - 5s 17ms/step - loss: 0.0306 - accuracy: 0.8134 - val_loss: 0.0419 - val_accuracy: 0.7507\n",
            "Epoch 181/500\n",
            "310/310 [==============================] - 5s 17ms/step - loss: 0.0307 - accuracy: 0.8102 - val_loss: 0.0416 - val_accuracy: 0.7520\n",
            "Epoch 182/500\n",
            "310/310 [==============================] - 5s 17ms/step - loss: 0.0304 - accuracy: 0.8146 - val_loss: 0.0420 - val_accuracy: 0.7523\n",
            "Epoch 183/500\n",
            "310/310 [==============================] - 5s 17ms/step - loss: 0.0306 - accuracy: 0.8123 - val_loss: 0.0413 - val_accuracy: 0.7573\n",
            "Epoch 184/500\n",
            "310/310 [==============================] - 5s 17ms/step - loss: 0.0304 - accuracy: 0.8134 - val_loss: 0.0424 - val_accuracy: 0.7469\n",
            "Epoch 185/500\n",
            "310/310 [==============================] - 5s 17ms/step - loss: 0.0302 - accuracy: 0.8160 - val_loss: 0.0424 - val_accuracy: 0.7485\n",
            "Epoch 186/500\n",
            "310/310 [==============================] - 5s 17ms/step - loss: 0.0304 - accuracy: 0.8156 - val_loss: 0.0416 - val_accuracy: 0.7539\n",
            "Epoch 187/500\n",
            "310/310 [==============================] - 5s 17ms/step - loss: 0.0301 - accuracy: 0.8155 - val_loss: 0.0415 - val_accuracy: 0.7522\n",
            "Epoch 188/500\n",
            "310/310 [==============================] - 5s 17ms/step - loss: 0.0303 - accuracy: 0.8148 - val_loss: 0.0417 - val_accuracy: 0.7517\n",
            "Epoch 189/500\n",
            "310/310 [==============================] - 5s 17ms/step - loss: 0.0297 - accuracy: 0.8192 - val_loss: 0.0414 - val_accuracy: 0.7557\n",
            "Epoch 190/500\n",
            "310/310 [==============================] - 5s 17ms/step - loss: 0.0298 - accuracy: 0.8185 - val_loss: 0.0418 - val_accuracy: 0.7529\n",
            "Epoch 191/500\n",
            "310/310 [==============================] - 5s 17ms/step - loss: 0.0299 - accuracy: 0.8163 - val_loss: 0.0411 - val_accuracy: 0.7532\n",
            "Epoch 192/500\n",
            "310/310 [==============================] - 5s 17ms/step - loss: 0.0298 - accuracy: 0.8181 - val_loss: 0.0412 - val_accuracy: 0.7562\n",
            "Epoch 193/500\n",
            "310/310 [==============================] - 5s 17ms/step - loss: 0.0297 - accuracy: 0.8185 - val_loss: 0.0416 - val_accuracy: 0.7540\n",
            "Epoch 194/500\n",
            "310/310 [==============================] - 5s 17ms/step - loss: 0.0298 - accuracy: 0.8185 - val_loss: 0.0408 - val_accuracy: 0.7576\n",
            "Epoch 195/500\n",
            "310/310 [==============================] - 5s 17ms/step - loss: 0.0295 - accuracy: 0.8202 - val_loss: 0.0412 - val_accuracy: 0.7570\n",
            "Epoch 196/500\n",
            "310/310 [==============================] - 5s 17ms/step - loss: 0.0292 - accuracy: 0.8223 - val_loss: 0.0410 - val_accuracy: 0.7573\n",
            "Epoch 197/500\n",
            "310/310 [==============================] - 5s 17ms/step - loss: 0.0292 - accuracy: 0.8208 - val_loss: 0.0407 - val_accuracy: 0.7576\n",
            "Epoch 198/500\n",
            "310/310 [==============================] - 5s 17ms/step - loss: 0.0291 - accuracy: 0.8217 - val_loss: 0.0408 - val_accuracy: 0.7595\n",
            "Epoch 199/500\n",
            "310/310 [==============================] - 5s 17ms/step - loss: 0.0291 - accuracy: 0.8227 - val_loss: 0.0410 - val_accuracy: 0.7582\n",
            "Epoch 200/500\n",
            "310/310 [==============================] - 5s 17ms/step - loss: 0.0289 - accuracy: 0.8224 - val_loss: 0.0407 - val_accuracy: 0.7605\n",
            "Epoch 201/500\n",
            "310/310 [==============================] - 5s 17ms/step - loss: 0.0288 - accuracy: 0.8240 - val_loss: 0.0419 - val_accuracy: 0.7503\n",
            "Epoch 202/500\n",
            "310/310 [==============================] - 5s 17ms/step - loss: 0.0285 - accuracy: 0.8261 - val_loss: 0.0408 - val_accuracy: 0.7597\n",
            "Epoch 203/500\n",
            "310/310 [==============================] - 5s 17ms/step - loss: 0.0288 - accuracy: 0.8242 - val_loss: 0.0406 - val_accuracy: 0.7605\n",
            "Epoch 204/500\n",
            "310/310 [==============================] - 5s 17ms/step - loss: 0.0290 - accuracy: 0.8213 - val_loss: 0.0408 - val_accuracy: 0.7602\n",
            "Epoch 205/500\n",
            "310/310 [==============================] - 5s 18ms/step - loss: 0.0284 - accuracy: 0.8280 - val_loss: 0.0413 - val_accuracy: 0.7548\n",
            "Epoch 206/500\n",
            "310/310 [==============================] - 5s 17ms/step - loss: 0.0284 - accuracy: 0.8273 - val_loss: 0.0410 - val_accuracy: 0.7609\n",
            "Epoch 207/500\n",
            "310/310 [==============================] - 5s 17ms/step - loss: 0.0282 - accuracy: 0.8290 - val_loss: 0.0406 - val_accuracy: 0.7631\n",
            "Epoch 208/500\n",
            "310/310 [==============================] - 5s 17ms/step - loss: 0.0283 - accuracy: 0.8281 - val_loss: 0.0407 - val_accuracy: 0.7576\n",
            "Epoch 209/500\n",
            "310/310 [==============================] - 5s 17ms/step - loss: 0.0283 - accuracy: 0.8278 - val_loss: 0.0403 - val_accuracy: 0.7614\n",
            "Epoch 210/500\n",
            "310/310 [==============================] - 5s 17ms/step - loss: 0.0283 - accuracy: 0.8273 - val_loss: 0.0410 - val_accuracy: 0.7545\n",
            "Epoch 211/500\n",
            "310/310 [==============================] - 5s 17ms/step - loss: 0.0283 - accuracy: 0.8289 - val_loss: 0.0410 - val_accuracy: 0.7605\n",
            "Epoch 212/500\n",
            "310/310 [==============================] - 5s 17ms/step - loss: 0.0280 - accuracy: 0.8307 - val_loss: 0.0408 - val_accuracy: 0.7626\n",
            "Epoch 213/500\n",
            "310/310 [==============================] - 5s 17ms/step - loss: 0.0282 - accuracy: 0.8277 - val_loss: 0.0403 - val_accuracy: 0.7625\n",
            "Epoch 214/500\n",
            "310/310 [==============================] - 5s 17ms/step - loss: 0.0280 - accuracy: 0.8296 - val_loss: 0.0404 - val_accuracy: 0.7608\n",
            "Epoch 215/500\n",
            "310/310 [==============================] - 5s 17ms/step - loss: 0.0277 - accuracy: 0.8303 - val_loss: 0.0399 - val_accuracy: 0.7646\n",
            "Epoch 216/500\n",
            "310/310 [==============================] - 5s 17ms/step - loss: 0.0278 - accuracy: 0.8313 - val_loss: 0.0404 - val_accuracy: 0.7627\n",
            "Epoch 217/500\n",
            "310/310 [==============================] - 5s 17ms/step - loss: 0.0277 - accuracy: 0.8311 - val_loss: 0.0401 - val_accuracy: 0.7651\n",
            "Epoch 218/500\n",
            "310/310 [==============================] - 5s 17ms/step - loss: 0.0275 - accuracy: 0.8339 - val_loss: 0.0398 - val_accuracy: 0.7666\n",
            "Epoch 219/500\n",
            "310/310 [==============================] - 5s 17ms/step - loss: 0.0275 - accuracy: 0.8342 - val_loss: 0.0406 - val_accuracy: 0.7634\n",
            "Epoch 220/500\n",
            "310/310 [==============================] - 5s 17ms/step - loss: 0.0273 - accuracy: 0.8350 - val_loss: 0.0401 - val_accuracy: 0.7651\n",
            "Epoch 221/500\n",
            "310/310 [==============================] - 5s 17ms/step - loss: 0.0272 - accuracy: 0.8349 - val_loss: 0.0404 - val_accuracy: 0.7645\n",
            "Epoch 222/500\n",
            "310/310 [==============================] - 5s 17ms/step - loss: 0.0271 - accuracy: 0.8358 - val_loss: 0.0402 - val_accuracy: 0.7626\n",
            "Epoch 223/500\n",
            "310/310 [==============================] - 5s 16ms/step - loss: 0.0271 - accuracy: 0.8370 - val_loss: 0.0395 - val_accuracy: 0.7692\n",
            "Epoch 224/500\n",
            "310/310 [==============================] - 5s 17ms/step - loss: 0.0273 - accuracy: 0.8338 - val_loss: 0.0400 - val_accuracy: 0.7672\n",
            "Epoch 225/500\n",
            "310/310 [==============================] - 5s 17ms/step - loss: 0.0269 - accuracy: 0.8367 - val_loss: 0.0399 - val_accuracy: 0.7640\n",
            "Epoch 226/500\n",
            "310/310 [==============================] - 5s 17ms/step - loss: 0.0268 - accuracy: 0.8379 - val_loss: 0.0391 - val_accuracy: 0.7675\n",
            "Epoch 227/500\n",
            "310/310 [==============================] - 5s 17ms/step - loss: 0.0270 - accuracy: 0.8373 - val_loss: 0.0399 - val_accuracy: 0.7626\n",
            "Epoch 228/500\n",
            "310/310 [==============================] - 5s 17ms/step - loss: 0.0273 - accuracy: 0.8340 - val_loss: 0.0400 - val_accuracy: 0.7637\n",
            "Epoch 229/500\n",
            "310/310 [==============================] - 5s 17ms/step - loss: 0.0270 - accuracy: 0.8361 - val_loss: 0.0401 - val_accuracy: 0.7633\n",
            "Epoch 230/500\n",
            "310/310 [==============================] - 5s 17ms/step - loss: 0.0270 - accuracy: 0.8375 - val_loss: 0.0392 - val_accuracy: 0.7682\n",
            "Epoch 231/500\n",
            "310/310 [==============================] - 5s 17ms/step - loss: 0.0273 - accuracy: 0.8347 - val_loss: 0.0395 - val_accuracy: 0.7686\n",
            "Epoch 232/500\n",
            "310/310 [==============================] - 5s 17ms/step - loss: 0.0267 - accuracy: 0.8380 - val_loss: 0.0403 - val_accuracy: 0.7667\n",
            "Epoch 233/500\n",
            "310/310 [==============================] - 5s 17ms/step - loss: 0.0267 - accuracy: 0.8377 - val_loss: 0.0400 - val_accuracy: 0.7636\n",
            "Epoch 234/500\n",
            "310/310 [==============================] - 5s 17ms/step - loss: 0.0266 - accuracy: 0.8397 - val_loss: 0.0403 - val_accuracy: 0.7617\n",
            "Epoch 235/500\n",
            "310/310 [==============================] - 5s 17ms/step - loss: 0.0265 - accuracy: 0.8392 - val_loss: 0.0397 - val_accuracy: 0.7669\n",
            "Epoch 236/500\n",
            "310/310 [==============================] - 5s 17ms/step - loss: 0.0260 - accuracy: 0.8425 - val_loss: 0.0397 - val_accuracy: 0.7645\n",
            "Epoch 237/500\n",
            "310/310 [==============================] - 5s 17ms/step - loss: 0.0262 - accuracy: 0.8409 - val_loss: 0.0401 - val_accuracy: 0.7636\n",
            "Epoch 238/500\n",
            "310/310 [==============================] - 5s 17ms/step - loss: 0.0267 - accuracy: 0.8381 - val_loss: 0.0403 - val_accuracy: 0.7610\n",
            "Epoch 239/500\n",
            "310/310 [==============================] - 5s 17ms/step - loss: 0.0263 - accuracy: 0.8409 - val_loss: 0.0399 - val_accuracy: 0.7645\n",
            "Epoch 240/500\n",
            "310/310 [==============================] - 5s 17ms/step - loss: 0.0261 - accuracy: 0.8430 - val_loss: 0.0393 - val_accuracy: 0.7720\n",
            "Epoch 241/500\n",
            "310/310 [==============================] - 5s 17ms/step - loss: 0.0257 - accuracy: 0.8449 - val_loss: 0.0391 - val_accuracy: 0.7741\n",
            "Epoch 242/500\n",
            "310/310 [==============================] - 5s 17ms/step - loss: 0.0264 - accuracy: 0.8406 - val_loss: 0.0391 - val_accuracy: 0.7712\n",
            "Epoch 243/500\n",
            "310/310 [==============================] - 5s 17ms/step - loss: 0.0258 - accuracy: 0.8436 - val_loss: 0.0387 - val_accuracy: 0.7725\n",
            "Epoch 244/500\n",
            "310/310 [==============================] - 5s 17ms/step - loss: 0.0259 - accuracy: 0.8436 - val_loss: 0.0391 - val_accuracy: 0.7696\n",
            "Epoch 245/500\n",
            "310/310 [==============================] - 5s 17ms/step - loss: 0.0259 - accuracy: 0.8435 - val_loss: 0.0390 - val_accuracy: 0.7725\n",
            "Epoch 246/500\n",
            "310/310 [==============================] - 5s 17ms/step - loss: 0.0258 - accuracy: 0.8431 - val_loss: 0.0397 - val_accuracy: 0.7707\n",
            "Epoch 247/500\n",
            "310/310 [==============================] - 5s 17ms/step - loss: 0.0257 - accuracy: 0.8447 - val_loss: 0.0390 - val_accuracy: 0.7717\n",
            "Epoch 248/500\n",
            "310/310 [==============================] - 5s 17ms/step - loss: 0.0260 - accuracy: 0.8428 - val_loss: 0.0389 - val_accuracy: 0.7702\n",
            "Epoch 249/500\n",
            "310/310 [==============================] - 5s 17ms/step - loss: 0.0256 - accuracy: 0.8454 - val_loss: 0.0394 - val_accuracy: 0.7691\n",
            "Epoch 250/500\n",
            "310/310 [==============================] - 5s 17ms/step - loss: 0.0254 - accuracy: 0.8461 - val_loss: 0.0390 - val_accuracy: 0.7710\n",
            "Epoch 251/500\n",
            "310/310 [==============================] - 5s 17ms/step - loss: 0.0253 - accuracy: 0.8475 - val_loss: 0.0387 - val_accuracy: 0.7757\n",
            "Epoch 252/500\n",
            "310/310 [==============================] - 5s 17ms/step - loss: 0.0258 - accuracy: 0.8440 - val_loss: 0.0385 - val_accuracy: 0.7739\n",
            "Epoch 253/500\n",
            "310/310 [==============================] - 5s 17ms/step - loss: 0.0253 - accuracy: 0.8461 - val_loss: 0.0391 - val_accuracy: 0.7725\n",
            "Epoch 254/500\n",
            "310/310 [==============================] - 5s 17ms/step - loss: 0.0251 - accuracy: 0.8488 - val_loss: 0.0391 - val_accuracy: 0.7758\n",
            "Epoch 255/500\n",
            "310/310 [==============================] - 5s 17ms/step - loss: 0.0250 - accuracy: 0.8503 - val_loss: 0.0394 - val_accuracy: 0.7679\n",
            "Epoch 256/500\n",
            "310/310 [==============================] - 5s 17ms/step - loss: 0.0254 - accuracy: 0.8471 - val_loss: 0.0393 - val_accuracy: 0.7719\n",
            "Epoch 257/500\n",
            "310/310 [==============================] - 5s 17ms/step - loss: 0.0253 - accuracy: 0.8464 - val_loss: 0.0384 - val_accuracy: 0.7737\n",
            "Epoch 258/500\n",
            "310/310 [==============================] - 5s 17ms/step - loss: 0.0250 - accuracy: 0.8499 - val_loss: 0.0389 - val_accuracy: 0.7746\n",
            "Epoch 259/500\n",
            "310/310 [==============================] - 5s 17ms/step - loss: 0.0250 - accuracy: 0.8490 - val_loss: 0.0394 - val_accuracy: 0.7725\n",
            "Epoch 260/500\n",
            "310/310 [==============================] - 5s 17ms/step - loss: 0.0249 - accuracy: 0.8497 - val_loss: 0.0396 - val_accuracy: 0.7715\n",
            "Epoch 261/500\n",
            "310/310 [==============================] - 5s 17ms/step - loss: 0.0247 - accuracy: 0.8513 - val_loss: 0.0390 - val_accuracy: 0.7723\n",
            "Epoch 262/500\n",
            "310/310 [==============================] - 5s 17ms/step - loss: 0.0248 - accuracy: 0.8506 - val_loss: 0.0383 - val_accuracy: 0.7763\n",
            "Epoch 263/500\n",
            "310/310 [==============================] - 5s 17ms/step - loss: 0.0244 - accuracy: 0.8544 - val_loss: 0.0384 - val_accuracy: 0.7787\n",
            "Epoch 264/500\n",
            "310/310 [==============================] - 5s 17ms/step - loss: 0.0247 - accuracy: 0.8519 - val_loss: 0.0391 - val_accuracy: 0.7754\n",
            "Epoch 265/500\n",
            "310/310 [==============================] - 5s 17ms/step - loss: 0.0247 - accuracy: 0.8506 - val_loss: 0.0388 - val_accuracy: 0.7727\n",
            "Epoch 266/500\n",
            "310/310 [==============================] - 5s 17ms/step - loss: 0.0246 - accuracy: 0.8527 - val_loss: 0.0389 - val_accuracy: 0.7738\n",
            "Epoch 267/500\n",
            "310/310 [==============================] - 6s 18ms/step - loss: 0.0243 - accuracy: 0.8527 - val_loss: 0.0382 - val_accuracy: 0.7766\n",
            "Epoch 268/500\n",
            "310/310 [==============================] - 5s 18ms/step - loss: 0.0243 - accuracy: 0.8530 - val_loss: 0.0384 - val_accuracy: 0.7757\n",
            "Epoch 269/500\n",
            "310/310 [==============================] - 5s 17ms/step - loss: 0.0245 - accuracy: 0.8528 - val_loss: 0.0386 - val_accuracy: 0.7766\n",
            "Epoch 270/500\n",
            "310/310 [==============================] - 5s 17ms/step - loss: 0.0246 - accuracy: 0.8525 - val_loss: 0.0384 - val_accuracy: 0.7776\n",
            "Epoch 271/500\n",
            "310/310 [==============================] - 5s 17ms/step - loss: 0.0244 - accuracy: 0.8544 - val_loss: 0.0386 - val_accuracy: 0.7766\n",
            "Epoch 272/500\n",
            "310/310 [==============================] - 6s 18ms/step - loss: 0.0243 - accuracy: 0.8537 - val_loss: 0.0383 - val_accuracy: 0.7781\n",
            "Epoch 273/500\n",
            "310/310 [==============================] - 6s 18ms/step - loss: 0.0242 - accuracy: 0.8536 - val_loss: 0.0384 - val_accuracy: 0.7753\n",
            "Epoch 274/500\n",
            "310/310 [==============================] - 5s 17ms/step - loss: 0.0240 - accuracy: 0.8553 - val_loss: 0.0387 - val_accuracy: 0.7756\n",
            "Epoch 275/500\n",
            "310/310 [==============================] - 5s 17ms/step - loss: 0.0242 - accuracy: 0.8549 - val_loss: 0.0380 - val_accuracy: 0.7757\n",
            "Epoch 276/500\n",
            "310/310 [==============================] - 5s 17ms/step - loss: 0.0242 - accuracy: 0.8552 - val_loss: 0.0383 - val_accuracy: 0.7771\n",
            "Epoch 277/500\n",
            "310/310 [==============================] - 5s 18ms/step - loss: 0.0237 - accuracy: 0.8573 - val_loss: 0.0386 - val_accuracy: 0.7750\n",
            "Epoch 278/500\n",
            "310/310 [==============================] - 6s 18ms/step - loss: 0.0237 - accuracy: 0.8575 - val_loss: 0.0381 - val_accuracy: 0.7794\n",
            "Epoch 279/500\n",
            "310/310 [==============================] - 6s 18ms/step - loss: 0.0242 - accuracy: 0.8558 - val_loss: 0.0373 - val_accuracy: 0.7837\n",
            "Epoch 280/500\n",
            "310/310 [==============================] - 5s 18ms/step - loss: 0.0235 - accuracy: 0.8595 - val_loss: 0.0374 - val_accuracy: 0.7818\n",
            "Epoch 281/500\n",
            "310/310 [==============================] - 5s 17ms/step - loss: 0.0240 - accuracy: 0.8551 - val_loss: 0.0380 - val_accuracy: 0.7767\n",
            "Epoch 282/500\n",
            "310/310 [==============================] - 5s 17ms/step - loss: 0.0242 - accuracy: 0.8552 - val_loss: 0.0381 - val_accuracy: 0.7802\n",
            "Epoch 283/500\n",
            "310/310 [==============================] - 5s 18ms/step - loss: 0.0237 - accuracy: 0.8572 - val_loss: 0.0381 - val_accuracy: 0.7769\n",
            "Epoch 284/500\n",
            "310/310 [==============================] - 6s 18ms/step - loss: 0.0233 - accuracy: 0.8601 - val_loss: 0.0380 - val_accuracy: 0.7807\n",
            "Epoch 285/500\n",
            "310/310 [==============================] - 5s 18ms/step - loss: 0.0235 - accuracy: 0.8598 - val_loss: 0.0381 - val_accuracy: 0.7804\n",
            "Epoch 286/500\n",
            "310/310 [==============================] - 5s 17ms/step - loss: 0.0234 - accuracy: 0.8588 - val_loss: 0.0378 - val_accuracy: 0.7802\n",
            "Epoch 287/500\n",
            "310/310 [==============================] - 5s 17ms/step - loss: 0.0233 - accuracy: 0.8590 - val_loss: 0.0381 - val_accuracy: 0.7788\n",
            "Epoch 288/500\n",
            "310/310 [==============================] - 5s 18ms/step - loss: 0.0232 - accuracy: 0.8610 - val_loss: 0.0379 - val_accuracy: 0.7774\n",
            "Epoch 289/500\n",
            "310/310 [==============================] - 6s 18ms/step - loss: 0.0232 - accuracy: 0.8610 - val_loss: 0.0380 - val_accuracy: 0.7793\n",
            "Epoch 290/500\n",
            "310/310 [==============================] - 5s 17ms/step - loss: 0.0236 - accuracy: 0.8588 - val_loss: 0.0375 - val_accuracy: 0.7830\n",
            "Epoch 291/500\n",
            "310/310 [==============================] - 5s 17ms/step - loss: 0.0229 - accuracy: 0.8627 - val_loss: 0.0377 - val_accuracy: 0.7822\n",
            "Epoch 292/500\n",
            "310/310 [==============================] - 5s 17ms/step - loss: 0.0232 - accuracy: 0.8609 - val_loss: 0.0379 - val_accuracy: 0.7785\n",
            "Epoch 293/500\n",
            "310/310 [==============================] - 5s 17ms/step - loss: 0.0229 - accuracy: 0.8631 - val_loss: 0.0379 - val_accuracy: 0.7794\n",
            "Epoch 294/500\n",
            "310/310 [==============================] - 5s 17ms/step - loss: 0.0232 - accuracy: 0.8614 - val_loss: 0.0380 - val_accuracy: 0.7798\n",
            "Epoch 295/500\n",
            "310/310 [==============================] - 6s 18ms/step - loss: 0.0235 - accuracy: 0.8590 - val_loss: 0.0380 - val_accuracy: 0.7793\n",
            "Epoch 296/500\n",
            "310/310 [==============================] - 6s 18ms/step - loss: 0.0231 - accuracy: 0.8634 - val_loss: 0.0384 - val_accuracy: 0.7776\n",
            "Epoch 297/500\n",
            "310/310 [==============================] - 5s 17ms/step - loss: 0.0232 - accuracy: 0.8620 - val_loss: 0.0373 - val_accuracy: 0.7851\n",
            "Epoch 298/500\n",
            "310/310 [==============================] - 5s 17ms/step - loss: 0.0226 - accuracy: 0.8649 - val_loss: 0.0382 - val_accuracy: 0.7788\n",
            "Epoch 299/500\n",
            "310/310 [==============================] - 5s 17ms/step - loss: 0.0228 - accuracy: 0.8640 - val_loss: 0.0374 - val_accuracy: 0.7813\n",
            "Epoch 300/500\n",
            "310/310 [==============================] - 5s 17ms/step - loss: 0.0229 - accuracy: 0.8627 - val_loss: 0.0377 - val_accuracy: 0.7788\n",
            "Epoch 301/500\n",
            "310/310 [==============================] - 5s 17ms/step - loss: 0.0229 - accuracy: 0.8619 - val_loss: 0.0381 - val_accuracy: 0.7777\n",
            "Epoch 302/500\n",
            "310/310 [==============================] - 5s 17ms/step - loss: 0.0227 - accuracy: 0.8648 - val_loss: 0.0380 - val_accuracy: 0.7804\n",
            "Epoch 303/500\n",
            "310/310 [==============================] - 5s 18ms/step - loss: 0.0229 - accuracy: 0.8627 - val_loss: 0.0375 - val_accuracy: 0.7800\n",
            "Epoch 304/500\n",
            "310/310 [==============================] - 5s 17ms/step - loss: 0.0224 - accuracy: 0.8652 - val_loss: 0.0384 - val_accuracy: 0.7761\n",
            "Epoch 305/500\n",
            "310/310 [==============================] - 5s 18ms/step - loss: 0.0226 - accuracy: 0.8643 - val_loss: 0.0384 - val_accuracy: 0.7791\n",
            "Epoch 306/500\n",
            "310/310 [==============================] - 5s 18ms/step - loss: 0.0228 - accuracy: 0.8633 - val_loss: 0.0376 - val_accuracy: 0.7813\n",
            "Epoch 307/500\n",
            "310/310 [==============================] - 5s 18ms/step - loss: 0.0226 - accuracy: 0.8651 - val_loss: 0.0378 - val_accuracy: 0.7825\n",
            "Epoch 308/500\n",
            "310/310 [==============================] - 5s 17ms/step - loss: 0.0224 - accuracy: 0.8659 - val_loss: 0.0383 - val_accuracy: 0.7800\n",
            "Epoch 309/500\n",
            "310/310 [==============================] - 5s 17ms/step - loss: 0.0222 - accuracy: 0.8671 - val_loss: 0.0379 - val_accuracy: 0.7791\n",
            "Epoch 310/500\n",
            "310/310 [==============================] - 5s 17ms/step - loss: 0.0225 - accuracy: 0.8655 - val_loss: 0.0387 - val_accuracy: 0.7745\n",
            "Epoch 311/500\n",
            "310/310 [==============================] - 5s 18ms/step - loss: 0.0224 - accuracy: 0.8657 - val_loss: 0.0377 - val_accuracy: 0.7850\n",
            "Epoch 312/500\n",
            "310/310 [==============================] - 5s 18ms/step - loss: 0.0221 - accuracy: 0.8671 - val_loss: 0.0371 - val_accuracy: 0.7855\n",
            "Epoch 313/500\n",
            "310/310 [==============================] - 5s 17ms/step - loss: 0.0224 - accuracy: 0.8645 - val_loss: 0.0373 - val_accuracy: 0.7842\n",
            "Epoch 314/500\n",
            "310/310 [==============================] - 5s 17ms/step - loss: 0.0220 - accuracy: 0.8696 - val_loss: 0.0386 - val_accuracy: 0.7817\n",
            "Epoch 315/500\n",
            "310/310 [==============================] - 5s 17ms/step - loss: 0.0219 - accuracy: 0.8690 - val_loss: 0.0377 - val_accuracy: 0.7845\n",
            "Epoch 316/500\n",
            "310/310 [==============================] - 5s 17ms/step - loss: 0.0221 - accuracy: 0.8671 - val_loss: 0.0381 - val_accuracy: 0.7811\n",
            "Epoch 317/500\n",
            "310/310 [==============================] - 6s 18ms/step - loss: 0.0221 - accuracy: 0.8674 - val_loss: 0.0378 - val_accuracy: 0.7809\n",
            "Epoch 318/500\n",
            "310/310 [==============================] - 6s 18ms/step - loss: 0.0221 - accuracy: 0.8679 - val_loss: 0.0371 - val_accuracy: 0.7851\n",
            "Epoch 319/500\n",
            "310/310 [==============================] - 5s 17ms/step - loss: 0.0221 - accuracy: 0.8679 - val_loss: 0.0369 - val_accuracy: 0.7878\n",
            "Epoch 320/500\n",
            "310/310 [==============================] - 5s 17ms/step - loss: 0.0216 - accuracy: 0.8702 - val_loss: 0.0381 - val_accuracy: 0.7815\n",
            "Epoch 321/500\n",
            "310/310 [==============================] - 6s 18ms/step - loss: 0.0221 - accuracy: 0.8694 - val_loss: 0.0374 - val_accuracy: 0.7828\n",
            "Epoch 322/500\n",
            "310/310 [==============================] - 6s 18ms/step - loss: 0.0222 - accuracy: 0.8661 - val_loss: 0.0371 - val_accuracy: 0.7870\n",
            "Epoch 323/500\n",
            "310/310 [==============================] - 5s 18ms/step - loss: 0.0219 - accuracy: 0.8683 - val_loss: 0.0371 - val_accuracy: 0.7868\n",
            "Epoch 324/500\n",
            "310/310 [==============================] - 6s 18ms/step - loss: 0.0219 - accuracy: 0.8697 - val_loss: 0.0372 - val_accuracy: 0.7846\n",
            "Epoch 325/500\n",
            "310/310 [==============================] - 5s 18ms/step - loss: 0.0218 - accuracy: 0.8699 - val_loss: 0.0374 - val_accuracy: 0.7854\n",
            "Epoch 326/500\n",
            "310/310 [==============================] - 5s 17ms/step - loss: 0.0216 - accuracy: 0.8718 - val_loss: 0.0382 - val_accuracy: 0.7799\n",
            "Epoch 327/500\n",
            "310/310 [==============================] - 5s 18ms/step - loss: 0.0215 - accuracy: 0.8703 - val_loss: 0.0376 - val_accuracy: 0.7819\n",
            "Epoch 328/500\n",
            "310/310 [==============================] - 6s 18ms/step - loss: 0.0215 - accuracy: 0.8711 - val_loss: 0.0370 - val_accuracy: 0.7865\n",
            "Epoch 329/500\n",
            "310/310 [==============================] - 5s 18ms/step - loss: 0.0216 - accuracy: 0.8713 - val_loss: 0.0374 - val_accuracy: 0.7862\n",
            "Epoch 330/500\n",
            "310/310 [==============================] - 6s 18ms/step - loss: 0.0215 - accuracy: 0.8718 - val_loss: 0.0372 - val_accuracy: 0.7846\n",
            "Epoch 331/500\n",
            "310/310 [==============================] - 6s 18ms/step - loss: 0.0218 - accuracy: 0.8699 - val_loss: 0.0374 - val_accuracy: 0.7800\n",
            "Epoch 332/500\n",
            "310/310 [==============================] - 6s 18ms/step - loss: 0.0212 - accuracy: 0.8747 - val_loss: 0.0371 - val_accuracy: 0.7879\n",
            "Epoch 333/500\n",
            "310/310 [==============================] - 6s 18ms/step - loss: 0.0216 - accuracy: 0.8708 - val_loss: 0.0375 - val_accuracy: 0.7821\n",
            "Epoch 334/500\n",
            "310/310 [==============================] - 6s 18ms/step - loss: 0.0216 - accuracy: 0.8710 - val_loss: 0.0370 - val_accuracy: 0.7869\n",
            "Epoch 335/500\n",
            "310/310 [==============================] - 6s 18ms/step - loss: 0.0213 - accuracy: 0.8713 - val_loss: 0.0370 - val_accuracy: 0.7884\n",
            "Epoch 336/500\n",
            "310/310 [==============================] - 6s 18ms/step - loss: 0.0215 - accuracy: 0.8695 - val_loss: 0.0365 - val_accuracy: 0.7887\n",
            "Epoch 337/500\n",
            "310/310 [==============================] - 5s 18ms/step - loss: 0.0214 - accuracy: 0.8724 - val_loss: 0.0369 - val_accuracy: 0.7874\n",
            "Epoch 338/500\n",
            "310/310 [==============================] - 5s 17ms/step - loss: 0.0216 - accuracy: 0.8714 - val_loss: 0.0372 - val_accuracy: 0.7857\n",
            "Epoch 339/500\n",
            "310/310 [==============================] - 6s 18ms/step - loss: 0.0210 - accuracy: 0.8742 - val_loss: 0.0367 - val_accuracy: 0.7872\n",
            "Epoch 340/500\n",
            "310/310 [==============================] - 5s 18ms/step - loss: 0.0212 - accuracy: 0.8725 - val_loss: 0.0365 - val_accuracy: 0.7898\n",
            "Epoch 341/500\n",
            "310/310 [==============================] - 5s 18ms/step - loss: 0.0211 - accuracy: 0.8735 - val_loss: 0.0372 - val_accuracy: 0.7854\n",
            "Epoch 342/500\n",
            "310/310 [==============================] - 6s 18ms/step - loss: 0.0212 - accuracy: 0.8743 - val_loss: 0.0366 - val_accuracy: 0.7880\n",
            "Epoch 343/500\n",
            "310/310 [==============================] - 6s 18ms/step - loss: 0.0206 - accuracy: 0.8775 - val_loss: 0.0364 - val_accuracy: 0.7904\n",
            "Epoch 344/500\n",
            "310/310 [==============================] - 6s 18ms/step - loss: 0.0210 - accuracy: 0.8746 - val_loss: 0.0365 - val_accuracy: 0.7902\n",
            "Epoch 345/500\n",
            "310/310 [==============================] - 6s 18ms/step - loss: 0.0206 - accuracy: 0.8772 - val_loss: 0.0365 - val_accuracy: 0.7885\n",
            "Epoch 346/500\n",
            "310/310 [==============================] - 6s 18ms/step - loss: 0.0209 - accuracy: 0.8751 - val_loss: 0.0364 - val_accuracy: 0.7914\n",
            "Epoch 347/500\n",
            "310/310 [==============================] - 5s 17ms/step - loss: 0.0208 - accuracy: 0.8766 - val_loss: 0.0363 - val_accuracy: 0.7920\n",
            "Epoch 348/500\n",
            "310/310 [==============================] - 6s 18ms/step - loss: 0.0207 - accuracy: 0.8774 - val_loss: 0.0368 - val_accuracy: 0.7891\n",
            "Epoch 349/500\n",
            "310/310 [==============================] - 5s 17ms/step - loss: 0.0212 - accuracy: 0.8736 - val_loss: 0.0371 - val_accuracy: 0.7843\n",
            "Epoch 350/500\n",
            "310/310 [==============================] - 5s 18ms/step - loss: 0.0204 - accuracy: 0.8796 - val_loss: 0.0367 - val_accuracy: 0.7894\n",
            "Epoch 351/500\n",
            "310/310 [==============================] - 6s 18ms/step - loss: 0.0207 - accuracy: 0.8753 - val_loss: 0.0363 - val_accuracy: 0.7918\n",
            "Epoch 352/500\n",
            "310/310 [==============================] - 6s 18ms/step - loss: 0.0208 - accuracy: 0.8753 - val_loss: 0.0363 - val_accuracy: 0.7939\n",
            "Epoch 353/500\n",
            "310/310 [==============================] - 5s 18ms/step - loss: 0.0207 - accuracy: 0.8766 - val_loss: 0.0366 - val_accuracy: 0.7890\n",
            "Epoch 354/500\n",
            "310/310 [==============================] - 5s 18ms/step - loss: 0.0207 - accuracy: 0.8756 - val_loss: 0.0358 - val_accuracy: 0.7922\n",
            "Epoch 355/500\n",
            "310/310 [==============================] - 5s 18ms/step - loss: 0.0208 - accuracy: 0.8752 - val_loss: 0.0360 - val_accuracy: 0.7918\n",
            "Epoch 356/500\n",
            "310/310 [==============================] - 5s 18ms/step - loss: 0.0207 - accuracy: 0.8763 - val_loss: 0.0365 - val_accuracy: 0.7898\n",
            "Epoch 357/500\n",
            "310/310 [==============================] - 6s 18ms/step - loss: 0.0203 - accuracy: 0.8792 - val_loss: 0.0359 - val_accuracy: 0.7947\n",
            "Epoch 358/500\n",
            "310/310 [==============================] - 5s 17ms/step - loss: 0.0205 - accuracy: 0.8773 - val_loss: 0.0364 - val_accuracy: 0.7922\n",
            "Epoch 359/500\n",
            "310/310 [==============================] - 5s 17ms/step - loss: 0.0204 - accuracy: 0.8775 - val_loss: 0.0363 - val_accuracy: 0.7915\n",
            "Epoch 360/500\n",
            "310/310 [==============================] - 5s 18ms/step - loss: 0.0202 - accuracy: 0.8808 - val_loss: 0.0366 - val_accuracy: 0.7918\n",
            "Epoch 361/500\n",
            "310/310 [==============================] - 6s 18ms/step - loss: 0.0205 - accuracy: 0.8768 - val_loss: 0.0364 - val_accuracy: 0.7924\n",
            "Epoch 362/500\n",
            "310/310 [==============================] - 6s 18ms/step - loss: 0.0203 - accuracy: 0.8790 - val_loss: 0.0366 - val_accuracy: 0.7924\n",
            "Epoch 363/500\n",
            "310/310 [==============================] - 5s 17ms/step - loss: 0.0206 - accuracy: 0.8766 - val_loss: 0.0363 - val_accuracy: 0.7921\n",
            "Epoch 364/500\n",
            "310/310 [==============================] - 6s 18ms/step - loss: 0.0206 - accuracy: 0.8774 - val_loss: 0.0360 - val_accuracy: 0.7927\n",
            "Epoch 365/500\n",
            "310/310 [==============================] - 5s 18ms/step - loss: 0.0201 - accuracy: 0.8804 - val_loss: 0.0367 - val_accuracy: 0.7915\n",
            "Epoch 366/500\n",
            "310/310 [==============================] - 6s 18ms/step - loss: 0.0201 - accuracy: 0.8801 - val_loss: 0.0362 - val_accuracy: 0.7923\n",
            "Epoch 367/500\n",
            "310/310 [==============================] - 5s 18ms/step - loss: 0.0202 - accuracy: 0.8805 - val_loss: 0.0364 - val_accuracy: 0.7913\n",
            "Epoch 368/500\n",
            "310/310 [==============================] - 6s 18ms/step - loss: 0.0197 - accuracy: 0.8830 - val_loss: 0.0358 - val_accuracy: 0.7955\n",
            "Epoch 369/500\n",
            "310/310 [==============================] - 5s 17ms/step - loss: 0.0203 - accuracy: 0.8787 - val_loss: 0.0368 - val_accuracy: 0.7903\n",
            "Epoch 370/500\n",
            "310/310 [==============================] - 5s 18ms/step - loss: 0.0201 - accuracy: 0.8800 - val_loss: 0.0365 - val_accuracy: 0.7919\n",
            "Epoch 371/500\n",
            "310/310 [==============================] - 5s 17ms/step - loss: 0.0201 - accuracy: 0.8794 - val_loss: 0.0364 - val_accuracy: 0.7906\n",
            "Epoch 372/500\n",
            "310/310 [==============================] - 6s 18ms/step - loss: 0.0201 - accuracy: 0.8811 - val_loss: 0.0357 - val_accuracy: 0.7961\n",
            "Epoch 373/500\n",
            "310/310 [==============================] - 6s 18ms/step - loss: 0.0202 - accuracy: 0.8796 - val_loss: 0.0363 - val_accuracy: 0.7907\n",
            "Epoch 374/500\n",
            "310/310 [==============================] - 5s 18ms/step - loss: 0.0201 - accuracy: 0.8805 - val_loss: 0.0363 - val_accuracy: 0.7898\n",
            "Epoch 375/500\n",
            "310/310 [==============================] - 5s 18ms/step - loss: 0.0200 - accuracy: 0.8811 - val_loss: 0.0368 - val_accuracy: 0.7918\n",
            "Epoch 376/500\n",
            "310/310 [==============================] - 5s 17ms/step - loss: 0.0197 - accuracy: 0.8831 - val_loss: 0.0363 - val_accuracy: 0.7929\n",
            "Epoch 377/500\n",
            "310/310 [==============================] - 5s 18ms/step - loss: 0.0199 - accuracy: 0.8824 - val_loss: 0.0365 - val_accuracy: 0.7894\n",
            "Epoch 378/500\n",
            "310/310 [==============================] - 5s 17ms/step - loss: 0.0193 - accuracy: 0.8857 - val_loss: 0.0365 - val_accuracy: 0.7918\n",
            "Epoch 379/500\n",
            "310/310 [==============================] - 6s 18ms/step - loss: 0.0197 - accuracy: 0.8837 - val_loss: 0.0371 - val_accuracy: 0.7905\n",
            "Epoch 380/500\n",
            "310/310 [==============================] - 6s 18ms/step - loss: 0.0194 - accuracy: 0.8857 - val_loss: 0.0360 - val_accuracy: 0.7933\n",
            "Epoch 381/500\n",
            "310/310 [==============================] - 6s 18ms/step - loss: 0.0195 - accuracy: 0.8833 - val_loss: 0.0363 - val_accuracy: 0.7923\n",
            "Epoch 382/500\n",
            "310/310 [==============================] - 6s 18ms/step - loss: 0.0196 - accuracy: 0.8842 - val_loss: 0.0361 - val_accuracy: 0.7943\n",
            "Epoch 383/500\n",
            "310/310 [==============================] - 6s 18ms/step - loss: 0.0194 - accuracy: 0.8846 - val_loss: 0.0368 - val_accuracy: 0.7899\n",
            "Epoch 384/500\n",
            "310/310 [==============================] - 5s 17ms/step - loss: 0.0196 - accuracy: 0.8838 - val_loss: 0.0365 - val_accuracy: 0.7916\n",
            "Epoch 385/500\n",
            "310/310 [==============================] - 6s 18ms/step - loss: 0.0197 - accuracy: 0.8829 - val_loss: 0.0360 - val_accuracy: 0.7956\n",
            "Epoch 386/500\n",
            "310/310 [==============================] - 6s 18ms/step - loss: 0.0194 - accuracy: 0.8841 - val_loss: 0.0362 - val_accuracy: 0.7950\n",
            "Epoch 387/500\n",
            "310/310 [==============================] - 6s 18ms/step - loss: 0.0196 - accuracy: 0.8833 - val_loss: 0.0359 - val_accuracy: 0.7970\n",
            "Epoch 388/500\n",
            "310/310 [==============================] - 5s 17ms/step - loss: 0.0197 - accuracy: 0.8828 - val_loss: 0.0362 - val_accuracy: 0.7925\n",
            "Epoch 389/500\n",
            "310/310 [==============================] - 5s 17ms/step - loss: 0.0193 - accuracy: 0.8853 - val_loss: 0.0363 - val_accuracy: 0.7914\n",
            "Epoch 390/500\n",
            "310/310 [==============================] - 6s 18ms/step - loss: 0.0190 - accuracy: 0.8865 - val_loss: 0.0364 - val_accuracy: 0.7933\n",
            "Epoch 391/500\n",
            "310/310 [==============================] - 6s 18ms/step - loss: 0.0193 - accuracy: 0.8863 - val_loss: 0.0361 - val_accuracy: 0.7950\n",
            "Epoch 392/500\n",
            "310/310 [==============================] - 6s 18ms/step - loss: 0.0190 - accuracy: 0.8870 - val_loss: 0.0367 - val_accuracy: 0.7915\n",
            "Epoch 393/500\n",
            "310/310 [==============================] - 6s 18ms/step - loss: 0.0193 - accuracy: 0.8862 - val_loss: 0.0359 - val_accuracy: 0.7950\n",
            "Epoch 394/500\n",
            "310/310 [==============================] - 6s 18ms/step - loss: 0.0193 - accuracy: 0.8858 - val_loss: 0.0366 - val_accuracy: 0.7931\n",
            "Epoch 395/500\n",
            "310/310 [==============================] - 6s 18ms/step - loss: 0.0192 - accuracy: 0.8854 - val_loss: 0.0361 - val_accuracy: 0.7932\n",
            "Epoch 396/500\n",
            "310/310 [==============================] - 5s 18ms/step - loss: 0.0192 - accuracy: 0.8868 - val_loss: 0.0357 - val_accuracy: 0.7961\n",
            "Epoch 397/500\n",
            "310/310 [==============================] - 5s 18ms/step - loss: 0.0190 - accuracy: 0.8862 - val_loss: 0.0359 - val_accuracy: 0.7941\n",
            "Epoch 398/500\n",
            "310/310 [==============================] - 6s 18ms/step - loss: 0.0190 - accuracy: 0.8863 - val_loss: 0.0357 - val_accuracy: 0.7945\n",
            "Epoch 399/500\n",
            "310/310 [==============================] - 5s 18ms/step - loss: 0.0192 - accuracy: 0.8856 - val_loss: 0.0362 - val_accuracy: 0.7960\n",
            "Epoch 400/500\n",
            "310/310 [==============================] - 5s 18ms/step - loss: 0.0190 - accuracy: 0.8870 - val_loss: 0.0359 - val_accuracy: 0.7931\n",
            "Epoch 401/500\n",
            "310/310 [==============================] - 6s 18ms/step - loss: 0.0194 - accuracy: 0.8843 - val_loss: 0.0360 - val_accuracy: 0.7949\n",
            "Epoch 402/500\n",
            "310/310 [==============================] - 5s 18ms/step - loss: 0.0185 - accuracy: 0.8895 - val_loss: 0.0359 - val_accuracy: 0.7954\n",
            "Epoch 403/500\n",
            "310/310 [==============================] - 6s 18ms/step - loss: 0.0188 - accuracy: 0.8886 - val_loss: 0.0365 - val_accuracy: 0.7950\n",
            "Epoch 404/500\n",
            "310/310 [==============================] - 6s 18ms/step - loss: 0.0190 - accuracy: 0.8873 - val_loss: 0.0361 - val_accuracy: 0.7953\n",
            "Epoch 405/500\n",
            "310/310 [==============================] - 6s 18ms/step - loss: 0.0188 - accuracy: 0.8883 - val_loss: 0.0356 - val_accuracy: 0.7943\n",
            "Epoch 406/500\n",
            "310/310 [==============================] - 6s 18ms/step - loss: 0.0189 - accuracy: 0.8878 - val_loss: 0.0367 - val_accuracy: 0.7916\n",
            "Epoch 407/500\n",
            "310/310 [==============================] - 6s 18ms/step - loss: 0.0188 - accuracy: 0.8879 - val_loss: 0.0357 - val_accuracy: 0.7991\n",
            "Epoch 408/500\n",
            "310/310 [==============================] - 6s 18ms/step - loss: 0.0185 - accuracy: 0.8902 - val_loss: 0.0356 - val_accuracy: 0.7957\n",
            "Epoch 409/500\n",
            "310/310 [==============================] - 6s 18ms/step - loss: 0.0188 - accuracy: 0.8878 - val_loss: 0.0356 - val_accuracy: 0.7981\n",
            "Epoch 410/500\n",
            "310/310 [==============================] - 6s 18ms/step - loss: 0.0188 - accuracy: 0.8890 - val_loss: 0.0356 - val_accuracy: 0.7985\n",
            "Epoch 411/500\n",
            "310/310 [==============================] - 5s 18ms/step - loss: 0.0186 - accuracy: 0.8905 - val_loss: 0.0359 - val_accuracy: 0.7970\n",
            "Epoch 412/500\n",
            "310/310 [==============================] - 5s 18ms/step - loss: 0.0187 - accuracy: 0.8888 - val_loss: 0.0352 - val_accuracy: 0.7996\n",
            "Epoch 413/500\n",
            "310/310 [==============================] - 6s 18ms/step - loss: 0.0186 - accuracy: 0.8887 - val_loss: 0.0355 - val_accuracy: 0.7979\n",
            "Epoch 414/500\n",
            "310/310 [==============================] - 6s 18ms/step - loss: 0.0187 - accuracy: 0.8893 - val_loss: 0.0363 - val_accuracy: 0.7931\n",
            "Epoch 415/500\n",
            "310/310 [==============================] - 6s 18ms/step - loss: 0.0183 - accuracy: 0.8909 - val_loss: 0.0360 - val_accuracy: 0.7956\n",
            "Epoch 416/500\n",
            "310/310 [==============================] - 6s 18ms/step - loss: 0.0184 - accuracy: 0.8920 - val_loss: 0.0360 - val_accuracy: 0.7954\n",
            "Epoch 417/500\n",
            "310/310 [==============================] - 5s 18ms/step - loss: 0.0183 - accuracy: 0.8913 - val_loss: 0.0356 - val_accuracy: 0.7968\n",
            "Epoch 418/500\n",
            "310/310 [==============================] - 6s 18ms/step - loss: 0.0183 - accuracy: 0.8920 - val_loss: 0.0361 - val_accuracy: 0.7952\n",
            "Epoch 419/500\n",
            "310/310 [==============================] - 5s 18ms/step - loss: 0.0186 - accuracy: 0.8890 - val_loss: 0.0362 - val_accuracy: 0.7951\n",
            "Epoch 420/500\n",
            "310/310 [==============================] - 6s 18ms/step - loss: 0.0185 - accuracy: 0.8911 - val_loss: 0.0362 - val_accuracy: 0.7957\n",
            "Epoch 421/500\n",
            "310/310 [==============================] - 6s 18ms/step - loss: 0.0187 - accuracy: 0.8903 - val_loss: 0.0358 - val_accuracy: 0.7969\n",
            "Epoch 422/500\n",
            "310/310 [==============================] - 5s 18ms/step - loss: 0.0186 - accuracy: 0.8888 - val_loss: 0.0358 - val_accuracy: 0.7970\n",
            "Epoch 423/500\n",
            "310/310 [==============================] - 6s 18ms/step - loss: 0.0185 - accuracy: 0.8898 - val_loss: 0.0361 - val_accuracy: 0.7957\n",
            "Epoch 424/500\n",
            "310/310 [==============================] - 6s 18ms/step - loss: 0.0180 - accuracy: 0.8931 - val_loss: 0.0358 - val_accuracy: 0.7964\n",
            "Epoch 425/500\n",
            "310/310 [==============================] - 6s 18ms/step - loss: 0.0183 - accuracy: 0.8923 - val_loss: 0.0360 - val_accuracy: 0.7964\n",
            "Epoch 426/500\n",
            "310/310 [==============================] - 6s 18ms/step - loss: 0.0184 - accuracy: 0.8909 - val_loss: 0.0355 - val_accuracy: 0.8004\n",
            "Epoch 427/500\n",
            "310/310 [==============================] - 6s 18ms/step - loss: 0.0184 - accuracy: 0.8909 - val_loss: 0.0359 - val_accuracy: 0.7957\n",
            "Epoch 428/500\n",
            "310/310 [==============================] - 6s 18ms/step - loss: 0.0182 - accuracy: 0.8920 - val_loss: 0.0356 - val_accuracy: 0.7997\n",
            "Epoch 429/500\n",
            "310/310 [==============================] - 6s 18ms/step - loss: 0.0184 - accuracy: 0.8914 - val_loss: 0.0355 - val_accuracy: 0.7967\n",
            "Epoch 430/500\n",
            "310/310 [==============================] - 5s 18ms/step - loss: 0.0180 - accuracy: 0.8940 - val_loss: 0.0353 - val_accuracy: 0.8012\n",
            "Epoch 431/500\n",
            "310/310 [==============================] - 5s 17ms/step - loss: 0.0180 - accuracy: 0.8924 - val_loss: 0.0356 - val_accuracy: 0.7993\n",
            "Epoch 432/500\n",
            "310/310 [==============================] - 6s 18ms/step - loss: 0.0181 - accuracy: 0.8932 - val_loss: 0.0355 - val_accuracy: 0.7993\n",
            "Epoch 433/500\n",
            "310/310 [==============================] - 6s 18ms/step - loss: 0.0178 - accuracy: 0.8944 - val_loss: 0.0356 - val_accuracy: 0.7962\n",
            "Epoch 434/500\n",
            "310/310 [==============================] - 5s 18ms/step - loss: 0.0178 - accuracy: 0.8936 - val_loss: 0.0357 - val_accuracy: 0.7968\n",
            "Epoch 435/500\n",
            "310/310 [==============================] - 6s 18ms/step - loss: 0.0180 - accuracy: 0.8924 - val_loss: 0.0355 - val_accuracy: 0.8004\n",
            "Epoch 436/500\n",
            "310/310 [==============================] - 6s 18ms/step - loss: 0.0176 - accuracy: 0.8959 - val_loss: 0.0358 - val_accuracy: 0.7993\n",
            "Epoch 437/500\n",
            "310/310 [==============================] - 6s 18ms/step - loss: 0.0180 - accuracy: 0.8938 - val_loss: 0.0352 - val_accuracy: 0.8012\n",
            "Epoch 438/500\n",
            "310/310 [==============================] - 5s 18ms/step - loss: 0.0179 - accuracy: 0.8935 - val_loss: 0.0353 - val_accuracy: 0.8009\n",
            "Epoch 439/500\n",
            "310/310 [==============================] - 6s 18ms/step - loss: 0.0180 - accuracy: 0.8921 - val_loss: 0.0351 - val_accuracy: 0.8019\n",
            "Epoch 440/500\n",
            "310/310 [==============================] - 6s 18ms/step - loss: 0.0179 - accuracy: 0.8935 - val_loss: 0.0355 - val_accuracy: 0.7993\n",
            "Epoch 441/500\n",
            "310/310 [==============================] - 6s 18ms/step - loss: 0.0181 - accuracy: 0.8934 - val_loss: 0.0358 - val_accuracy: 0.7972\n",
            "Epoch 442/500\n",
            "310/310 [==============================] - 6s 18ms/step - loss: 0.0180 - accuracy: 0.8939 - val_loss: 0.0357 - val_accuracy: 0.7981\n",
            "Epoch 443/500\n",
            "310/310 [==============================] - 6s 18ms/step - loss: 0.0180 - accuracy: 0.8942 - val_loss: 0.0349 - val_accuracy: 0.8024\n",
            "Epoch 444/500\n",
            "310/310 [==============================] - 6s 18ms/step - loss: 0.0178 - accuracy: 0.8950 - val_loss: 0.0359 - val_accuracy: 0.7968\n",
            "Epoch 445/500\n",
            "310/310 [==============================] - 6s 18ms/step - loss: 0.0178 - accuracy: 0.8949 - val_loss: 0.0356 - val_accuracy: 0.8014\n",
            "Epoch 446/500\n",
            "310/310 [==============================] - 5s 18ms/step - loss: 0.0176 - accuracy: 0.8965 - val_loss: 0.0359 - val_accuracy: 0.7963\n",
            "Epoch 447/500\n",
            "310/310 [==============================] - 6s 18ms/step - loss: 0.0178 - accuracy: 0.8946 - val_loss: 0.0358 - val_accuracy: 0.7970\n",
            "Epoch 448/500\n",
            "310/310 [==============================] - 6s 18ms/step - loss: 0.0178 - accuracy: 0.8945 - val_loss: 0.0355 - val_accuracy: 0.8018\n",
            "Epoch 449/500\n",
            "310/310 [==============================] - 6s 18ms/step - loss: 0.0176 - accuracy: 0.8951 - val_loss: 0.0353 - val_accuracy: 0.8021\n",
            "Epoch 450/500\n",
            "310/310 [==============================] - 6s 18ms/step - loss: 0.0172 - accuracy: 0.8979 - val_loss: 0.0354 - val_accuracy: 0.8022\n",
            "Epoch 451/500\n",
            "310/310 [==============================] - 6s 18ms/step - loss: 0.0176 - accuracy: 0.8960 - val_loss: 0.0351 - val_accuracy: 0.8013\n",
            "Epoch 452/500\n",
            "310/310 [==============================] - 6s 18ms/step - loss: 0.0176 - accuracy: 0.8952 - val_loss: 0.0353 - val_accuracy: 0.8001\n",
            "Epoch 453/500\n",
            "310/310 [==============================] - 6s 18ms/step - loss: 0.0178 - accuracy: 0.8944 - val_loss: 0.0356 - val_accuracy: 0.7970\n",
            "Epoch 454/500\n",
            "310/310 [==============================] - 6s 18ms/step - loss: 0.0174 - accuracy: 0.8982 - val_loss: 0.0352 - val_accuracy: 0.8029\n",
            "Epoch 455/500\n",
            "310/310 [==============================] - 6s 18ms/step - loss: 0.0175 - accuracy: 0.8969 - val_loss: 0.0351 - val_accuracy: 0.8028\n",
            "Epoch 456/500\n",
            "310/310 [==============================] - 6s 18ms/step - loss: 0.0174 - accuracy: 0.8977 - val_loss: 0.0351 - val_accuracy: 0.8005\n",
            "Epoch 457/500\n",
            "310/310 [==============================] - 6s 18ms/step - loss: 0.0176 - accuracy: 0.8959 - val_loss: 0.0354 - val_accuracy: 0.8011\n",
            "Epoch 458/500\n",
            "310/310 [==============================] - 6s 18ms/step - loss: 0.0173 - accuracy: 0.8977 - val_loss: 0.0355 - val_accuracy: 0.7983\n",
            "Epoch 459/500\n",
            "310/310 [==============================] - 6s 18ms/step - loss: 0.0173 - accuracy: 0.8982 - val_loss: 0.0347 - val_accuracy: 0.8047\n",
            "Epoch 460/500\n",
            "310/310 [==============================] - 6s 19ms/step - loss: 0.0173 - accuracy: 0.8970 - val_loss: 0.0348 - val_accuracy: 0.8037\n",
            "Epoch 461/500\n",
            "310/310 [==============================] - 6s 18ms/step - loss: 0.0170 - accuracy: 0.8999 - val_loss: 0.0351 - val_accuracy: 0.8013\n",
            "Epoch 462/500\n",
            "310/310 [==============================] - 6s 18ms/step - loss: 0.0173 - accuracy: 0.8972 - val_loss: 0.0349 - val_accuracy: 0.8051\n",
            "Epoch 463/500\n",
            "310/310 [==============================] - 6s 18ms/step - loss: 0.0173 - accuracy: 0.8975 - val_loss: 0.0345 - val_accuracy: 0.8062\n",
            "Epoch 464/500\n",
            "310/310 [==============================] - 6s 18ms/step - loss: 0.0170 - accuracy: 0.8996 - val_loss: 0.0351 - val_accuracy: 0.8018\n",
            "Epoch 465/500\n",
            "310/310 [==============================] - 6s 18ms/step - loss: 0.0170 - accuracy: 0.8983 - val_loss: 0.0353 - val_accuracy: 0.8009\n",
            "Epoch 466/500\n",
            "310/310 [==============================] - 6s 18ms/step - loss: 0.0170 - accuracy: 0.8999 - val_loss: 0.0352 - val_accuracy: 0.7994\n",
            "Epoch 467/500\n",
            "310/310 [==============================] - 6s 18ms/step - loss: 0.0173 - accuracy: 0.8966 - val_loss: 0.0357 - val_accuracy: 0.7981\n",
            "Epoch 468/500\n",
            "310/310 [==============================] - 6s 18ms/step - loss: 0.0167 - accuracy: 0.9010 - val_loss: 0.0354 - val_accuracy: 0.8008\n",
            "Epoch 469/500\n",
            "310/310 [==============================] - 6s 19ms/step - loss: 0.0170 - accuracy: 0.9001 - val_loss: 0.0352 - val_accuracy: 0.8011\n",
            "Epoch 470/500\n",
            "310/310 [==============================] - 6s 18ms/step - loss: 0.0171 - accuracy: 0.8998 - val_loss: 0.0352 - val_accuracy: 0.8009\n",
            "Epoch 471/500\n",
            "310/310 [==============================] - 6s 18ms/step - loss: 0.0169 - accuracy: 0.9006 - val_loss: 0.0348 - val_accuracy: 0.8050\n",
            "Epoch 472/500\n",
            "310/310 [==============================] - 6s 18ms/step - loss: 0.0170 - accuracy: 0.8994 - val_loss: 0.0354 - val_accuracy: 0.8005\n",
            "Epoch 473/500\n",
            "310/310 [==============================] - 5s 18ms/step - loss: 0.0171 - accuracy: 0.8983 - val_loss: 0.0355 - val_accuracy: 0.7999\n",
            "Epoch 474/500\n",
            "310/310 [==============================] - 6s 18ms/step - loss: 0.0167 - accuracy: 0.9000 - val_loss: 0.0351 - val_accuracy: 0.8042\n",
            "Epoch 475/500\n",
            "310/310 [==============================] - 6s 18ms/step - loss: 0.0166 - accuracy: 0.9026 - val_loss: 0.0353 - val_accuracy: 0.8036\n",
            "Epoch 476/500\n",
            "310/310 [==============================] - 6s 18ms/step - loss: 0.0166 - accuracy: 0.9020 - val_loss: 0.0352 - val_accuracy: 0.8037\n",
            "Epoch 477/500\n",
            "310/310 [==============================] - 6s 18ms/step - loss: 0.0170 - accuracy: 0.9001 - val_loss: 0.0352 - val_accuracy: 0.8023\n",
            "Epoch 478/500\n",
            "310/310 [==============================] - 6s 18ms/step - loss: 0.0172 - accuracy: 0.8985 - val_loss: 0.0344 - val_accuracy: 0.8049\n",
            "Epoch 479/500\n",
            "310/310 [==============================] - 6s 19ms/step - loss: 0.0170 - accuracy: 0.8994 - val_loss: 0.0350 - val_accuracy: 0.8040\n",
            "Epoch 480/500\n",
            "310/310 [==============================] - 6s 18ms/step - loss: 0.0169 - accuracy: 0.8999 - val_loss: 0.0352 - val_accuracy: 0.8012\n",
            "Epoch 481/500\n",
            "310/310 [==============================] - 5s 18ms/step - loss: 0.0166 - accuracy: 0.9029 - val_loss: 0.0348 - val_accuracy: 0.8032\n",
            "Epoch 482/500\n",
            "310/310 [==============================] - 6s 18ms/step - loss: 0.0172 - accuracy: 0.8989 - val_loss: 0.0346 - val_accuracy: 0.8031\n",
            "Epoch 483/500\n",
            "310/310 [==============================] - 6s 18ms/step - loss: 0.0169 - accuracy: 0.8995 - val_loss: 0.0346 - val_accuracy: 0.8030\n",
            "Epoch 484/500\n",
            "310/310 [==============================] - 6s 18ms/step - loss: 0.0166 - accuracy: 0.9024 - val_loss: 0.0349 - val_accuracy: 0.8047\n",
            "Epoch 485/500\n",
            "310/310 [==============================] - 6s 19ms/step - loss: 0.0165 - accuracy: 0.9014 - val_loss: 0.0348 - val_accuracy: 0.8052\n",
            "Epoch 486/500\n",
            "310/310 [==============================] - 6s 18ms/step - loss: 0.0168 - accuracy: 0.9018 - val_loss: 0.0358 - val_accuracy: 0.7995\n",
            "Epoch 487/500\n",
            "310/310 [==============================] - 6s 18ms/step - loss: 0.0164 - accuracy: 0.9035 - val_loss: 0.0350 - val_accuracy: 0.8025\n",
            "Epoch 488/500\n",
            "310/310 [==============================] - 6s 18ms/step - loss: 0.0169 - accuracy: 0.9001 - val_loss: 0.0352 - val_accuracy: 0.8019\n",
            "Epoch 489/500\n",
            "310/310 [==============================] - 6s 18ms/step - loss: 0.0164 - accuracy: 0.9037 - val_loss: 0.0348 - val_accuracy: 0.8046\n",
            "Epoch 490/500\n",
            "310/310 [==============================] - 6s 18ms/step - loss: 0.0168 - accuracy: 0.9003 - val_loss: 0.0347 - val_accuracy: 0.8052\n",
            "Epoch 491/500\n",
            "310/310 [==============================] - 6s 18ms/step - loss: 0.0166 - accuracy: 0.9015 - val_loss: 0.0351 - val_accuracy: 0.8018\n",
            "Epoch 492/500\n",
            "310/310 [==============================] - 5s 17ms/step - loss: 0.0164 - accuracy: 0.9035 - val_loss: 0.0347 - val_accuracy: 0.8049\n",
            "Epoch 493/500\n",
            "310/310 [==============================] - 5s 17ms/step - loss: 0.0163 - accuracy: 0.9036 - val_loss: 0.0343 - val_accuracy: 0.8076\n",
            "Epoch 494/500\n",
            "310/310 [==============================] - 6s 18ms/step - loss: 0.0164 - accuracy: 0.9032 - val_loss: 0.0348 - val_accuracy: 0.8034\n",
            "Epoch 495/500\n",
            "310/310 [==============================] - 6s 18ms/step - loss: 0.0162 - accuracy: 0.9048 - val_loss: 0.0342 - val_accuracy: 0.8080\n",
            "Epoch 496/500\n",
            "310/310 [==============================] - 6s 18ms/step - loss: 0.0164 - accuracy: 0.9034 - val_loss: 0.0347 - val_accuracy: 0.8037\n",
            "Epoch 497/500\n",
            "310/310 [==============================] - 6s 18ms/step - loss: 0.0164 - accuracy: 0.9041 - val_loss: 0.0342 - val_accuracy: 0.8074\n",
            "Epoch 498/500\n",
            "310/310 [==============================] - 6s 18ms/step - loss: 0.0162 - accuracy: 0.9043 - val_loss: 0.0345 - val_accuracy: 0.8088\n",
            "Epoch 499/500\n",
            "310/310 [==============================] - 6s 18ms/step - loss: 0.0162 - accuracy: 0.9044 - val_loss: 0.0346 - val_accuracy: 0.8057\n",
            "Epoch 500/500\n",
            "310/310 [==============================] - 5s 18ms/step - loss: 0.0161 - accuracy: 0.9057 - val_loss: 0.0345 - val_accuracy: 0.8048\n"
          ]
        }
      ]
    },
    {
      "cell_type": "code",
      "source": [
        ""
      ],
      "metadata": {
        "id": "50DRoIdrA7cS"
      },
      "execution_count": null,
      "outputs": []
    }
  ]
}